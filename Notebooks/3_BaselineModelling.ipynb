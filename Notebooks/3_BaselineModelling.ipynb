{
 "cells": [
  {
   "cell_type": "markdown",
   "id": "f4e3c4b4-3627-4932-976d-7ca0ff08a968",
   "metadata": {
    "id": "f4e3c4b4-3627-4932-976d-7ca0ff08a968"
   },
   "source": [
    "# Predicting Clinical Trial Terminations\n",
    "### Notebook 3: Baseline Modelling\n",
    "\n",
    "**Author: Clement Chan**\n",
    "\n",
    "---\n",
    "Notes on the notebook:\n",
    "- put something here"
   ]
  },
  {
   "cell_type": "markdown",
   "id": "09f34638-e77c-404f-8838-e62556406c0f",
   "metadata": {
    "id": "09f34638-e77c-404f-8838-e62556406c0f"
   },
   "source": [
    "### Data Dictionary for this notebook that is based on clinicaltrials.gov:\n",
    "\n",
    "---\n",
    "\n",
    "| Column | Description                                  |Data Type|\n",
    "|-------|--------------------------------------------|-------|\n",
    "| Study Title | Title of the Clinical Trial           | object |\n",
    "| Study Status | Binary column, 0 for Completed Trials and 1 for Terminated Trials | int |\n",
    "| Brief Summary | Short description of the clinical study (Includes study hypothesis) | object |\n",
    "| Study Results | Whether the results are posted (yes = 1 or no = 0) | int|\n",
    "| Conditions | Primary Disease or Condition being studied     | object |\n",
    "| Interventions | The methods used in the trial to reach the outcome                 | object |\n",
    "| Primary Outcome Measures | Description of specific primary outcome | object |\n",
    "| Secondary Outcome Measures | Description of specific secondary outcome | object |\n",
    "| Sponsor | The corporation or agency that initiates the study | object |\n",
    "| Collaborators | Other organizations that provide support | object |\n",
    "| Sex | All: No limit on eligibility based on sex, Male: Only male participants, Female: Only female participants | int |\n",
    "| Age | Age group of participants: ADULT, OLDER_ADULT, CHILD  | int |\n",
    "| Phases | Clinical trial phase of the study | int |\n",
    "| Enrollment | Total number of participants in a study | int |\n",
    "| Funder Type | Government, Industry, or Other | int |\n",
    "| Study Type | Interventional = 1, Observational = 0 | int |\n",
    "| Study Design | Study design based on study type | object |\n",
    "| Start Date | Estimated/Actual date the first participant was enrolled | datetime |\n",
    "| Primary Completion Date | Date the final participant was examined for the first outcome | datetime |\n",
    "| Completion Date | Date the final participant was examined | datetime |\n",
    "| Locations | Where the clinical study will be held | object |"
   ]
  },
  {
   "cell_type": "markdown",
   "id": "5276ea16-6aab-4ac2-a4e4-e9fd7dfa4c8a",
   "metadata": {
    "id": "5276ea16-6aab-4ac2-a4e4-e9fd7dfa4c8a"
   },
   "source": [
    "**Importing Libraries**"
   ]
  },
  {
   "cell_type": "code",
   "execution_count": 1,
   "id": "3e62ad7b-9bc6-4729-9f16-4e74c612234e",
   "metadata": {
    "executionInfo": {
     "elapsed": 2779,
     "status": "ok",
     "timestamp": 1711670538143,
     "user": {
      "displayName": "Clement Chan",
      "userId": "03366325300471215424"
     },
     "user_tz": 240
    },
    "id": "3e62ad7b-9bc6-4729-9f16-4e74c612234e"
   },
   "outputs": [],
   "source": [
    "import numpy as np\n",
    "import pandas as pd\n",
    "\n",
    "import matplotlib.pyplot as plt\n",
    "import seaborn as sns\n",
    "\n",
    "# dividing the data\n",
    "from sklearn.model_selection import train_test_split\n",
    "\n",
    "# scalars\n",
    "from sklearn.preprocessing import MinMaxScaler, StandardScaler\n",
    "\n",
    "# feature selection\n",
    "from sklearn.feature_selection import SelectKBest, f_classif\n",
    "\n",
    "# classifiers\n",
    "from sklearn.linear_model import LogisticRegression\n",
    "from sklearn.svm import SVC\n",
    "from sklearn.tree import DecisionTreeClassifier\n",
    "\n",
    "# model metrics\n",
    "from sklearn.metrics import confusion_matrix, ConfusionMatrixDisplay, classification_report\n",
    "\n",
    "# ignores the filter warnings\n",
    "import warnings\n",
    "warnings.filterwarnings('ignore')"
   ]
  },
  {
   "cell_type": "markdown",
   "id": "0f9771ba-5fe4-468a-8418-c3cb70bee898",
   "metadata": {
    "id": "0f9771ba-5fe4-468a-8418-c3cb70bee898"
   },
   "source": [
    "<a id = 'toc'><a/>\n",
    "## Table of Contents\n",
    "\n",
    "---\n",
    "1. [blah](#blah)\n"
   ]
  },
  {
   "cell_type": "markdown",
   "id": "7b1d2bd4-6c7d-4a2d-9249-bb8c8ed68080",
   "metadata": {
    "id": "7b1d2bd4-6c7d-4a2d-9249-bb8c8ed68080"
   },
   "source": [
    "<a id = 'blah'></a>\n",
    "## 1. Blah\n",
    "\n",
    "---\n",
    "**Load the dataset**"
   ]
  },
  {
   "cell_type": "code",
   "execution_count": 2,
   "id": "WHBz_rqtKaH4",
   "metadata": {
    "colab": {
     "base_uri": "https://localhost:8080/"
    },
    "executionInfo": {
     "elapsed": 32567,
     "status": "ok",
     "timestamp": 1711670570893,
     "user": {
      "displayName": "Clement Chan",
      "userId": "03366325300471215424"
     },
     "user_tz": 240
    },
    "id": "WHBz_rqtKaH4",
    "outputId": "dd4a0213-886a-47ca-b7fe-689c39225fed"
   },
   "outputs": [
    {
     "name": "stdout",
     "output_type": "stream",
     "text": [
      "Mounted at /content/gdrive\n"
     ]
    }
   ],
   "source": [
    "from google.colab import drive\n",
    "drive.mount('/content/gdrive')#Directory where Google Drive is mounted within the Colab environment."
   ]
  },
  {
   "cell_type": "code",
   "execution_count": 3,
   "id": "YBSBn8LWLYZq",
   "metadata": {
    "colab": {
     "base_uri": "https://localhost:8080/",
     "height": 273
    },
    "executionInfo": {
     "elapsed": 7026,
     "status": "ok",
     "timestamp": 1711670585025,
     "user": {
      "displayName": "Clement Chan",
      "userId": "03366325300471215424"
     },
     "user_tz": 240
    },
    "id": "YBSBn8LWLYZq",
    "outputId": "d7c60eb5-7ffe-4056-cf2f-9babc6139840"
   },
   "outputs": [
    {
     "data": {
      "application/vnd.google.colaboratory.intrinsic+json": {
       "type": "dataframe",
       "variable_name": "df"
      },
      "text/html": [
       "\n",
       "  <div id=\"df-7d84bb44-eeaf-4134-a5f0-3d2b7099b2e7\" class=\"colab-df-container\">\n",
       "    <div>\n",
       "<style scoped>\n",
       "    .dataframe tbody tr th:only-of-type {\n",
       "        vertical-align: middle;\n",
       "    }\n",
       "\n",
       "    .dataframe tbody tr th {\n",
       "        vertical-align: top;\n",
       "    }\n",
       "\n",
       "    .dataframe thead th {\n",
       "        text-align: right;\n",
       "    }\n",
       "</style>\n",
       "<table border=\"1\" class=\"dataframe\">\n",
       "  <thead>\n",
       "    <tr style=\"text-align: right;\">\n",
       "      <th></th>\n",
       "      <th>Study Status</th>\n",
       "      <th>Study Results</th>\n",
       "      <th>Study Type</th>\n",
       "      <th>Sex_ALL</th>\n",
       "      <th>Sex_FEMALE</th>\n",
       "      <th>Sex_MALE</th>\n",
       "      <th>Age_ADULT</th>\n",
       "      <th>Age_CHILD</th>\n",
       "      <th>Age_OLDER_ADULT</th>\n",
       "      <th>Phases_EARLY_PHASE1</th>\n",
       "      <th>...</th>\n",
       "      <th>Duration(days)__0-122</th>\n",
       "      <th>Duration(days)__123-244</th>\n",
       "      <th>Duration(days)__245-365</th>\n",
       "      <th>Duration(days)__366-515</th>\n",
       "      <th>Duration(days)__516-671</th>\n",
       "      <th>Duration(days)__672-861</th>\n",
       "      <th>Duration(days)__862-1097</th>\n",
       "      <th>Duration(days)__1098-1460</th>\n",
       "      <th>Duration(days)__1461-2049</th>\n",
       "      <th>Duration(days)__2050-38562</th>\n",
       "    </tr>\n",
       "  </thead>\n",
       "  <tbody>\n",
       "    <tr>\n",
       "      <th>0</th>\n",
       "      <td>0</td>\n",
       "      <td>0</td>\n",
       "      <td>1</td>\n",
       "      <td>1</td>\n",
       "      <td>0</td>\n",
       "      <td>0</td>\n",
       "      <td>1</td>\n",
       "      <td>1</td>\n",
       "      <td>0</td>\n",
       "      <td>0</td>\n",
       "      <td>...</td>\n",
       "      <td>0</td>\n",
       "      <td>1</td>\n",
       "      <td>0</td>\n",
       "      <td>0</td>\n",
       "      <td>0</td>\n",
       "      <td>0</td>\n",
       "      <td>0</td>\n",
       "      <td>0</td>\n",
       "      <td>0</td>\n",
       "      <td>0</td>\n",
       "    </tr>\n",
       "    <tr>\n",
       "      <th>1</th>\n",
       "      <td>0</td>\n",
       "      <td>0</td>\n",
       "      <td>1</td>\n",
       "      <td>0</td>\n",
       "      <td>1</td>\n",
       "      <td>0</td>\n",
       "      <td>1</td>\n",
       "      <td>1</td>\n",
       "      <td>1</td>\n",
       "      <td>0</td>\n",
       "      <td>...</td>\n",
       "      <td>0</td>\n",
       "      <td>0</td>\n",
       "      <td>0</td>\n",
       "      <td>1</td>\n",
       "      <td>0</td>\n",
       "      <td>0</td>\n",
       "      <td>0</td>\n",
       "      <td>0</td>\n",
       "      <td>0</td>\n",
       "      <td>0</td>\n",
       "    </tr>\n",
       "    <tr>\n",
       "      <th>2</th>\n",
       "      <td>1</td>\n",
       "      <td>0</td>\n",
       "      <td>1</td>\n",
       "      <td>1</td>\n",
       "      <td>0</td>\n",
       "      <td>0</td>\n",
       "      <td>1</td>\n",
       "      <td>0</td>\n",
       "      <td>1</td>\n",
       "      <td>0</td>\n",
       "      <td>...</td>\n",
       "      <td>0</td>\n",
       "      <td>0</td>\n",
       "      <td>1</td>\n",
       "      <td>0</td>\n",
       "      <td>0</td>\n",
       "      <td>0</td>\n",
       "      <td>0</td>\n",
       "      <td>0</td>\n",
       "      <td>0</td>\n",
       "      <td>0</td>\n",
       "    </tr>\n",
       "    <tr>\n",
       "      <th>3</th>\n",
       "      <td>0</td>\n",
       "      <td>0</td>\n",
       "      <td>1</td>\n",
       "      <td>1</td>\n",
       "      <td>0</td>\n",
       "      <td>0</td>\n",
       "      <td>1</td>\n",
       "      <td>0</td>\n",
       "      <td>0</td>\n",
       "      <td>0</td>\n",
       "      <td>...</td>\n",
       "      <td>0</td>\n",
       "      <td>0</td>\n",
       "      <td>0</td>\n",
       "      <td>0</td>\n",
       "      <td>1</td>\n",
       "      <td>0</td>\n",
       "      <td>0</td>\n",
       "      <td>0</td>\n",
       "      <td>0</td>\n",
       "      <td>0</td>\n",
       "    </tr>\n",
       "    <tr>\n",
       "      <th>4</th>\n",
       "      <td>0</td>\n",
       "      <td>1</td>\n",
       "      <td>1</td>\n",
       "      <td>1</td>\n",
       "      <td>0</td>\n",
       "      <td>0</td>\n",
       "      <td>1</td>\n",
       "      <td>0</td>\n",
       "      <td>1</td>\n",
       "      <td>0</td>\n",
       "      <td>...</td>\n",
       "      <td>0</td>\n",
       "      <td>0</td>\n",
       "      <td>0</td>\n",
       "      <td>0</td>\n",
       "      <td>0</td>\n",
       "      <td>0</td>\n",
       "      <td>1</td>\n",
       "      <td>0</td>\n",
       "      <td>0</td>\n",
       "      <td>0</td>\n",
       "    </tr>\n",
       "  </tbody>\n",
       "</table>\n",
       "<p>5 rows × 228 columns</p>\n",
       "</div>\n",
       "    <div class=\"colab-df-buttons\">\n",
       "\n",
       "  <div class=\"colab-df-container\">\n",
       "    <button class=\"colab-df-convert\" onclick=\"convertToInteractive('df-7d84bb44-eeaf-4134-a5f0-3d2b7099b2e7')\"\n",
       "            title=\"Convert this dataframe to an interactive table.\"\n",
       "            style=\"display:none;\">\n",
       "\n",
       "  <svg xmlns=\"http://www.w3.org/2000/svg\" height=\"24px\" viewBox=\"0 -960 960 960\">\n",
       "    <path d=\"M120-120v-720h720v720H120Zm60-500h600v-160H180v160Zm220 220h160v-160H400v160Zm0 220h160v-160H400v160ZM180-400h160v-160H180v160Zm440 0h160v-160H620v160ZM180-180h160v-160H180v160Zm440 0h160v-160H620v160Z\"/>\n",
       "  </svg>\n",
       "    </button>\n",
       "\n",
       "  <style>\n",
       "    .colab-df-container {\n",
       "      display:flex;\n",
       "      gap: 12px;\n",
       "    }\n",
       "\n",
       "    .colab-df-convert {\n",
       "      background-color: #E8F0FE;\n",
       "      border: none;\n",
       "      border-radius: 50%;\n",
       "      cursor: pointer;\n",
       "      display: none;\n",
       "      fill: #1967D2;\n",
       "      height: 32px;\n",
       "      padding: 0 0 0 0;\n",
       "      width: 32px;\n",
       "    }\n",
       "\n",
       "    .colab-df-convert:hover {\n",
       "      background-color: #E2EBFA;\n",
       "      box-shadow: 0px 1px 2px rgba(60, 64, 67, 0.3), 0px 1px 3px 1px rgba(60, 64, 67, 0.15);\n",
       "      fill: #174EA6;\n",
       "    }\n",
       "\n",
       "    .colab-df-buttons div {\n",
       "      margin-bottom: 4px;\n",
       "    }\n",
       "\n",
       "    [theme=dark] .colab-df-convert {\n",
       "      background-color: #3B4455;\n",
       "      fill: #D2E3FC;\n",
       "    }\n",
       "\n",
       "    [theme=dark] .colab-df-convert:hover {\n",
       "      background-color: #434B5C;\n",
       "      box-shadow: 0px 1px 3px 1px rgba(0, 0, 0, 0.15);\n",
       "      filter: drop-shadow(0px 1px 2px rgba(0, 0, 0, 0.3));\n",
       "      fill: #FFFFFF;\n",
       "    }\n",
       "  </style>\n",
       "\n",
       "    <script>\n",
       "      const buttonEl =\n",
       "        document.querySelector('#df-7d84bb44-eeaf-4134-a5f0-3d2b7099b2e7 button.colab-df-convert');\n",
       "      buttonEl.style.display =\n",
       "        google.colab.kernel.accessAllowed ? 'block' : 'none';\n",
       "\n",
       "      async function convertToInteractive(key) {\n",
       "        const element = document.querySelector('#df-7d84bb44-eeaf-4134-a5f0-3d2b7099b2e7');\n",
       "        const dataTable =\n",
       "          await google.colab.kernel.invokeFunction('convertToInteractive',\n",
       "                                                    [key], {});\n",
       "        if (!dataTable) return;\n",
       "\n",
       "        const docLinkHtml = 'Like what you see? Visit the ' +\n",
       "          '<a target=\"_blank\" href=https://colab.research.google.com/notebooks/data_table.ipynb>data table notebook</a>'\n",
       "          + ' to learn more about interactive tables.';\n",
       "        element.innerHTML = '';\n",
       "        dataTable['output_type'] = 'display_data';\n",
       "        await google.colab.output.renderOutput(dataTable, element);\n",
       "        const docLink = document.createElement('div');\n",
       "        docLink.innerHTML = docLinkHtml;\n",
       "        element.appendChild(docLink);\n",
       "      }\n",
       "    </script>\n",
       "  </div>\n",
       "\n",
       "\n",
       "<div id=\"df-f1e37665-0720-45d7-9cc7-8cf158fc293b\">\n",
       "  <button class=\"colab-df-quickchart\" onclick=\"quickchart('df-f1e37665-0720-45d7-9cc7-8cf158fc293b')\"\n",
       "            title=\"Suggest charts\"\n",
       "            style=\"display:none;\">\n",
       "\n",
       "<svg xmlns=\"http://www.w3.org/2000/svg\" height=\"24px\"viewBox=\"0 0 24 24\"\n",
       "     width=\"24px\">\n",
       "    <g>\n",
       "        <path d=\"M19 3H5c-1.1 0-2 .9-2 2v14c0 1.1.9 2 2 2h14c1.1 0 2-.9 2-2V5c0-1.1-.9-2-2-2zM9 17H7v-7h2v7zm4 0h-2V7h2v10zm4 0h-2v-4h2v4z\"/>\n",
       "    </g>\n",
       "</svg>\n",
       "  </button>\n",
       "\n",
       "<style>\n",
       "  .colab-df-quickchart {\n",
       "      --bg-color: #E8F0FE;\n",
       "      --fill-color: #1967D2;\n",
       "      --hover-bg-color: #E2EBFA;\n",
       "      --hover-fill-color: #174EA6;\n",
       "      --disabled-fill-color: #AAA;\n",
       "      --disabled-bg-color: #DDD;\n",
       "  }\n",
       "\n",
       "  [theme=dark] .colab-df-quickchart {\n",
       "      --bg-color: #3B4455;\n",
       "      --fill-color: #D2E3FC;\n",
       "      --hover-bg-color: #434B5C;\n",
       "      --hover-fill-color: #FFFFFF;\n",
       "      --disabled-bg-color: #3B4455;\n",
       "      --disabled-fill-color: #666;\n",
       "  }\n",
       "\n",
       "  .colab-df-quickchart {\n",
       "    background-color: var(--bg-color);\n",
       "    border: none;\n",
       "    border-radius: 50%;\n",
       "    cursor: pointer;\n",
       "    display: none;\n",
       "    fill: var(--fill-color);\n",
       "    height: 32px;\n",
       "    padding: 0;\n",
       "    width: 32px;\n",
       "  }\n",
       "\n",
       "  .colab-df-quickchart:hover {\n",
       "    background-color: var(--hover-bg-color);\n",
       "    box-shadow: 0 1px 2px rgba(60, 64, 67, 0.3), 0 1px 3px 1px rgba(60, 64, 67, 0.15);\n",
       "    fill: var(--button-hover-fill-color);\n",
       "  }\n",
       "\n",
       "  .colab-df-quickchart-complete:disabled,\n",
       "  .colab-df-quickchart-complete:disabled:hover {\n",
       "    background-color: var(--disabled-bg-color);\n",
       "    fill: var(--disabled-fill-color);\n",
       "    box-shadow: none;\n",
       "  }\n",
       "\n",
       "  .colab-df-spinner {\n",
       "    border: 2px solid var(--fill-color);\n",
       "    border-color: transparent;\n",
       "    border-bottom-color: var(--fill-color);\n",
       "    animation:\n",
       "      spin 1s steps(1) infinite;\n",
       "  }\n",
       "\n",
       "  @keyframes spin {\n",
       "    0% {\n",
       "      border-color: transparent;\n",
       "      border-bottom-color: var(--fill-color);\n",
       "      border-left-color: var(--fill-color);\n",
       "    }\n",
       "    20% {\n",
       "      border-color: transparent;\n",
       "      border-left-color: var(--fill-color);\n",
       "      border-top-color: var(--fill-color);\n",
       "    }\n",
       "    30% {\n",
       "      border-color: transparent;\n",
       "      border-left-color: var(--fill-color);\n",
       "      border-top-color: var(--fill-color);\n",
       "      border-right-color: var(--fill-color);\n",
       "    }\n",
       "    40% {\n",
       "      border-color: transparent;\n",
       "      border-right-color: var(--fill-color);\n",
       "      border-top-color: var(--fill-color);\n",
       "    }\n",
       "    60% {\n",
       "      border-color: transparent;\n",
       "      border-right-color: var(--fill-color);\n",
       "    }\n",
       "    80% {\n",
       "      border-color: transparent;\n",
       "      border-right-color: var(--fill-color);\n",
       "      border-bottom-color: var(--fill-color);\n",
       "    }\n",
       "    90% {\n",
       "      border-color: transparent;\n",
       "      border-bottom-color: var(--fill-color);\n",
       "    }\n",
       "  }\n",
       "</style>\n",
       "\n",
       "  <script>\n",
       "    async function quickchart(key) {\n",
       "      const quickchartButtonEl =\n",
       "        document.querySelector('#' + key + ' button');\n",
       "      quickchartButtonEl.disabled = true;  // To prevent multiple clicks.\n",
       "      quickchartButtonEl.classList.add('colab-df-spinner');\n",
       "      try {\n",
       "        const charts = await google.colab.kernel.invokeFunction(\n",
       "            'suggestCharts', [key], {});\n",
       "      } catch (error) {\n",
       "        console.error('Error during call to suggestCharts:', error);\n",
       "      }\n",
       "      quickchartButtonEl.classList.remove('colab-df-spinner');\n",
       "      quickchartButtonEl.classList.add('colab-df-quickchart-complete');\n",
       "    }\n",
       "    (() => {\n",
       "      let quickchartButtonEl =\n",
       "        document.querySelector('#df-f1e37665-0720-45d7-9cc7-8cf158fc293b button');\n",
       "      quickchartButtonEl.style.display =\n",
       "        google.colab.kernel.accessAllowed ? 'block' : 'none';\n",
       "    })();\n",
       "  </script>\n",
       "</div>\n",
       "\n",
       "    </div>\n",
       "  </div>\n"
      ],
      "text/plain": [
       "   Study Status  Study Results  Study Type  Sex_ALL  Sex_FEMALE  Sex_MALE  \\\n",
       "0             0              0           1        1           0         0   \n",
       "1             0              0           1        0           1         0   \n",
       "2             1              0           1        1           0         0   \n",
       "3             0              0           1        1           0         0   \n",
       "4             0              1           1        1           0         0   \n",
       "\n",
       "   Age_ADULT  Age_CHILD  Age_OLDER_ADULT  Phases_EARLY_PHASE1  ...  \\\n",
       "0          1          1                0                    0  ...   \n",
       "1          1          1                1                    0  ...   \n",
       "2          1          0                1                    0  ...   \n",
       "3          1          0                0                    0  ...   \n",
       "4          1          0                1                    0  ...   \n",
       "\n",
       "   Duration(days)__0-122  Duration(days)__123-244  Duration(days)__245-365  \\\n",
       "0                      0                        1                        0   \n",
       "1                      0                        0                        0   \n",
       "2                      0                        0                        1   \n",
       "3                      0                        0                        0   \n",
       "4                      0                        0                        0   \n",
       "\n",
       "   Duration(days)__366-515  Duration(days)__516-671  Duration(days)__672-861  \\\n",
       "0                        0                        0                        0   \n",
       "1                        1                        0                        0   \n",
       "2                        0                        0                        0   \n",
       "3                        0                        1                        0   \n",
       "4                        0                        0                        0   \n",
       "\n",
       "   Duration(days)__862-1097  Duration(days)__1098-1460  \\\n",
       "0                         0                          0   \n",
       "1                         0                          0   \n",
       "2                         0                          0   \n",
       "3                         0                          0   \n",
       "4                         1                          0   \n",
       "\n",
       "   Duration(days)__1461-2049  Duration(days)__2050-38562  \n",
       "0                          0                           0  \n",
       "1                          0                           0  \n",
       "2                          0                           0  \n",
       "3                          0                           0  \n",
       "4                          0                           0  \n",
       "\n",
       "[5 rows x 228 columns]"
      ]
     },
     "execution_count": 3,
     "metadata": {},
     "output_type": "execute_result"
    }
   ],
   "source": [
    "# Using Google Collab\n",
    "df=pd.read_csv('gdrive/My Drive/data/model_ctg.csv', index_col = 0)\n",
    "df.head()"
   ]
  },
  {
   "cell_type": "code",
   "execution_count": null,
   "id": "d1695f66-a555-45c5-838e-9f76ffed4a63",
   "metadata": {
    "colab": {
     "base_uri": "https://localhost:8080/",
     "height": 273
    },
    "executionInfo": {
     "elapsed": 16,
     "status": "ok",
     "timestamp": 1711572027211,
     "user": {
      "displayName": "Clement Chan",
      "userId": "03366325300471215424"
     },
     "user_tz": 240
    },
    "id": "d1695f66-a555-45c5-838e-9f76ffed4a63",
    "outputId": "e8f20750-764b-48ac-a141-f0727a9f0f9e"
   },
   "outputs": [
    {
     "data": {
      "application/vnd.google.colaboratory.intrinsic+json": {
       "type": "dataframe",
       "variable_name": "df"
      },
      "text/html": [
       "\n",
       "  <div id=\"df-7574181e-668e-49f0-b17b-741a637fffea\" class=\"colab-df-container\">\n",
       "    <div>\n",
       "<style scoped>\n",
       "    .dataframe tbody tr th:only-of-type {\n",
       "        vertical-align: middle;\n",
       "    }\n",
       "\n",
       "    .dataframe tbody tr th {\n",
       "        vertical-align: top;\n",
       "    }\n",
       "\n",
       "    .dataframe thead th {\n",
       "        text-align: right;\n",
       "    }\n",
       "</style>\n",
       "<table border=\"1\" class=\"dataframe\">\n",
       "  <thead>\n",
       "    <tr style=\"text-align: right;\">\n",
       "      <th></th>\n",
       "      <th>Study Status</th>\n",
       "      <th>Study Results</th>\n",
       "      <th>Study Type</th>\n",
       "      <th>Sex_ALL</th>\n",
       "      <th>Sex_FEMALE</th>\n",
       "      <th>Sex_MALE</th>\n",
       "      <th>Age_ADULT</th>\n",
       "      <th>Age_CHILD</th>\n",
       "      <th>Age_OLDER_ADULT</th>\n",
       "      <th>Phases_EARLY_PHASE1</th>\n",
       "      <th>...</th>\n",
       "      <th>Duration(days)__0-122</th>\n",
       "      <th>Duration(days)__123-244</th>\n",
       "      <th>Duration(days)__245-365</th>\n",
       "      <th>Duration(days)__366-515</th>\n",
       "      <th>Duration(days)__516-671</th>\n",
       "      <th>Duration(days)__672-861</th>\n",
       "      <th>Duration(days)__862-1097</th>\n",
       "      <th>Duration(days)__1098-1460</th>\n",
       "      <th>Duration(days)__1461-2049</th>\n",
       "      <th>Duration(days)__2050-38562</th>\n",
       "    </tr>\n",
       "  </thead>\n",
       "  <tbody>\n",
       "    <tr>\n",
       "      <th>0</th>\n",
       "      <td>0</td>\n",
       "      <td>0</td>\n",
       "      <td>1</td>\n",
       "      <td>1</td>\n",
       "      <td>0</td>\n",
       "      <td>0</td>\n",
       "      <td>1</td>\n",
       "      <td>1</td>\n",
       "      <td>0</td>\n",
       "      <td>0</td>\n",
       "      <td>...</td>\n",
       "      <td>0</td>\n",
       "      <td>1</td>\n",
       "      <td>0</td>\n",
       "      <td>0</td>\n",
       "      <td>0</td>\n",
       "      <td>0</td>\n",
       "      <td>0</td>\n",
       "      <td>0</td>\n",
       "      <td>0</td>\n",
       "      <td>0</td>\n",
       "    </tr>\n",
       "    <tr>\n",
       "      <th>1</th>\n",
       "      <td>0</td>\n",
       "      <td>0</td>\n",
       "      <td>1</td>\n",
       "      <td>0</td>\n",
       "      <td>1</td>\n",
       "      <td>0</td>\n",
       "      <td>1</td>\n",
       "      <td>1</td>\n",
       "      <td>1</td>\n",
       "      <td>0</td>\n",
       "      <td>...</td>\n",
       "      <td>0</td>\n",
       "      <td>0</td>\n",
       "      <td>0</td>\n",
       "      <td>1</td>\n",
       "      <td>0</td>\n",
       "      <td>0</td>\n",
       "      <td>0</td>\n",
       "      <td>0</td>\n",
       "      <td>0</td>\n",
       "      <td>0</td>\n",
       "    </tr>\n",
       "    <tr>\n",
       "      <th>2</th>\n",
       "      <td>1</td>\n",
       "      <td>0</td>\n",
       "      <td>1</td>\n",
       "      <td>1</td>\n",
       "      <td>0</td>\n",
       "      <td>0</td>\n",
       "      <td>1</td>\n",
       "      <td>0</td>\n",
       "      <td>1</td>\n",
       "      <td>0</td>\n",
       "      <td>...</td>\n",
       "      <td>0</td>\n",
       "      <td>0</td>\n",
       "      <td>1</td>\n",
       "      <td>0</td>\n",
       "      <td>0</td>\n",
       "      <td>0</td>\n",
       "      <td>0</td>\n",
       "      <td>0</td>\n",
       "      <td>0</td>\n",
       "      <td>0</td>\n",
       "    </tr>\n",
       "    <tr>\n",
       "      <th>3</th>\n",
       "      <td>0</td>\n",
       "      <td>0</td>\n",
       "      <td>1</td>\n",
       "      <td>1</td>\n",
       "      <td>0</td>\n",
       "      <td>0</td>\n",
       "      <td>1</td>\n",
       "      <td>0</td>\n",
       "      <td>0</td>\n",
       "      <td>0</td>\n",
       "      <td>...</td>\n",
       "      <td>0</td>\n",
       "      <td>0</td>\n",
       "      <td>0</td>\n",
       "      <td>0</td>\n",
       "      <td>1</td>\n",
       "      <td>0</td>\n",
       "      <td>0</td>\n",
       "      <td>0</td>\n",
       "      <td>0</td>\n",
       "      <td>0</td>\n",
       "    </tr>\n",
       "    <tr>\n",
       "      <th>4</th>\n",
       "      <td>0</td>\n",
       "      <td>1</td>\n",
       "      <td>1</td>\n",
       "      <td>1</td>\n",
       "      <td>0</td>\n",
       "      <td>0</td>\n",
       "      <td>1</td>\n",
       "      <td>0</td>\n",
       "      <td>1</td>\n",
       "      <td>0</td>\n",
       "      <td>...</td>\n",
       "      <td>0</td>\n",
       "      <td>0</td>\n",
       "      <td>0</td>\n",
       "      <td>0</td>\n",
       "      <td>0</td>\n",
       "      <td>0</td>\n",
       "      <td>1</td>\n",
       "      <td>0</td>\n",
       "      <td>0</td>\n",
       "      <td>0</td>\n",
       "    </tr>\n",
       "  </tbody>\n",
       "</table>\n",
       "<p>5 rows × 418 columns</p>\n",
       "</div>\n",
       "    <div class=\"colab-df-buttons\">\n",
       "\n",
       "  <div class=\"colab-df-container\">\n",
       "    <button class=\"colab-df-convert\" onclick=\"convertToInteractive('df-7574181e-668e-49f0-b17b-741a637fffea')\"\n",
       "            title=\"Convert this dataframe to an interactive table.\"\n",
       "            style=\"display:none;\">\n",
       "\n",
       "  <svg xmlns=\"http://www.w3.org/2000/svg\" height=\"24px\" viewBox=\"0 -960 960 960\">\n",
       "    <path d=\"M120-120v-720h720v720H120Zm60-500h600v-160H180v160Zm220 220h160v-160H400v160Zm0 220h160v-160H400v160ZM180-400h160v-160H180v160Zm440 0h160v-160H620v160ZM180-180h160v-160H180v160Zm440 0h160v-160H620v160Z\"/>\n",
       "  </svg>\n",
       "    </button>\n",
       "\n",
       "  <style>\n",
       "    .colab-df-container {\n",
       "      display:flex;\n",
       "      gap: 12px;\n",
       "    }\n",
       "\n",
       "    .colab-df-convert {\n",
       "      background-color: #E8F0FE;\n",
       "      border: none;\n",
       "      border-radius: 50%;\n",
       "      cursor: pointer;\n",
       "      display: none;\n",
       "      fill: #1967D2;\n",
       "      height: 32px;\n",
       "      padding: 0 0 0 0;\n",
       "      width: 32px;\n",
       "    }\n",
       "\n",
       "    .colab-df-convert:hover {\n",
       "      background-color: #E2EBFA;\n",
       "      box-shadow: 0px 1px 2px rgba(60, 64, 67, 0.3), 0px 1px 3px 1px rgba(60, 64, 67, 0.15);\n",
       "      fill: #174EA6;\n",
       "    }\n",
       "\n",
       "    .colab-df-buttons div {\n",
       "      margin-bottom: 4px;\n",
       "    }\n",
       "\n",
       "    [theme=dark] .colab-df-convert {\n",
       "      background-color: #3B4455;\n",
       "      fill: #D2E3FC;\n",
       "    }\n",
       "\n",
       "    [theme=dark] .colab-df-convert:hover {\n",
       "      background-color: #434B5C;\n",
       "      box-shadow: 0px 1px 3px 1px rgba(0, 0, 0, 0.15);\n",
       "      filter: drop-shadow(0px 1px 2px rgba(0, 0, 0, 0.3));\n",
       "      fill: #FFFFFF;\n",
       "    }\n",
       "  </style>\n",
       "\n",
       "    <script>\n",
       "      const buttonEl =\n",
       "        document.querySelector('#df-7574181e-668e-49f0-b17b-741a637fffea button.colab-df-convert');\n",
       "      buttonEl.style.display =\n",
       "        google.colab.kernel.accessAllowed ? 'block' : 'none';\n",
       "\n",
       "      async function convertToInteractive(key) {\n",
       "        const element = document.querySelector('#df-7574181e-668e-49f0-b17b-741a637fffea');\n",
       "        const dataTable =\n",
       "          await google.colab.kernel.invokeFunction('convertToInteractive',\n",
       "                                                    [key], {});\n",
       "        if (!dataTable) return;\n",
       "\n",
       "        const docLinkHtml = 'Like what you see? Visit the ' +\n",
       "          '<a target=\"_blank\" href=https://colab.research.google.com/notebooks/data_table.ipynb>data table notebook</a>'\n",
       "          + ' to learn more about interactive tables.';\n",
       "        element.innerHTML = '';\n",
       "        dataTable['output_type'] = 'display_data';\n",
       "        await google.colab.output.renderOutput(dataTable, element);\n",
       "        const docLink = document.createElement('div');\n",
       "        docLink.innerHTML = docLinkHtml;\n",
       "        element.appendChild(docLink);\n",
       "      }\n",
       "    </script>\n",
       "  </div>\n",
       "\n",
       "\n",
       "<div id=\"df-06434134-0cb2-4109-9089-5e5b82525584\">\n",
       "  <button class=\"colab-df-quickchart\" onclick=\"quickchart('df-06434134-0cb2-4109-9089-5e5b82525584')\"\n",
       "            title=\"Suggest charts\"\n",
       "            style=\"display:none;\">\n",
       "\n",
       "<svg xmlns=\"http://www.w3.org/2000/svg\" height=\"24px\"viewBox=\"0 0 24 24\"\n",
       "     width=\"24px\">\n",
       "    <g>\n",
       "        <path d=\"M19 3H5c-1.1 0-2 .9-2 2v14c0 1.1.9 2 2 2h14c1.1 0 2-.9 2-2V5c0-1.1-.9-2-2-2zM9 17H7v-7h2v7zm4 0h-2V7h2v10zm4 0h-2v-4h2v4z\"/>\n",
       "    </g>\n",
       "</svg>\n",
       "  </button>\n",
       "\n",
       "<style>\n",
       "  .colab-df-quickchart {\n",
       "      --bg-color: #E8F0FE;\n",
       "      --fill-color: #1967D2;\n",
       "      --hover-bg-color: #E2EBFA;\n",
       "      --hover-fill-color: #174EA6;\n",
       "      --disabled-fill-color: #AAA;\n",
       "      --disabled-bg-color: #DDD;\n",
       "  }\n",
       "\n",
       "  [theme=dark] .colab-df-quickchart {\n",
       "      --bg-color: #3B4455;\n",
       "      --fill-color: #D2E3FC;\n",
       "      --hover-bg-color: #434B5C;\n",
       "      --hover-fill-color: #FFFFFF;\n",
       "      --disabled-bg-color: #3B4455;\n",
       "      --disabled-fill-color: #666;\n",
       "  }\n",
       "\n",
       "  .colab-df-quickchart {\n",
       "    background-color: var(--bg-color);\n",
       "    border: none;\n",
       "    border-radius: 50%;\n",
       "    cursor: pointer;\n",
       "    display: none;\n",
       "    fill: var(--fill-color);\n",
       "    height: 32px;\n",
       "    padding: 0;\n",
       "    width: 32px;\n",
       "  }\n",
       "\n",
       "  .colab-df-quickchart:hover {\n",
       "    background-color: var(--hover-bg-color);\n",
       "    box-shadow: 0 1px 2px rgba(60, 64, 67, 0.3), 0 1px 3px 1px rgba(60, 64, 67, 0.15);\n",
       "    fill: var(--button-hover-fill-color);\n",
       "  }\n",
       "\n",
       "  .colab-df-quickchart-complete:disabled,\n",
       "  .colab-df-quickchart-complete:disabled:hover {\n",
       "    background-color: var(--disabled-bg-color);\n",
       "    fill: var(--disabled-fill-color);\n",
       "    box-shadow: none;\n",
       "  }\n",
       "\n",
       "  .colab-df-spinner {\n",
       "    border: 2px solid var(--fill-color);\n",
       "    border-color: transparent;\n",
       "    border-bottom-color: var(--fill-color);\n",
       "    animation:\n",
       "      spin 1s steps(1) infinite;\n",
       "  }\n",
       "\n",
       "  @keyframes spin {\n",
       "    0% {\n",
       "      border-color: transparent;\n",
       "      border-bottom-color: var(--fill-color);\n",
       "      border-left-color: var(--fill-color);\n",
       "    }\n",
       "    20% {\n",
       "      border-color: transparent;\n",
       "      border-left-color: var(--fill-color);\n",
       "      border-top-color: var(--fill-color);\n",
       "    }\n",
       "    30% {\n",
       "      border-color: transparent;\n",
       "      border-left-color: var(--fill-color);\n",
       "      border-top-color: var(--fill-color);\n",
       "      border-right-color: var(--fill-color);\n",
       "    }\n",
       "    40% {\n",
       "      border-color: transparent;\n",
       "      border-right-color: var(--fill-color);\n",
       "      border-top-color: var(--fill-color);\n",
       "    }\n",
       "    60% {\n",
       "      border-color: transparent;\n",
       "      border-right-color: var(--fill-color);\n",
       "    }\n",
       "    80% {\n",
       "      border-color: transparent;\n",
       "      border-right-color: var(--fill-color);\n",
       "      border-bottom-color: var(--fill-color);\n",
       "    }\n",
       "    90% {\n",
       "      border-color: transparent;\n",
       "      border-bottom-color: var(--fill-color);\n",
       "    }\n",
       "  }\n",
       "</style>\n",
       "\n",
       "  <script>\n",
       "    async function quickchart(key) {\n",
       "      const quickchartButtonEl =\n",
       "        document.querySelector('#' + key + ' button');\n",
       "      quickchartButtonEl.disabled = true;  // To prevent multiple clicks.\n",
       "      quickchartButtonEl.classList.add('colab-df-spinner');\n",
       "      try {\n",
       "        const charts = await google.colab.kernel.invokeFunction(\n",
       "            'suggestCharts', [key], {});\n",
       "      } catch (error) {\n",
       "        console.error('Error during call to suggestCharts:', error);\n",
       "      }\n",
       "      quickchartButtonEl.classList.remove('colab-df-spinner');\n",
       "      quickchartButtonEl.classList.add('colab-df-quickchart-complete');\n",
       "    }\n",
       "    (() => {\n",
       "      let quickchartButtonEl =\n",
       "        document.querySelector('#df-06434134-0cb2-4109-9089-5e5b82525584 button');\n",
       "      quickchartButtonEl.style.display =\n",
       "        google.colab.kernel.accessAllowed ? 'block' : 'none';\n",
       "    })();\n",
       "  </script>\n",
       "</div>\n",
       "\n",
       "    </div>\n",
       "  </div>\n"
      ],
      "text/plain": [
       "   Study Status  Study Results  Study Type  Sex_ALL  Sex_FEMALE  Sex_MALE  \\\n",
       "0             0              0           1        1           0         0   \n",
       "1             0              0           1        0           1         0   \n",
       "2             1              0           1        1           0         0   \n",
       "3             0              0           1        1           0         0   \n",
       "4             0              1           1        1           0         0   \n",
       "\n",
       "   Age_ADULT  Age_CHILD  Age_OLDER_ADULT  Phases_EARLY_PHASE1  ...  \\\n",
       "0          1          1                0                    0  ...   \n",
       "1          1          1                1                    0  ...   \n",
       "2          1          0                1                    0  ...   \n",
       "3          1          0                0                    0  ...   \n",
       "4          1          0                1                    0  ...   \n",
       "\n",
       "   Duration(days)__0-122  Duration(days)__123-244  Duration(days)__245-365  \\\n",
       "0                      0                        1                        0   \n",
       "1                      0                        0                        0   \n",
       "2                      0                        0                        1   \n",
       "3                      0                        0                        0   \n",
       "4                      0                        0                        0   \n",
       "\n",
       "   Duration(days)__366-515  Duration(days)__516-671  Duration(days)__672-861  \\\n",
       "0                        0                        0                        0   \n",
       "1                        1                        0                        0   \n",
       "2                        0                        0                        0   \n",
       "3                        0                        1                        0   \n",
       "4                        0                        0                        0   \n",
       "\n",
       "   Duration(days)__862-1097  Duration(days)__1098-1460  \\\n",
       "0                         0                          0   \n",
       "1                         0                          0   \n",
       "2                         0                          0   \n",
       "3                         0                          0   \n",
       "4                         1                          0   \n",
       "\n",
       "   Duration(days)__1461-2049  Duration(days)__2050-38562  \n",
       "0                          0                           0  \n",
       "1                          0                           0  \n",
       "2                          0                           0  \n",
       "3                          0                           0  \n",
       "4                          0                           0  \n",
       "\n",
       "[5 rows x 418 columns]"
      ]
     },
     "execution_count": 25,
     "metadata": {},
     "output_type": "execute_result"
    }
   ],
   "source": [
    "# # Using Jupyter notebook\n",
    "# df = pd.read_csv('model_ctg.csv', index_col = 0)\n",
    "\n",
    "# First 5 rows of dataset\n",
    "# df.head()"
   ]
  },
  {
   "cell_type": "markdown",
   "id": "7b45acad-0c31-4c6e-b37b-e7ce8a6724a7",
   "metadata": {
    "id": "7b45acad-0c31-4c6e-b37b-e7ce8a6724a7"
   },
   "source": [
    "Let's look at the shape of the dataframe."
   ]
  },
  {
   "cell_type": "code",
   "execution_count": 4,
   "id": "deab2fdd-d80c-47cb-8ef7-9e3582c278e1",
   "metadata": {
    "colab": {
     "base_uri": "https://localhost:8080/"
    },
    "executionInfo": {
     "elapsed": 151,
     "status": "ok",
     "timestamp": 1711656445049,
     "user": {
      "displayName": "Clement Chan",
      "userId": "03366325300471215424"
     },
     "user_tz": 240
    },
    "id": "deab2fdd-d80c-47cb-8ef7-9e3582c278e1",
    "outputId": "85f569f7-8d48-4976-dee0-a44eaae89b57"
   },
   "outputs": [
    {
     "name": "stdout",
     "output_type": "stream",
     "text": [
      "The dataset has 305110 rows and 228 columns.\n"
     ]
    }
   ],
   "source": [
    "print(f'The dataset has {df.shape[0]} rows and {df.shape[1]} columns.')"
   ]
  },
  {
   "cell_type": "markdown",
   "id": "CnmOe4pmkdWt",
   "metadata": {
    "id": "CnmOe4pmkdWt"
   },
   "source": [
    "**Baseline Model - Logistic Regression**\n",
    "\n",
    "First we will start with a basic Logistic Regression as our baseline model classifier to determine the accuracy of the predictions and then the f1 score metrics. We will need to scale the data since Logistic Regression is a linear model and unscaled distances can impact the results greatly.\n",
    "\n",
    "1. Select the independant and dependant variables\n",
    "2. Divide the dataset into training and testing sets\n",
    "3. Scale the data using StandardScaler()\n",
    "4. Fit the LogisticRegression() model\n",
    "5. Analyze the model results by comparing accuracy, precision, and recall"
   ]
  },
  {
   "cell_type": "code",
   "execution_count": 4,
   "id": "34c68fa4-590c-4613-beae-195897472f93",
   "metadata": {
    "executionInfo": {
     "elapsed": 162,
     "status": "ok",
     "timestamp": 1711670591802,
     "user": {
      "displayName": "Clement Chan",
      "userId": "03366325300471215424"
     },
     "user_tz": 240
    },
    "id": "34c68fa4-590c-4613-beae-195897472f93"
   },
   "outputs": [],
   "source": [
    "# setting independant and dependant variables\n",
    "X = df.drop(columns='Study Status')\n",
    "y = df['Study Status']"
   ]
  },
  {
   "cell_type": "code",
   "execution_count": 5,
   "id": "051b6b87-e469-4d98-9634-c07f8484dcd2",
   "metadata": {
    "colab": {
     "base_uri": "https://localhost:8080/"
    },
    "executionInfo": {
     "elapsed": 889,
     "status": "ok",
     "timestamp": 1711670594252,
     "user": {
      "displayName": "Clement Chan",
      "userId": "03366325300471215424"
     },
     "user_tz": 240
    },
    "id": "051b6b87-e469-4d98-9634-c07f8484dcd2",
    "outputId": "9f52bbe6-b7e7-4e29-a14f-31e754403b6b"
   },
   "outputs": [
    {
     "name": "stdout",
     "output_type": "stream",
     "text": [
      "(244088, 227) (61022, 227) (244088,) (61022,)\n"
     ]
    }
   ],
   "source": [
    "# dividing the data with 20% test size with random state of 12\n",
    "X_train, X_test, y_train, y_test = train_test_split(X, y, test_size=0.2, random_state=12, stratify=y)\n",
    "\n",
    "# sanity check\n",
    "print(X_train.shape, X_test.shape, y_train.shape, y_test.shape)"
   ]
  },
  {
   "cell_type": "markdown",
   "id": "4g5wqjaGmNns",
   "metadata": {
    "id": "4g5wqjaGmNns"
   },
   "source": [
    "**Standard Scaler**"
   ]
  },
  {
   "cell_type": "code",
   "execution_count": 6,
   "id": "_ZGXaGQtmTDm",
   "metadata": {
    "executionInfo": {
     "elapsed": 1123,
     "status": "ok",
     "timestamp": 1711670596569,
     "user": {
      "displayName": "Clement Chan",
      "userId": "03366325300471215424"
     },
     "user_tz": 240
    },
    "id": "_ZGXaGQtmTDm"
   },
   "outputs": [],
   "source": [
    "# instantiate scaler\n",
    "ss = StandardScaler()\n",
    "\n",
    "# fit the scaler\n",
    "ss.fit(X_train)\n",
    "\n",
    "# transform\n",
    "X_train_ss = ss.transform(X_train)\n",
    "X_test_ss = ss.transform(X_test)"
   ]
  },
  {
   "cell_type": "markdown",
   "id": "xz7jqSqBmxJK",
   "metadata": {
    "id": "xz7jqSqBmxJK"
   },
   "source": [
    "**Logistic Regression**"
   ]
  },
  {
   "cell_type": "code",
   "execution_count": 8,
   "id": "7ba20e9d-b80d-4f78-97d9-d5c8bc01ca1c",
   "metadata": {
    "colab": {
     "base_uri": "https://localhost:8080/"
    },
    "executionInfo": {
     "elapsed": 8751,
     "status": "ok",
     "timestamp": 1711656464533,
     "user": {
      "displayName": "Clement Chan",
      "userId": "03366325300471215424"
     },
     "user_tz": 240
    },
    "id": "7ba20e9d-b80d-4f78-97d9-d5c8bc01ca1c",
    "outputId": "9640b19e-3db8-4934-efcc-9e5ff4bf767f"
   },
   "outputs": [
    {
     "name": "stdout",
     "output_type": "stream",
     "text": [
      "Training Score: 0.9073489888892531\n",
      "Testing score: 0.9070171413588541\n"
     ]
    }
   ],
   "source": [
    "# Instantiate Logreg\n",
    "logreg = LogisticRegression()\n",
    "\n",
    "# Fit the model\n",
    "logreg.fit(X_train_ss, y_train)\n",
    "\n",
    "# find the scores\n",
    "print(f'Training Score: {logreg.score(X_train_ss, y_train)}')\n",
    "print(f'Testing score: {logreg.score(X_test_ss, y_test)}')"
   ]
  },
  {
   "cell_type": "markdown",
   "id": "6jjHfc95nCb0",
   "metadata": {
    "id": "6jjHfc95nCb0"
   },
   "source": [
    "Just from the basic logistic regression, we are getting a high accuract of 90.7% from both training and test scores. There doesn't seem to be any overfitting so regularization is not required for now. Next we should look into the confusion matrix and evaluate the model."
   ]
  },
  {
   "cell_type": "code",
   "execution_count": 9,
   "id": "8ade7369-6c9f-4d6c-a4dc-dad26abc2d56",
   "metadata": {
    "colab": {
     "base_uri": "https://localhost:8080/",
     "height": 466
    },
    "executionInfo": {
     "elapsed": 785,
     "status": "ok",
     "timestamp": 1711656465316,
     "user": {
      "displayName": "Clement Chan",
      "userId": "03366325300471215424"
     },
     "user_tz": 240
    },
    "id": "8ade7369-6c9f-4d6c-a4dc-dad26abc2d56",
    "outputId": "5fe6e6a2-1a07-4c65-9171-20b1f2e930f6"
   },
   "outputs": [
    {
     "data": {
      "text/plain": [
       "<sklearn.metrics._plot.confusion_matrix.ConfusionMatrixDisplay at 0x7ee35c2576a0>"
      ]
     },
     "execution_count": 9,
     "metadata": {},
     "output_type": "execute_result"
    },
    {
     "data": {
      "image/png": "[encoded data removed]",
      "text/plain": [
       "<Figure size 640x480 with 2 Axes>"
      ]
     },
     "metadata": {},
     "output_type": "display_data"
    }
   ],
   "source": [
    "# Get class predictions\n",
    "y_pred = logreg.predict(X_test_ss)\n",
    "\n",
    "# Confusion matrix\n",
    "ConfusionMatrixDisplay.from_estimator(logreg, X_test_ss, y_test)"
   ]
  },
  {
   "cell_type": "markdown",
   "id": "pGlrya1KoQzq",
   "metadata": {
    "id": "pGlrya1KoQzq"
   },
   "source": [
    "The logistic regression model is very good at classifying the **True Negatives** or the actual completed trials, but seems to be missing a lot of predictions in the **True Positive** or the actual terminated trials. Let's look at this further in a classification report."
   ]
  },
  {
   "cell_type": "code",
   "execution_count": 10,
   "id": "f9902bd2-e989-4fe4-b42e-47339c92baad",
   "metadata": {
    "colab": {
     "base_uri": "https://localhost:8080/"
    },
    "executionInfo": {
     "elapsed": 453,
     "status": "ok",
     "timestamp": 1711656471878,
     "user": {
      "displayName": "Clement Chan",
      "userId": "03366325300471215424"
     },
     "user_tz": 240
    },
    "id": "f9902bd2-e989-4fe4-b42e-47339c92baad",
    "outputId": "e26a16eb-7709-4982-c1be-866bb54dd549"
   },
   "outputs": [
    {
     "name": "stdout",
     "output_type": "stream",
     "text": [
      "              precision    recall  f1-score   support\n",
      "\n",
      "           0       0.92      0.97      0.95     52676\n",
      "           1       0.73      0.50      0.60      8346\n",
      "\n",
      "    accuracy                           0.91     61022\n",
      "   macro avg       0.83      0.74      0.77     61022\n",
      "weighted avg       0.90      0.91      0.90     61022\n",
      "\n"
     ]
    }
   ],
   "source": [
    "base_logreg_report = classification_report(y_test, y_pred)\n",
    "print(base_logreg_report)"
   ]
  },
  {
   "cell_type": "markdown",
   "id": "A2eHNfpnwLDl",
   "metadata": {
    "id": "A2eHNfpnwLDl"
   },
   "source": [
    "The recall scores are the actual labels that the model correctly predicted, and we can see that the model is very bad at classifying class 1 or the terminated trials. So out of 8346 terminated trials, the model only classified 50% of actual terminated trials. On the other hand, precision scores measure how many terminated trials the model correctly predicted which is 73%. The **f1-score** is a metric that looks into the harmonic mean between precision and recall which is a good indicator of how the model is performing."
   ]
  },
  {
   "cell_type": "markdown",
   "id": "XltgOVnk0iKi",
   "metadata": {
    "id": "XltgOVnk0iKi"
   },
   "source": [
    "**Selecting Best Features with KBest**\n",
    "\n",
    "From our dataframe, there are 417 columns or independent variables which is a crazy amount and is difficult to see what variable has the largest impact on predicting terminated trials. We will use SelectKBest() with f_classifier which returns the F-statistic of ANOVA. In simpler words, we will be comparing the variances of each independent variable with the dependent variable and determine what independent variables has the most significant effect on the dependent variable."
   ]
  },
  {
   "cell_type": "code",
   "execution_count": 7,
   "id": "b4e3109c-75d2-454b-a7c1-d11c5b69f4dc",
   "metadata": {
    "executionInfo": {
     "elapsed": 1497,
     "status": "ok",
     "timestamp": 1711670606829,
     "user": {
      "displayName": "Clement Chan",
      "userId": "03366325300471215424"
     },
     "user_tz": 240
    },
    "id": "b4e3109c-75d2-454b-a7c1-d11c5b69f4dc"
   },
   "outputs": [],
   "source": [
    "# Instantiate KBest feature selector and fit\n",
    "my_KBest = SelectKBest(f_classif, k=1).fit(X_train, y_train)\n",
    "\n",
    "# score\n",
    "# my_KBest.scores_"
   ]
  },
  {
   "cell_type": "code",
   "execution_count": 8,
   "id": "EFC64VcFtQnI",
   "metadata": {
    "colab": {
     "base_uri": "https://localhost:8080/"
    },
    "executionInfo": {
     "elapsed": 14,
     "status": "ok",
     "timestamp": 1711670606829,
     "user": {
      "displayName": "Clement Chan",
      "userId": "03366325300471215424"
     },
     "user_tz": 240
    },
    "id": "EFC64VcFtQnI",
    "outputId": "e1ddd5b0-6892-41cc-8e69-4ee4a6df2626"
   },
   "outputs": [
    {
     "data": {
      "text/plain": [
       "array(['Enrollment__0-8'], dtype=object)"
      ]
     },
     "execution_count": 8,
     "metadata": {},
     "output_type": "execute_result"
    }
   ],
   "source": [
    "my_KBest.get_feature_names_out()"
   ]
  },
  {
   "cell_type": "code",
   "execution_count": 12,
   "id": "bee9db33-7324-4e49-bdfe-830eaa07eb49",
   "metadata": {
    "colab": {
     "base_uri": "https://localhost:8080/"
    },
    "executionInfo": {
     "elapsed": 10740,
     "status": "ok",
     "timestamp": 1711671087863,
     "user": {
      "displayName": "Clement Chan",
      "userId": "03366325300471215424"
     },
     "user_tz": 240
    },
    "id": "bee9db33-7324-4e49-bdfe-830eaa07eb49",
    "outputId": "2a5d84bb-3735-46fe-d36c-877de91d1417"
   },
   "outputs": [
    {
     "name": "stdout",
     "output_type": "stream",
     "text": [
      "k=15\n",
      "Best variables: ['Study Type' 'Age_OLDER_ADULT' 'Phases_NO PHASE' 'Phases_PHASE2'\n",
      " 'Enrollment__0-8' 'Enrollment__20-29' 'Enrollment__30-41'\n",
      " 'Enrollment__42-59' 'Enrollment__60-79' 'Enrollment__80-119'\n",
      " 'Enrollment__120-209' 'Enrollment__210-490' 'Enrollment__491-188814085'\n",
      " 'Country_Egypt' 'Country_United States']\n",
      "\n",
      "p-values [8.98079445e-185 3.58502650e-270 0.00000000e+000 0.00000000e+000\n",
      " 0.00000000e+000 4.89377323e-091 8.60352116e-163 4.94065646e-324\n",
      " 1.36555950e-259 0.00000000e+000 0.00000000e+000 0.00000000e+000\n",
      " 0.00000000e+000 9.68623171e-117 0.00000000e+000]\n",
      "-----------------------------------------------------------------\n",
      "\n",
      "k=20\n",
      "Best variables: ['Study Type' 'Age_CHILD' 'Age_OLDER_ADULT' 'Phases_NO PHASE'\n",
      " 'Phases_PHASE2' 'Enrollment__0-8' 'Enrollment__20-29' 'Enrollment__30-41'\n",
      " 'Enrollment__42-59' 'Enrollment__60-79' 'Enrollment__80-119'\n",
      " 'Enrollment__120-209' 'Enrollment__210-490' 'Enrollment__491-188814085'\n",
      " 'Country_China' 'Country_Egypt' 'Country_Pakistan'\n",
      " 'Country_United States' 'Duration(days)__0-122' 'Duration(days)__123-244']\n",
      "\n",
      "p-values [8.98079445e-185 8.95014383e-076 3.58502650e-270 0.00000000e+000\n",
      " 0.00000000e+000 0.00000000e+000 4.89377323e-091 8.60352116e-163\n",
      " 4.94065646e-324 1.36555950e-259 0.00000000e+000 0.00000000e+000\n",
      " 0.00000000e+000 0.00000000e+000 2.49193868e-047 9.68623171e-117\n",
      " 2.49908496e-042 0.00000000e+000 7.45056410e-055 1.71789029e-056]\n",
      "-----------------------------------------------------------------\n",
      "\n",
      "k=25\n",
      "Best variables: ['Study Type' 'Sex_MALE' 'Age_ADULT' 'Age_CHILD' 'Age_OLDER_ADULT'\n",
      " 'Phases_EARLY_PHASE1' 'Phases_NO PHASE' 'Phases_PHASE1' 'Phases_PHASE2'\n",
      " 'Enrollment__0-8' 'Enrollment__20-29' 'Enrollment__30-41'\n",
      " 'Enrollment__42-59' 'Enrollment__60-79' 'Enrollment__80-119'\n",
      " 'Enrollment__120-209' 'Enrollment__210-490' 'Enrollment__491-188814085'\n",
      " 'Country_China' 'Country_Egypt' 'Country_Pakistan'\n",
      " 'Country_United States' 'Duration(days)__0-122' 'Duration(days)__123-244'\n",
      " 'Duration(days)__672-861']\n",
      "\n",
      "p-values [8.98079445e-185 4.41136540e-028 3.47927171e-037 8.95014383e-076\n",
      " 3.58502650e-270 1.75203484e-027 0.00000000e+000 6.09676805e-031\n",
      " 0.00000000e+000 0.00000000e+000 4.89377323e-091 8.60352116e-163\n",
      " 4.94065646e-324 1.36555950e-259 0.00000000e+000 0.00000000e+000\n",
      " 0.00000000e+000 0.00000000e+000 2.49193868e-047 9.68623171e-117\n",
      " 2.49908496e-042 0.00000000e+000 7.45056410e-055 1.71789029e-056\n",
      " 5.27025634e-037]\n",
      "-----------------------------------------------------------------\n",
      "\n"
     ]
    }
   ],
   "source": [
    "train_scores = []\n",
    "test_scores = []\n",
    "\n",
    "ks = list(range(15, 30, 5))\n",
    "\n",
    "for k in ks:\n",
    "\n",
    "    # Select your features based on K best\n",
    "    my_Kbest = SelectKBest(f_classif, k=k).fit(X_train, y_train)\n",
    "\n",
    "    # Transform to get K Best Features\n",
    "    X_train_selected = my_Kbest.transform(X_train)\n",
    "    X_test_selected = my_Kbest.transform(X_test)\n",
    "    p_value = my_Kbest.pvalues_\n",
    "\n",
    "\n",
    "\n",
    "    # Create the model on the transformed data\n",
    "    model = LogisticRegression()\n",
    "    model.fit(X_train_selected, y_train)\n",
    "\n",
    "\n",
    "    print(f\"k={k}\")\n",
    "    print(f\"Best variables: {np.array(my_Kbest.get_feature_names_out())}\")\n",
    "    print(\"\")\n",
    "\n",
    "    print(\"p-values\", p_value[my_Kbest.get_support()])\n",
    "\n",
    "    print(\"-----------------------------------------------------------------\")\n",
    "    print(\"\")\n",
    "\n",
    "    train_scores.append(model.score(X_train_selected, y_train))\n",
    "    test_scores.append(model.score(X_test_selected, y_test))\n"
   ]
  },
  {
   "cell_type": "code",
   "execution_count": 17,
   "id": "1393aa53-4b4f-4f1d-855d-e10e43eff78f",
   "metadata": {
    "colab": {
     "base_uri": "https://localhost:8080/",
     "height": 641
    },
    "executionInfo": {
     "elapsed": 976,
     "status": "ok",
     "timestamp": 1711658326494,
     "user": {
      "displayName": "Clement Chan",
      "userId": "03366325300471215424"
     },
     "user_tz": 240
    },
    "id": "1393aa53-4b4f-4f1d-855d-e10e43eff78f",
    "outputId": "afab377d-e92f-4aaa-e8c2-cdde939049b5"
   },
   "outputs": [
    {
     "data": {
      "image/png": "[encoded data removed]",
      "text/plain": [
       "<Figure size 1000x700 with 1 Axes>"
      ]
     },
     "metadata": {},
     "output_type": "display_data"
    }
   ],
   "source": [
    "plt.figure(figsize=(10,7))\n",
    "plt.plot(ks, train_scores, label=\"train\")\n",
    "plt.plot(ks, test_scores, label=\"test\")\n",
    "plt.title(\"Logistic Regression Accuracy based on ks\".title())\n",
    "plt.xlabel(\"K value\")\n",
    "plt.ylabel(\"accuracy\")\n",
    "plt.xticks(ks)\n",
    "plt.legend()\n",
    "plt.show()"
   ]
  },
  {
   "cell_type": "code",
   "execution_count": null,
   "id": "5a449db3-20c9-47bb-907c-3341529e2566",
   "metadata": {
    "id": "5a449db3-20c9-47bb-907c-3341529e2566"
   },
   "outputs": [],
   "source": []
  },
  {
   "cell_type": "code",
   "execution_count": null,
   "id": "7c83afcb-d6a1-4c6c-aeed-d88aaae5ee60",
   "metadata": {
    "id": "7c83afcb-d6a1-4c6c-aeed-d88aaae5ee60"
   },
   "outputs": [],
   "source": []
  },
  {
   "cell_type": "code",
   "execution_count": null,
   "id": "07D3bJGPPyBO",
   "metadata": {
    "id": "07D3bJGPPyBO"
   },
   "outputs": [],
   "source": []
  },
  {
   "cell_type": "code",
   "execution_count": null,
   "id": "WmlRWNeIPx9s",
   "metadata": {
    "id": "WmlRWNeIPx9s"
   },
   "outputs": [],
   "source": []
  },
  {
   "cell_type": "code",
   "execution_count": null,
   "id": "UVihhZyeQbrT",
   "metadata": {
    "id": "UVihhZyeQbrT"
   },
   "outputs": [],
   "source": []
  },
  {
   "cell_type": "code",
   "execution_count": null,
   "id": "SgBU1lVrQbos",
   "metadata": {
    "id": "SgBU1lVrQbos"
   },
   "outputs": [],
   "source": []
  },
  {
   "cell_type": "code",
   "execution_count": null,
   "id": "-ESBWJmpQbm1",
   "metadata": {
    "id": "-ESBWJmpQbm1"
   },
   "outputs": [],
   "source": []
  }
 ],
 "metadata": {
  "colab": {
   "provenance": []
  },
  "kernelspec": {
   "display_name": "clinical_trials_env",
   "language": "python",
   "name": "clinical_trials_env"
  },
  "language_info": {
   "codemirror_mode": {
    "name": "ipython",
    "version": 3
   },
   "file_extension": ".py",
   "mimetype": "text/x-python",
   "name": "python",
   "nbconvert_exporter": "python",
   "pygments_lexer": "ipython3",
   "version": "3.11.7"
  }
 },
 "nbformat": 4,
 "nbformat_minor": 5
}
