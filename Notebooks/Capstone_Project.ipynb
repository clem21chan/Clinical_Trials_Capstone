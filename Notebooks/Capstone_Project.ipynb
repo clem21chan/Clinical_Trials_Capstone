{
 "cells": [
  {
   "cell_type": "markdown",
   "id": "17f9fe3c-6e6c-40ff-a94b-823e6dea3466",
   "metadata": {},
   "source": [
    "# Predicting Clinical Trial Terminations\n",
    "\n",
    "**Author: Clement Chan**\n",
    "\n",
    "---\n",
    "Notes on this notebook: (Add cool description here!)\n",
    "\n",
    "- ctg.csv notebook was aquired from clinicaltrials.gov on Feb 16th 2024"
   ]
  },
  {
   "cell_type": "markdown",
   "id": "ff212a72-d90a-432b-91b9-a4e65d16ff69",
   "metadata": {},
   "source": [
    "### Rough Data Dictionary based on clinicaltrials.gov that will change as we go:\n",
    "\n",
    "---\n",
    "\n",
    "| Column | Description                                  |Data Type|\n",
    "|-------|--------------------------------------------|-------|\n",
    "| NCT Number | Unique ID                            | object |\n",
    "| Study Title | Title of the Clinical Trial           | object |\n",
    "| Study URL | URL link to the study on clinicaltrials.gov  | object |\n",
    "| Acronym | An abbreviation used to identify the clinical study | object|\n",
    "| Study Status | Categorical column displaying the current position of the study | object (could classify into dummies) |\n",
    "| Brief Summary | Short description of the clinical study (Includes study hypothesis) | object |\n",
    "| Study Results | Not sure what the result is (but is in yes or no format) | object (turn to binary?)|\n",
    "| Conditions | Primary Disease or Condition being studied     | object |\n",
    "| Interventions | The methods used in the trial to reach the outcome                 | object |\n",
    "| Primary Outcome Measures | Description of specific primary outcome | object |\n",
    "| Secondary Outcome Measures | Description of specific secondary outcome | object |\n",
    "| Sponsor | The corporation or agency that initiates the study | object |\n",
    "| Collaborators | Other organizations that provide support | object |\n",
    "| Sex | All: No limit on eligibility based on sex, Male: Only male participants, Female: Only female participants | object (Could change into binary or dummies) |\n",
    "| Age | Relative age of the participants? Probably need to clarify/change up the name of the values | object (could classify this into dummies)|\n",
    "| Phases | Clinical trial phase of the study (drug)... need to classify this futher. | object (dummies?)|\n",
    "| Enrollment | Total estimated number of participants in a study or total actual enrollment? | float -> int |\n",
    "| Funder Type | Funding type in category? | object (could classify into dummies) |\n",
    "| Study Type | Interventional, Observational, or Expanded Access | object (definitely dummies) |\n",
    "| Study Design | Study design based on study type | object |\n",
    "| Other IDs | Literally other IDs... don't know why this column is useful when we already have NCT number | object |\n",
    "| Start Date | Estimated/Actual date the first participant was enrolled | object -> date |\n",
    "| Primary Completion Date | Date the final participant was examined for the first outcome | object -> date |\n",
    "| Completion Date | Date the final participant was examined | object -> date |\n",
    "| First Posted | Date the clinical trial was first posted to the public      | object -> date  |\n",
    "| Last Update Posted | Date the clinical trial was last posted to the public   | object -> date |\n",
    "| Locations | Where the clinical study will be held | object |\n"
   ]
  },
  {
   "cell_type": "markdown",
   "id": "5ea33571-57f0-46d0-bde8-402ed3bb0267",
   "metadata": {},
   "source": [
    "**Importing Libraries**"
   ]
  },
  {
   "cell_type": "code",
   "execution_count": 1,
   "id": "8b4239a1",
   "metadata": {
    "tags": []
   },
   "outputs": [],
   "source": [
    "import numpy as np\n",
    "import pandas as pd\n",
    "\n",
    "import matplotlib.pyplot as plt\n",
    "import seaborn as sns"
   ]
  },
  {
   "cell_type": "markdown",
   "id": "2596bba0-e332-4aae-ba23-f8245371540b",
   "metadata": {},
   "source": [
    "<a id = 'toc'><a/>\n",
    "## Table of Contents\n",
    "---\n",
    "1. [Data Wrangling](#wrangle)\n",
    "\n",
    ">1.1 [First Look At The Dataset](#first)\n",
    "\n",
    ">1.2 [Cleaning Missing Data](#miss)\n",
    "\n",
    "2. [Exploratory Data Analysis (EDA)](#EDA)\n",
    "\n",
    ">2.1 [Additional Cleaning](#clean)"
   ]
  },
  {
   "cell_type": "markdown",
   "id": "beab8ed7-7c48-466d-8d8b-1816f6d564b8",
   "metadata": {},
   "source": [
    "<a id = 'wrangle'><a/>\n",
    "## 1. Data Wrangling\n",
    "\n",
    "---\n",
    "\n",
    "<a id = 'first'><a/>\n",
    "### 1.1 First look At The Clinical_Trials Dataset"
   ]
  },
  {
   "cell_type": "code",
   "execution_count": 2,
   "id": "70d042c4",
   "metadata": {
    "tags": []
   },
   "outputs": [
    {
     "data": {
      "text/html": [
       "<div>\n",
       "<style scoped>\n",
       "    .dataframe tbody tr th:only-of-type {\n",
       "        vertical-align: middle;\n",
       "    }\n",
       "\n",
       "    .dataframe tbody tr th {\n",
       "        vertical-align: top;\n",
       "    }\n",
       "\n",
       "    .dataframe thead th {\n",
       "        text-align: right;\n",
       "    }\n",
       "</style>\n",
       "<table border=\"1\" class=\"dataframe\">\n",
       "  <thead>\n",
       "    <tr style=\"text-align: right;\">\n",
       "      <th></th>\n",
       "      <th>NCT Number</th>\n",
       "      <th>Study Title</th>\n",
       "      <th>Study URL</th>\n",
       "      <th>Acronym</th>\n",
       "      <th>Study Status</th>\n",
       "      <th>Brief Summary</th>\n",
       "      <th>Study Results</th>\n",
       "      <th>Conditions</th>\n",
       "      <th>Interventions</th>\n",
       "      <th>Primary Outcome Measures</th>\n",
       "      <th>...</th>\n",
       "      <th>Study Design</th>\n",
       "      <th>Other IDs</th>\n",
       "      <th>Start Date</th>\n",
       "      <th>Primary Completion Date</th>\n",
       "      <th>Completion Date</th>\n",
       "      <th>First Posted</th>\n",
       "      <th>Results First Posted</th>\n",
       "      <th>Last Update Posted</th>\n",
       "      <th>Locations</th>\n",
       "      <th>Study Documents</th>\n",
       "    </tr>\n",
       "  </thead>\n",
       "  <tbody>\n",
       "    <tr>\n",
       "      <th>0</th>\n",
       "      <td>NCT03630471</td>\n",
       "      <td>Effectiveness of a Problem-solving Interventio...</td>\n",
       "      <td>https://clinicaltrials.gov/study/NCT03630471</td>\n",
       "      <td>PRIDE</td>\n",
       "      <td>COMPLETED</td>\n",
       "      <td>We will conduct a two-arm individually randomi...</td>\n",
       "      <td>NO</td>\n",
       "      <td>Mental Health Issue (E.G., Depression, Psychos...</td>\n",
       "      <td>BEHAVIORAL: PRIDE 'Step 1' problem-solving int...</td>\n",
       "      <td>Mental health symptoms, The Strengths and Diff...</td>\n",
       "      <td>...</td>\n",
       "      <td>Allocation: RANDOMIZED|Intervention Model: PAR...</td>\n",
       "      <td>SANPRIDE_002</td>\n",
       "      <td>2018-08-20</td>\n",
       "      <td>2019-01-20</td>\n",
       "      <td>2019-02-28</td>\n",
       "      <td>2018-08-14</td>\n",
       "      <td>NaN</td>\n",
       "      <td>2019-05-21</td>\n",
       "      <td>Sangath, New Delhi, Delhi, 110016, India</td>\n",
       "      <td>Statistical Analysis Plan, https://storage.goo...</td>\n",
       "    </tr>\n",
       "    <tr>\n",
       "      <th>1</th>\n",
       "      <td>NCT05992571</td>\n",
       "      <td>Oral Ketone Monoester Supplementation and Rest...</td>\n",
       "      <td>https://clinicaltrials.gov/study/NCT05992571</td>\n",
       "      <td>NaN</td>\n",
       "      <td>RECRUITING</td>\n",
       "      <td>People who report subjective memory complaints...</td>\n",
       "      <td>NO</td>\n",
       "      <td>Cerebrovascular Function|Cognition</td>\n",
       "      <td>OTHER: Placebo|DIETARY_SUPPLEMENT: β-OHB</td>\n",
       "      <td>Brain network connectivity, Functional connect...</td>\n",
       "      <td>...</td>\n",
       "      <td>Allocation: RANDOMIZED|Intervention Model: CRO...</td>\n",
       "      <td>rs-KME</td>\n",
       "      <td>2023-10-25</td>\n",
       "      <td>2024-08</td>\n",
       "      <td>2024-08</td>\n",
       "      <td>2023-08-15</td>\n",
       "      <td>NaN</td>\n",
       "      <td>2023-12-01</td>\n",
       "      <td>McMaster University, Hamilton, Ontario, L8S 4K...</td>\n",
       "      <td>NaN</td>\n",
       "    </tr>\n",
       "    <tr>\n",
       "      <th>2</th>\n",
       "      <td>NCT01854671</td>\n",
       "      <td>Investigating the Effect of a Prenatal Family ...</td>\n",
       "      <td>https://clinicaltrials.gov/study/NCT01854671</td>\n",
       "      <td>NaN</td>\n",
       "      <td>COMPLETED</td>\n",
       "      <td>The purpose of this study is to measure the di...</td>\n",
       "      <td>NO</td>\n",
       "      <td>Focus: Contraceptive Counseling|Focus: Postpar...</td>\n",
       "      <td>OTHER: family planning counseling let by commu...</td>\n",
       "      <td>Self-reported contraceptive use, 6 months post...</td>\n",
       "      <td>...</td>\n",
       "      <td>Allocation: NON_RANDOMIZED|Intervention Model:...</td>\n",
       "      <td>SFPRF13-10</td>\n",
       "      <td>2013-08</td>\n",
       "      <td>2014-12</td>\n",
       "      <td>2014-12</td>\n",
       "      <td>2013-05-15</td>\n",
       "      <td>NaN</td>\n",
       "      <td>2015-08-17</td>\n",
       "      <td>Palestinian Ministry of Health Maternal Child ...</td>\n",
       "      <td>NaN</td>\n",
       "    </tr>\n",
       "    <tr>\n",
       "      <th>3</th>\n",
       "      <td>NCT03869671</td>\n",
       "      <td>Pre-exposure Prophylaxis (PrEP) for People Who...</td>\n",
       "      <td>https://clinicaltrials.gov/study/NCT03869671</td>\n",
       "      <td>NaN</td>\n",
       "      <td>WITHDRAWN</td>\n",
       "      <td>People who inject drugs (PWID) experience high...</td>\n",
       "      <td>NO</td>\n",
       "      <td>Intravenous Drug Abuse</td>\n",
       "      <td>BEHAVIORAL: PrEP uptake/adherence intervention...</td>\n",
       "      <td>PrEP uptake by self-report, measured using 1 i...</td>\n",
       "      <td>...</td>\n",
       "      <td>Allocation: RANDOMIZED|Intervention Model: PAR...</td>\n",
       "      <td>H-34960|K01DA043412-01A1</td>\n",
       "      <td>2021-03</td>\n",
       "      <td>2022-03</td>\n",
       "      <td>2022-03</td>\n",
       "      <td>2019-03-11</td>\n",
       "      <td>NaN</td>\n",
       "      <td>2021-03-10</td>\n",
       "      <td>NaN</td>\n",
       "      <td>NaN</td>\n",
       "    </tr>\n",
       "    <tr>\n",
       "      <th>4</th>\n",
       "      <td>NCT02945371</td>\n",
       "      <td>Tailored Inhibitory Control Training to Revers...</td>\n",
       "      <td>https://clinicaltrials.gov/study/NCT02945371</td>\n",
       "      <td>REV</td>\n",
       "      <td>COMPLETED</td>\n",
       "      <td>Insufficient inhibitory control is one pathway...</td>\n",
       "      <td>NO</td>\n",
       "      <td>Smoking|Alcohol Drinking|Prescription Drug Abu...</td>\n",
       "      <td>BEHAVIORAL: Person-centered inhibitory control...</td>\n",
       "      <td>Inhibitory control performance, Task 1, Perfor...</td>\n",
       "      <td>...</td>\n",
       "      <td>Allocation: RANDOMIZED|Intervention Model: PAR...</td>\n",
       "      <td>EPCS20613</td>\n",
       "      <td>2014-09</td>\n",
       "      <td>2016-04</td>\n",
       "      <td>2016-05</td>\n",
       "      <td>2016-10-26</td>\n",
       "      <td>NaN</td>\n",
       "      <td>2016-10-26</td>\n",
       "      <td>University of Oregon, Social and Affective Neu...</td>\n",
       "      <td>NaN</td>\n",
       "    </tr>\n",
       "  </tbody>\n",
       "</table>\n",
       "<p>5 rows × 30 columns</p>\n",
       "</div>"
      ],
      "text/plain": [
       "    NCT Number                                        Study Title  \\\n",
       "0  NCT03630471  Effectiveness of a Problem-solving Interventio...   \n",
       "1  NCT05992571  Oral Ketone Monoester Supplementation and Rest...   \n",
       "2  NCT01854671  Investigating the Effect of a Prenatal Family ...   \n",
       "3  NCT03869671  Pre-exposure Prophylaxis (PrEP) for People Who...   \n",
       "4  NCT02945371  Tailored Inhibitory Control Training to Revers...   \n",
       "\n",
       "                                      Study URL Acronym Study Status  \\\n",
       "0  https://clinicaltrials.gov/study/NCT03630471   PRIDE    COMPLETED   \n",
       "1  https://clinicaltrials.gov/study/NCT05992571     NaN   RECRUITING   \n",
       "2  https://clinicaltrials.gov/study/NCT01854671     NaN    COMPLETED   \n",
       "3  https://clinicaltrials.gov/study/NCT03869671     NaN    WITHDRAWN   \n",
       "4  https://clinicaltrials.gov/study/NCT02945371     REV    COMPLETED   \n",
       "\n",
       "                                       Brief Summary Study Results  \\\n",
       "0  We will conduct a two-arm individually randomi...            NO   \n",
       "1  People who report subjective memory complaints...            NO   \n",
       "2  The purpose of this study is to measure the di...            NO   \n",
       "3  People who inject drugs (PWID) experience high...            NO   \n",
       "4  Insufficient inhibitory control is one pathway...            NO   \n",
       "\n",
       "                                          Conditions  \\\n",
       "0  Mental Health Issue (E.G., Depression, Psychos...   \n",
       "1                 Cerebrovascular Function|Cognition   \n",
       "2  Focus: Contraceptive Counseling|Focus: Postpar...   \n",
       "3                             Intravenous Drug Abuse   \n",
       "4  Smoking|Alcohol Drinking|Prescription Drug Abu...   \n",
       "\n",
       "                                       Interventions  \\\n",
       "0  BEHAVIORAL: PRIDE 'Step 1' problem-solving int...   \n",
       "1           OTHER: Placebo|DIETARY_SUPPLEMENT: β-OHB   \n",
       "2  OTHER: family planning counseling let by commu...   \n",
       "3  BEHAVIORAL: PrEP uptake/adherence intervention...   \n",
       "4  BEHAVIORAL: Person-centered inhibitory control...   \n",
       "\n",
       "                            Primary Outcome Measures  ...  \\\n",
       "0  Mental health symptoms, The Strengths and Diff...  ...   \n",
       "1  Brain network connectivity, Functional connect...  ...   \n",
       "2  Self-reported contraceptive use, 6 months post...  ...   \n",
       "3  PrEP uptake by self-report, measured using 1 i...  ...   \n",
       "4  Inhibitory control performance, Task 1, Perfor...  ...   \n",
       "\n",
       "                                        Study Design  \\\n",
       "0  Allocation: RANDOMIZED|Intervention Model: PAR...   \n",
       "1  Allocation: RANDOMIZED|Intervention Model: CRO...   \n",
       "2  Allocation: NON_RANDOMIZED|Intervention Model:...   \n",
       "3  Allocation: RANDOMIZED|Intervention Model: PAR...   \n",
       "4  Allocation: RANDOMIZED|Intervention Model: PAR...   \n",
       "\n",
       "                  Other IDs  Start Date Primary Completion Date  \\\n",
       "0              SANPRIDE_002  2018-08-20              2019-01-20   \n",
       "1                    rs-KME  2023-10-25                 2024-08   \n",
       "2                SFPRF13-10     2013-08                 2014-12   \n",
       "3  H-34960|K01DA043412-01A1     2021-03                 2022-03   \n",
       "4                 EPCS20613     2014-09                 2016-04   \n",
       "\n",
       "  Completion Date First Posted Results First Posted  Last Update Posted  \\\n",
       "0      2019-02-28   2018-08-14                  NaN          2019-05-21   \n",
       "1         2024-08   2023-08-15                  NaN          2023-12-01   \n",
       "2         2014-12   2013-05-15                  NaN          2015-08-17   \n",
       "3         2022-03   2019-03-11                  NaN          2021-03-10   \n",
       "4         2016-05   2016-10-26                  NaN          2016-10-26   \n",
       "\n",
       "                                           Locations  \\\n",
       "0           Sangath, New Delhi, Delhi, 110016, India   \n",
       "1  McMaster University, Hamilton, Ontario, L8S 4K...   \n",
       "2  Palestinian Ministry of Health Maternal Child ...   \n",
       "3                                                NaN   \n",
       "4  University of Oregon, Social and Affective Neu...   \n",
       "\n",
       "                                     Study Documents  \n",
       "0  Statistical Analysis Plan, https://storage.goo...  \n",
       "1                                                NaN  \n",
       "2                                                NaN  \n",
       "3                                                NaN  \n",
       "4                                                NaN  \n",
       "\n",
       "[5 rows x 30 columns]"
      ]
     },
     "execution_count": 2,
     "metadata": {},
     "output_type": "execute_result"
    }
   ],
   "source": [
    "# Reading the clinical trials dataset\n",
    "df = pd.read_csv('ctg.csv')\n",
    "\n",
    "# First 5 rows of dataset\n",
    "df.head()"
   ]
  },
  {
   "cell_type": "markdown",
   "id": "df053915-b885-4e83-9c96-e30ad14c25b0",
   "metadata": {},
   "source": [
    "Let's look at the number of rows and columns in the dataset."
   ]
  },
  {
   "cell_type": "code",
   "execution_count": 3,
   "id": "bd74ec71-a52f-42aa-8f82-8be44c25bc11",
   "metadata": {
    "tags": []
   },
   "outputs": [
    {
     "data": {
      "text/plain": [
       "'There are 483238 rows and 30 columns.'"
      ]
     },
     "execution_count": 3,
     "metadata": {},
     "output_type": "execute_result"
    }
   ],
   "source": [
    "# We can find the shape of the dataset with .shape\n",
    "f'There are {df.shape[0]} rows and {df.shape[1]} columns.'"
   ]
  },
  {
   "cell_type": "markdown",
   "id": "c7d5e181-6c7c-4ef5-abec-4d64abc82f5b",
   "metadata": {},
   "source": [
    "**Check for Duplicated rows**"
   ]
  },
  {
   "cell_type": "code",
   "execution_count": 4,
   "id": "40da9fca-3dd7-482d-b2a1-8db84e07aff5",
   "metadata": {
    "tags": []
   },
   "outputs": [
    {
     "data": {
      "text/plain": [
       "'There are 0 duplicated rows.'"
      ]
     },
     "execution_count": 4,
     "metadata": {},
     "output_type": "execute_result"
    }
   ],
   "source": [
    "# We can use .duplicated() to find any row that has been duplicated and then .sum() to sum up all the duplicated values\n",
    "f'There are {df.duplicated().sum()} duplicated rows.'"
   ]
  },
  {
   "cell_type": "code",
   "execution_count": 5,
   "id": "78c6c613",
   "metadata": {
    "tags": []
   },
   "outputs": [
    {
     "name": "stdout",
     "output_type": "stream",
     "text": [
      "<class 'pandas.core.frame.DataFrame'>\n",
      "RangeIndex: 483238 entries, 0 to 483237\n",
      "Data columns (total 30 columns):\n",
      " #   Column                      Non-Null Count   Dtype  \n",
      "---  ------                      --------------   -----  \n",
      " 0   NCT Number                  483238 non-null  object \n",
      " 1   Study Title                 483238 non-null  object \n",
      " 2   Study URL                   483238 non-null  object \n",
      " 3   Acronym                     133174 non-null  object \n",
      " 4   Study Status                483238 non-null  object \n",
      " 5   Brief Summary               482350 non-null  object \n",
      " 6   Study Results               483238 non-null  object \n",
      " 7   Conditions                  482317 non-null  object \n",
      " 8   Interventions               435308 non-null  object \n",
      " 9   Primary Outcome Measures    465764 non-null  object \n",
      " 10  Secondary Outcome Measures  350835 non-null  object \n",
      " 11  Other Outcome Measures      38422 non-null   object \n",
      " 12  Sponsor                     483238 non-null  object \n",
      " 13  Collaborators               157862 non-null  object \n",
      " 14  Sex                         481883 non-null  object \n",
      " 15  Age                         482350 non-null  object \n",
      " 16  Phases                      193858 non-null  object \n",
      " 17  Enrollment                  476320 non-null  float64\n",
      " 18  Funder Type                 482350 non-null  object \n",
      " 19  Study Type                  482350 non-null  object \n",
      " 20  Study Design                481422 non-null  object \n",
      " 21  Other IDs                   483181 non-null  object \n",
      " 22  Start Date                  478095 non-null  object \n",
      " 23  Primary Completion Date     461396 non-null  object \n",
      " 24  Completion Date             466378 non-null  object \n",
      " 25  First Posted                483238 non-null  object \n",
      " 26  Results First Posted        62352 non-null   object \n",
      " 27  Last Update Posted          483238 non-null  object \n",
      " 28  Locations                   432192 non-null  object \n",
      " 29  Study Documents             32769 non-null   object \n",
      "dtypes: float64(1), object(29)\n",
      "memory usage: 110.6+ MB\n"
     ]
    }
   ],
   "source": [
    "# Reading the dataset information\n",
    "df.info()"
   ]
  },
  {
   "cell_type": "markdown",
   "id": "2840464b-1f0a-4402-86f0-6bc1e606c0ea",
   "metadata": {},
   "source": [
    "**Important Notes to Consider:**\n",
    "\n",
    "- There are 483,238 total rows, but there are large amounts of **missing data** in most of the columns. \n",
    "- Most of the columns are objects. (We could change some of these to numerical columns or dates)\n",
    "- We have 0 duplicated rows, so we don't have to worry about this."
   ]
  },
  {
   "cell_type": "markdown",
   "id": "34c766c4-c989-4d61-91c3-56e70ae15572",
   "metadata": {},
   "source": [
    "<a id = 'miss'><a/>\n",
    "### 1.2 Cleaning Missing Data\n",
    "Let's explore each column ordered by most missing values."
   ]
  },
  {
   "cell_type": "code",
   "execution_count": 6,
   "id": "680469ac-2bfd-4b87-a515-ddebe8344599",
   "metadata": {
    "tags": []
   },
   "outputs": [
    {
     "data": {
      "text/plain": [
       "Study Documents               450469\n",
       "Other Outcome Measures        444816\n",
       "Results First Posted          420886\n",
       "Acronym                       350064\n",
       "Collaborators                 325376\n",
       "Phases                        289380\n",
       "Secondary Outcome Measures    132403\n",
       "Locations                      51046\n",
       "Interventions                  47930\n",
       "Primary Completion Date        21842\n",
       "Primary Outcome Measures       17474\n",
       "Completion Date                16860\n",
       "Enrollment                      6918\n",
       "Start Date                      5143\n",
       "Study Design                    1816\n",
       "Sex                             1355\n",
       "Conditions                       921\n",
       "Study Type                       888\n",
       "Age                              888\n",
       "Funder Type                      888\n",
       "Brief Summary                    888\n",
       "Other IDs                         57\n",
       "Study Title                        0\n",
       "Sponsor                            0\n",
       "Study Results                      0\n",
       "First Posted                       0\n",
       "Study Status                       0\n",
       "Last Update Posted                 0\n",
       "Study URL                          0\n",
       "NCT Number                         0\n",
       "dtype: int64"
      ]
     },
     "execution_count": 6,
     "metadata": {},
     "output_type": "execute_result"
    }
   ],
   "source": [
    "# You can use .isna() to find the number of missing value in each column.\n",
    "df.isna().sum().sort_values(ascending = False)"
   ]
  },
  {
   "cell_type": "code",
   "execution_count": 7,
   "id": "1cac3565-726e-4ff0-9535-6beed79fc4c0",
   "metadata": {
    "tags": []
   },
   "outputs": [
    {
     "data": {
      "text/plain": [
       "Study Documents               93.218869\n",
       "Other Outcome Measures        92.049052\n",
       "Results First Posted          87.097041\n",
       "Acronym                       72.441323\n",
       "Collaborators                 67.332453\n",
       "Phases                        59.883536\n",
       "Secondary Outcome Measures    27.399128\n",
       "Locations                     10.563325\n",
       "Interventions                  9.918508\n",
       "Primary Completion Date        4.519926\n",
       "Primary Outcome Measures       3.616024\n",
       "Completion Date                3.488964\n",
       "Enrollment                     1.431593\n",
       "Start Date                     1.064279\n",
       "Study Design                   0.375798\n",
       "Sex                            0.280400\n",
       "Conditions                     0.190589\n",
       "Study Type                     0.183760\n",
       "Age                            0.183760\n",
       "Funder Type                    0.183760\n",
       "Brief Summary                  0.183760\n",
       "Other IDs                      0.011795\n",
       "Study Title                    0.000000\n",
       "Sponsor                        0.000000\n",
       "Study Results                  0.000000\n",
       "First Posted                   0.000000\n",
       "Study Status                   0.000000\n",
       "Last Update Posted             0.000000\n",
       "Study URL                      0.000000\n",
       "NCT Number                     0.000000\n",
       "dtype: float64"
      ]
     },
     "execution_count": 7,
     "metadata": {},
     "output_type": "execute_result"
    }
   ],
   "source": [
    "# Sorting the missing data by percentages.\n",
    "((df.isna().sum() / df.shape[0])*100).sort_values(ascending = False)"
   ]
  },
  {
   "cell_type": "markdown",
   "id": "bfa0fc30-002a-4508-b165-141ead169b8c",
   "metadata": {},
   "source": [
    "Wow that's a lot of missing values. Let's start with the `Study Documents` column."
   ]
  },
  {
   "cell_type": "code",
   "execution_count": 8,
   "id": "04cda1b0-abb8-4011-916e-44861bf87995",
   "metadata": {
    "tags": []
   },
   "outputs": [
    {
     "data": {
      "text/plain": [
       "Study Documents\n",
       "Statistical Analysis Plan, https://storage.googleapis.com/ctgov2-large-docs/71/NCT03630471/SAP_000.pdf                                                                                                                                                                                                                                                                                                      1\n",
       "Study Protocol and Statistical Analysis Plan, https://storage.googleapis.com/ctgov2-large-docs/95/NCT03347695/Prot_SAP_000.pdf|Informed Consent Form: Informed Consent Form for phase1, https://storage.googleapis.com/ctgov2-large-docs/95/NCT03347695/ICF_001.pdf|Informed Consent Form: Informed Consent Form for phase2, https://storage.googleapis.com/ctgov2-large-docs/95/NCT03347695/ICF_002.pdf    1\n",
       "Study Protocol, https://storage.googleapis.com/ctgov2-large-docs/83/NCT03850483/Prot_000.pdf|Statistical Analysis Plan, https://storage.googleapis.com/ctgov2-large-docs/83/NCT03850483/SAP_001.pdf                                                                                                                                                                                                         1\n",
       "Study Protocol and Statistical Analysis Plan, https://storage.googleapis.com/ctgov2-large-docs/83/NCT02023983/Prot_SAP_001.pdf|Informed Consent Form, https://storage.googleapis.com/ctgov2-large-docs/83/NCT02023983/ICF_002.pdf                                                                                                                                                                           1\n",
       "Study Protocol and Informed Consent Form, https://storage.googleapis.com/ctgov2-large-docs/83/NCT05983783/Prot_ICF_000.pdf                                                                                                                                                                                                                                                                                  1\n",
       "                                                                                                                                                                                                                                                                                                                                                                                                           ..\n",
       "Study Protocol and Statistical Analysis Plan, https://storage.googleapis.com/ctgov2-large-docs/61/NCT03030261/Prot_SAP_000.pdf                                                                                                                                                                                                                                                                              1\n",
       "Study Protocol and Statistical Analysis Plan, https://storage.googleapis.com/ctgov2-large-docs/61/NCT03755661/Prot_SAP_000.pdf                                                                                                                                                                                                                                                                              1\n",
       "Study Protocol: Amendment 2, https://storage.googleapis.com/ctgov2-large-docs/61/NCT03318861/Prot_000.pdf|Study Protocol: Amendment 3, https://storage.googleapis.com/ctgov2-large-docs/61/NCT03318861/Prot_002.pdf|Statistical Analysis Plan, https://storage.googleapis.com/ctgov2-large-docs/61/NCT03318861/SAP_001.pdf                                                                                  1\n",
       "Study Protocol, https://storage.googleapis.com/ctgov2-large-docs/61/NCT03080961/Prot_000.pdf|Statistical Analysis Plan, https://storage.googleapis.com/ctgov2-large-docs/61/NCT03080961/SAP_001.pdf                                                                                                                                                                                                         1\n",
       "Study Protocol, https://storage.googleapis.com/ctgov2-large-docs/95/NCT03332095/Prot_001.pdf|Statistical Analysis Plan, https://storage.googleapis.com/ctgov2-large-docs/95/NCT03332095/SAP_002.pdf|Informed Consent Form, https://storage.googleapis.com/ctgov2-large-docs/95/NCT03332095/ICF_000.pdf                                                                                                      1\n",
       "Name: count, Length: 32769, dtype: int64"
      ]
     },
     "execution_count": 8,
     "metadata": {},
     "output_type": "execute_result"
    }
   ],
   "source": [
    "# Finding out what the values are in the column:\n",
    "df['Study Documents'].value_counts()"
   ]
  },
  {
   "cell_type": "markdown",
   "id": "31be8c1d-a9a1-43e4-a582-61866ad7ab62",
   "metadata": {},
   "source": [
    "The `Study Documents` column consists of the clinical design report of each study. However, the column has **450,469** missing values out of 483,238 rows which is about 93% of the dataset N/A, and this column's information would not be significant for our predictive model unless we will be looking into each PDF file, which is not the scope of this project.\n",
    "\n",
    "Therefore, it is safe to drop this column for our dataset."
   ]
  },
  {
   "cell_type": "code",
   "execution_count": 9,
   "id": "712e2cf8-6c87-4413-905f-2a542ace0cc6",
   "metadata": {
    "tags": []
   },
   "outputs": [],
   "source": [
    "# Dropping the `Study Documents` column\n",
    "df.drop(columns = 'Study Documents', inplace = True)"
   ]
  },
  {
   "cell_type": "code",
   "execution_count": 10,
   "id": "05e33be3-de8a-45a5-beb8-b3b12f9c7caa",
   "metadata": {
    "tags": []
   },
   "outputs": [
    {
     "data": {
      "text/plain": [
       "Other Outcome Measures        92.049052\n",
       "Results First Posted          87.097041\n",
       "Acronym                       72.441323\n",
       "Collaborators                 67.332453\n",
       "Phases                        59.883536\n",
       "Secondary Outcome Measures    27.399128\n",
       "Locations                     10.563325\n",
       "Interventions                  9.918508\n",
       "Primary Completion Date        4.519926\n",
       "Primary Outcome Measures       3.616024\n",
       "Completion Date                3.488964\n",
       "Enrollment                     1.431593\n",
       "Start Date                     1.064279\n",
       "Study Design                   0.375798\n",
       "Sex                            0.280400\n",
       "Conditions                     0.190589\n",
       "Age                            0.183760\n",
       "Funder Type                    0.183760\n",
       "Study Type                     0.183760\n",
       "Brief Summary                  0.183760\n",
       "Other IDs                      0.011795\n",
       "Study Title                    0.000000\n",
       "Sponsor                        0.000000\n",
       "Study Results                  0.000000\n",
       "Study Status                   0.000000\n",
       "First Posted                   0.000000\n",
       "Study URL                      0.000000\n",
       "Last Update Posted             0.000000\n",
       "NCT Number                     0.000000\n",
       "dtype: float64"
      ]
     },
     "execution_count": 10,
     "metadata": {},
     "output_type": "execute_result"
    }
   ],
   "source": [
    "# Sanity check to confirm dropped column\n",
    "((df.isna().sum() / df.shape[0])*100).sort_values(ascending = False)"
   ]
  },
  {
   "cell_type": "markdown",
   "id": "623dd090-4ebe-4cdd-8593-bbe7acfbcf8d",
   "metadata": {},
   "source": [
    "Next, we will look in the `Other Outcome Measures` column which has 92% missing values."
   ]
  },
  {
   "cell_type": "code",
   "execution_count": 11,
   "id": "16e40f0e-f354-43a3-a5dd-6c3ae18cabef",
   "metadata": {
    "tags": []
   },
   "outputs": [
    {
     "data": {
      "text/plain": [
       "Other Outcome Measures\n",
       "The dose of CSC vaccine, up to 3 months                                                                                                                                                                                                                                                                                                                                                                                                                                                                                                                                                                                                                                                                                                                                                                                                                                                                                                                                                                                                                                                                                                                                                                                                                                                                                                                                                                                                                                                                                                                                                                                                                                                                                                                                                                                                                                                                                                                                                                                                                                                                                                                                                                                                                                                                                                                                                                                                                                                                                                                                                                                                                                                                                                                                                                                                                                                                                                                                                                                                                                                                                                                                                                                                                                                                                                                                                                                                                                                                                                                                                                                                                                                                                                                                                                                                                                                                                                                                                                                                                                                                                                                                                                                                                                                                                                                                                                                                                                                                                                                                                                                                                                                                                                                                                                                                                                                                                                                                                                                                                                                                                                                                                                                                                                                                                                                                                                                                                                                                                                                                                                                                                                                                                                                                                                                                                                                                                                                                                                                                                                                                                                                                                                                                                                                                                                                                                                                                                                                                                                                                                                                                                                                                                                                                                                                                                                                                                                                                                                                                                                                                                                                                                                                                                                                                                                                                                                                                                                                                                                                                                                                                                                                7\n",
       "Genetic polymorphisms, Effects of genetic polymorphisms on the response to MDMA, assessed after study completion                                                                                                                                                                                                                                                                                                                                                                                                                                                                                                                                                                                                                                                                                                                                                                                                                                                                                                                                                                                                                                                                                                                                                                                                                                                                                                                                                                                                                                                                                                                                                                                                                                                                                                                                                                                                                                                                                                                                                                                                                                                                                                                                                                                                                                                                                                                                                                                                                                                                                                                                                                                                                                                                                                                                                                                                                                                                                                                                                                                                                                                                                                                                                                                                                                                                                                                                                                                                                                                                                                                                                                                                                                                                                                                                                                                                                                                                                                                                                                                                                                                                                                                                                                                                                                                                                                                                                                                                                                                                                                                                                                                                                                                                                                                                                                                                                                                                                                                                                                                                                                                                                                                                                                                                                                                                                                                                                                                                                                                                                                                                                                                                                                                                                                                                                                                                                                                                                                                                                                                                                                                                                                                                                                                                                                                                                                                                                                                                                                                                                                                                                                                                                                                                                                                                                                                                                                                                                                                                                                                                                                                                                                                                                                                                                                                                                                                                                                                                                                                                                                                                                                       5\n",
       "The correlation between CD70 positive rate and safety, assessment the correlation between CD70 positive rate and the incidence of CRA and ICANS, 2 years|Correlation between CD70 positive rate and efficacy, assessment the correlation between CD70 positive rate and the disease control rate，Disease control rate: including CR, PR and SD, 2 years|Overall survival(OS)of CD70 CAR-T treatment in patients with CD70-positive advanced malignancies[Effectiveness], OS will be assessed from the first CD70-CAR-T cell infusion to death from any cause (Assessed by investigators based on IRECIST criteria), 2 years|Progress-free survival(PFS) of CD70 CAR-T treatment in patients with CD70-positive advanced malignancies[Effectiveness], PFS will be assessed from the first CD70-CAR-T cell infusion to death from any cause or the first assessment of progression (Assessed by investigators based on IRECIST criteria), 2 years|Duration of Response (DOR) of CD70 CAR-T treatment in patients with CD70-positive advanced malignancies[Effectiveness], DOR will be assessed from the first assessment of CR/PR/SD to the first assessment of recurrence or progression of the disease or death from any cause (Assessed by investigators based on IRECIST criteria), 2 years                                                                                                                                                                                                                                                                                                                                                                                                                                                                                                                                                                                                                                                                                                                                                                                                                                                                                                                                                                                                                                                                                                                                                                                                                                                                                                                                                                                                                                                                                                                                                                                                                                                                                                                                                                                                                                                                                                                                                                                                                                                                                                                                                                                                                                                                                                                                                                                                                                                                                                                                                                                                                                                                                                                                                                                                                                                                                                                                                                                                                                                                                                                                                                                                                                                                                                                                                                                                                                                                                                                                                                                                                                                                                                                                                                                                                                                                                                                                                                                                                                                                                                                                                                                                                                                                                                                                                                                                                                                                                                                                                                                                                                                                                                                                                                                                                                                                                                                                                                                                                                                                                                                                                                                                                                                                                                                                                                                                                                                                                                                                                                                                                                                                                                                                                                                                                                                                                                                                                                                                                                                                                                                                                                                                                                                                                                                                                                                          5\n",
       "Number and severity of adverse events (AE), Week 1 to 52                                                                                                                                                                                                                                                                                                                                                                                                                                                                                                                                                                                                                                                                                                                                                                                                                                                                                                                                                                                                                                                                                                                                                                                                                                                                                                                                                                                                                                                                                                                                                                                                                                                                                                                                                                                                                                                                                                                                                                                                                                                                                                                                                                                                                                                                                                                                                                                                                                                                                                                                                                                                                                                                                                                                                                                                                                                                                                                                                                                                                                                                                                                                                                                                                                                                                                                                                                                                                                                                                                                                                                                                                                                                                                                                                                                                                                                                                                                                                                                                                                                                                                                                                                                                                                                                                                                                                                                                                                                                                                                                                                                                                                                                                                                                                                                                                                                                                                                                                                                                                                                                                                                                                                                                                                                                                                                                                                                                                                                                                                                                                                                                                                                                                                                                                                                                                                                                                                                                                                                                                                                                                                                                                                                                                                                                                                                                                                                                                                                                                                                                                                                                                                                                                                                                                                                                                                                                                                                                                                                                                                                                                                                                                                                                                                                                                                                                                                                                                                                                                                                                                                                                                               4\n",
       "Percentage of Participants With Treatment-emergent Proteinuria by Urinalysis (Dipstick) Through Week 48, Grades 1 (mild), 2 (moderate), and 3 (severe) were the highest treatment-emergent postbaseline grades for urine protein using the dipstick method., Up to 48 weeks                                                                                                                                                                                                                                                                                                                                                                                                                                                                                                                                                                                                                                                                                                                                                                                                                                                                                                                                                                                                                                                                                                                                                                                                                                                                                                                                                                                                                                                                                                                                                                                                                                                                                                                                                                                                                                                                                                                                                                                                                                                                                                                                                                                                                                                                                                                                                                                                                                                                                                                                                                                                                                                                                                                                                                                                                                                                                                                                                                                                                                                                                                                                                                                                                                                                                                                                                                                                                                                                                                                                                                                                                                                                                                                                                                                                                                                                                                                                                                                                                                                                                                                                                                                                                                                                                                                                                                                                                                                                                                                                                                                                                                                                                                                                                                                                                                                                                                                                                                                                                                                                                                                                                                                                                                                                                                                                                                                                                                                                                                                                                                                                                                                                                                                                                                                                                                                                                                                                                                                                                                                                                                                                                                                                                                                                                                                                                                                                                                                                                                                                                                                                                                                                                                                                                                                                                                                                                                                                                                                                                                                                                                                                                                                                                                                                                                                                                                                                            4\n",
       "                                                                                                                                                                                                                                                                                                                                                                                                                                                                                                                                                                                                                                                                                                                                                                                                                                                                                                                                                                                                                                                                                                                                                                                                                                                                                                                                                                                                                                                                                                                                                                                                                                                                                                                                                                                                                                                                                                                                                                                                                                                                                                                                                                                                                                                                                                                                                                                                                                                                                                                                                                                                                                                                                                                                                                                                                                                                                                                                                                                                                                                                                                                                                                                                                                                                                                                                                                                                                                                                                                                                                                                                                                                                                                                                                                                                                                                                                                                                                                                                                                                                                                                                                                                                                                                                                                                                                                                                                                                                                                                                                                                                                                                                                                                                                                                                                                                                                                                                                                                                                                                                                                                                                                                                                                                                                                                                                                                                                                                                                                                                                                                                                                                                                                                                                                                                                                                                                                                                                                                                                                                                                                                                                                                                                                                                                                                                                                                                                                                                                                                                                                                                                                                                                                                                                                                                                                                                                                                                                                                                                                                                                                                                                                                                                                                                                                                                                                                                                                                                                                                                                                                                                                                                                      ..\n",
       "Number of emergency departments participated at the end of recruitment, Number of emergency departments that agree to join this project, at 10 months|Knowledge of the risk of smoking in trained healthcare professionals before the training workshops, The trained healthcare professionals will be asked about their knowledge of the risk of smoking prior to the training workshops, baseline|Knowledge of the risk of smoking in trained healthcare professionals at the end of the training workshops, The trained healthcare professionals will be asked about their knowledge of the risk of smoking at the end of the training workshops, up to 1 week|Knowledge of the risk of smoking in trained healthcare professionals at the 3-month follow-up, The trained healthcare professionals will be asked about their knowledge of the risk of smoking at the 3-month follow-up, at the 3-month follow-up|Knowledge of the risk of smoking in trained healthcare professionals at the 6-month follow-up, The trained healthcare professionals will be asked about their knowledge of the risk of smoking at the 6-month follow-up, at the 6-month follow-up|Attitudes towards smoking, tobacco control and smoking cessation in trained healthcare professionals before the training workshops, The trained healthcare professionals will be asked about their attitudes towards smoking, tobacco control and smoking cessation prior to the training workshops, Baseline|Attitudes towards smoking, tobacco control and smoking cessation in trained healthcare professionals at the end of the training workshops, The trained healthcare professionals will be asked about their attitudes towards smoking, tobacco control and smoking cessation at the end of the training workshops, up to 1 week|Attitudes towards smoking, tobacco control and smoking cessation in trained healthcare professionals at the 3-month follow-up, The trained healthcare professionals will be asked about their attitudes towards smoking, tobacco control and smoking cessation at the 3-month follow-up, at the 3-month follow-up|Attitudes towards smoking, tobacco control and smoking cessation in trained healthcare professionals at the 6-month follow-up, The trained healthcare professionals will be asked about their attitudes towards smoking, tobacco control and smoking cessation at the 6-month follow-up, at the 6-month follow-up|Practices of delivering smoking cessation advice in trained healthcare professionals before the training workshops, The trained healthcare professionals will be asked about their practices of delivering smoking cessation advice prior to the training workshops, baseline|Practices of delivering smoking cessation advice in trained healthcare professionals at the end of the training workshops, The trained healthcare professionals will be asked about their practices of delivering smoking cessation advice at the end of the training workshops, up to 1 week|Practices of delivering smoking cessation advice in trained healthcare professionals at the 3-month follow-up, The trained healthcare professionals will be asked about their practices of delivering smoking cessation advice at the 3-month follow-up, at the 3-month follow-up|Practices of delivering smoking cessation advice in trained healthcare professionals at the 6-month follow-up, The trained healthcare professionals will be asked about their practices of delivering smoking cessation advice at the 6-month follow-up, at the 6-month follow-up|Level of self-efficacy in trained healthcare professionals before the training workshops, The trained healthcare professionals will be asked about their levels of self-efficacy to deliver smoking cessation advice prior to the training workshops, baseline|Level of self-efficacy in trained healthcare professionals at the end of the training workshops, The trained healthcare professionals will be asked about their levels of self-efficacy to deliver smoking cessation advice at the end of the training workshops, up to 1 week|Level of self-efficacy in trained healthcare professionals at the 3-month follow-up, The trained healthcare professionals will be asked about their levels of self-efficacy to deliver smoking cessation advice at the 3-month follow-up, at the 3-month follow-up|Level of self-efficacy in trained healthcare professionals at the 6-month follow-up, The trained healthcare professionals will be asked about their levels of self-efficacy to deliver smoking cessation advice at the 6-month follow-up, at the 6-month follow-up|Intention to deliver smoking cessation advice in trained healthcare professionals before the training workshops, The trained healthcare professionals will be asked about their intentions to deliver smoking cessation advice prior to the training workshops, baseline|Intention to deliver smoking cessation advice in trained healthcare professionals at the end of the training workshops, The trained healthcare professionals will be asked about their intentions to deliver smoking cessation advice at the end of the training workshops, up to 1 week|Intention to deliver smoking cessation advice in trained healthcare professionals aat the 3-month follow-up, The trained healthcare professionals will be asked about their intentions to deliver smoking cessation advice at the 3-month follow-up, at the 3-month follow-up|Intention to deliver smoking cessation advice in trained healthcare professionals aat the 6-month follow-up, The trained healthcare professionals will be asked about their intentions to deliver smoking cessation advice at the 6-month follow-up, at the 6-month follow-up|Planning to deliver smoking cessation advice in trained healthcare professionals before the training workshops, The trained healthcare professionals will be asked about their planning to deliver smoking cessation advice prior to the training workshops, baseline|Planning to deliver smoking cessation advice in trained healthcare professionals at the end of the training workshops, The trained healthcare professionals will be asked about their planning to deliver smoking cessation advice at the end of the training workshops, up to 1 week|Planning to deliver smoking cessation advice in trained healthcare professionals at the 3-month follow-up, The trained healthcare professionals will be asked about their planning to deliver smoking cessation advice at the 3-month follow-up, at the 3-month follow-up|Planning to deliver smoking cessation advice in trained healthcare professionals at the 6-month follow-up, The trained healthcare professionals will be asked about their planning to deliver smoking cessation advice at the 6-month follow-up, at the 6-month follow-up|Number of smokers that have been approached by healthcare professionals at the end of the project, The numbers of smokers that have been approached by the trained healthcare professionals at the end of the project will be recorded., at 22 months|Number of smokers that have been given brief advice on smoking cessation at the end of the project, The numbers of smokers that have been given brief advice on smoking cessation at the end of the project will be recorded., at 22 months|Number of smokers that have been referred to smoking cessation services at the end of the project, The numbers of smokers that have been referred to smoking cessation services at the end of the project will be recorded., at 22 months    1\n",
       "Exploratory Biomarker Analysis, Analysis of potential associations between biomarker measures and anti-tumor activity, immunogenicity, and immune-activation assessments., 4.5 months                                                                                                                                                                                                                                                                                                                                                                                                                                                                                                                                                                                                                                                                                                                                                                                                                                                                                                                                                                                                                                                                                                                                                                                                                                                                                                                                                                                                                                                                                                                                                                                                                                                                                                                                                                                                                                                                                                                                                                                                                                                                                                                                                                                                                                                                                                                                                                                                                                                                                                                                                                                                                                                                                                                                                                                                                                                                                                                                                                                                                                                                                                                                                                                                                                                                                                                                                                                                                                                                                                                                                                                                                                                                                                                                                                                                                                                                                                                                                                                                                                                                                                                                                                                                                                                                                                                                                                                                                                                                                                                                                                                                                                                                                                                                                                                                                                                                                                                                                                                                                                                                                                                                                                                                                                                                                                                                                                                                                                                                                                                                                                                                                                                                                                                                                                                                                                                                                                                                                                                                                                                                                                                                                                                                                                                                                                                                                                                                                                                                                                                                                                                                                                                                                                                                                                                                                                                                                                                                                                                                                                                                                                                                                                                                                                                                                                                                                                                                                                                                                                  1\n",
       "MFS by Decipher genomic score, Will determine the ability of the Decipher test to predict for metastasis in a purely node-positive population. Subgroup analyses of MFS by Decipher genomic score (high risk or low/intermediate risk) will be performed and tests for treatment-by-risk group interaction conducted via Cox regression to explore whether any benefits of apalutamide is limited to the high (or low/intermediate) risk stratum., Up to 7.5 years|OS by Decipher genomic score, Will determine the ability of the Decipher test to predict for metastasis in a purely node-positive population. Subgroup analyses of OS by Decipher genomic score (high risk or low/intermediate risk) will be performed and tests for treatment-by-risk group interaction conducted via Cox regression to explore whether any benefits of apalutamide is limited to the high (or low/intermediate) risk stratum., Up to 7.5 years|PAM50-based classification of prostate cancer, Will validate the PAM50-based classification of prostate cancer into luminal A, luminal B, and basal subtypes as prognostic markers. Classifications of prostate cancer into Luminal A, Luminal B, and basal subtypes using the PAM50 method of classification. Subgroup analyses will be performed and tests for treatment-by-risk group interaction conducted via Cox regression to explore whether any benefits of apalutamide is limited to the high (or low/intermediate) risk stratum., Up to 7.5 years                                                                                                                                                                                                                                                                                                                                                                                                                                                                                                                                                                                                                                                                                                                                                                                                                                                                                                                                                                                                                                                                                                                                                                                                                                                                                                                                                                                                                                                                                                                                                                                                                                                                                                                                                                                                                                                                                                                                                                                                                                                                                                                                                                                                                                                                                                                                                                                                                                                                                                                                                                                                                                                                                                                                                                                                                                                                                                                                                                                                                                                                                                                                                                                                                                                                                                                                                                                                                                                                                                                                                                                                                                                                                                                                                                                                                                                                                                                                                                                                                                                                                                                                                                                                                                                                                                                                                                                                                                                                                                                                                                                                                                                                                                                                                                                                                                                                                                                                                                                                                                                                                                                                                                                                                                                                                                                                                                                                                                                                                                                                                                                                                                                                                                                                                                                                                                                                                                                                                                                                                                                                                                                                                                                       1\n",
       "Overall accuracy of multiparametric mapping of choline metabolism with various MR parameters in staging of patients with high risk prostate cancer as compared to conventional imaging strategies., 2 years|Relationship of choline kinase activity in the primary tumor (as expressed by FCH uptake) to presence of hypoxia and expression of GLUT-1 transporter proteins in pathology specimens., 2 years                                                                                                                                                                                                                                                                                                                                                                                                                                                                                                                                                                                                                                                                                                                                                                                                                                                                                                                                                                                                                                                                                                                                                                                                                                                                                                                                                                                                                                                                                                                                                                                                                                                                                                                                                                                                                                                                                                                                                                                                                                                                                                                                                                                                                                                                                                                                                                                                                                                                                                                                                                                                                                                                                                                                                                                                                                                                                                                                                                                                                                                                                                                                                                                                                                                                                                                                                                                                                                                                                                                                                                                                                                                                                                                                                                                                                                                                                                                                                                                                                                                                                                                                                                                                                                                                                                                                                                                                                                                                                                                                                                                                                                                                                                                                                                                                                                                                                                                                                                                                                                                                                                                                                                                                                                                                                                                                                                                                                                                                                                                                                                                                                                                                                                                                                                                                                                                                                                                                                                                                                                                                                                                                                                                                                                                                                                                                                                                                                                                                                                                                                                                                                                                                                                                                                                                                                                                                                                                                                                                                                                                                                                                                                                                                                                                                            1\n",
       "Center of Pressure Velocity Timing, Timing of peak center of pressure velocity (percent stance) during gait., Baseline|Center of Pressure Velocity Magnitude, Magnitude of peak center of pressure velocity (m/s) during gait., Baseline|Tibialis Anterior Muscle Activity, Electromyography (EMG, % Maximum) of the tibialis anterior during gait., Baseline|Peroneus Longus Muscle Activity, Electromyography (EMG, % Maximum) of the peroneus longus during gait., Baseline|Soleus Muscle Activity, Electromyography (EMG, % Maximum) of the soleus during gait., Baseline|Medial Gastrocnemius Muscle Activity, Electromyography (EMG, % Maximum) of the medial gastrocnemius during gait., Baseline|Semi-Structured Interview, Semi-structured interviews will also be used to fully capture the patients' perspectives, experience, and opinions associated with the device options they experienced as part of the study., Baseline                                                                                                                                                                                                                                                                                                                                                                                                                                                                                                                                                                                                                                                                                                                                                                                                                                                                                                                                                                                                                                                                                                                                                                                                                                                                                                                                                                                                                                                                                                                                                                                                                                                                                                                                                                                                                                                                                                                                                                                                                                                                                                                                                                                                                                                                                                                                                                                                                                                                                                                                                                                                                                                                                                                                                                                                                                                                                                                                                                                                                                                                                                                                                                                                                                                                                                                                                                                                                                                                                                                                                                                                                                                                                                                                                                                                                                                                                                                                                                                                                                                                                                                                                                                                                                                                                                                                                                                                                                                                                                                                                                                                                                                                                                                                                                                                                                                                                                                                                                                                                                                                                                                                                                                                                                                                                                                                                                                                                                                                                                                                                                                                                                                                                                                                                                                                                                                                                                                                                                                                                                                                                                                                                                                                                                                                                                                                                                                                                                                                                                                                                                                                                                                                                                                                             1\n",
       "Name: count, Length: 38197, dtype: int64"
      ]
     },
     "execution_count": 11,
     "metadata": {},
     "output_type": "execute_result"
    }
   ],
   "source": [
    "# Checking out the `Other Outcome Measures` column\n",
    "df['Other Outcome Measures'].value_counts()"
   ]
  },
  {
   "cell_type": "markdown",
   "id": "9bdbf860-f16e-4e7c-8e98-e8ee8cabb1d0",
   "metadata": {},
   "source": [
    "The `Other Outcome Measures` column consists of other measures used to evaluate the clinical study. Since we have most of the values missing (444,816) and we have more data evaluating measures in the `Primary Outcome Measures` and `Secondary Outcome Measures` columns, we can safely drop this column as it has too many missing values."
   ]
  },
  {
   "cell_type": "code",
   "execution_count": 12,
   "id": "880088ba-e9d6-4718-bbde-744548302c2c",
   "metadata": {
    "tags": []
   },
   "outputs": [],
   "source": [
    "# Dropping the `Study Documents` column\n",
    "df.drop(columns = 'Other Outcome Measures', inplace = True)"
   ]
  },
  {
   "cell_type": "code",
   "execution_count": 13,
   "id": "6ced60f5-213c-4bfd-add3-7064aa513dee",
   "metadata": {
    "tags": []
   },
   "outputs": [
    {
     "data": {
      "text/plain": [
       "Results First Posted          87.097041\n",
       "Acronym                       72.441323\n",
       "Collaborators                 67.332453\n",
       "Phases                        59.883536\n",
       "Secondary Outcome Measures    27.399128\n",
       "Locations                     10.563325\n",
       "Interventions                  9.918508\n",
       "Primary Completion Date        4.519926\n",
       "Primary Outcome Measures       3.616024\n",
       "Completion Date                3.488964\n",
       "Enrollment                     1.431593\n",
       "Start Date                     1.064279\n",
       "Study Design                   0.375798\n",
       "Sex                            0.280400\n",
       "Conditions                     0.190589\n",
       "Funder Type                    0.183760\n",
       "Study Type                     0.183760\n",
       "Age                            0.183760\n",
       "Brief Summary                  0.183760\n",
       "Other IDs                      0.011795\n",
       "Study Title                    0.000000\n",
       "Sponsor                        0.000000\n",
       "Study Results                  0.000000\n",
       "Study Status                   0.000000\n",
       "First Posted                   0.000000\n",
       "Study URL                      0.000000\n",
       "Last Update Posted             0.000000\n",
       "NCT Number                     0.000000\n",
       "dtype: float64"
      ]
     },
     "execution_count": 13,
     "metadata": {},
     "output_type": "execute_result"
    }
   ],
   "source": [
    "# Sanity check to confirm column drop\n",
    "((df.isna().sum() / df.shape[0])*100).sort_values(ascending = False)"
   ]
  },
  {
   "cell_type": "markdown",
   "id": "0738e1a8-701b-425d-b99a-0e41205c988a",
   "metadata": {},
   "source": [
    "Next, let's explore the `Results First Posted` column which has **87%** of the dataset missing."
   ]
  },
  {
   "cell_type": "code",
   "execution_count": 14,
   "id": "15696116-3ae4-43bb-9150-b3ecf1f7efec",
   "metadata": {
    "tags": []
   },
   "outputs": [
    {
     "data": {
      "text/plain": [
       "Results First Posted\n",
       "2017-04-17    65\n",
       "2014-05-16    56\n",
       "2017-04-14    54\n",
       "2017-09-27    52\n",
       "2017-04-18    51\n",
       "              ..\n",
       "2024-01-24     1\n",
       "2020-01-01     1\n",
       "2023-10-28     1\n",
       "2014-02-23     1\n",
       "2015-05-16     1\n",
       "Name: count, Length: 4937, dtype: int64"
      ]
     },
     "execution_count": 14,
     "metadata": {},
     "output_type": "execute_result"
    }
   ],
   "source": [
    "# Checking out the `Other Outcome Measures` column\n",
    "df['Results First Posted'].value_counts()"
   ]
  },
  {
   "cell_type": "markdown",
   "id": "c473b760-709b-4bd3-857c-636dfa583a1a",
   "metadata": {},
   "source": [
    "The `Results First Posted` column is comprised of dates where the clinical study first posts their results to the public. This information is not really related to our goal of predicting trial terminations, and since most of the data is missing, we can also drop this column."
   ]
  },
  {
   "cell_type": "code",
   "execution_count": 15,
   "id": "b5c181de-e904-4426-b101-9eeb90e4f5d8",
   "metadata": {
    "tags": []
   },
   "outputs": [],
   "source": [
    "# Dropping the `Results First Posted` column\n",
    "df.drop(columns = 'Results First Posted', inplace = True)"
   ]
  },
  {
   "cell_type": "code",
   "execution_count": 16,
   "id": "4ff8f35b-ac36-4922-84ed-114d515be08d",
   "metadata": {
    "tags": []
   },
   "outputs": [
    {
     "data": {
      "text/plain": [
       "Acronym                       72.441323\n",
       "Collaborators                 67.332453\n",
       "Phases                        59.883536\n",
       "Secondary Outcome Measures    27.399128\n",
       "Locations                     10.563325\n",
       "Interventions                  9.918508\n",
       "Primary Completion Date        4.519926\n",
       "Primary Outcome Measures       3.616024\n",
       "Completion Date                3.488964\n",
       "Enrollment                     1.431593\n",
       "Start Date                     1.064279\n",
       "Study Design                   0.375798\n",
       "Sex                            0.280400\n",
       "Conditions                     0.190589\n",
       "Age                            0.183760\n",
       "Funder Type                    0.183760\n",
       "Study Type                     0.183760\n",
       "Brief Summary                  0.183760\n",
       "Other IDs                      0.011795\n",
       "Study Title                    0.000000\n",
       "Sponsor                        0.000000\n",
       "Study Results                  0.000000\n",
       "Study Status                   0.000000\n",
       "Study URL                      0.000000\n",
       "First Posted                   0.000000\n",
       "Last Update Posted             0.000000\n",
       "NCT Number                     0.000000\n",
       "dtype: float64"
      ]
     },
     "execution_count": 16,
     "metadata": {},
     "output_type": "execute_result"
    }
   ],
   "source": [
    "# Sanity check to confirm column drop\n",
    "((df.isna().sum() / df.shape[0])*100).sort_values(ascending = False)"
   ]
  },
  {
   "cell_type": "markdown",
   "id": "0efc94a2-fbd7-4de6-99b4-9a9661c50db8",
   "metadata": {},
   "source": [
    "Next, let's examine the `Acronym` column which has **72.4%** of the data missing."
   ]
  },
  {
   "cell_type": "code",
   "execution_count": 17,
   "id": "01cb879b-2d49-4927-b5c5-21a9643d94df",
   "metadata": {
    "tags": []
   },
   "outputs": [
    {
     "data": {
      "text/plain": [
       "Acronym\n",
       "IMPACT       129\n",
       "COVID-19     122\n",
       "SMART        111\n",
       "RCT           88\n",
       "STAR          78\n",
       "            ... \n",
       "boron_gel      1\n",
       "CUMACA-M       1\n",
       "PR11           1\n",
       "NutriCim       1\n",
       "AFOCUFF        1\n",
       "Name: count, Length: 104724, dtype: int64"
      ]
     },
     "execution_count": 17,
     "metadata": {},
     "output_type": "execute_result"
    }
   ],
   "source": [
    "# Checking the values in `Acronym` column\n",
    "df['Acronym'].value_counts()"
   ]
  },
  {
   "cell_type": "markdown",
   "id": "78bc76b4-18f8-4906-9869-c069a3fc458f",
   "metadata": {},
   "source": [
    "According to the ClinicalTrials.gov website, the `Acronym` column is used as an abbreviation to publicly identify the study, **if any**. This indicates that a lot of clinical trials did not include an Acronym. We could also impute the string 'none', but understanding that there are more than 70% of the data missing, and we can use other information from other columns for this model, we can safely drop this column."
   ]
  },
  {
   "cell_type": "code",
   "execution_count": 18,
   "id": "71f1c8d6-1e0a-4cbf-a708-99ca3d4df6d1",
   "metadata": {
    "tags": []
   },
   "outputs": [],
   "source": [
    "# Dropping the `Acronym` column\n",
    "df.drop(columns = 'Acronym', inplace = True)"
   ]
  },
  {
   "cell_type": "code",
   "execution_count": 19,
   "id": "5d1ac45d-5aaa-421e-a538-10e2c8eadc12",
   "metadata": {
    "tags": []
   },
   "outputs": [
    {
     "data": {
      "text/plain": [
       "Collaborators                 67.332453\n",
       "Phases                        59.883536\n",
       "Secondary Outcome Measures    27.399128\n",
       "Locations                     10.563325\n",
       "Interventions                  9.918508\n",
       "Primary Completion Date        4.519926\n",
       "Primary Outcome Measures       3.616024\n",
       "Completion Date                3.488964\n",
       "Enrollment                     1.431593\n",
       "Start Date                     1.064279\n",
       "Study Design                   0.375798\n",
       "Sex                            0.280400\n",
       "Conditions                     0.190589\n",
       "Study Type                     0.183760\n",
       "Funder Type                    0.183760\n",
       "Age                            0.183760\n",
       "Brief Summary                  0.183760\n",
       "Other IDs                      0.011795\n",
       "Study Title                    0.000000\n",
       "Sponsor                        0.000000\n",
       "Study Results                  0.000000\n",
       "Study Status                   0.000000\n",
       "Study URL                      0.000000\n",
       "First Posted                   0.000000\n",
       "Last Update Posted             0.000000\n",
       "NCT Number                     0.000000\n",
       "dtype: float64"
      ]
     },
     "execution_count": 19,
     "metadata": {},
     "output_type": "execute_result"
    }
   ],
   "source": [
    "# Sanity check to confirm column drop\n",
    "((df.isna().sum() / df.shape[0])*100).sort_values(ascending = False)"
   ]
  },
  {
   "cell_type": "markdown",
   "id": "3ad99e60-2c4c-4c66-86dd-3cea5a014dbc",
   "metadata": {},
   "source": [
    "Great! Now we can check out the missing values from the `Collaborators` column which has **67%** of the data missing."
   ]
  },
  {
   "cell_type": "code",
   "execution_count": 20,
   "id": "352c2463-e0a5-4b07-904c-2559e636f5ad",
   "metadata": {
    "tags": []
   },
   "outputs": [
    {
     "data": {
      "text/plain": [
       "Collaborators\n",
       "National Cancer Institute (NCI)                                                                                                                                                                                         7920\n",
       "National Heart, Lung, and Blood Institute (NHLBI)                                                                                                                                                                       1689\n",
       "National Institute of Mental Health (NIMH)                                                                                                                                                                              1590\n",
       "National Institute on Drug Abuse (NIDA)                                                                                                                                                                                 1394\n",
       "Merck Sharp & Dohme LLC                                                                                                                                                                                                 1333\n",
       "                                                                                                                                                                                                                        ... \n",
       "Moscow State University of Medicine and Dentistry|National Medical Research Center for Cardiology, Ministry of Health of Russian Federation|Branch of Shemyakin-Ovchinnikov Institute of Bioorganic chemistry of RAS       1\n",
       "National Heart, Lung, and Blood Institute (NHLBI)|Office of Research on Women's Health (ORWH)                                                                                                                              1\n",
       "National Institute on Aging (NIA)|Eunice Kennedy Shriver National Institute of Child Health and Human Development (NICHD)|National Center for Complementary and Integrative Health (NCCIH)                                 1\n",
       "Parker Institute for Cancer Immunotherapy                                                                                                                                                                                  1\n",
       "The Citadel, The Military College of North Carolina                                                                                                                                                                        1\n",
       "Name: count, Length: 67493, dtype: int64"
      ]
     },
     "execution_count": 20,
     "metadata": {},
     "output_type": "execute_result"
    }
   ],
   "source": [
    "# Checking the values in `Collaborators` column\n",
    "df['Collaborators'].value_counts()"
   ]
  },
  {
   "cell_type": "markdown",
   "id": "72880327-294b-456c-91bb-cbf618662157",
   "metadata": {},
   "source": [
    "Based on the clinicaltrials.gov website, the `Collaborators` column only lists out studies where there are extra supporters for the clinical trial. We can replace the missing values with the string `none` to indicate no collaborators. We can also change the distinct collaborators into 'other' for more organization?"
   ]
  },
  {
   "cell_type": "code",
   "execution_count": 21,
   "id": "4d416313-6da5-4bb4-ae87-5d695cf3e95c",
   "metadata": {},
   "outputs": [],
   "source": [
    "#using fillna() to fill the missing values with the string 'none'\n",
    "df['Collaborators'] = df['Collaborators'].fillna('none')"
   ]
  },
  {
   "cell_type": "code",
   "execution_count": 22,
   "id": "382fe623-aa7e-42e9-860f-8cbba1708cea",
   "metadata": {
    "tags": []
   },
   "outputs": [
    {
     "data": {
      "text/plain": [
       "Phases                        59.883536\n",
       "Secondary Outcome Measures    27.399128\n",
       "Locations                     10.563325\n",
       "Interventions                  9.918508\n",
       "Primary Completion Date        4.519926\n",
       "Primary Outcome Measures       3.616024\n",
       "Completion Date                3.488964\n",
       "Enrollment                     1.431593\n",
       "Start Date                     1.064279\n",
       "Study Design                   0.375798\n",
       "Sex                            0.280400\n",
       "Conditions                     0.190589\n",
       "Study Type                     0.183760\n",
       "Funder Type                    0.183760\n",
       "Age                            0.183760\n",
       "Brief Summary                  0.183760\n",
       "Other IDs                      0.011795\n",
       "Study Title                    0.000000\n",
       "Collaborators                  0.000000\n",
       "Sponsor                        0.000000\n",
       "Study Results                  0.000000\n",
       "Study Status                   0.000000\n",
       "Study URL                      0.000000\n",
       "First Posted                   0.000000\n",
       "Last Update Posted             0.000000\n",
       "NCT Number                     0.000000\n",
       "dtype: float64"
      ]
     },
     "execution_count": 22,
     "metadata": {},
     "output_type": "execute_result"
    }
   ],
   "source": [
    "# Sanity check\n",
    "((df.isna().sum() / df.shape[0])*100).sort_values(ascending = False)"
   ]
  },
  {
   "cell_type": "markdown",
   "id": "d1046b44-44a1-4bdb-b5d0-090b285bbfb6",
   "metadata": {},
   "source": [
    "Next, we will check the `Phases` column which has around **60%** of the data missing"
   ]
  },
  {
   "cell_type": "code",
   "execution_count": 23,
   "id": "dc91c895-343b-4698-be72-2944cb75b6e7",
   "metadata": {},
   "outputs": [
    {
     "data": {
      "text/plain": [
       "Phases\n",
       "PHASE2           56500\n",
       "PHASE1           41845\n",
       "PHASE3           37654\n",
       "PHASE4           31876\n",
       "PHASE1|PHASE2    14385\n",
       "PHASE2|PHASE3     6697\n",
       "EARLY_PHASE1      4901\n",
       "Name: count, dtype: int64"
      ]
     },
     "execution_count": 23,
     "metadata": {},
     "output_type": "execute_result"
    }
   ],
   "source": [
    "# Checking the values in `Collaborators` column\n",
    "df['Phases'].value_counts()"
   ]
  },
  {
   "cell_type": "code",
   "execution_count": 24,
   "id": "01ea217e-e0b0-4fe9-9006-8622531b012e",
   "metadata": {
    "tags": []
   },
   "outputs": [
    {
     "data": {
      "image/png": "[encoded data removed]",
      "text/plain": [
       "<Figure size 640x480 with 1 Axes>"
      ]
     },
     "metadata": {},
     "output_type": "display_data"
    }
   ],
   "source": [
    "# Visualizing the distribution\n",
    "plt.figure()\n",
    "\n",
    "df['Phases'].value_counts().plot(kind='bar')\n",
    "plt.xlabel('Phases')\n",
    "plt.ylabel('Number of Studies')\n",
    "plt.title('Visualizing which phase has the most clinical studies'.title())\n",
    "\n",
    "plt.show()"
   ]
  },
  {
   "cell_type": "markdown",
   "id": "b651f023-2a1f-4e5d-ae16-02ddc8797f32",
   "metadata": {},
   "source": [
    "Here we can see that most clinical trials are in PHASE 2, while very few remain in EARLY_PHASE 1.\n",
    "\n",
    "From the clinicaltrials.gov documentation, Trials without phases are listed as N/A which means that we can replace the missing values into a string 'NO PHASE'."
   ]
  },
  {
   "cell_type": "code",
   "execution_count": 25,
   "id": "09f8747f-9994-4ba4-b9c2-2e12ddcd648c",
   "metadata": {},
   "outputs": [],
   "source": [
    "# We can use the .fillna() function to fill the NaN values.\n",
    "df['Phases'] = df['Phases'].fillna('NO PHASE')"
   ]
  },
  {
   "cell_type": "code",
   "execution_count": 26,
   "id": "cefb2918-9d38-419b-a3b1-55db21869af4",
   "metadata": {
    "tags": []
   },
   "outputs": [
    {
     "data": {
      "text/plain": [
       "Secondary Outcome Measures    27.399128\n",
       "Locations                     10.563325\n",
       "Interventions                  9.918508\n",
       "Primary Completion Date        4.519926\n",
       "Primary Outcome Measures       3.616024\n",
       "Completion Date                3.488964\n",
       "Enrollment                     1.431593\n",
       "Start Date                     1.064279\n",
       "Study Design                   0.375798\n",
       "Sex                            0.280400\n",
       "Conditions                     0.190589\n",
       "Study Type                     0.183760\n",
       "Funder Type                    0.183760\n",
       "Age                            0.183760\n",
       "Brief Summary                  0.183760\n",
       "Other IDs                      0.011795\n",
       "Phases                         0.000000\n",
       "Study Title                    0.000000\n",
       "Collaborators                  0.000000\n",
       "Sponsor                        0.000000\n",
       "Study Results                  0.000000\n",
       "Study Status                   0.000000\n",
       "Study URL                      0.000000\n",
       "First Posted                   0.000000\n",
       "Last Update Posted             0.000000\n",
       "NCT Number                     0.000000\n",
       "dtype: float64"
      ]
     },
     "execution_count": 26,
     "metadata": {},
     "output_type": "execute_result"
    }
   ],
   "source": [
    "# Sanity check that the missing values have been filled\n",
    "((df.isna().sum() / df.shape[0])*100).sort_values(ascending = False)"
   ]
  },
  {
   "cell_type": "markdown",
   "id": "674b25e9-177b-48ba-84da-8450721004bd",
   "metadata": {},
   "source": [
    "Next, let's fix the `Secondary Outcome Measures` column which has **27%** of the data missing."
   ]
  },
  {
   "cell_type": "code",
   "execution_count": 27,
   "id": "c64fdcdd-24ec-4682-82ac-7581535ed672",
   "metadata": {
    "tags": []
   },
   "outputs": [
    {
     "data": {
      "text/plain": [
       "Secondary Outcome Measures\n",
       "Progress free survival（PFS）, 1 year|Overall survival（OS）, 3 years                                                                                                                                                                                                                                                                                                                                                                                                                                                                                                                                                                                                                                                                                                                                                                                                                                                                                                                                                                                                                                                                                                                                                                                                                                                                                                                                                                                                                                                                                                                                                                                                                                                                                                                                                                                                                                                                                                                                                                                             18\n",
       "Overall survival, 5 years                                                                                                                                                                                                                                                                                                                                                                                                                                                                                                                                                                                                                                                                                                                                                                                                                                                                                                                                                                                                                                                                                                                                                                                                                                                                                                                                                                                                                                                                                                                                                                                                                                                                                                                                                                                                                                                                                                                                                                                                                                     18\n",
       "Safety                                                                                                                                                                                                                                                                                                                                                                                                                                                                                                                                                                                                                                                                                                                                                                                                                                                                                                                                                                                                                                                                                                                                                                                                                                                                                                                                                                                                                                                                                                                                                                                                                                                                                                                                                                                                                                                                                                                                                                                                                                                        17\n",
       "Percentage of Participants Who Survived, 6 months, 12 months, 24 months, 36 months, 48 months, 60 months overall survival, 6 months, 12 months, 24 months, 36 months, 48 months, 60 months                                                                                                                                                                                                                                                                                                                                                                                                                                                                                                                                                                                                                                                                                                                                                                                                                                                                                                                                                                                                                                                                                                                                                                                                                                                                                                                                                                                                                                                                                                                                                                                                                                                                                                                                                                                                                                                                    17\n",
       "Collection of patients characteristics, Collection of characteristics of patients treated at Institut Paoli Calmettes in order to set up prospective and retrospective studies, 10 years                                                                                                                                                                                                                                                                                                                                                                                                                                                                                                                                                                                                                                                                                                                                                                                                                                                                                                                                                                                                                                                                                                                                                                                                                                                                                                                                                                                                                                                                                                                                                                                                                                                                                                                                                                                                                                                                      12\n",
       "                                                                                                                                                                                                                                                                                                                                                                                                                                                                                                                                                                                                                                                                                                                                                                                                                                                                                                                                                                                                                                                                                                                                                                                                                                                                                                                                                                                                                                                                                                                                                                                                                                                                                                                                                                                                                                                                                                                                                                                                                                                              ..\n",
       "Change from baseline depression at 6 months in the intervention compared to the control group, Patient Health Questionnaire (PHQ-9), a validated tool to diagnose the severity of depression, Assessed at baseline and 6 months|Change from baseline ART adherence at 6 months in the intervention compared to the control group, Visual Analogue Scale (VAS), a measure of adherence validated among people living with HIV, Assessed at baseline and 6 months|Change from baseline diet quality at 6 months in the intervention compared to the control group, 18-items adapted from National Cancer Institute Multifactor Screener, a validated tool to assess approximate intakes of fruits, vegetables, fats, proteins, dairy, grains, and sugars, Assessed at baseline and 6 months|Change from baseline food security at 6 months in the intervention compared to the control group, U.S. Household Food Security Survey (HFSS), a validated tool to assess food insecurity, Assessed at baseline and 6 months                                                                                                                                                                                                                                                                                                                                                                                                                                                                                                                                                                                                                                                                                                                                                                                                                                                                                                                                                                                                                                          1\n",
       "- Prevalence of skin side effects (eczema symptoms measured by questionnaire) for sensors and insulin pumps each one taken., - Prevalence of skin side effects (eczema symptoms measured by questionnaire) for sensors and insulin pumps each one taken., 24 months|Search for risk factors associated with skin side effect, Odds ratio calculated for risk factors suspected in skin reaction, 24 months                                                                                                                                                                                                                                                                                                                                                                                                                                                                                                                                                                                                                                                                                                                                                                                                                                                                                                                                                                                                                                                                                                                                                                                                                                                                                                                                                                                                                                                                                                                                                                                                                                                     1\n",
       "Recurrence-free survival, All RAINBO trials, 5 years|Pelvic recurrence-free survival, All RAINBO trials, 5 years|Vaginal recurrence-free survival, All RAINBO trials, 3 years, 5 years|Endometrial cancer-specific survival, All RAINBO trials, 3 years, 5 years|Overall survival, All RAINBO trials, 3 years, 5 years|Treatment-related toxicity - according to CTCAE v5.0, All RAINBO trials, 3 years, 5 years|Health-related quality of life - Assessed using the EORTC QLQ-C30 questionnaire, All RAINBO trials, 3 years, 5 years|Health-related quality of life - Assessed using the EORTC QLQ-EN24 questionnaire, All RAINBO trials, 3 years, 5 years                                                                                                                                                                                                                                                                                                                                                                                                                                                                                                                                                                                                                                                                                                                                                                                                                                                                                                                                                                                                                                                                                                                                                                                                                                                                                                                                                                                                    1\n",
       "Frequency of Toxicities, Will be graded according to the National Cancer Institute Common Terminology Criteria for Adverse Events version 4.0 (version 5.0 is used staring April 1, 2018). Toxicities will be summarized with counts and proportions within each cohort and overall., Assessed days 1, 2, 8, 9, 15, 16 of each 28-day cycle during treatment until progression; patients who discontinue for reasons other than progression evaluated every 6 months for up to 1 year after ending treatment or until progression or next therapy|Progression-free Survival, The progression-free survival will be estimated by Kaplan-Meier method. Progressive disease is defined by the International Harmonization Project for lymphoma criteria: any new lesion or an increase by \\> 50% of previously involved sites from nadir. This includes the appearance of any new lesion(s) \\> 1.5cm in any axis, a \\> 50% increase in the sum of diameters of \\> 1 site of disease or \\> 50% increase in the longest diameter of a previously identified node \\>1cm in short axis. If the sites of disease were PET positive at baseline, they must remain PET positive., From the date of study entry until documentation of first progression or death from any cause; progression assessed every 2 cycles during treatment until disease progression or death|Overall Survival, The overall survival will be estimated by Kaplan-Meier method. Median follow-up time will be assessed using the reverse Kaplan-Meier method., From the date of study entry until death from any cause; assessed every 6 months for up to 1 year after ending treatment|Duration of Response, Duration of response will be evaluated only in patients who respond with either a partial response or complete response while on study., From first objective response (partial response or complete response) until the first date of documented progression assessed every 2 cycles or death due to any cause; assessed every 6 months up to 1 year after ending treatment     1\n",
       "Absolute IOP, 1 & 2 years|Mean number of glaucoma medications, 1 & 2 years|Success rate, 1 & 2 years                                                                                                                                                                                                                                                                                                                                                                                                                                                                                                                                                                                                                                                                                                                                                                                                                                                                                                                                                                                                                                                                                                                                                                                                                                                                                                                                                                                                                                                                                                                                                                                                                                                                                                                                                                                                                                                                                                                                                           1\n",
       "Name: count, Length: 348325, dtype: int64"
      ]
     },
     "execution_count": 27,
     "metadata": {},
     "output_type": "execute_result"
    }
   ],
   "source": [
    "# Checking the values in `Secondary Outcome Measures` column\n",
    "df['Secondary Outcome Measures'].value_counts()"
   ]
  },
  {
   "cell_type": "markdown",
   "id": "4def4c55-9c78-45a1-a245-edbe19ca3dac",
   "metadata": {},
   "source": [
    "According to the clinicaltrials.gov website, `Secondary Outcome Measures` has a lesser importance than the `Primary Outcome Measures`. Similar with the `Other Outcome Measures`, some clinical trials did not have secondary outcomes, so we can classify these missing values as the string 'none'.\n",
    "\n",
    "We can also use word embedding to create additional features by matching keywords in the outcomes for a better prediction for trial eliminations."
   ]
  },
  {
   "cell_type": "code",
   "execution_count": 28,
   "id": "a56b7ee1-1cd5-46a2-9ec3-149aa32eab7c",
   "metadata": {
    "tags": []
   },
   "outputs": [],
   "source": [
    "# We can use the .fillna() function to fill the NaN values.\n",
    "df['Secondary Outcome Measures'] = df['Secondary Outcome Measures'].fillna('none')"
   ]
  },
  {
   "cell_type": "code",
   "execution_count": 29,
   "id": "f89c19dc-3b1e-42b8-9d44-0ab680cb1346",
   "metadata": {
    "tags": []
   },
   "outputs": [
    {
     "data": {
      "text/plain": [
       "Locations                     10.563325\n",
       "Interventions                  9.918508\n",
       "Primary Completion Date        4.519926\n",
       "Primary Outcome Measures       3.616024\n",
       "Completion Date                3.488964\n",
       "Enrollment                     1.431593\n",
       "Start Date                     1.064279\n",
       "Study Design                   0.375798\n",
       "Sex                            0.280400\n",
       "Conditions                     0.190589\n",
       "Study Type                     0.183760\n",
       "Funder Type                    0.183760\n",
       "Age                            0.183760\n",
       "Brief Summary                  0.183760\n",
       "Other IDs                      0.011795\n",
       "Study Title                    0.000000\n",
       "Phases                         0.000000\n",
       "Collaborators                  0.000000\n",
       "Sponsor                        0.000000\n",
       "Secondary Outcome Measures     0.000000\n",
       "Study Results                  0.000000\n",
       "Study Status                   0.000000\n",
       "Study URL                      0.000000\n",
       "First Posted                   0.000000\n",
       "Last Update Posted             0.000000\n",
       "NCT Number                     0.000000\n",
       "dtype: float64"
      ]
     },
     "execution_count": 29,
     "metadata": {},
     "output_type": "execute_result"
    }
   ],
   "source": [
    "# Sanity check that the missing values have been filled\n",
    "((df.isna().sum() / df.shape[0])*100).sort_values(ascending = False)"
   ]
  },
  {
   "cell_type": "markdown",
   "id": "d4064cca-470f-41b0-bd53-4246ec9cd5c4",
   "metadata": {},
   "source": [
    "The `Locations` column is next with **10.5%** of the data missing."
   ]
  },
  {
   "cell_type": "code",
   "execution_count": 30,
   "id": "2def1965-4689-4be0-9c8c-6b81c693af22",
   "metadata": {
    "tags": []
   },
   "outputs": [
    {
     "data": {
      "text/plain": [
       "Locations\n",
       "National Institutes of Health Clinical Center, 9000 Rockville Pike, Bethesda, Maryland, 20892, United States                                                                                                                                                                                                                                                                                                                                                                                                                                                                                                                                                                                                                                                                                                                                                                                                                                                                                                                                                                                                                                                                                                                                                                                                                                                                                                                                                                                                                                                                                                                                                                                                                                                                                                                                                                                                                                                                                                                                                                                                                                                                                                                                                                                                                                                                                                                                                                                                                                                                                                                                                                                                                                                                 1517\n",
       "National Institutes of Health Clinical Center, Bethesda, Maryland, 20892, United States                                                                                                                                                                                                                                                                                                                                                                                                                                                                                                                                                                                                                                                                                                                                                                                                                                                                                                                                                                                                                                                                                                                                                                                                                                                                                                                                                                                                                                                                                                                                                                                                                                                                                                                                                                                                                                                                                                                                                                                                                                                                                                                                                                                                                                                                                                                                                                                                                                                                                                                                                                                                                                                                                      1155\n",
       "M D Anderson Cancer Center, Houston, Texas, 77030, United States                                                                                                                                                                                                                                                                                                                                                                                                                                                                                                                                                                                                                                                                                                                                                                                                                                                                                                                                                                                                                                                                                                                                                                                                                                                                                                                                                                                                                                                                                                                                                                                                                                                                                                                                                                                                                                                                                                                                                                                                                                                                                                                                                                                                                                                                                                                                                                                                                                                                                                                                                                                                                                                                                                             1105\n",
       "Massachusetts General Hospital, Boston, Massachusetts, 02114, United States                                                                                                                                                                                                                                                                                                                                                                                                                                                                                                                                                                                                                                                                                                                                                                                                                                                                                                                                                                                                                                                                                                                                                                                                                                                                                                                                                                                                                                                                                                                                                                                                                                                                                                                                                                                                                                                                                                                                                                                                                                                                                                                                                                                                                                                                                                                                                                                                                                                                                                                                                                                                                                                                                                  1069\n",
       "Mayo Clinic, Rochester, Minnesota, 55905, United States                                                                                                                                                                                                                                                                                                                                                                                                                                                                                                                                                                                                                                                                                                                                                                                                                                                                                                                                                                                                                                                                                                                                                                                                                                                                                                                                                                                                                                                                                                                                                                                                                                                                                                                                                                                                                                                                                                                                                                                                                                                                                                                                                                                                                                                                                                                                                                                                                                                                                                                                                                                                                                                                                                                       838\n",
       "                                                                                                                                                                                                                                                                                                                                                                                                                                                                                                                                                                                                                                                                                                                                                                                                                                                                                                                                                                                                                                                                                                                                                                                                                                                                                                                                                                                                                                                                                                                                                                                                                                                                                                                                                                                                                                                                                                                                                                                                                                                                                                                                                                                                                                                                                                                                                                                                                                                                                                                                                                                                                                                                                                                                                                             ... \n",
       "Denver Health and Hospital Authority, Denver, Colorado, 80204, United States|George Washington University, Washington, District of Columbia, 20001, United States|Washington DC VA Medical Center, Washington, District of Columbia, 20001, United States|New York Harbor Healthcare System, Manhattan, New York, 10001, United States|New York City Bureau of TB Control, New York, New York, 11201, United States|San Antonio VA, San Antonio, Texas, 78201, United States|Seattle King County Health Department, Seattle, Washington, 98101, United States|Liverpool Hospital, Sydney, Australia|Paramatta Chest, Sydney, Australia|Royal Prince Alfred Hospital, Sydney, Australia|Calgary TB Clinic, Calgary, Alberta, T1Y 6H6, Canada|Edmonton TB Clinic, Edmonton, Alberta, Canada|British Columbia Centre for Disease Control, Vancouver, British Columbia, Canada|Toronto Western Hospital, Toronto, Ontario, M5P 1N5, Canada|McGill University Health Centre, Montréal, Quebec, H3A 0G4, Canada|Desmond Tutu TB Center, Stellenbosch, South Africa                                                                                                                                                                                                                                                                                                                                                                                                                                                                                                                                                                                                                                                                                                                                                                                                                                                                                                                                                                                                                                                                                                                                                                                                                                                                                                                                                                                                                                                                                                                                                                                                                                                                                                                    1\n",
       "Beijing Daxing People's Hospital, Beijing, Beijing, China|Beijing Fuwai Hospital, Beijing, Beijing, China|Beijing Hospital, Ministry of Health, Beijing, Beijing, China|Beijing Chao Yang Hospial, Bejing, Beijing, 100020, China|The Third Affiliated Hospital of Zhongshan University in Guangzhou, Guang Zhou, GUang Dong, China|The First Affiliated Hospital of Zhongshan University in Guangzhou, Guangzhou, Guangdong, China|The Guangxi Zhuang Autonomous Region people's Hospital, Nan ning, Guangxi, China|Guangzhou Shenzhen People's Hospital, Shenzhen, Guangzhou, China|Affiliated Hospital of Chengde Medical College, Chengde, Hebei, China|The first hospital of Handan city Hebei Province, Handan, Hebei, China|Hebei Hengshui international Heping Hospital, Hengshui, Hebei, China|Hebei Affiliated Hospital of North China Coal Medical University, Shijiazhuang, Hebei, China|Hebei Medical University Second Hospital, Shijiazhuang, Hebei, China|No.2 Affiliated Hospital of Harbin Medical University, Harbin, Heilongjiang, China|The Third Affiliated Hospital of Inner Mongolia Medical College, Baotou, Inner Mongolia, China|Hospital of Inner Mongolia Autonomous Region, Hohhot, Inner Mongolia, China|Anshan Iron and Steel Company General Hospital, Anshan, Liaoning, China|The first hospital of Dalian Medical University, Dalian, Liaoning, China|Liaoning General Hospital of Shenyang Military Region, Shenyang, Liaoning, China|Shenyang Medical College affiliated Fengtian Hospital, Shenyang, Liaoning, China|Affiliated Hospital of Ningxia Medical University, Yinchuan, Ningxia, China|Shandong Jining Medical University Affiliated Hospital, Jining, Shandong, China|Shandong Medical College Affiliated Hospital of Qiingdao University, Qingdao, Shandong, China|Shandong Yantai city Yantai Mountain hospital, Yantai, Shandong, China|Ruijin Hospital Affiliated to Shanghai Jiao Tong University, Shanghai, Shanghai, China|Second Military Medical University Changhai Hospital, Shanghai, Shanghai, China|Zhongshan Hospital Affiliated to Shanghai Fudan University, Shanghai, Shanghai, China|Shanxi Medical University Second Hospital, Taiyuan, Shanxi, China|The first hospital of Shanxi Medical University, Taiyuan, Shanxi, China|The Fourth Military Medical University, Xijing Hospital, Xi'an, Shanxi, China|Sichuan University, West China Hospital, Chengdu, Sichuan, China|The first hospital of Xinjiang Medical University, Urumqi, Xinjiang, China|The Xinjiang Uygur Autonomous Region people's Hospital, Urumqi, Xinjiang, China|Zhejiang Sir Run Run Shaw Hospital, Hangzhou, Zhejiang, China|The First Affiliated Hospital of Wenzhou Medical College in Zhejiang, Wenzhou, Zhejiang, China       1\n",
       "Seattle Nuclear Medicine, Seattle, Washington, 98104, United States                                                                                                                                                                                                                                                                                                                                                                                                                                                                                                                                                                                                                                                                                                                                                                                                                                                                                                                                                                                                                                                                                                                                                                                                                                                                                                                                                                                                                                                                                                                                                                                                                                                                                                                                                                                                                                                                                                                                                                                                                                                                                                                                                                                                                                                                                                                                                                                                                                                                                                                                                                                                                                                                                                             1\n",
       "Universitair Ziekenhuis Leuven, UZL, Leuven, 3000, Belgium|University of Düsseldorf, Department of Cardiovascular Surgery, Düsseldorf, 40225, Germany|Hannover Medical School, Hannover, 30625, Germany|Azienda Ospedaliera di Padova, U.O.C. di Cardiochirurgia Pediatrica e Cardiopatie Congenite, Padova, 35128, Italy|Leids Universitair Medisch Centrum, LUMC, Leiden, 2333, Netherlands|University Hospital Clinic de Barcelona, Cardiovascular Surgery administrative area, Barcelona, 08036, Spain|Kinderspital Zürich, Zürich, 8032, Switzerland|Royal Brompton and Harefield National Health Service Trust, London, SW3 6NP, United Kingdom                                                                                                                                                                                                                                                                                                                                                                                                                                                                                                                                                                                                                                                                                                                                                                                                                                                                                                                                                                                                                                                                                                                                                                                                                                                                                                                                                                                                                                                                                                                                                                                                                                                                                                                                                                                                                                                                                                                                                                                                                                                                                                                           1\n",
       "North Bay Eye Associates, Petaluma, California, 94954, United States|Glaucoma Consultants of Colorado, Littleton, Colorado, 80120, United States|International Eye Care, Tampa, Florida, 33603, United States|Price Vision Group, Indianapolis, Indiana, 46260, United States|University of Medicine and Dentistry of New Jersey, Newark, New Jersey, 07103, United States|Glaucoma Associates of New York, New York, New York, 10003, United States|Eagle Mountain Vision, Tulsa, Oklahoma, 74132, United States|University of Pittsburgh Medical Center, Pittsburgh, Pennsylvania, 15213, United States|University of Tennessee / Hamilton Eye Institute, Memphis, Tennessee, 38163, United States|Credit Valley EyeCare, Mississauga, Ontario, L5L 1W8, Canada|Institut du Glaucome de Montréal, Montréal, Quebec, H1V 1G5, Canada|Bombay City Eye Institute & Research Centre, Mumbai, Maharashtra, 400 007, India|Vision Research Foundation / Sankara Nethralaya, Chennai, Tamil Nadu, 600 006, India|Chaim Sheba Medical Center, Tel Hashomer, 52621, Israel|Military Institute of the Health Services, Warsaw, 09-909, Poland                                                                                                                                                                                                                                                                                                                                                                                                                                                                                                                                                                                                                                                                                                                                                                                                                                                                                                                                                                                                                                                                                                                                                                                                                                                                                                                                                                                                                                                                                                                                                                                                                                           1\n",
       "Name: count, Length: 258608, dtype: int64"
      ]
     },
     "execution_count": 30,
     "metadata": {},
     "output_type": "execute_result"
    }
   ],
   "source": [
    "# Checking the values in the `Locations` column\n",
    "df['Locations'].value_counts()"
   ]
  },
  {
   "cell_type": "markdown",
   "id": "6e4babcf-6f34-485b-9426-9c7a314d96ac",
   "metadata": {},
   "source": [
    "The `Locations` column gives information on where the facility of the clinical trial is hosted. Since this is a very valuable column, we cannot drop it, and we should replace the missing values with the string 'unknown'.\n",
    "\n",
    "Additionally, we can see that each study has multiple locations. So we should figure out how to pick the location that has the most participants."
   ]
  },
  {
   "cell_type": "code",
   "execution_count": 31,
   "id": "d9bf515a-4a12-4987-aaa8-dbd9f14ef8a8",
   "metadata": {
    "tags": []
   },
   "outputs": [],
   "source": [
    "# We can use the .fillna() function to fill the NaN values.\n",
    "df['Locations'] = df['Locations'].fillna('unknown')"
   ]
  },
  {
   "cell_type": "code",
   "execution_count": 32,
   "id": "babb60f6-5a1d-4aff-8afd-431216317b25",
   "metadata": {
    "tags": []
   },
   "outputs": [
    {
     "data": {
      "text/plain": [
       "Interventions                 9.918508\n",
       "Primary Completion Date       4.519926\n",
       "Primary Outcome Measures      3.616024\n",
       "Completion Date               3.488964\n",
       "Enrollment                    1.431593\n",
       "Start Date                    1.064279\n",
       "Study Design                  0.375798\n",
       "Sex                           0.280400\n",
       "Conditions                    0.190589\n",
       "Age                           0.183760\n",
       "Funder Type                   0.183760\n",
       "Brief Summary                 0.183760\n",
       "Study Type                    0.183760\n",
       "Other IDs                     0.011795\n",
       "Last Update Posted            0.000000\n",
       "First Posted                  0.000000\n",
       "NCT Number                    0.000000\n",
       "Phases                        0.000000\n",
       "Study Title                   0.000000\n",
       "Collaborators                 0.000000\n",
       "Sponsor                       0.000000\n",
       "Secondary Outcome Measures    0.000000\n",
       "Study Results                 0.000000\n",
       "Study Status                  0.000000\n",
       "Study URL                     0.000000\n",
       "Locations                     0.000000\n",
       "dtype: float64"
      ]
     },
     "execution_count": 32,
     "metadata": {},
     "output_type": "execute_result"
    }
   ],
   "source": [
    "# Sanity check that the missing values have been filled\n",
    "((df.isna().sum() / df.shape[0])*100).sort_values(ascending = False)"
   ]
  },
  {
   "cell_type": "markdown",
   "id": "3e6ed481-50a3-45c6-91c5-8ad0b014bed1",
   "metadata": {},
   "source": [
    "The next column to fix is the `Interventions` column, which has **9.9%** missing data."
   ]
  },
  {
   "cell_type": "code",
   "execution_count": 33,
   "id": "823178f4-8727-462d-878c-a3bfe7594ba5",
   "metadata": {
    "tags": []
   },
   "outputs": [
    {
     "data": {
      "text/plain": [
       "Interventions\n",
       "OTHER: No intervention                                                                          1083\n",
       "OTHER: no intervention                                                                           410\n",
       "OTHER: Questionnaire                                                                             318\n",
       "OTHER: Exercise                                                                                  273\n",
       "OTHER: No Intervention                                                                           249\n",
       "                                                                                                ... \n",
       "DEVICE: Patient specific instrumentation (MRI)|DEVICE: Patient specific instrumentation (CT)       1\n",
       "DRUG: Bone Morphogenetic Protein 2|PROCEDURE: Autologous bone graft                                1\n",
       "OTHER: HaRTS-TRENDS|OTHER: Standard Care (SC)                                                      1\n",
       "DIAGNOSTIC_TEST: Stroke simulation and machine learning                                            1\n",
       "DEVICE: SOLX Gold Shunt GMS-plus|DEVICE: Ahmed FP7 Glaucoma Valve                                  1\n",
       "Name: count, Length: 359575, dtype: int64"
      ]
     },
     "execution_count": 33,
     "metadata": {},
     "output_type": "execute_result"
    }
   ],
   "source": [
    "# Checking the values in the `Interventions` column\n",
    "df['Interventions'].value_counts()"
   ]
  },
  {
   "cell_type": "markdown",
   "id": "9bf73bef-000d-4363-8435-eab20bbbae79",
   "metadata": {},
   "source": [
    "The `Interventions` column is defined as a specific treatment, procedure, or action taken to treat or prevent disease. Additionally, we can point out that some strings are spelled the same way but have different letter cases.\n",
    "1. Convert all values to lowercase.\n",
    "2. Replace the missing values with the string 'unknown' since we don't know what interventions the study has used."
   ]
  },
  {
   "cell_type": "code",
   "execution_count": 34,
   "id": "0c690bb3-25dd-4421-a25a-52f5e1fff806",
   "metadata": {},
   "outputs": [],
   "source": [
    "# We can convert all strings to lowercase with the str.lower() method\n",
    "df['Interventions'] = df['Interventions'].str.lower()"
   ]
  },
  {
   "cell_type": "code",
   "execution_count": 35,
   "id": "a51ed9ee-8c97-4028-9fbe-f2aef169c1d1",
   "metadata": {
    "tags": []
   },
   "outputs": [],
   "source": [
    "# We can use the .fillna() function to fill the NaN values.\n",
    "df['Interventions'] = df['Interventions'].fillna('unknown')"
   ]
  },
  {
   "cell_type": "code",
   "execution_count": 36,
   "id": "806dc376-0ff6-4b8d-a78a-dea96acfd869",
   "metadata": {
    "tags": []
   },
   "outputs": [
    {
     "data": {
      "text/plain": [
       "Interventions\n",
       "unknown                                                              47930\n",
       "other: no intervention                                                1774\n",
       "other: questionnaire                                                   430\n",
       "other: exercise                                                        345\n",
       "behavioral: exercise                                                   274\n",
       "                                                                     ...  \n",
       "biological: zoster vaccine, live, (oka-merck)                            1\n",
       "drug: tonabersat|drug: tonabersat|drug: placebo                          1\n",
       "drug: ticagrelor|drug: prasugrel|drug: clopidogrel                       1\n",
       "behavioral: exercise behavior change for resistance exercise             1\n",
       "device: solx gold shunt gms-plus|device: ahmed fp7 glaucoma valve        1\n",
       "Name: count, Length: 346864, dtype: int64"
      ]
     },
     "execution_count": 36,
     "metadata": {},
     "output_type": "execute_result"
    }
   ],
   "source": [
    "# Sanity check 1: making sure the strings are changed to lower case\n",
    "df['Interventions'].value_counts()"
   ]
  },
  {
   "cell_type": "code",
   "execution_count": 37,
   "id": "15652f6c-56be-4a7a-baca-cbf470ce0e41",
   "metadata": {
    "tags": []
   },
   "outputs": [
    {
     "data": {
      "text/plain": [
       "Primary Completion Date       4.519926\n",
       "Primary Outcome Measures      3.616024\n",
       "Completion Date               3.488964\n",
       "Enrollment                    1.431593\n",
       "Start Date                    1.064279\n",
       "Study Design                  0.375798\n",
       "Sex                           0.280400\n",
       "Conditions                    0.190589\n",
       "Age                           0.183760\n",
       "Brief Summary                 0.183760\n",
       "Study Type                    0.183760\n",
       "Funder Type                   0.183760\n",
       "Other IDs                     0.011795\n",
       "Last Update Posted            0.000000\n",
       "First Posted                  0.000000\n",
       "NCT Number                    0.000000\n",
       "Phases                        0.000000\n",
       "Study Title                   0.000000\n",
       "Collaborators                 0.000000\n",
       "Sponsor                       0.000000\n",
       "Secondary Outcome Measures    0.000000\n",
       "Interventions                 0.000000\n",
       "Study Results                 0.000000\n",
       "Study Status                  0.000000\n",
       "Study URL                     0.000000\n",
       "Locations                     0.000000\n",
       "dtype: float64"
      ]
     },
     "execution_count": 37,
     "metadata": {},
     "output_type": "execute_result"
    }
   ],
   "source": [
    "# Sanity check 2: that the missing values have been filled\n",
    "((df.isna().sum() / df.shape[0])*100).sort_values(ascending = False)"
   ]
  },
  {
   "cell_type": "markdown",
   "id": "147a9074-6704-468f-b58f-07172d4ebb22",
   "metadata": {},
   "source": [
    "Next, we will check out the `Primary Completion Date` column which has **4.5%** data missing."
   ]
  },
  {
   "cell_type": "code",
   "execution_count": 38,
   "id": "fb6cf9db-5d74-4d7d-a852-06b4047e5d01",
   "metadata": {
    "tags": []
   },
   "outputs": [
    {
     "data": {
      "text/plain": [
       "Primary Completion Date\n",
       "2023-12-31    3496\n",
       "2024-12-31    2992\n",
       "2015-12       2971\n",
       "2024-12       2575\n",
       "2014-12       2563\n",
       "              ... \n",
       "2008-09-26       1\n",
       "2029-05-29       1\n",
       "2011-09-10       1\n",
       "2000-06-09       1\n",
       "2006-06-20       1\n",
       "Name: count, Length: 9254, dtype: int64"
      ]
     },
     "execution_count": 38,
     "metadata": {},
     "output_type": "execute_result"
    }
   ],
   "source": [
    "# Checking the values in the `Primary Completion Date` column\n",
    "df['Primary Completion Date'].value_counts()"
   ]
  },
  {
   "cell_type": "markdown",
   "id": "a91206fc-29b6-49e0-b15e-08a9429d60a6",
   "metadata": {},
   "source": [
    "The `Primary Completion Date` column consists of dates where the trial finishes and collects its data from the first outcome. Since this column will be useful in determining the duration of the first outcome, we cannot drop this column. In terms of the missing values, we can change them into the string 'unknown' for now."
   ]
  },
  {
   "cell_type": "code",
   "execution_count": 39,
   "id": "5fc737b0-9830-4c8d-b234-74f19bdd7659",
   "metadata": {
    "tags": []
   },
   "outputs": [],
   "source": [
    "# We can use the .fillna() function to fill the NaN values.\n",
    "df['Primary Completion Date'] = df['Primary Completion Date'].fillna('unknown')"
   ]
  },
  {
   "cell_type": "code",
   "execution_count": 40,
   "id": "9fef8d46-9c0d-46de-a228-fdb009e7b98c",
   "metadata": {
    "tags": []
   },
   "outputs": [
    {
     "data": {
      "text/plain": [
       "Primary Outcome Measures      3.616024\n",
       "Completion Date               3.488964\n",
       "Enrollment                    1.431593\n",
       "Start Date                    1.064279\n",
       "Study Design                  0.375798\n",
       "Sex                           0.280400\n",
       "Conditions                    0.190589\n",
       "Age                           0.183760\n",
       "Brief Summary                 0.183760\n",
       "Study Type                    0.183760\n",
       "Funder Type                   0.183760\n",
       "Other IDs                     0.011795\n",
       "Last Update Posted            0.000000\n",
       "First Posted                  0.000000\n",
       "Primary Completion Date       0.000000\n",
       "NCT Number                    0.000000\n",
       "Phases                        0.000000\n",
       "Study Title                   0.000000\n",
       "Collaborators                 0.000000\n",
       "Sponsor                       0.000000\n",
       "Secondary Outcome Measures    0.000000\n",
       "Interventions                 0.000000\n",
       "Study Results                 0.000000\n",
       "Study Status                  0.000000\n",
       "Study URL                     0.000000\n",
       "Locations                     0.000000\n",
       "dtype: float64"
      ]
     },
     "execution_count": 40,
     "metadata": {},
     "output_type": "execute_result"
    }
   ],
   "source": [
    "# Sanity check that the missing values have been filled\n",
    "((df.isna().sum() / df.shape[0])*100).sort_values(ascending = False)"
   ]
  },
  {
   "cell_type": "markdown",
   "id": "749c7619-7512-4584-b48e-59a7cb996ea8",
   "metadata": {},
   "source": [
    "Now, we will fix the `Primary Outcome Measures` column which has **3.61%** data missing."
   ]
  },
  {
   "cell_type": "code",
   "execution_count": 41,
   "id": "5b503549-e070-4625-a38e-b98f68795cce",
   "metadata": {
    "tags": []
   },
   "outputs": [
    {
     "data": {
      "text/plain": [
       "Primary Outcome Measures\n",
       "Bioequivalence, within 30 days                                                                                                                                                                                                                   118\n",
       "Bioequivalence                                                                                                                                                                                                                                    68\n",
       "Overall survival                                                                                                                                                                                                                                  49\n",
       "Minimal Erythema Dose (MED), Up to 15 minutes|Minimal Persistent Pigment Darkening Dose (MPPD), Up to 15 minutes                                                                                                                                  46\n",
       "Progression-free survival                                                                                                                                                                                                                         34\n",
       "                                                                                                                                                                                                                                                ... \n",
       "Change in retinal vessel density, Detect changes in retinal vessel density in the superficial and deep capillary plexuses using OCTA in children with anisometropic amblyopia and effect of treatment on the retinal vessel density, 3 months      1\n",
       "Area under the plasma glucose concentration curve (AUC) between 0 and 1 hour after insulin injection AUC(0-1h), At day 1 of each treatment period                                                                                                  1\n",
       "Clinical Improvement in Thigh Circumference, Clinical improvement measured by change from baseline thigh circumference after treatment, 12 weeks (minus baseline)                                                                                  1\n",
       "AAA strain measurement, Measure of AAA strain values using imaging exams, Within less than one month of their surgery                                                                                                                              1\n",
       "Percentage reduction in IOP at both 12 and 24 months after implant, 1 & 2 years                                                                                                                                                                    1\n",
       "Name: count, Length: 458631, dtype: int64"
      ]
     },
     "execution_count": 41,
     "metadata": {},
     "output_type": "execute_result"
    }
   ],
   "source": [
    "# Checking the values in the `Primary Outcome Measures` column\n",
    "df['Primary Outcome Measures'].value_counts()"
   ]
  },
  {
   "cell_type": "markdown",
   "id": "f41f6ab2-006e-4f8c-aeee-f60553fc612f",
   "metadata": {},
   "source": [
    "The `Primary Outcome Measures` column is the main indicator of what the outcome of the trial should be and how it would be measured. We will fill the missing values with the string 'unknown'."
   ]
  },
  {
   "cell_type": "code",
   "execution_count": 42,
   "id": "11e1592d-2c5f-4e44-b685-0f78ab7e0e2c",
   "metadata": {
    "tags": []
   },
   "outputs": [],
   "source": [
    "# We can use the .fillna() function to fill the NaN values.\n",
    "df['Primary Outcome Measures'] = df['Primary Outcome Measures'].fillna('unknown')"
   ]
  },
  {
   "cell_type": "code",
   "execution_count": 43,
   "id": "e2a38961-5ce3-4392-a137-01b1734b6d0e",
   "metadata": {
    "tags": []
   },
   "outputs": [
    {
     "data": {
      "text/plain": [
       "Completion Date               3.488964\n",
       "Enrollment                    1.431593\n",
       "Start Date                    1.064279\n",
       "Study Design                  0.375798\n",
       "Sex                           0.280400\n",
       "Conditions                    0.190589\n",
       "Age                           0.183760\n",
       "Brief Summary                 0.183760\n",
       "Study Type                    0.183760\n",
       "Funder Type                   0.183760\n",
       "Other IDs                     0.011795\n",
       "Last Update Posted            0.000000\n",
       "First Posted                  0.000000\n",
       "Primary Completion Date       0.000000\n",
       "NCT Number                    0.000000\n",
       "Phases                        0.000000\n",
       "Study Title                   0.000000\n",
       "Collaborators                 0.000000\n",
       "Sponsor                       0.000000\n",
       "Secondary Outcome Measures    0.000000\n",
       "Primary Outcome Measures      0.000000\n",
       "Interventions                 0.000000\n",
       "Study Results                 0.000000\n",
       "Study Status                  0.000000\n",
       "Study URL                     0.000000\n",
       "Locations                     0.000000\n",
       "dtype: float64"
      ]
     },
     "execution_count": 43,
     "metadata": {},
     "output_type": "execute_result"
    }
   ],
   "source": [
    "# Sanity check that the missing values have been filled\n",
    "((df.isna().sum() / df.shape[0])*100).sort_values(ascending = False)"
   ]
  },
  {
   "cell_type": "markdown",
   "id": "2d0e85ae-3de3-42ad-a1ba-f10948a2921f",
   "metadata": {},
   "source": [
    "Next, we will work on the `Completion Date` column which has **3.5%** data missing."
   ]
  },
  {
   "cell_type": "code",
   "execution_count": 44,
   "id": "5bd9b5d3-9c47-40f6-b81d-d0ac13d90e58",
   "metadata": {
    "tags": []
   },
   "outputs": [
    {
     "data": {
      "text/plain": [
       "Completion Date\n",
       "2024-12-31    3825\n",
       "2023-12-31    3470\n",
       "2024-12       3271\n",
       "2015-12       2898\n",
       "2014-12       2687\n",
       "              ... \n",
       "2013-06-13       1\n",
       "2030-02-22       1\n",
       "2034-03-30       1\n",
       "1995-08-07       1\n",
       "2004-11-29       1\n",
       "Name: count, Length: 9781, dtype: int64"
      ]
     },
     "execution_count": 44,
     "metadata": {},
     "output_type": "execute_result"
    }
   ],
   "source": [
    "# Checking the values in the `Completion Date` column\n",
    "df['Completion Date'].value_counts()"
   ]
  },
  {
   "cell_type": "markdown",
   "id": "24e35ec8-0bb7-4239-9ca3-c4d48b238dfa",
   "metadata": {},
   "source": [
    "The `Completion Date` column consists of dates when the final participant has finished or when the clinical trial has concluded it's findings. It is important to note that most of the studies finish at the end of the year, and some of the dates do not have a 'day' listed. We will fill the missing data with the string 'unknown' since we don't know if the study has ended yet."
   ]
  },
  {
   "cell_type": "code",
   "execution_count": 45,
   "id": "8f73bcde-aca0-4062-a0cb-a7dba237cb8e",
   "metadata": {
    "tags": []
   },
   "outputs": [],
   "source": [
    "# We can use the .fillna() function to fill the NaN values.\n",
    "df['Completion Date'] = df['Completion Date'].fillna('unknown')"
   ]
  },
  {
   "cell_type": "code",
   "execution_count": 46,
   "id": "2053682f-07cf-4384-9979-59d860784b4d",
   "metadata": {
    "tags": []
   },
   "outputs": [
    {
     "data": {
      "text/plain": [
       "Enrollment                    1.431593\n",
       "Start Date                    1.064279\n",
       "Study Design                  0.375798\n",
       "Sex                           0.280400\n",
       "Conditions                    0.190589\n",
       "Age                           0.183760\n",
       "Brief Summary                 0.183760\n",
       "Study Type                    0.183760\n",
       "Funder Type                   0.183760\n",
       "Other IDs                     0.011795\n",
       "Last Update Posted            0.000000\n",
       "First Posted                  0.000000\n",
       "Completion Date               0.000000\n",
       "Primary Completion Date       0.000000\n",
       "NCT Number                    0.000000\n",
       "Phases                        0.000000\n",
       "Study Title                   0.000000\n",
       "Collaborators                 0.000000\n",
       "Sponsor                       0.000000\n",
       "Secondary Outcome Measures    0.000000\n",
       "Primary Outcome Measures      0.000000\n",
       "Interventions                 0.000000\n",
       "Study Results                 0.000000\n",
       "Study Status                  0.000000\n",
       "Study URL                     0.000000\n",
       "Locations                     0.000000\n",
       "dtype: float64"
      ]
     },
     "execution_count": 46,
     "metadata": {},
     "output_type": "execute_result"
    }
   ],
   "source": [
    "# Sanity check that the missing values have been filled\n",
    "((df.isna().sum() / df.shape[0])*100).sort_values(ascending = False)"
   ]
  },
  {
   "cell_type": "markdown",
   "id": "ec7df2c3-ba2a-4bb4-a07e-cd34039964f1",
   "metadata": {},
   "source": [
    "We will fix the `Enrollment` column next, which has **1.43%** data missing."
   ]
  },
  {
   "cell_type": "code",
   "execution_count": 47,
   "id": "437f7598-a1b8-4c2f-9fca-0444e2c884e6",
   "metadata": {
    "tags": []
   },
   "outputs": [
    {
     "data": {
      "text/plain": [
       "Enrollment\n",
       "30.0        15910\n",
       "60.0        15792\n",
       "100.0       14534\n",
       "40.0        14202\n",
       "20.0        13928\n",
       "            ...  \n",
       "419734.0        1\n",
       "25600.0         1\n",
       "254432.0        1\n",
       "10385.0         1\n",
       "290286.0        1\n",
       "Name: count, Length: 8156, dtype: int64"
      ]
     },
     "execution_count": 47,
     "metadata": {},
     "output_type": "execute_result"
    }
   ],
   "source": [
    "# Checking the values in the `Enrollment` column\n",
    "df['Enrollment'].value_counts()"
   ]
  },
  {
   "cell_type": "markdown",
   "id": "a8b0ee4e-d13c-4894-83c4-22037947c0df",
   "metadata": {},
   "source": [
    "We can see from the values that there is a big range from 20 participants all the way to 290286 participants in each study. Let's look at the summary statisticals more closely in this column."
   ]
  },
  {
   "cell_type": "code",
   "execution_count": 48,
   "id": "e0cdda76-f0d5-4ce4-a63e-43f5603378e3",
   "metadata": {
    "tags": []
   },
   "outputs": [
    {
     "data": {
      "text/plain": [
       "count    4.763200e+05\n",
       "mean     5.318643e+03\n",
       "std      4.885337e+05\n",
       "min      0.000000e+00\n",
       "25%      3.000000e+01\n",
       "50%      6.900000e+01\n",
       "75%      2.000000e+02\n",
       "max      1.888141e+08\n",
       "Name: Enrollment, dtype: float64"
      ]
     },
     "execution_count": 48,
     "metadata": {},
     "output_type": "execute_result"
    }
   ],
   "source": [
    "# using .describe() to find the summary statistics\n",
    "df['Enrollment'].describe()"
   ]
  },
  {
   "cell_type": "markdown",
   "id": "769199b3-4d9f-4e7a-85e7-2e8724f39b89",
   "metadata": {},
   "source": [
    "Here, we can see that the data is very skewed as the **median is 69 participants** and the **mean is 5318 participants**. The range of the participants go from 0 to 1.88e+08. Let's look at this further with a histogram plot"
   ]
  },
  {
   "cell_type": "code",
   "execution_count": 49,
   "id": "7d82ac82-f2ac-451a-a36c-b03b5d650f20",
   "metadata": {
    "tags": []
   },
   "outputs": [
    {
     "data": {
      "image/png": "[encoded data removed]",
      "text/plain": [
       "<Figure size 640x480 with 1 Axes>"
      ]
     },
     "metadata": {},
     "output_type": "display_data"
    }
   ],
   "source": [
    "# Plotting the histogram of the Enrollment column\n",
    "plt.figure()\n",
    "\n",
    "plt.hist(df['Enrollment'], bins = 25) # We are using a logscale for the y-axis due to the exponentially large range in values\n",
    "plt.yscale('log')\n",
    "\n",
    "plt.xlabel('Number of Participants')\n",
    "plt.ylabel('Counts')\n",
    "plt.title('Analyzing the distribution of the number of participants enrolled in the study'.title())\n",
    "\n",
    "plt.show()"
   ]
  },
  {
   "cell_type": "markdown",
   "id": "adba7a44-16be-43c4-84c2-c48a5a12cc80",
   "metadata": {},
   "source": [
    "The data is heavily right skewed, which indicates that we should fill our missing values with the median which is where majority of the data lies. Additionally, it would be best practice to change the dtype of values in `Enrollment` to 'int' since we are dealing with whole numbers of participants."
   ]
  },
  {
   "cell_type": "code",
   "execution_count": 50,
   "id": "3e3d7952-6bf5-4fbb-b8fd-7d0572caac5c",
   "metadata": {
    "tags": []
   },
   "outputs": [],
   "source": [
    "# Filling the missing values with the median\n",
    "df['Enrollment'] = df['Enrollment'].fillna(69)"
   ]
  },
  {
   "cell_type": "code",
   "execution_count": 51,
   "id": "6fba542a-2e20-4f6f-8635-1a696c5200a5",
   "metadata": {
    "tags": []
   },
   "outputs": [],
   "source": [
    "df['Enrollment'] = df['Enrollment'].astype(int)"
   ]
  },
  {
   "cell_type": "code",
   "execution_count": 52,
   "id": "dab8c7ca-6ddc-4a46-84f8-d26084d06388",
   "metadata": {
    "tags": []
   },
   "outputs": [
    {
     "data": {
      "text/plain": [
       "Start Date                    1.064279\n",
       "Study Design                  0.375798\n",
       "Sex                           0.280400\n",
       "Conditions                    0.190589\n",
       "Age                           0.183760\n",
       "Brief Summary                 0.183760\n",
       "Study Type                    0.183760\n",
       "Funder Type                   0.183760\n",
       "Other IDs                     0.011795\n",
       "Enrollment                    0.000000\n",
       "Last Update Posted            0.000000\n",
       "First Posted                  0.000000\n",
       "Completion Date               0.000000\n",
       "Primary Completion Date       0.000000\n",
       "NCT Number                    0.000000\n",
       "Phases                        0.000000\n",
       "Study Title                   0.000000\n",
       "Collaborators                 0.000000\n",
       "Sponsor                       0.000000\n",
       "Secondary Outcome Measures    0.000000\n",
       "Primary Outcome Measures      0.000000\n",
       "Interventions                 0.000000\n",
       "Study Results                 0.000000\n",
       "Study Status                  0.000000\n",
       "Study URL                     0.000000\n",
       "Locations                     0.000000\n",
       "dtype: float64"
      ]
     },
     "execution_count": 52,
     "metadata": {},
     "output_type": "execute_result"
    }
   ],
   "source": [
    "# Sanity check that the missing values have been filled\n",
    "((df.isna().sum() / df.shape[0])*100).sort_values(ascending = False)"
   ]
  },
  {
   "cell_type": "markdown",
   "id": "efe061ae-d212-4c3f-8e99-b4a1ad61b53f",
   "metadata": {},
   "source": [
    "Great! Now let's move onto the `Start Date` column which has **1.06%** missing values."
   ]
  },
  {
   "cell_type": "code",
   "execution_count": 53,
   "id": "3d7d12c9-69be-414b-8025-7ccf68af5307",
   "metadata": {
    "tags": []
   },
   "outputs": [
    {
     "data": {
      "text/plain": [
       "Start Date\n",
       "2014-01       2087\n",
       "2015-01       2025\n",
       "2013-01       1959\n",
       "2012-01       1937\n",
       "2011-01       1924\n",
       "              ... \n",
       "1998-03-24       1\n",
       "2000-03-29       1\n",
       "2009-04-18       1\n",
       "1999-12-06       1\n",
       "2012-10-28       1\n",
       "Name: count, Length: 8659, dtype: int64"
      ]
     },
     "execution_count": 53,
     "metadata": {},
     "output_type": "execute_result"
    }
   ],
   "source": [
    "# Checking the values in the `Start Date` column\n",
    "df['Start Date'].value_counts()"
   ]
  },
  {
   "cell_type": "markdown",
   "id": "31ff7725-8068-48da-81a6-8a38b336d51a",
   "metadata": {},
   "source": [
    "The `Start Date` column consists of dates of when the study first starts or when the first participant is enrolled. Since we don't know the start dates of the missing values, we can just change the value into the string \"unknown\""
   ]
  },
  {
   "cell_type": "code",
   "execution_count": 54,
   "id": "a9bb3e0f-37c9-487b-8d8d-e450c39629c8",
   "metadata": {
    "tags": []
   },
   "outputs": [],
   "source": [
    "# Filling the missing values\n",
    "df['Start Date'] = df['Start Date'].fillna('unknown')"
   ]
  },
  {
   "cell_type": "code",
   "execution_count": 55,
   "id": "bddbdfb4-5d5d-4ff0-8a43-cccfde57a077",
   "metadata": {
    "tags": []
   },
   "outputs": [
    {
     "data": {
      "text/plain": [
       "Study Design                  0.375798\n",
       "Sex                           0.280400\n",
       "Conditions                    0.190589\n",
       "Age                           0.183760\n",
       "Brief Summary                 0.183760\n",
       "Study Type                    0.183760\n",
       "Funder Type                   0.183760\n",
       "Other IDs                     0.011795\n",
       "Enrollment                    0.000000\n",
       "Last Update Posted            0.000000\n",
       "First Posted                  0.000000\n",
       "Completion Date               0.000000\n",
       "Primary Completion Date       0.000000\n",
       "Start Date                    0.000000\n",
       "NCT Number                    0.000000\n",
       "Phases                        0.000000\n",
       "Study Title                   0.000000\n",
       "Collaborators                 0.000000\n",
       "Sponsor                       0.000000\n",
       "Secondary Outcome Measures    0.000000\n",
       "Primary Outcome Measures      0.000000\n",
       "Interventions                 0.000000\n",
       "Study Results                 0.000000\n",
       "Study Status                  0.000000\n",
       "Study URL                     0.000000\n",
       "Locations                     0.000000\n",
       "dtype: float64"
      ]
     },
     "execution_count": 55,
     "metadata": {},
     "output_type": "execute_result"
    }
   ],
   "source": [
    "# Sanity check that the missing values have been filled\n",
    "((df.isna().sum() / df.shape[0])*100).sort_values(ascending = False)"
   ]
  },
  {
   "cell_type": "markdown",
   "id": "0aab0d1b-82bc-4ebf-99e9-1015ae3d9f9a",
   "metadata": {},
   "source": [
    "Next, let's take a look at the `Study Design` column which has **0.37%** data missing."
   ]
  },
  {
   "cell_type": "code",
   "execution_count": 56,
   "id": "9fb33076-7a14-444c-bd8e-9c6443023cf8",
   "metadata": {},
   "outputs": [
    {
     "data": {
      "text/plain": [
       "Study Design\n",
       "Observational Model: |Time Perspective: p                                                                                                                          110180\n",
       "Allocation: NA|Intervention Model: SINGLE_GROUP|Masking: NONE|Primary Purpose: TREATMENT                                                                            52601\n",
       "Allocation: RANDOMIZED|Intervention Model: PARALLEL|Masking: NONE|Primary Purpose: TREATMENT                                                                        42532\n",
       "Allocation: RANDOMIZED|Intervention Model: PARALLEL|Masking: QUADRUPLE (PARTICIPANT, CARE_PROVIDER, INVESTIGATOR, OUTCOMES_ASSESSOR)|Primary Purpose: TREATMENT     21277\n",
       "Allocation: RANDOMIZED|Intervention Model: PARALLEL|Masking: DOUBLE (PARTICIPANT, INVESTIGATOR)|Primary Purpose: TREATMENT                                          13659\n",
       "                                                                                                                                                                    ...  \n",
       "Allocation: NON_RANDOMIZED|Intervention Model: FACTORIAL|Masking: SINGLE (PARTICIPANT)|Primary Purpose: SUPPORTIVE_CARE                                                 1\n",
       "Allocation: NA|Intervention Model: FACTORIAL|Masking: NONE|Primary Purpose: DIAGNOSTIC                                                                                  1\n",
       "Allocation: |Intervention Model: CROSSOVER|Masking: DOUBLE (INVESTIGATOR, OUTCOMES_ASSESSOR)|Primary Purpose: TREATMENT                                                 1\n",
       "Allocation: NON_RANDOMIZED|Intervention Model: FACTORIAL|Masking: SINGLE|Primary Purpose: TREATMENT                                                                     1\n",
       "Allocation: NON_RANDOMIZED|Intervention Model: CROSSOVER|Masking: TRIPLE (PARTICIPANT, CARE_PROVIDER, OUTCOMES_ASSESSOR)|Primary Purpose: SUPPORTIVE_CARE               1\n",
       "Name: count, Length: 1647, dtype: int64"
      ]
     },
     "execution_count": 56,
     "metadata": {},
     "output_type": "execute_result"
    }
   ],
   "source": [
    "# Checking the values in the `Study Design` column\n",
    "df['Study Design'].value_counts()"
   ]
  },
  {
   "cell_type": "markdown",
   "id": "99e8720d-e4a6-4561-b713-342a8077a531",
   "metadata": {},
   "source": [
    "The `Study Design` column contains designs of both interventional and observational studies. We need to classify these further in the future. For now we will just fill the missing values with the string 'unknown' since we don't know where those values would fall in."
   ]
  },
  {
   "cell_type": "code",
   "execution_count": 57,
   "id": "be8d2ce1-2c11-4a93-8d18-59e4290dd19d",
   "metadata": {
    "tags": []
   },
   "outputs": [],
   "source": [
    "# Filling the missing values\n",
    "df['Study Design'] = df['Study Design'].fillna('unknown')"
   ]
  },
  {
   "cell_type": "code",
   "execution_count": 58,
   "id": "b6b7ec46-4ab9-41dd-a88d-465b031c2fbc",
   "metadata": {
    "tags": []
   },
   "outputs": [
    {
     "data": {
      "text/plain": [
       "Sex                           0.280400\n",
       "Conditions                    0.190589\n",
       "Age                           0.183760\n",
       "Brief Summary                 0.183760\n",
       "Study Type                    0.183760\n",
       "Funder Type                   0.183760\n",
       "Other IDs                     0.011795\n",
       "Enrollment                    0.000000\n",
       "Last Update Posted            0.000000\n",
       "First Posted                  0.000000\n",
       "Completion Date               0.000000\n",
       "Primary Completion Date       0.000000\n",
       "Start Date                    0.000000\n",
       "Study Design                  0.000000\n",
       "NCT Number                    0.000000\n",
       "Phases                        0.000000\n",
       "Study Title                   0.000000\n",
       "Collaborators                 0.000000\n",
       "Sponsor                       0.000000\n",
       "Secondary Outcome Measures    0.000000\n",
       "Primary Outcome Measures      0.000000\n",
       "Interventions                 0.000000\n",
       "Study Results                 0.000000\n",
       "Study Status                  0.000000\n",
       "Study URL                     0.000000\n",
       "Locations                     0.000000\n",
       "dtype: float64"
      ]
     },
     "execution_count": 58,
     "metadata": {},
     "output_type": "execute_result"
    }
   ],
   "source": [
    "# Sanity check that the missing values have been filled\n",
    "((df.isna().sum() / df.shape[0])*100).sort_values(ascending = False)"
   ]
  },
  {
   "cell_type": "markdown",
   "id": "1696afc6-b76b-4da9-baa2-954e56054c39",
   "metadata": {},
   "source": [
    "Next is the `Sex` column which has **0.28%** data missing."
   ]
  },
  {
   "cell_type": "code",
   "execution_count": 59,
   "id": "8f44ac63-5ff5-4c68-9e92-1d57ba0d3407",
   "metadata": {
    "tags": []
   },
   "outputs": [
    {
     "data": {
      "text/plain": [
       "Sex\n",
       "ALL       414720\n",
       "FEMALE     46562\n",
       "MALE       20601\n",
       "Name: count, dtype: int64"
      ]
     },
     "execution_count": 59,
     "metadata": {},
     "output_type": "execute_result"
    }
   ],
   "source": [
    "# Checking the values in the `Sex` column\n",
    "df['Sex'].value_counts()"
   ]
  },
  {
   "cell_type": "code",
   "execution_count": 60,
   "id": "c9a40d22-619a-4261-ada9-59eb2e96dfd9",
   "metadata": {
    "tags": []
   },
   "outputs": [
    {
     "data": {
      "image/png": "[encoded data removed]",
      "text/plain": [
       "<Figure size 640x480 with 1 Axes>"
      ]
     },
     "metadata": {},
     "output_type": "display_data"
    }
   ],
   "source": [
    "plt.figure()\n",
    "\n",
    "df['Sex'].value_counts().plot(kind='bar')\n",
    "plt.xlabel('Sex')\n",
    "plt.ylabel('Number of Studies')\n",
    "plt.title('Distribution of sex across clinical studies'.title())\n",
    "\n",
    "plt.show()"
   ]
  },
  {
   "cell_type": "markdown",
   "id": "b611dbb4-66ab-410a-a24a-6bf0478d54e7",
   "metadata": {},
   "source": [
    "For the `Sex` column, 'ALL' indicates no limit on eligibility based on the sex of the participants. It is also interesting to see that there are much more female only studies than male only studies. For the missing values, we will replace them with the string 'unknown' for now."
   ]
  },
  {
   "cell_type": "code",
   "execution_count": 61,
   "id": "6d2784a9-ff9c-4e40-bcbd-306b7d949b9d",
   "metadata": {
    "tags": []
   },
   "outputs": [],
   "source": [
    "# Filling the missing values\n",
    "df['Sex'] = df['Sex'].fillna('unknown')"
   ]
  },
  {
   "cell_type": "code",
   "execution_count": 62,
   "id": "d5a0bc83-2e4a-412f-b2f1-5d364b38c573",
   "metadata": {},
   "outputs": [
    {
     "data": {
      "text/plain": [
       "Conditions                    0.190589\n",
       "Age                           0.183760\n",
       "Brief Summary                 0.183760\n",
       "Study Type                    0.183760\n",
       "Funder Type                   0.183760\n",
       "Other IDs                     0.011795\n",
       "Phases                        0.000000\n",
       "Last Update Posted            0.000000\n",
       "First Posted                  0.000000\n",
       "Completion Date               0.000000\n",
       "Primary Completion Date       0.000000\n",
       "Start Date                    0.000000\n",
       "Study Design                  0.000000\n",
       "Enrollment                    0.000000\n",
       "NCT Number                    0.000000\n",
       "Study Title                   0.000000\n",
       "Sex                           0.000000\n",
       "Collaborators                 0.000000\n",
       "Sponsor                       0.000000\n",
       "Secondary Outcome Measures    0.000000\n",
       "Primary Outcome Measures      0.000000\n",
       "Interventions                 0.000000\n",
       "Study Results                 0.000000\n",
       "Study Status                  0.000000\n",
       "Study URL                     0.000000\n",
       "Locations                     0.000000\n",
       "dtype: float64"
      ]
     },
     "execution_count": 62,
     "metadata": {},
     "output_type": "execute_result"
    }
   ],
   "source": [
    "# Sanity check that the missing values have been filled\n",
    "((df.isna().sum() / df.shape[0])*100).sort_values(ascending = False)"
   ]
  },
  {
   "cell_type": "markdown",
   "id": "2e341e8e-0f74-4f92-9d2c-6a7aa2e1b69e",
   "metadata": {},
   "source": [
    "Next, let's explore the `Conditions` column, which has **0.19%** of the data missing."
   ]
  },
  {
   "cell_type": "code",
   "execution_count": 63,
   "id": "08f5e64a-5216-4ff6-9902-3d6fa1709d11",
   "metadata": {
    "tags": []
   },
   "outputs": [
    {
     "data": {
      "text/plain": [
       "Conditions\n",
       "Healthy                                                                                                                                                                                                                                                                                                                                                                                                                                                                                                                                                                                                                                                                                                                                                                                                                                                                                                                                           7996\n",
       "Breast Cancer                                                                                                                                                                                                                                                                                                                                                                                                                                                                                                                                                                                                                                                                                                                                                                                                                                                                                                                                     4554\n",
       "Prostate Cancer                                                                                                                                                                                                                                                                                                                                                                                                                                                                                                                                                                                                                                                                                                                                                                                                                                                                                                                                   2650\n",
       "Asthma                                                                                                                                                                                                                                                                                                                                                                                                                                                                                                                                                                                                                                                                                                                                                                                                                                                                                                                                            2308\n",
       "Obesity                                                                                                                                                                                                                                                                                                                                                                                                                                                                                                                                                                                                                                                                                                                                                                                                                                                                                                                                           2284\n",
       "                                                                                                                                                                                                                                                                                                                                                                                                                                                                                                                                                                                                                                                                                                                                                                                                                                                                                                                                                  ... \n",
       "Recurrent B-Cell Non-Hodgkin Lymphoma|Recurrent Chronic Lymphocytic Leukemia|Recurrent Diffuse Large B-Cell Lymphoma|Recurrent Follicular Lymphoma|Recurrent Lymphoplasmacytic Lymphoma|Recurrent Mantle Cell Lymphoma|Recurrent Marginal Zone Lymphoma|Refractory B-Cell Non-Hodgkin Lymphoma|Refractory Diffuse Large B-Cell Lymphoma|Refractory Follicular Lymphoma|Refractory Lymphoplasmacytic Lymphoma|Refractory Mantle Cell Lymphoma|Refractory Transformed Non-Hodgkin Lymphoma|Recurrent Transformed B-Cell Non-Hodgkin Lymphoma|Recurrent Transformed Chronic Lymphocytic Leukemia|Refractory Marginal Zone Lymphoma|Refractory Transformed B-Cell Non-Hodgkin Lymphoma|Refractory Transformed Chronic Lymphocytic Leukemia|Recurrent Small Lymphocytic Lymphoma|Refractory Chronic Lymphocytic Leukemia|Refractory Small Lymphocytic Lymphoma|Recurrent Central Nervous System Lymphoma|Refractory Central Nervous System Lymphoma       1\n",
       "Gut Microbiome|Sport Performance                                                                                                                                                                                                                                                                                                                                                                                                                                                                                                                                                                                                                                                                                                                                                                                                                                                                                                                     1\n",
       "Mucopolysaccharidosis Type I                                                                                                                                                                                                                                                                                                                                                                                                                                                                                                                                                                                                                                                                                                                                                                                                                                                                                                                         1\n",
       "Gastrointestinal Neoplasms|Cognitive Impairment                                                                                                                                                                                                                                                                                                                                                                                                                                                                                                                                                                                                                                                                                                                                                                                                                                                                                                      1\n",
       "Healthy|Lower Limb Injury|Post-Traumatic Osteoarthritis                                                                                                                                                                                                                                                                                                                                                                                                                                                                                                                                                                                                                                                                                                                                                                                                                                                                                              1\n",
       "Name: count, Length: 190463, dtype: int64"
      ]
     },
     "execution_count": 63,
     "metadata": {},
     "output_type": "execute_result"
    }
   ],
   "source": [
    "# Checking the values in the `Conditions` column\n",
    "df['Conditions'].value_counts()"
   ]
  },
  {
   "cell_type": "markdown",
   "id": "36a392ce-60bf-43df-b57b-43849c5e4810",
   "metadata": {},
   "source": [
    "The `Conditions` column consists of data of the primary disease or the condition being studied in the trial. We will also replace the missing values with the string 'unknown' for now."
   ]
  },
  {
   "cell_type": "code",
   "execution_count": 64,
   "id": "30ab172c-08cd-45b3-af84-042047443f1c",
   "metadata": {
    "tags": []
   },
   "outputs": [],
   "source": [
    "# Filling the missing values\n",
    "df['Conditions'] = df['Conditions'].fillna('unknown')"
   ]
  },
  {
   "cell_type": "code",
   "execution_count": 65,
   "id": "7e6f3482-cc70-4ad0-967a-0a3103db02f5",
   "metadata": {
    "tags": []
   },
   "outputs": [
    {
     "data": {
      "text/plain": [
       "Age                           0.183760\n",
       "Brief Summary                 0.183760\n",
       "Study Type                    0.183760\n",
       "Funder Type                   0.183760\n",
       "Other IDs                     0.011795\n",
       "Phases                        0.000000\n",
       "Last Update Posted            0.000000\n",
       "First Posted                  0.000000\n",
       "Completion Date               0.000000\n",
       "Primary Completion Date       0.000000\n",
       "Start Date                    0.000000\n",
       "Study Design                  0.000000\n",
       "Enrollment                    0.000000\n",
       "NCT Number                    0.000000\n",
       "Study Title                   0.000000\n",
       "Sex                           0.000000\n",
       "Collaborators                 0.000000\n",
       "Sponsor                       0.000000\n",
       "Secondary Outcome Measures    0.000000\n",
       "Primary Outcome Measures      0.000000\n",
       "Interventions                 0.000000\n",
       "Conditions                    0.000000\n",
       "Study Results                 0.000000\n",
       "Study Status                  0.000000\n",
       "Study URL                     0.000000\n",
       "Locations                     0.000000\n",
       "dtype: float64"
      ]
     },
     "execution_count": 65,
     "metadata": {},
     "output_type": "execute_result"
    }
   ],
   "source": [
    "# Sanity check that the missing values have been filled\n",
    "((df.isna().sum() / df.shape[0])*100).sort_values(ascending = False)"
   ]
  },
  {
   "cell_type": "markdown",
   "id": "bc627858-b5e3-4def-9c3c-e42bbd32181c",
   "metadata": {},
   "source": [
    "Interesting to note that the columns `Age`, `Brief Summary`, `Study Type`, and `Funder Type` all have the same number of missing data. Let's explore the dataframe some more:"
   ]
  },
  {
   "cell_type": "code",
   "execution_count": 66,
   "id": "539c06c2-75d7-4633-80e7-796ca754a87b",
   "metadata": {},
   "outputs": [
    {
     "data": {
      "text/html": [
       "<div>\n",
       "<style scoped>\n",
       "    .dataframe tbody tr th:only-of-type {\n",
       "        vertical-align: middle;\n",
       "    }\n",
       "\n",
       "    .dataframe tbody tr th {\n",
       "        vertical-align: top;\n",
       "    }\n",
       "\n",
       "    .dataframe thead th {\n",
       "        text-align: right;\n",
       "    }\n",
       "</style>\n",
       "<table border=\"1\" class=\"dataframe\">\n",
       "  <thead>\n",
       "    <tr style=\"text-align: right;\">\n",
       "      <th></th>\n",
       "      <th>NCT Number</th>\n",
       "      <th>Study Title</th>\n",
       "      <th>Study URL</th>\n",
       "      <th>Study Status</th>\n",
       "      <th>Brief Summary</th>\n",
       "      <th>Study Results</th>\n",
       "      <th>Conditions</th>\n",
       "      <th>Interventions</th>\n",
       "      <th>Primary Outcome Measures</th>\n",
       "      <th>Secondary Outcome Measures</th>\n",
       "      <th>...</th>\n",
       "      <th>Funder Type</th>\n",
       "      <th>Study Type</th>\n",
       "      <th>Study Design</th>\n",
       "      <th>Other IDs</th>\n",
       "      <th>Start Date</th>\n",
       "      <th>Primary Completion Date</th>\n",
       "      <th>Completion Date</th>\n",
       "      <th>First Posted</th>\n",
       "      <th>Last Update Posted</th>\n",
       "      <th>Locations</th>\n",
       "    </tr>\n",
       "  </thead>\n",
       "  <tbody>\n",
       "    <tr>\n",
       "      <th>401571</th>\n",
       "      <td>NCT03124953</td>\n",
       "      <td>[Trial of device that is not approved or clear...</td>\n",
       "      <td>https://clinicaltrials.gov/study/NCT03124953</td>\n",
       "      <td>WITHHELD</td>\n",
       "      <td>NaN</td>\n",
       "      <td>NO</td>\n",
       "      <td>unknown</td>\n",
       "      <td>unknown</td>\n",
       "      <td>unknown</td>\n",
       "      <td>none</td>\n",
       "      <td>...</td>\n",
       "      <td>NaN</td>\n",
       "      <td>NaN</td>\n",
       "      <td>unknown</td>\n",
       "      <td>TR-1000-TP-1007</td>\n",
       "      <td>unknown</td>\n",
       "      <td>unknown</td>\n",
       "      <td>unknown</td>\n",
       "      <td>2017-04-24</td>\n",
       "      <td>2017-04-24</td>\n",
       "      <td>unknown</td>\n",
       "    </tr>\n",
       "    <tr>\n",
       "      <th>240039</th>\n",
       "      <td>NCT06111495</td>\n",
       "      <td>[Trial of device that is not approved or clear...</td>\n",
       "      <td>https://clinicaltrials.gov/study/NCT06111495</td>\n",
       "      <td>WITHHELD</td>\n",
       "      <td>NaN</td>\n",
       "      <td>NO</td>\n",
       "      <td>unknown</td>\n",
       "      <td>unknown</td>\n",
       "      <td>unknown</td>\n",
       "      <td>none</td>\n",
       "      <td>...</td>\n",
       "      <td>NaN</td>\n",
       "      <td>NaN</td>\n",
       "      <td>unknown</td>\n",
       "      <td>PTL-1000221</td>\n",
       "      <td>unknown</td>\n",
       "      <td>unknown</td>\n",
       "      <td>unknown</td>\n",
       "      <td>2023-11-01</td>\n",
       "      <td>2023-11-01</td>\n",
       "      <td>unknown</td>\n",
       "    </tr>\n",
       "    <tr>\n",
       "      <th>3123</th>\n",
       "      <td>NCT05980039</td>\n",
       "      <td>[Trial of device that is not approved or clear...</td>\n",
       "      <td>https://clinicaltrials.gov/study/NCT05980039</td>\n",
       "      <td>WITHHELD</td>\n",
       "      <td>NaN</td>\n",
       "      <td>NO</td>\n",
       "      <td>unknown</td>\n",
       "      <td>unknown</td>\n",
       "      <td>unknown</td>\n",
       "      <td>none</td>\n",
       "      <td>...</td>\n",
       "      <td>NaN</td>\n",
       "      <td>NaN</td>\n",
       "      <td>unknown</td>\n",
       "      <td>CP101125</td>\n",
       "      <td>unknown</td>\n",
       "      <td>unknown</td>\n",
       "      <td>unknown</td>\n",
       "      <td>2023-08-07</td>\n",
       "      <td>2023-10-23</td>\n",
       "      <td>unknown</td>\n",
       "    </tr>\n",
       "    <tr>\n",
       "      <th>141260</th>\n",
       "      <td>NCT00957138</td>\n",
       "      <td>[Trial of device that is not approved or clear...</td>\n",
       "      <td>https://clinicaltrials.gov/study/NCT00957138</td>\n",
       "      <td>WITHHELD</td>\n",
       "      <td>NaN</td>\n",
       "      <td>NO</td>\n",
       "      <td>unknown</td>\n",
       "      <td>unknown</td>\n",
       "      <td>unknown</td>\n",
       "      <td>none</td>\n",
       "      <td>...</td>\n",
       "      <td>NaN</td>\n",
       "      <td>NaN</td>\n",
       "      <td>unknown</td>\n",
       "      <td>AS-02-31</td>\n",
       "      <td>unknown</td>\n",
       "      <td>unknown</td>\n",
       "      <td>unknown</td>\n",
       "      <td>2009-08-12</td>\n",
       "      <td>2016-07-21</td>\n",
       "      <td>unknown</td>\n",
       "    </tr>\n",
       "    <tr>\n",
       "      <th>34909</th>\n",
       "      <td>NCT02223663</td>\n",
       "      <td>[Trial of device that is not approved or clear...</td>\n",
       "      <td>https://clinicaltrials.gov/study/NCT02223663</td>\n",
       "      <td>WITHHELD</td>\n",
       "      <td>NaN</td>\n",
       "      <td>NO</td>\n",
       "      <td>unknown</td>\n",
       "      <td>unknown</td>\n",
       "      <td>unknown</td>\n",
       "      <td>none</td>\n",
       "      <td>...</td>\n",
       "      <td>NaN</td>\n",
       "      <td>NaN</td>\n",
       "      <td>unknown</td>\n",
       "      <td>075593</td>\n",
       "      <td>unknown</td>\n",
       "      <td>unknown</td>\n",
       "      <td>unknown</td>\n",
       "      <td>2014-08-22</td>\n",
       "      <td>2018-04-05</td>\n",
       "      <td>unknown</td>\n",
       "    </tr>\n",
       "  </tbody>\n",
       "</table>\n",
       "<p>5 rows × 26 columns</p>\n",
       "</div>"
      ],
      "text/plain": [
       "         NCT Number                                        Study Title  \\\n",
       "401571  NCT03124953  [Trial of device that is not approved or clear...   \n",
       "240039  NCT06111495  [Trial of device that is not approved or clear...   \n",
       "3123    NCT05980039  [Trial of device that is not approved or clear...   \n",
       "141260  NCT00957138  [Trial of device that is not approved or clear...   \n",
       "34909   NCT02223663  [Trial of device that is not approved or clear...   \n",
       "\n",
       "                                           Study URL Study Status  \\\n",
       "401571  https://clinicaltrials.gov/study/NCT03124953     WITHHELD   \n",
       "240039  https://clinicaltrials.gov/study/NCT06111495     WITHHELD   \n",
       "3123    https://clinicaltrials.gov/study/NCT05980039     WITHHELD   \n",
       "141260  https://clinicaltrials.gov/study/NCT00957138     WITHHELD   \n",
       "34909   https://clinicaltrials.gov/study/NCT02223663     WITHHELD   \n",
       "\n",
       "       Brief Summary Study Results Conditions Interventions  \\\n",
       "401571           NaN            NO    unknown       unknown   \n",
       "240039           NaN            NO    unknown       unknown   \n",
       "3123             NaN            NO    unknown       unknown   \n",
       "141260           NaN            NO    unknown       unknown   \n",
       "34909            NaN            NO    unknown       unknown   \n",
       "\n",
       "       Primary Outcome Measures Secondary Outcome Measures  ... Funder Type  \\\n",
       "401571                  unknown                       none  ...         NaN   \n",
       "240039                  unknown                       none  ...         NaN   \n",
       "3123                    unknown                       none  ...         NaN   \n",
       "141260                  unknown                       none  ...         NaN   \n",
       "34909                   unknown                       none  ...         NaN   \n",
       "\n",
       "       Study Type Study Design        Other IDs Start Date  \\\n",
       "401571        NaN      unknown  TR-1000-TP-1007    unknown   \n",
       "240039        NaN      unknown      PTL-1000221    unknown   \n",
       "3123          NaN      unknown         CP101125    unknown   \n",
       "141260        NaN      unknown         AS-02-31    unknown   \n",
       "34909         NaN      unknown           075593    unknown   \n",
       "\n",
       "        Primary Completion Date Completion Date First Posted  \\\n",
       "401571                  unknown         unknown   2017-04-24   \n",
       "240039                  unknown         unknown   2023-11-01   \n",
       "3123                    unknown         unknown   2023-08-07   \n",
       "141260                  unknown         unknown   2009-08-12   \n",
       "34909                   unknown         unknown   2014-08-22   \n",
       "\n",
       "       Last Update Posted Locations  \n",
       "401571         2017-04-24   unknown  \n",
       "240039         2023-11-01   unknown  \n",
       "3123           2023-10-23   unknown  \n",
       "141260         2016-07-21   unknown  \n",
       "34909          2018-04-05   unknown  \n",
       "\n",
       "[5 rows x 26 columns]"
      ]
     },
     "execution_count": 66,
     "metadata": {},
     "output_type": "execute_result"
    }
   ],
   "source": [
    "# We can specifically look at the rows that have missing values with .isna().any()\n",
    "df[df.isna().any(axis=1)].sample(5)"
   ]
  },
  {
   "cell_type": "markdown",
   "id": "05ee4091-85fe-42e7-9a73-0a96021da00c",
   "metadata": {},
   "source": [
    "Here we can see that the missing values are consistently in all the rows with the columns `Age`, `Brief Summary`, `Study Type`, and `Funder Type`. Additionally, they all have the study status 'WITHHELD', meaning that the the clinical study was suppressed and never made it to the actual trial phase (which is not important to our model). Let's make sure by comparing the number of NaN values with the number of 'WITHHELD' values in the `Study Status` column."
   ]
  },
  {
   "cell_type": "code",
   "execution_count": 67,
   "id": "e62c80ed-b92a-4ae5-9c77-f7cac3de2904",
   "metadata": {
    "tags": []
   },
   "outputs": [
    {
     "data": {
      "text/plain": [
       "Study Status\n",
       "COMPLETED                    263380\n",
       "RECRUITING                    66150\n",
       "UNKNOWN                       64828\n",
       "TERMINATED                    28014\n",
       "NOT_YET_RECRUITING            20055\n",
       "ACTIVE_NOT_RECRUITING         19702\n",
       "WITHDRAWN                     13716\n",
       "ENROLLING_BY_INVITATION        3931\n",
       "SUSPENDED                      1646\n",
       "WITHHELD                        888\n",
       "NO_LONGER_AVAILABLE             446\n",
       "AVAILABLE                       259\n",
       "APPROVED_FOR_MARKETING          197\n",
       "TEMPORARILY_NOT_AVAILABLE        26\n",
       "Name: count, dtype: int64"
      ]
     },
     "execution_count": 67,
     "metadata": {},
     "output_type": "execute_result"
    }
   ],
   "source": [
    "# Using .value_counts() to find number of WITHHELD\n",
    "df['Study Status'].value_counts()"
   ]
  },
  {
   "cell_type": "code",
   "execution_count": 68,
   "id": "dadbad40-92c7-42c9-86d2-342fed9d70ef",
   "metadata": {
    "tags": []
   },
   "outputs": [
    {
     "data": {
      "text/plain": [
       "888"
      ]
     },
     "execution_count": 68,
     "metadata": {},
     "output_type": "execute_result"
    }
   ],
   "source": [
    "# Finding the number of missing values in the 'Age' column with isna().sum()\n",
    "df['Age'].isna().sum()"
   ]
  },
  {
   "cell_type": "markdown",
   "id": "0cbd171a-477c-4ade-b657-42098fc606bc",
   "metadata": {},
   "source": [
    "Now that we know that the missing values in those columns are caused by the 'WITHHELD' status in the `Study Status` column, we can just drop the rows that have the string 'WITHHELD' to remove all the NaN values."
   ]
  },
  {
   "cell_type": "code",
   "execution_count": 69,
   "id": "9189942c-6ed0-405e-8e72-274865b1bb3c",
   "metadata": {
    "tags": []
   },
   "outputs": [],
   "source": [
    "# Slicing out the index where study status has the value 'WITHHELD' and then dropping it from the dataframe\n",
    "df.drop(df[df['Study Status'] == 'WITHHELD'].index, inplace = True)"
   ]
  },
  {
   "cell_type": "code",
   "execution_count": 70,
   "id": "2f85e024-5bbe-4633-a05c-5a60fa85f7fe",
   "metadata": {
    "tags": []
   },
   "outputs": [
    {
     "name": "stdout",
     "output_type": "stream",
     "text": [
      "<class 'pandas.core.frame.DataFrame'>\n",
      "Index: 482350 entries, 0 to 483237\n",
      "Data columns (total 26 columns):\n",
      " #   Column                      Non-Null Count   Dtype \n",
      "---  ------                      --------------   ----- \n",
      " 0   NCT Number                  482350 non-null  object\n",
      " 1   Study Title                 482350 non-null  object\n",
      " 2   Study URL                   482350 non-null  object\n",
      " 3   Study Status                482350 non-null  object\n",
      " 4   Brief Summary               482350 non-null  object\n",
      " 5   Study Results               482350 non-null  object\n",
      " 6   Conditions                  482350 non-null  object\n",
      " 7   Interventions               482350 non-null  object\n",
      " 8   Primary Outcome Measures    482350 non-null  object\n",
      " 9   Secondary Outcome Measures  482350 non-null  object\n",
      " 10  Sponsor                     482350 non-null  object\n",
      " 11  Collaborators               482350 non-null  object\n",
      " 12  Sex                         482350 non-null  object\n",
      " 13  Age                         482350 non-null  object\n",
      " 14  Phases                      482350 non-null  object\n",
      " 15  Enrollment                  482350 non-null  int32 \n",
      " 16  Funder Type                 482350 non-null  object\n",
      " 17  Study Type                  482350 non-null  object\n",
      " 18  Study Design                482350 non-null  object\n",
      " 19  Other IDs                   482294 non-null  object\n",
      " 20  Start Date                  482350 non-null  object\n",
      " 21  Primary Completion Date     482350 non-null  object\n",
      " 22  Completion Date             482350 non-null  object\n",
      " 23  First Posted                482350 non-null  object\n",
      " 24  Last Update Posted          482350 non-null  object\n",
      " 25  Locations                   482350 non-null  object\n",
      "dtypes: int32(1), object(25)\n",
      "memory usage: 97.5+ MB\n"
     ]
    }
   ],
   "source": [
    "# Sanity check: we should have 438,238 - 888 = 482,350 total rows\n",
    "df.info()"
   ]
  },
  {
   "cell_type": "markdown",
   "id": "da604dad-1fe4-454e-a90f-4e95c81e2c4c",
   "metadata": {},
   "source": [
    "Great! Now we have 482,350 rows now that 888 entries have been removed. We also need to reset the index after rows have been removed. Next, we will check the final column with missing values:"
   ]
  },
  {
   "cell_type": "code",
   "execution_count": 71,
   "id": "e707ef30-18c5-4f41-8c8d-b12c24ed1bf6",
   "metadata": {
    "tags": []
   },
   "outputs": [],
   "source": [
    "df.reset_index(drop = True, inplace = True)"
   ]
  },
  {
   "cell_type": "code",
   "execution_count": 72,
   "id": "c8496dae-515d-41d4-b036-8d407c8bc847",
   "metadata": {
    "tags": []
   },
   "outputs": [
    {
     "data": {
      "text/plain": [
       "Other IDs                     0.01161\n",
       "NCT Number                    0.00000\n",
       "Study Title                   0.00000\n",
       "Last Update Posted            0.00000\n",
       "First Posted                  0.00000\n",
       "Completion Date               0.00000\n",
       "Primary Completion Date       0.00000\n",
       "Start Date                    0.00000\n",
       "Study Design                  0.00000\n",
       "Study Type                    0.00000\n",
       "Funder Type                   0.00000\n",
       "Enrollment                    0.00000\n",
       "Phases                        0.00000\n",
       "Age                           0.00000\n",
       "Sex                           0.00000\n",
       "Collaborators                 0.00000\n",
       "Sponsor                       0.00000\n",
       "Secondary Outcome Measures    0.00000\n",
       "Primary Outcome Measures      0.00000\n",
       "Interventions                 0.00000\n",
       "Conditions                    0.00000\n",
       "Study Results                 0.00000\n",
       "Brief Summary                 0.00000\n",
       "Study Status                  0.00000\n",
       "Study URL                     0.00000\n",
       "Locations                     0.00000\n",
       "dtype: float64"
      ]
     },
     "execution_count": 72,
     "metadata": {},
     "output_type": "execute_result"
    }
   ],
   "source": [
    "# Checking for percentages of missing values in dataframe\n",
    "((df.isna().sum() / df.shape[0])*100).sort_values(ascending = False)"
   ]
  },
  {
   "cell_type": "markdown",
   "id": "84aab4b2-ae8d-4f31-90b1-0c06a6d789a6",
   "metadata": {},
   "source": [
    "Even though the column `Other IDs` have very little missing data (**0.01%** data missing), we don't really have a use for the IDs, since we won't be including a dictionary for what the 'Other IDs' mean. Therefore, we will remove that column from the dataset."
   ]
  },
  {
   "cell_type": "code",
   "execution_count": 73,
   "id": "7dc99745-31e3-4dfa-8196-b3d1905b6c3a",
   "metadata": {
    "tags": []
   },
   "outputs": [],
   "source": [
    "# Dropping the `Other IDs` column\n",
    "df.drop(columns = 'Other IDs', inplace = True)"
   ]
  },
  {
   "cell_type": "code",
   "execution_count": 74,
   "id": "5d18c7b1-843a-4f23-9a4c-7507c9b1cbc8",
   "metadata": {
    "tags": []
   },
   "outputs": [
    {
     "data": {
      "text/plain": [
       "NCT Number                    0.0\n",
       "Age                           0.0\n",
       "Last Update Posted            0.0\n",
       "First Posted                  0.0\n",
       "Completion Date               0.0\n",
       "Primary Completion Date       0.0\n",
       "Start Date                    0.0\n",
       "Study Design                  0.0\n",
       "Study Type                    0.0\n",
       "Funder Type                   0.0\n",
       "Enrollment                    0.0\n",
       "Phases                        0.0\n",
       "Sex                           0.0\n",
       "Study Title                   0.0\n",
       "Collaborators                 0.0\n",
       "Sponsor                       0.0\n",
       "Secondary Outcome Measures    0.0\n",
       "Primary Outcome Measures      0.0\n",
       "Interventions                 0.0\n",
       "Conditions                    0.0\n",
       "Study Results                 0.0\n",
       "Brief Summary                 0.0\n",
       "Study Status                  0.0\n",
       "Study URL                     0.0\n",
       "Locations                     0.0\n",
       "dtype: float64"
      ]
     },
     "execution_count": 74,
     "metadata": {},
     "output_type": "execute_result"
    }
   ],
   "source": [
    "# Final check for missing values in the dataset\n",
    "((df.isna().sum() / df.shape[0])*100).sort_values(ascending = False)"
   ]
  },
  {
   "cell_type": "markdown",
   "id": "65f59134-f58e-4125-8de8-f9ef70d312e5",
   "metadata": {},
   "source": [
    "Now that all the missing values have been filled. Let's explore each column of the dataframe and find out what information we do not need for the model."
   ]
  },
  {
   "cell_type": "code",
   "execution_count": 75,
   "id": "68c67e98-434b-4ab8-8127-da4dbca4f81f",
   "metadata": {},
   "outputs": [],
   "source": [
    "# this option displays all columns in the dataframe\n",
    "pd.options.display.max_columns = None"
   ]
  },
  {
   "cell_type": "code",
   "execution_count": 76,
   "id": "4592cb52-3c29-4111-b756-dcf0f202dc72",
   "metadata": {},
   "outputs": [
    {
     "data": {
      "text/html": [
       "<div>\n",
       "<style scoped>\n",
       "    .dataframe tbody tr th:only-of-type {\n",
       "        vertical-align: middle;\n",
       "    }\n",
       "\n",
       "    .dataframe tbody tr th {\n",
       "        vertical-align: top;\n",
       "    }\n",
       "\n",
       "    .dataframe thead th {\n",
       "        text-align: right;\n",
       "    }\n",
       "</style>\n",
       "<table border=\"1\" class=\"dataframe\">\n",
       "  <thead>\n",
       "    <tr style=\"text-align: right;\">\n",
       "      <th></th>\n",
       "      <th>NCT Number</th>\n",
       "      <th>Study Title</th>\n",
       "      <th>Study URL</th>\n",
       "      <th>Study Status</th>\n",
       "      <th>Brief Summary</th>\n",
       "      <th>Study Results</th>\n",
       "      <th>Conditions</th>\n",
       "      <th>Interventions</th>\n",
       "      <th>Primary Outcome Measures</th>\n",
       "      <th>Secondary Outcome Measures</th>\n",
       "      <th>Sponsor</th>\n",
       "      <th>Collaborators</th>\n",
       "      <th>Sex</th>\n",
       "      <th>Age</th>\n",
       "      <th>Phases</th>\n",
       "      <th>Enrollment</th>\n",
       "      <th>Funder Type</th>\n",
       "      <th>Study Type</th>\n",
       "      <th>Study Design</th>\n",
       "      <th>Start Date</th>\n",
       "      <th>Primary Completion Date</th>\n",
       "      <th>Completion Date</th>\n",
       "      <th>First Posted</th>\n",
       "      <th>Last Update Posted</th>\n",
       "      <th>Locations</th>\n",
       "    </tr>\n",
       "  </thead>\n",
       "  <tbody>\n",
       "    <tr>\n",
       "      <th>0</th>\n",
       "      <td>NCT03630471</td>\n",
       "      <td>Effectiveness of a Problem-solving Interventio...</td>\n",
       "      <td>https://clinicaltrials.gov/study/NCT03630471</td>\n",
       "      <td>COMPLETED</td>\n",
       "      <td>We will conduct a two-arm individually randomi...</td>\n",
       "      <td>NO</td>\n",
       "      <td>Mental Health Issue (E.G., Depression, Psychos...</td>\n",
       "      <td>behavioral: pride 'step 1' problem-solving int...</td>\n",
       "      <td>Mental health symptoms, The Strengths and Diff...</td>\n",
       "      <td>Mental health symptoms, The adolescent-reporte...</td>\n",
       "      <td>Sangath</td>\n",
       "      <td>Harvard Medical School (HMS and HSDM)|London S...</td>\n",
       "      <td>ALL</td>\n",
       "      <td>CHILD, ADULT</td>\n",
       "      <td>NO PHASE</td>\n",
       "      <td>250</td>\n",
       "      <td>OTHER</td>\n",
       "      <td>INTERVENTIONAL</td>\n",
       "      <td>Allocation: RANDOMIZED|Intervention Model: PAR...</td>\n",
       "      <td>2018-08-20</td>\n",
       "      <td>2019-01-20</td>\n",
       "      <td>2019-02-28</td>\n",
       "      <td>2018-08-14</td>\n",
       "      <td>2019-05-21</td>\n",
       "      <td>Sangath, New Delhi, Delhi, 110016, India</td>\n",
       "    </tr>\n",
       "    <tr>\n",
       "      <th>1</th>\n",
       "      <td>NCT05992571</td>\n",
       "      <td>Oral Ketone Monoester Supplementation and Rest...</td>\n",
       "      <td>https://clinicaltrials.gov/study/NCT05992571</td>\n",
       "      <td>RECRUITING</td>\n",
       "      <td>People who report subjective memory complaints...</td>\n",
       "      <td>NO</td>\n",
       "      <td>Cerebrovascular Function|Cognition</td>\n",
       "      <td>other: placebo|dietary_supplement: β-ohb</td>\n",
       "      <td>Brain network connectivity, Functional connect...</td>\n",
       "      <td>Working memory, Computer battery to assess wor...</td>\n",
       "      <td>McMaster University</td>\n",
       "      <td>Alzheimer's Society of Brant, Haldimand Norfol...</td>\n",
       "      <td>ALL</td>\n",
       "      <td>ADULT, OLDER_ADULT</td>\n",
       "      <td>NO PHASE</td>\n",
       "      <td>30</td>\n",
       "      <td>OTHER</td>\n",
       "      <td>INTERVENTIONAL</td>\n",
       "      <td>Allocation: RANDOMIZED|Intervention Model: CRO...</td>\n",
       "      <td>2023-10-25</td>\n",
       "      <td>2024-08</td>\n",
       "      <td>2024-08</td>\n",
       "      <td>2023-08-15</td>\n",
       "      <td>2023-12-01</td>\n",
       "      <td>McMaster University, Hamilton, Ontario, L8S 4K...</td>\n",
       "    </tr>\n",
       "    <tr>\n",
       "      <th>2</th>\n",
       "      <td>NCT01854671</td>\n",
       "      <td>Investigating the Effect of a Prenatal Family ...</td>\n",
       "      <td>https://clinicaltrials.gov/study/NCT01854671</td>\n",
       "      <td>COMPLETED</td>\n",
       "      <td>The purpose of this study is to measure the di...</td>\n",
       "      <td>NO</td>\n",
       "      <td>Focus: Contraceptive Counseling|Focus: Postpar...</td>\n",
       "      <td>other: family planning counseling let by commu...</td>\n",
       "      <td>Self-reported contraceptive use, 6 months post...</td>\n",
       "      <td>Intent to use contraception in the future, 6 m...</td>\n",
       "      <td>Planned Parenthood League of Massachusetts</td>\n",
       "      <td>Society for Family Planning Research Fund</td>\n",
       "      <td>FEMALE</td>\n",
       "      <td>CHILD, ADULT, OLDER_ADULT</td>\n",
       "      <td>NO PHASE</td>\n",
       "      <td>176</td>\n",
       "      <td>OTHER</td>\n",
       "      <td>INTERVENTIONAL</td>\n",
       "      <td>Allocation: NON_RANDOMIZED|Intervention Model:...</td>\n",
       "      <td>2013-08</td>\n",
       "      <td>2014-12</td>\n",
       "      <td>2014-12</td>\n",
       "      <td>2013-05-15</td>\n",
       "      <td>2015-08-17</td>\n",
       "      <td>Palestinian Ministry of Health Maternal Child ...</td>\n",
       "    </tr>\n",
       "    <tr>\n",
       "      <th>3</th>\n",
       "      <td>NCT03869671</td>\n",
       "      <td>Pre-exposure Prophylaxis (PrEP) for People Who...</td>\n",
       "      <td>https://clinicaltrials.gov/study/NCT03869671</td>\n",
       "      <td>WITHDRAWN</td>\n",
       "      <td>People who inject drugs (PWID) experience high...</td>\n",
       "      <td>NO</td>\n",
       "      <td>Intravenous Drug Abuse</td>\n",
       "      <td>behavioral: prep uptake/adherence intervention...</td>\n",
       "      <td>PrEP uptake by self-report, measured using 1 i...</td>\n",
       "      <td>Participant satisfaction with intervention con...</td>\n",
       "      <td>Boston University</td>\n",
       "      <td>National Institute on Drug Abuse (NIDA)</td>\n",
       "      <td>ALL</td>\n",
       "      <td>ADULT, OLDER_ADULT</td>\n",
       "      <td>NO PHASE</td>\n",
       "      <td>0</td>\n",
       "      <td>OTHER</td>\n",
       "      <td>INTERVENTIONAL</td>\n",
       "      <td>Allocation: RANDOMIZED|Intervention Model: PAR...</td>\n",
       "      <td>2021-03</td>\n",
       "      <td>2022-03</td>\n",
       "      <td>2022-03</td>\n",
       "      <td>2019-03-11</td>\n",
       "      <td>2021-03-10</td>\n",
       "      <td>unknown</td>\n",
       "    </tr>\n",
       "    <tr>\n",
       "      <th>4</th>\n",
       "      <td>NCT02945371</td>\n",
       "      <td>Tailored Inhibitory Control Training to Revers...</td>\n",
       "      <td>https://clinicaltrials.gov/study/NCT02945371</td>\n",
       "      <td>COMPLETED</td>\n",
       "      <td>Insufficient inhibitory control is one pathway...</td>\n",
       "      <td>NO</td>\n",
       "      <td>Smoking|Alcohol Drinking|Prescription Drug Abu...</td>\n",
       "      <td>behavioral: person-centered inhibitory control...</td>\n",
       "      <td>Inhibitory control performance, Task 1, Perfor...</td>\n",
       "      <td>Far transfer to a task related to inhibitory c...</td>\n",
       "      <td>University of Oregon</td>\n",
       "      <td>none</td>\n",
       "      <td>ALL</td>\n",
       "      <td>ADULT</td>\n",
       "      <td>NO PHASE</td>\n",
       "      <td>103</td>\n",
       "      <td>OTHER</td>\n",
       "      <td>INTERVENTIONAL</td>\n",
       "      <td>Allocation: RANDOMIZED|Intervention Model: PAR...</td>\n",
       "      <td>2014-09</td>\n",
       "      <td>2016-04</td>\n",
       "      <td>2016-05</td>\n",
       "      <td>2016-10-26</td>\n",
       "      <td>2016-10-26</td>\n",
       "      <td>University of Oregon, Social and Affective Neu...</td>\n",
       "    </tr>\n",
       "  </tbody>\n",
       "</table>\n",
       "</div>"
      ],
      "text/plain": [
       "    NCT Number                                        Study Title  \\\n",
       "0  NCT03630471  Effectiveness of a Problem-solving Interventio...   \n",
       "1  NCT05992571  Oral Ketone Monoester Supplementation and Rest...   \n",
       "2  NCT01854671  Investigating the Effect of a Prenatal Family ...   \n",
       "3  NCT03869671  Pre-exposure Prophylaxis (PrEP) for People Who...   \n",
       "4  NCT02945371  Tailored Inhibitory Control Training to Revers...   \n",
       "\n",
       "                                      Study URL Study Status  \\\n",
       "0  https://clinicaltrials.gov/study/NCT03630471    COMPLETED   \n",
       "1  https://clinicaltrials.gov/study/NCT05992571   RECRUITING   \n",
       "2  https://clinicaltrials.gov/study/NCT01854671    COMPLETED   \n",
       "3  https://clinicaltrials.gov/study/NCT03869671    WITHDRAWN   \n",
       "4  https://clinicaltrials.gov/study/NCT02945371    COMPLETED   \n",
       "\n",
       "                                       Brief Summary Study Results  \\\n",
       "0  We will conduct a two-arm individually randomi...            NO   \n",
       "1  People who report subjective memory complaints...            NO   \n",
       "2  The purpose of this study is to measure the di...            NO   \n",
       "3  People who inject drugs (PWID) experience high...            NO   \n",
       "4  Insufficient inhibitory control is one pathway...            NO   \n",
       "\n",
       "                                          Conditions  \\\n",
       "0  Mental Health Issue (E.G., Depression, Psychos...   \n",
       "1                 Cerebrovascular Function|Cognition   \n",
       "2  Focus: Contraceptive Counseling|Focus: Postpar...   \n",
       "3                             Intravenous Drug Abuse   \n",
       "4  Smoking|Alcohol Drinking|Prescription Drug Abu...   \n",
       "\n",
       "                                       Interventions  \\\n",
       "0  behavioral: pride 'step 1' problem-solving int...   \n",
       "1           other: placebo|dietary_supplement: β-ohb   \n",
       "2  other: family planning counseling let by commu...   \n",
       "3  behavioral: prep uptake/adherence intervention...   \n",
       "4  behavioral: person-centered inhibitory control...   \n",
       "\n",
       "                            Primary Outcome Measures  \\\n",
       "0  Mental health symptoms, The Strengths and Diff...   \n",
       "1  Brain network connectivity, Functional connect...   \n",
       "2  Self-reported contraceptive use, 6 months post...   \n",
       "3  PrEP uptake by self-report, measured using 1 i...   \n",
       "4  Inhibitory control performance, Task 1, Perfor...   \n",
       "\n",
       "                          Secondary Outcome Measures  \\\n",
       "0  Mental health symptoms, The adolescent-reporte...   \n",
       "1  Working memory, Computer battery to assess wor...   \n",
       "2  Intent to use contraception in the future, 6 m...   \n",
       "3  Participant satisfaction with intervention con...   \n",
       "4  Far transfer to a task related to inhibitory c...   \n",
       "\n",
       "                                      Sponsor  \\\n",
       "0                                     Sangath   \n",
       "1                         McMaster University   \n",
       "2  Planned Parenthood League of Massachusetts   \n",
       "3                           Boston University   \n",
       "4                        University of Oregon   \n",
       "\n",
       "                                       Collaborators     Sex  \\\n",
       "0  Harvard Medical School (HMS and HSDM)|London S...     ALL   \n",
       "1  Alzheimer's Society of Brant, Haldimand Norfol...     ALL   \n",
       "2          Society for Family Planning Research Fund  FEMALE   \n",
       "3            National Institute on Drug Abuse (NIDA)     ALL   \n",
       "4                                               none     ALL   \n",
       "\n",
       "                         Age    Phases  Enrollment Funder Type  \\\n",
       "0               CHILD, ADULT  NO PHASE         250       OTHER   \n",
       "1         ADULT, OLDER_ADULT  NO PHASE          30       OTHER   \n",
       "2  CHILD, ADULT, OLDER_ADULT  NO PHASE         176       OTHER   \n",
       "3         ADULT, OLDER_ADULT  NO PHASE           0       OTHER   \n",
       "4                      ADULT  NO PHASE         103       OTHER   \n",
       "\n",
       "       Study Type                                       Study Design  \\\n",
       "0  INTERVENTIONAL  Allocation: RANDOMIZED|Intervention Model: PAR...   \n",
       "1  INTERVENTIONAL  Allocation: RANDOMIZED|Intervention Model: CRO...   \n",
       "2  INTERVENTIONAL  Allocation: NON_RANDOMIZED|Intervention Model:...   \n",
       "3  INTERVENTIONAL  Allocation: RANDOMIZED|Intervention Model: PAR...   \n",
       "4  INTERVENTIONAL  Allocation: RANDOMIZED|Intervention Model: PAR...   \n",
       "\n",
       "   Start Date Primary Completion Date Completion Date First Posted  \\\n",
       "0  2018-08-20              2019-01-20      2019-02-28   2018-08-14   \n",
       "1  2023-10-25                 2024-08         2024-08   2023-08-15   \n",
       "2     2013-08                 2014-12         2014-12   2013-05-15   \n",
       "3     2021-03                 2022-03         2022-03   2019-03-11   \n",
       "4     2014-09                 2016-04         2016-05   2016-10-26   \n",
       "\n",
       "  Last Update Posted                                          Locations  \n",
       "0         2019-05-21           Sangath, New Delhi, Delhi, 110016, India  \n",
       "1         2023-12-01  McMaster University, Hamilton, Ontario, L8S 4K...  \n",
       "2         2015-08-17  Palestinian Ministry of Health Maternal Child ...  \n",
       "3         2021-03-10                                            unknown  \n",
       "4         2016-10-26  University of Oregon, Social and Affective Neu...  "
      ]
     },
     "execution_count": 76,
     "metadata": {},
     "output_type": "execute_result"
    }
   ],
   "source": [
    "# Reading the updated dataframe\n",
    "df.head()"
   ]
  },
  {
   "cell_type": "markdown",
   "id": "19e3a401-2de5-437d-bb02-e524c8751083",
   "metadata": {},
   "source": [
    "From our dataset here are the columns that we do not need:\n",
    "1. `NCT Number` (this column contains unique IDs). We are not looking at individual studies, but rather clinical trials as a whole and why they are terminated.\n",
    "2. `Study URL` (Contains link to study). We won't be opening the URLs in this analysis, so this column should be dropped."
   ]
  },
  {
   "cell_type": "code",
   "execution_count": 77,
   "id": "82eaca9f-58f6-4f73-b9b7-b18bfc56879e",
   "metadata": {
    "tags": []
   },
   "outputs": [],
   "source": [
    "# Dropping the `NCT Number` and `Study URL` column\n",
    "df.drop(columns = ['NCT Number', 'Study URL'], inplace = True)"
   ]
  },
  {
   "cell_type": "code",
   "execution_count": 78,
   "id": "3b7ccd4a-ddd3-4f27-b139-72d5851e4020",
   "metadata": {
    "tags": []
   },
   "outputs": [
    {
     "name": "stdout",
     "output_type": "stream",
     "text": [
      "<class 'pandas.core.frame.DataFrame'>\n",
      "RangeIndex: 482350 entries, 0 to 482349\n",
      "Data columns (total 23 columns):\n",
      " #   Column                      Non-Null Count   Dtype \n",
      "---  ------                      --------------   ----- \n",
      " 0   Study Title                 482350 non-null  object\n",
      " 1   Study Status                482350 non-null  object\n",
      " 2   Brief Summary               482350 non-null  object\n",
      " 3   Study Results               482350 non-null  object\n",
      " 4   Conditions                  482350 non-null  object\n",
      " 5   Interventions               482350 non-null  object\n",
      " 6   Primary Outcome Measures    482350 non-null  object\n",
      " 7   Secondary Outcome Measures  482350 non-null  object\n",
      " 8   Sponsor                     482350 non-null  object\n",
      " 9   Collaborators               482350 non-null  object\n",
      " 10  Sex                         482350 non-null  object\n",
      " 11  Age                         482350 non-null  object\n",
      " 12  Phases                      482350 non-null  object\n",
      " 13  Enrollment                  482350 non-null  int32 \n",
      " 14  Funder Type                 482350 non-null  object\n",
      " 15  Study Type                  482350 non-null  object\n",
      " 16  Study Design                482350 non-null  object\n",
      " 17  Start Date                  482350 non-null  object\n",
      " 18  Primary Completion Date     482350 non-null  object\n",
      " 19  Completion Date             482350 non-null  object\n",
      " 20  First Posted                482350 non-null  object\n",
      " 21  Last Update Posted          482350 non-null  object\n",
      " 22  Locations                   482350 non-null  object\n",
      "dtypes: int32(1), object(22)\n",
      "memory usage: 82.8+ MB\n"
     ]
    }
   ],
   "source": [
    "# Sanity check that columns have been dropped using .info()\n",
    "df.info()"
   ]
  },
  {
   "cell_type": "markdown",
   "id": "03d15e42-90b0-464c-a3ee-46adbc596a9f",
   "metadata": {},
   "source": [
    "Now that we have finished cleaning a chunk of the dataset, let's dive deeper into the dataset and start looking at our targeted column."
   ]
  },
  {
   "cell_type": "markdown",
   "id": "b709a8c4-617e-403c-b03b-99bf2d0a6a54",
   "metadata": {},
   "source": [
    "<a id = 'EDA'><a/>\n",
    "    \n",
    "## Exploratory Data Analysis (EDA)\n",
    "    \n",
    "[Back to Table of Contents](#toc)\n",
    "\n",
    "---\n",
    "\n",
    "Since we are looking for factors associated with Clinical Trial terminations, we should first look at the targeted column `Study Status` which contains the information of whether the trial was terminated or not."
   ]
  },
  {
   "cell_type": "code",
   "execution_count": 80,
   "id": "0599431c-ae8f-4dc5-b511-77c29ca00ba7",
   "metadata": {
    "tags": []
   },
   "outputs": [
    {
     "data": {
      "text/plain": [
       "Study Status\n",
       "COMPLETED                    263380\n",
       "RECRUITING                    66150\n",
       "UNKNOWN                       64828\n",
       "TERMINATED                    28014\n",
       "NOT_YET_RECRUITING            20055\n",
       "ACTIVE_NOT_RECRUITING         19702\n",
       "WITHDRAWN                     13716\n",
       "ENROLLING_BY_INVITATION        3931\n",
       "SUSPENDED                      1646\n",
       "NO_LONGER_AVAILABLE             446\n",
       "AVAILABLE                       259\n",
       "APPROVED_FOR_MARKETING          197\n",
       "TEMPORARILY_NOT_AVAILABLE        26\n",
       "Name: count, dtype: int64"
      ]
     },
     "execution_count": 80,
     "metadata": {},
     "output_type": "execute_result"
    }
   ],
   "source": [
    "df['Study Status'].value_counts()"
   ]
  },
  {
   "cell_type": "code",
   "execution_count": 82,
   "id": "9c140e7e-777e-4041-8c29-11d7a9ddd8ee",
   "metadata": {
    "tags": []
   },
   "outputs": [
    {
     "data": {
      "image/png": "[encoded data removed]",
      "text/plain": [
       "<Figure size 640x480 with 1 Axes>"
      ]
     },
     "metadata": {},
     "output_type": "display_data"
    }
   ],
   "source": [
    "# Let's visualize this with a bar chart\n",
    "plt.figure()\n",
    "\n",
    "df['Study Status'].value_counts().plot(kind='barh')\n",
    "\n",
    "plt.show()"
   ]
  },
  {
   "cell_type": "markdown",
   "id": "29a5465c-acd7-498c-9901-c55c9ee8da6d",
   "metadata": {},
   "source": [
    "There are a lot of different categories in this column. We should remove the categories that are not related to the scope of the problem, such has 'Temporarily_not_available', 'Approved_For_Marketing'..."
   ]
  },
  {
   "cell_type": "code",
   "execution_count": null,
   "id": "8cd48f67-1a2e-49c7-ac06-b89db3129eaa",
   "metadata": {},
   "outputs": [],
   "source": []
  },
  {
   "cell_type": "code",
   "execution_count": null,
   "id": "5a3d1916-73c2-441a-8155-9d836366ff24",
   "metadata": {},
   "outputs": [],
   "source": []
  },
  {
   "cell_type": "code",
   "execution_count": 84,
   "id": "d42dc917-b14f-475b-bdb6-bc56f84d8237",
   "metadata": {
    "tags": []
   },
   "outputs": [
    {
     "data": {
      "text/plain": [
       "Sponsor\n",
       "GlaxoSmithKline                          3483\n",
       "National Cancer Institute (NCI)          3410\n",
       "Assiut University                        3334\n",
       "Pfizer                                   3045\n",
       "AstraZeneca                              3024\n",
       "                                         ... \n",
       "Plotnikoff, Gregory A., M.D.                1\n",
       "Májbetegekért Alapítvány                    1\n",
       "Universidad Francisco Marroquín             1\n",
       "Dr. Erfan and Bagedo General Hospital       1\n",
       "U.S. Nutraceuticals, LLC                    1\n",
       "Name: count, Length: 41664, dtype: int64"
      ]
     },
     "execution_count": 84,
     "metadata": {},
     "output_type": "execute_result"
    }
   ],
   "source": [
    "df['Sponsor'].value_counts()"
   ]
  },
  {
   "cell_type": "code",
   "execution_count": null,
   "id": "1a6264f6-d59c-4f11-9e2c-7edd91f3cac8",
   "metadata": {
    "tags": []
   },
   "outputs": [
    {
     "name": "stderr",
     "output_type": "stream",
     "text": [
      "\n",
      "KeyboardInterrupt\n",
      "\n"
     ]
    },
    {
     "name": "stdout",
     "output_type": "stream",
     "text": [
      "Error in callback <function _draw_all_if_interactive at 0x000001DB2BB76A20> (for post_execute):\n"
     ]
    },
    {
     "name": "stderr",
     "output_type": "stream",
     "text": [
      "\n",
      "KeyboardInterrupt\n",
      "\n"
     ]
    }
   ],
   "source": [
    "plt.figure()\n",
    "\n",
    "df['Sponsor'].value_counts().plot(kind='bar')\n",
    "\n",
    "plt.show()"
   ]
  }
 ],
 "metadata": {
  "kernelspec": {
   "display_name": "Clinical_Trial_env",
   "language": "python",
   "name": "clinical_trial_env"
  },
  "language_info": {
   "codemirror_mode": {
    "name": "ipython",
    "version": 3
   },
   "file_extension": ".py",
   "mimetype": "text/x-python",
   "name": "python",
   "nbconvert_exporter": "python",
   "pygments_lexer": "ipython3",
   "version": "3.11.5"
  }
 },
 "nbformat": 4,
 "nbformat_minor": 5
}
