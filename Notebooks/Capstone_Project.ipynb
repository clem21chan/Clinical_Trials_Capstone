{
 "cells": [
  {
   "cell_type": "markdown",
   "id": "e39d1646-40d9-4052-975e-5aae3b1c1497",
   "metadata": {},
   "source": [
    "# Predicting Clinical Trial Terminations\n",
    "\n",
    "**Author: Clement Chan**\n",
    "\n",
    "---\n",
    "Notes on this notebook: (Add cool description here!)\n",
    "\n",
    "- ctg.csv notebook was aquired from clinicaltrials.gov on Feb 16th 2024\n",
    "\n",
    "## Table of Contents\n",
    "---\n",
    "1. [Data Wrangling](#wrangle)\n",
    "2. [Exploratory Data Analysis (EDA)](#EDA)\n",
    "3.\n"
   ]
  },
  {
   "cell_type": "markdown",
   "id": "ff212a72-d90a-432b-91b9-a4e65d16ff69",
   "metadata": {},
   "source": [
    "### Data Dictionary (Rough outline)\n",
    "\n",
    "| Column | Description                                  |Data Type|\n",
    "|-------|--------------------------------------------|-------|\n",
    "| NCT Number | Unique ID                            | object |\n",
    "| Study Title | Title of the Clinical Trial           | object |\n",
    "| Study URL | URL link to the study on clinicaltrials.gov  | object |\n",
    "| Acronym | An abbreviation used to identify the clinical study | object|\n",
    "| Study Status | Categorical column displaying the current position of the study | object |\n",
    "| Brief Summary | Short description of the clinical study (Includes study hypothesis) | object |\n",
    "| Study Results | Not sure what the result is (but is in yes or no format) | object|\n",
    "| Conditions | Primary Disease or Condition being studied     | object |\n",
    "| Interventions | The method of the trial???                  | object |\n",
    "| Primary Outcome Measures | Description of specific primary outcome | object |\n",
    "| Secondary Outcome Measures | Description of specific secondary outcome | object |\n",
    "| Other Outcome Measures | Any other measures used to evaluate the interventions | object |\n",
    "| Sponsor | The corporation or agency that initiates the study | object |\n",
    "| Collaborators | Other organizations that provide support | object |\n",
    "\n",
    "\n"
   ]
  },
  {
   "cell_type": "markdown",
   "id": "5ea33571-57f0-46d0-bde8-402ed3bb0267",
   "metadata": {},
   "source": [
    "**Importing Libraries**"
   ]
  },
  {
   "cell_type": "code",
   "execution_count": 2,
   "id": "8b4239a1",
   "metadata": {
    "tags": []
   },
   "outputs": [],
   "source": [
    "import numpy as np\n",
    "import pandas as pd\n",
    "\n",
    "import matplotlib.pyplot as plt\n",
    "import seaborn as sns"
   ]
  },
  {
   "cell_type": "markdown",
   "id": "beab8ed7-7c48-466d-8d8b-1816f6d564b8",
   "metadata": {},
   "source": [
    "<a id = 'wrangle'><a/>\n",
    "## Data Wrangling\n",
    "\n",
    "---"
   ]
  },
  {
   "cell_type": "code",
   "execution_count": 10,
   "id": "70d042c4",
   "metadata": {
    "tags": []
   },
   "outputs": [
    {
     "data": {
      "text/html": [
       "<div>\n",
       "<style scoped>\n",
       "    .dataframe tbody tr th:only-of-type {\n",
       "        vertical-align: middle;\n",
       "    }\n",
       "\n",
       "    .dataframe tbody tr th {\n",
       "        vertical-align: top;\n",
       "    }\n",
       "\n",
       "    .dataframe thead th {\n",
       "        text-align: right;\n",
       "    }\n",
       "</style>\n",
       "<table border=\"1\" class=\"dataframe\">\n",
       "  <thead>\n",
       "    <tr style=\"text-align: right;\">\n",
       "      <th></th>\n",
       "      <th>NCT Number</th>\n",
       "      <th>Study Title</th>\n",
       "      <th>Study URL</th>\n",
       "      <th>Acronym</th>\n",
       "      <th>Study Status</th>\n",
       "      <th>Brief Summary</th>\n",
       "      <th>Study Results</th>\n",
       "      <th>Conditions</th>\n",
       "      <th>Interventions</th>\n",
       "      <th>Primary Outcome Measures</th>\n",
       "      <th>...</th>\n",
       "      <th>Study Design</th>\n",
       "      <th>Other IDs</th>\n",
       "      <th>Start Date</th>\n",
       "      <th>Primary Completion Date</th>\n",
       "      <th>Completion Date</th>\n",
       "      <th>First Posted</th>\n",
       "      <th>Results First Posted</th>\n",
       "      <th>Last Update Posted</th>\n",
       "      <th>Locations</th>\n",
       "      <th>Study Documents</th>\n",
       "    </tr>\n",
       "  </thead>\n",
       "  <tbody>\n",
       "    <tr>\n",
       "      <th>0</th>\n",
       "      <td>NCT03630471</td>\n",
       "      <td>Effectiveness of a Problem-solving Interventio...</td>\n",
       "      <td>https://clinicaltrials.gov/study/NCT03630471</td>\n",
       "      <td>PRIDE</td>\n",
       "      <td>COMPLETED</td>\n",
       "      <td>We will conduct a two-arm individually randomi...</td>\n",
       "      <td>NO</td>\n",
       "      <td>Mental Health Issue (E.G., Depression, Psychos...</td>\n",
       "      <td>BEHAVIORAL: PRIDE 'Step 1' problem-solving int...</td>\n",
       "      <td>Mental health symptoms, The Strengths and Diff...</td>\n",
       "      <td>...</td>\n",
       "      <td>Allocation: RANDOMIZED|Intervention Model: PAR...</td>\n",
       "      <td>SANPRIDE_002</td>\n",
       "      <td>2018-08-20</td>\n",
       "      <td>2019-01-20</td>\n",
       "      <td>2019-02-28</td>\n",
       "      <td>2018-08-14</td>\n",
       "      <td>NaN</td>\n",
       "      <td>2019-05-21</td>\n",
       "      <td>Sangath, New Delhi, Delhi, 110016, India</td>\n",
       "      <td>Statistical Analysis Plan, https://storage.goo...</td>\n",
       "    </tr>\n",
       "    <tr>\n",
       "      <th>1</th>\n",
       "      <td>NCT05992571</td>\n",
       "      <td>Oral Ketone Monoester Supplementation and Rest...</td>\n",
       "      <td>https://clinicaltrials.gov/study/NCT05992571</td>\n",
       "      <td>NaN</td>\n",
       "      <td>RECRUITING</td>\n",
       "      <td>People who report subjective memory complaints...</td>\n",
       "      <td>NO</td>\n",
       "      <td>Cerebrovascular Function|Cognition</td>\n",
       "      <td>OTHER: Placebo|DIETARY_SUPPLEMENT: β-OHB</td>\n",
       "      <td>Brain network connectivity, Functional connect...</td>\n",
       "      <td>...</td>\n",
       "      <td>Allocation: RANDOMIZED|Intervention Model: CRO...</td>\n",
       "      <td>rs-KME</td>\n",
       "      <td>2023-10-25</td>\n",
       "      <td>2024-08</td>\n",
       "      <td>2024-08</td>\n",
       "      <td>2023-08-15</td>\n",
       "      <td>NaN</td>\n",
       "      <td>2023-12-01</td>\n",
       "      <td>McMaster University, Hamilton, Ontario, L8S 4K...</td>\n",
       "      <td>NaN</td>\n",
       "    </tr>\n",
       "    <tr>\n",
       "      <th>2</th>\n",
       "      <td>NCT01854671</td>\n",
       "      <td>Investigating the Effect of a Prenatal Family ...</td>\n",
       "      <td>https://clinicaltrials.gov/study/NCT01854671</td>\n",
       "      <td>NaN</td>\n",
       "      <td>COMPLETED</td>\n",
       "      <td>The purpose of this study is to measure the di...</td>\n",
       "      <td>NO</td>\n",
       "      <td>Focus: Contraceptive Counseling|Focus: Postpar...</td>\n",
       "      <td>OTHER: family planning counseling let by commu...</td>\n",
       "      <td>Self-reported contraceptive use, 6 months post...</td>\n",
       "      <td>...</td>\n",
       "      <td>Allocation: NON_RANDOMIZED|Intervention Model:...</td>\n",
       "      <td>SFPRF13-10</td>\n",
       "      <td>2013-08</td>\n",
       "      <td>2014-12</td>\n",
       "      <td>2014-12</td>\n",
       "      <td>2013-05-15</td>\n",
       "      <td>NaN</td>\n",
       "      <td>2015-08-17</td>\n",
       "      <td>Palestinian Ministry of Health Maternal Child ...</td>\n",
       "      <td>NaN</td>\n",
       "    </tr>\n",
       "    <tr>\n",
       "      <th>3</th>\n",
       "      <td>NCT03869671</td>\n",
       "      <td>Pre-exposure Prophylaxis (PrEP) for People Who...</td>\n",
       "      <td>https://clinicaltrials.gov/study/NCT03869671</td>\n",
       "      <td>NaN</td>\n",
       "      <td>WITHDRAWN</td>\n",
       "      <td>People who inject drugs (PWID) experience high...</td>\n",
       "      <td>NO</td>\n",
       "      <td>Intravenous Drug Abuse</td>\n",
       "      <td>BEHAVIORAL: PrEP uptake/adherence intervention...</td>\n",
       "      <td>PrEP uptake by self-report, measured using 1 i...</td>\n",
       "      <td>...</td>\n",
       "      <td>Allocation: RANDOMIZED|Intervention Model: PAR...</td>\n",
       "      <td>H-34960|K01DA043412-01A1</td>\n",
       "      <td>2021-03</td>\n",
       "      <td>2022-03</td>\n",
       "      <td>2022-03</td>\n",
       "      <td>2019-03-11</td>\n",
       "      <td>NaN</td>\n",
       "      <td>2021-03-10</td>\n",
       "      <td>NaN</td>\n",
       "      <td>NaN</td>\n",
       "    </tr>\n",
       "    <tr>\n",
       "      <th>4</th>\n",
       "      <td>NCT02945371</td>\n",
       "      <td>Tailored Inhibitory Control Training to Revers...</td>\n",
       "      <td>https://clinicaltrials.gov/study/NCT02945371</td>\n",
       "      <td>REV</td>\n",
       "      <td>COMPLETED</td>\n",
       "      <td>Insufficient inhibitory control is one pathway...</td>\n",
       "      <td>NO</td>\n",
       "      <td>Smoking|Alcohol Drinking|Prescription Drug Abu...</td>\n",
       "      <td>BEHAVIORAL: Person-centered inhibitory control...</td>\n",
       "      <td>Inhibitory control performance, Task 1, Perfor...</td>\n",
       "      <td>...</td>\n",
       "      <td>Allocation: RANDOMIZED|Intervention Model: PAR...</td>\n",
       "      <td>EPCS20613</td>\n",
       "      <td>2014-09</td>\n",
       "      <td>2016-04</td>\n",
       "      <td>2016-05</td>\n",
       "      <td>2016-10-26</td>\n",
       "      <td>NaN</td>\n",
       "      <td>2016-10-26</td>\n",
       "      <td>University of Oregon, Social and Affective Neu...</td>\n",
       "      <td>NaN</td>\n",
       "    </tr>\n",
       "  </tbody>\n",
       "</table>\n",
       "<p>5 rows × 30 columns</p>\n",
       "</div>"
      ],
      "text/plain": [
       "    NCT Number                                        Study Title  \\\n",
       "0  NCT03630471  Effectiveness of a Problem-solving Interventio...   \n",
       "1  NCT05992571  Oral Ketone Monoester Supplementation and Rest...   \n",
       "2  NCT01854671  Investigating the Effect of a Prenatal Family ...   \n",
       "3  NCT03869671  Pre-exposure Prophylaxis (PrEP) for People Who...   \n",
       "4  NCT02945371  Tailored Inhibitory Control Training to Revers...   \n",
       "\n",
       "                                      Study URL Acronym Study Status  \\\n",
       "0  https://clinicaltrials.gov/study/NCT03630471   PRIDE    COMPLETED   \n",
       "1  https://clinicaltrials.gov/study/NCT05992571     NaN   RECRUITING   \n",
       "2  https://clinicaltrials.gov/study/NCT01854671     NaN    COMPLETED   \n",
       "3  https://clinicaltrials.gov/study/NCT03869671     NaN    WITHDRAWN   \n",
       "4  https://clinicaltrials.gov/study/NCT02945371     REV    COMPLETED   \n",
       "\n",
       "                                       Brief Summary Study Results  \\\n",
       "0  We will conduct a two-arm individually randomi...            NO   \n",
       "1  People who report subjective memory complaints...            NO   \n",
       "2  The purpose of this study is to measure the di...            NO   \n",
       "3  People who inject drugs (PWID) experience high...            NO   \n",
       "4  Insufficient inhibitory control is one pathway...            NO   \n",
       "\n",
       "                                          Conditions  \\\n",
       "0  Mental Health Issue (E.G., Depression, Psychos...   \n",
       "1                 Cerebrovascular Function|Cognition   \n",
       "2  Focus: Contraceptive Counseling|Focus: Postpar...   \n",
       "3                             Intravenous Drug Abuse   \n",
       "4  Smoking|Alcohol Drinking|Prescription Drug Abu...   \n",
       "\n",
       "                                       Interventions  \\\n",
       "0  BEHAVIORAL: PRIDE 'Step 1' problem-solving int...   \n",
       "1           OTHER: Placebo|DIETARY_SUPPLEMENT: β-OHB   \n",
       "2  OTHER: family planning counseling let by commu...   \n",
       "3  BEHAVIORAL: PrEP uptake/adherence intervention...   \n",
       "4  BEHAVIORAL: Person-centered inhibitory control...   \n",
       "\n",
       "                            Primary Outcome Measures  ...  \\\n",
       "0  Mental health symptoms, The Strengths and Diff...  ...   \n",
       "1  Brain network connectivity, Functional connect...  ...   \n",
       "2  Self-reported contraceptive use, 6 months post...  ...   \n",
       "3  PrEP uptake by self-report, measured using 1 i...  ...   \n",
       "4  Inhibitory control performance, Task 1, Perfor...  ...   \n",
       "\n",
       "                                        Study Design  \\\n",
       "0  Allocation: RANDOMIZED|Intervention Model: PAR...   \n",
       "1  Allocation: RANDOMIZED|Intervention Model: CRO...   \n",
       "2  Allocation: NON_RANDOMIZED|Intervention Model:...   \n",
       "3  Allocation: RANDOMIZED|Intervention Model: PAR...   \n",
       "4  Allocation: RANDOMIZED|Intervention Model: PAR...   \n",
       "\n",
       "                  Other IDs  Start Date Primary Completion Date  \\\n",
       "0              SANPRIDE_002  2018-08-20              2019-01-20   \n",
       "1                    rs-KME  2023-10-25                 2024-08   \n",
       "2                SFPRF13-10     2013-08                 2014-12   \n",
       "3  H-34960|K01DA043412-01A1     2021-03                 2022-03   \n",
       "4                 EPCS20613     2014-09                 2016-04   \n",
       "\n",
       "  Completion Date First Posted Results First Posted  Last Update Posted  \\\n",
       "0      2019-02-28   2018-08-14                  NaN          2019-05-21   \n",
       "1         2024-08   2023-08-15                  NaN          2023-12-01   \n",
       "2         2014-12   2013-05-15                  NaN          2015-08-17   \n",
       "3         2022-03   2019-03-11                  NaN          2021-03-10   \n",
       "4         2016-05   2016-10-26                  NaN          2016-10-26   \n",
       "\n",
       "                                           Locations  \\\n",
       "0           Sangath, New Delhi, Delhi, 110016, India   \n",
       "1  McMaster University, Hamilton, Ontario, L8S 4K...   \n",
       "2  Palestinian Ministry of Health Maternal Child ...   \n",
       "3                                                NaN   \n",
       "4  University of Oregon, Social and Affective Neu...   \n",
       "\n",
       "                                     Study Documents  \n",
       "0  Statistical Analysis Plan, https://storage.goo...  \n",
       "1                                                NaN  \n",
       "2                                                NaN  \n",
       "3                                                NaN  \n",
       "4                                                NaN  \n",
       "\n",
       "[5 rows x 30 columns]"
      ]
     },
     "execution_count": 10,
     "metadata": {},
     "output_type": "execute_result"
    }
   ],
   "source": [
    "# Reading the clinical trials dataset\n",
    "df = pd.read_csv('ctg.csv')\n",
    "\n",
    "# First 5 rows of dataset\n",
    "df.head()"
   ]
  },
  {
   "cell_type": "code",
   "execution_count": 11,
   "id": "bd74ec71-a52f-42aa-8f82-8be44c25bc11",
   "metadata": {
    "tags": []
   },
   "outputs": [
    {
     "data": {
      "text/plain": [
       "'There are 483238 rows and 30 columns.'"
      ]
     },
     "execution_count": 11,
     "metadata": {},
     "output_type": "execute_result"
    }
   ],
   "source": [
    "# Let's look at the shape of the dataset\n",
    "f'There are {df.shape[0]} rows and {df.shape[1]} columns.'"
   ]
  },
  {
   "cell_type": "code",
   "execution_count": 12,
   "id": "40da9fca-3dd7-482d-b2a1-8db84e07aff5",
   "metadata": {
    "tags": []
   },
   "outputs": [
    {
     "data": {
      "text/plain": [
       "'There are 0 duplicated rows.'"
      ]
     },
     "execution_count": 12,
     "metadata": {},
     "output_type": "execute_result"
    }
   ],
   "source": [
    "# Checking for duplicated data in rows\n",
    "f'There are {df.duplicated().sum()} duplicated rows.'"
   ]
  },
  {
   "cell_type": "code",
   "execution_count": 13,
   "id": "78c6c613",
   "metadata": {
    "tags": []
   },
   "outputs": [
    {
     "name": "stdout",
     "output_type": "stream",
     "text": [
      "<class 'pandas.core.frame.DataFrame'>\n",
      "RangeIndex: 483238 entries, 0 to 483237\n",
      "Data columns (total 30 columns):\n",
      " #   Column                      Non-Null Count   Dtype  \n",
      "---  ------                      --------------   -----  \n",
      " 0   NCT Number                  483238 non-null  object \n",
      " 1   Study Title                 483238 non-null  object \n",
      " 2   Study URL                   483238 non-null  object \n",
      " 3   Acronym                     133174 non-null  object \n",
      " 4   Study Status                483238 non-null  object \n",
      " 5   Brief Summary               482350 non-null  object \n",
      " 6   Study Results               483238 non-null  object \n",
      " 7   Conditions                  482317 non-null  object \n",
      " 8   Interventions               435308 non-null  object \n",
      " 9   Primary Outcome Measures    465764 non-null  object \n",
      " 10  Secondary Outcome Measures  350835 non-null  object \n",
      " 11  Other Outcome Measures      38422 non-null   object \n",
      " 12  Sponsor                     483238 non-null  object \n",
      " 13  Collaborators               157862 non-null  object \n",
      " 14  Sex                         481883 non-null  object \n",
      " 15  Age                         482350 non-null  object \n",
      " 16  Phases                      193858 non-null  object \n",
      " 17  Enrollment                  476320 non-null  float64\n",
      " 18  Funder Type                 482350 non-null  object \n",
      " 19  Study Type                  482350 non-null  object \n",
      " 20  Study Design                481422 non-null  object \n",
      " 21  Other IDs                   483181 non-null  object \n",
      " 22  Start Date                  478095 non-null  object \n",
      " 23  Primary Completion Date     461396 non-null  object \n",
      " 24  Completion Date             466378 non-null  object \n",
      " 25  First Posted                483238 non-null  object \n",
      " 26  Results First Posted        62352 non-null   object \n",
      " 27  Last Update Posted          483238 non-null  object \n",
      " 28  Locations                   432192 non-null  object \n",
      " 29  Study Documents             32769 non-null   object \n",
      "dtypes: float64(1), object(29)\n",
      "memory usage: 110.6+ MB\n"
     ]
    }
   ],
   "source": [
    "# Reading the dataset information\n",
    "df.info()"
   ]
  },
  {
   "cell_type": "markdown",
   "id": "6be3bf27-1aa2-4d98-b149-4d31fd2f2be3",
   "metadata": {},
   "source": [
    "**Important Notes to Consider:**\n",
    "There are 483,238 total rows, but there are large amounts of missing data in most of the columns. Let's look into each column that has missing data chronologically by index.\n",
    "\n",
    "Starting with `Study Acronym`"
   ]
  },
  {
   "cell_type": "code",
   "execution_count": 25,
   "id": "4b01c645",
   "metadata": {
    "tags": []
   },
   "outputs": [
    {
     "data": {
      "text/plain": [
       "'There are 350064 missing values in the `Study Acronym` column.'"
      ]
     },
     "execution_count": 25,
     "metadata": {},
     "output_type": "execute_result"
    }
   ],
   "source": [
    "# Finding the number of NaN (missing values)\n",
    "\n",
    "f\"There are {df['Acronym'].isna().sum()} missing values in the `Study Acronym` column.\""
   ]
  },
  {
   "cell_type": "code",
   "execution_count": 27,
   "id": "a273724e-8849-4c5c-9a61-7ce0e456063e",
   "metadata": {
    "tags": []
   },
   "outputs": [
    {
     "data": {
      "text/plain": [
       "Acronym\n",
       "IMPACT       129\n",
       "COVID-19     122\n",
       "SMART        111\n",
       "RCT           88\n",
       "STAR          78\n",
       "            ... \n",
       "boron_gel      1\n",
       "CUMACA-M       1\n",
       "PR11           1\n",
       "NutriCim       1\n",
       "AFOCUFF        1\n",
       "Name: count, Length: 104724, dtype: int64"
      ]
     },
     "execution_count": 27,
     "metadata": {},
     "output_type": "execute_result"
    }
   ],
   "source": [
    "# Let's see what we can do with these Acronyms...\n",
    "df['Acronym'].value_counts()"
   ]
  },
  {
   "cell_type": "markdown",
   "id": "a4d86b6e-7bf3-4838-b078-d59a12215fb3",
   "metadata": {},
   "source": [
    "It seems that most clinical trials did not name their study, but this information is still very useful, since we can group by specific `Acronyms` and predict why their studies in their  individual groups fail more accurately. However, since most of the data is missing, this is a potential column to drop.\n",
    "\n",
    "Next, let's look at the `Brief Summary` column."
   ]
  },
  {
   "cell_type": "code",
   "execution_count": 31,
   "id": "2c1fc97a-6a3e-4ce0-84c1-b01605e8aac6",
   "metadata": {
    "tags": []
   },
   "outputs": [
    {
     "data": {
      "text/plain": [
       "'There are 888 missing values in the `Brief Summary` column.'"
      ]
     },
     "execution_count": 31,
     "metadata": {},
     "output_type": "execute_result"
    }
   ],
   "source": [
    "# Finding the number of NaN (missing values)\n",
    "f\"There are {df['Brief Summary'].isna().sum()} missing values in the `Brief Summary` column.\""
   ]
  },
  {
   "cell_type": "code",
   "execution_count": 33,
   "id": "10f3af03-4e80-47cb-93e2-16fef8b2fca8",
   "metadata": {
    "tags": []
   },
   "outputs": [
    {
     "data": {
      "text/plain": [
       "Brief Summary\n",
       "To evaluate the Sun Protection Factor efficacy on human skin.                                                                                                                                                                                                                                                                                                                                                                                                                                                                                                                                                                                                                                                                                                                                                                                                                                                                                                                                                                                                                        49\n",
       "Investigators are building an empirical evidence base for real world data through large-scale replication of randomized controlled trials. The investigators' goal is to understand for what types of clinical questions real world data analyses can be conducted with confidence and how to implement such studies.                                                                                                                                                                                                                                                                                                                                                                                                                                                                                                                                                                                                                                                                                                                                                                36\n",
       "This study seeks to correlate microbiome sequencing data with information provided by patients and their medical records.                                                                                                                                                                                                                                                                                                                                                                                                                                                                                                                                                                                                                                                                                                                                                                                                                                                                                                                                                            14\n",
       "This study aims to evaluate the comparative risk of dementia/Alzheimer's disease onset between patients treated with medications that target specific metabolic pathways and patients treated with alternative medications for the same indication.                                                                                                                                                                                                                                                                                                                                                                                                                                                                                                                                                                                                                                                                                                                                                                                                                                  14\n",
       "The objective of this surveillance is to collect information about 1) adverse drug reaction not expected from the LPD (unknown adverse drug reaction), 2) the incidence of adverse drug reactions in this surveillance, and 3)factors considered to affect the safety and/or efficacy of this drug.                                                                                                                                                                                                                                                                                                                                                                                                                                                                                                                                                                                                                                                                                                                                                                                  13\n",
       "                                                                                                                                                                                                                                                                                                                                                                                                                                                                                                                                                                                                                                                                                                                                                                                                                                                                                                                                                                                                                                                                                     ..\n",
       "Despite the well-known health benefits of physical exercise in the prevention of chronic diseases, less attention has been focused on the use of physical exercise as an essential part of good treatment for chronic disease. The aims of the study are to investigate the feasibility, medical effects, cost-effectiveness, and social perspectives of the individualized exercise-based rehabilitation \\[2 different high-intensity training (HIT) protocols combined with usual care (UC)\\] after acute coronary artery disease (CAD) event. The medical aim is to study mediating mechanisms of the physiological, biochemical and molecular effects of exercise training on the clinical outcomes. The aim of the health-economic evaluation is to assess the changes in the Health-Related Quality of Life (HRQL) and health care related costs for estimating the cost-effectiveness of HIT-based exercise rehabilitation. The purpose of the sociological analysis is to find out the social processes which make possible the emergence of the desired welfare effects.     1\n",
       "The purpose of this study is to evaluate the possibility that giving an increased dose of flu vaccine to children 6 through 35 months of age will improve protection against influenza without increasing side effects. Investigators will evaluate the body's response to the vaccine. Male and female participants' ages 6-35 months, who have never received flu vaccine, and those ages 12-35 months, who have been previously vaccinated, will participate in the study for about 7 months. Vaccine naïve study participants will receive two doses of flu vaccine, either the 0.25 mL dose (Group 1) or 0.5 mL dose (Group 2). Previously vaccinated subjects will receive one dose of flu vaccine, either the 0.25 mL dose (Group 1) or 0.5 mL dose (Group 2). Study procedures include physical examination, memory aids, blood sampling and a follow-up phone call about 6 months after the last vaccine dose.                                                                                                                                                               1\n",
       "Pilot Interventional study with minimal risks and constraints, prospective, monocentric. Safety and Efficacity evaluation of a Novel Medical Device.                                                                                                                                                                                                                                                                                                                                                                                                                                                                                                                                                                                                                                                                                                                                                                                                                                                                                                                                  1\n",
       "RATIONALE: Drugs used in chemotherapy, such as everolimus, work in different ways to stop the growth of tumor cells, either by killing the cells or by stopping them from dividing. Everolimus may also stop the growth of melanoma by blocking blood flow to the tumor.\\n\\nPURPOSE: This phase II trial is studying how well everolimus works in treating patients with stage IV melanoma.                                                                                                                                                                                                                                                                                                                                                                                                                                                                                                                                                                                                                                                                                           1\n",
       "Study Objective:\\n\\nTo establish the substantial equivalence of the SOLX Gold Shunt to commercially available aqueous shunts, specifically the Ahmed™ Glaucoma Valve Model FP7, in the ability to reduce intraocular pressure (IOP) associated with glaucoma in eyes where medical and conventional surgical treatments have failed.                                                                                                                                                                                                                                                                                                                                                                                                                                                                                                                                                                                                                                                                                                                                                  1\n",
       "Name: count, Length: 479793, dtype: int64"
      ]
     },
     "execution_count": 33,
     "metadata": {},
     "output_type": "execute_result"
    }
   ],
   "source": [
    "# diving into the values of `Brief Summary`\n",
    "df['Brief Summary'].value_counts()"
   ]
  },
  {
   "cell_type": "markdown",
   "id": "93c8fa83-4eb7-47eb-907e-c1ad9fbb2305",
   "metadata": {},
   "source": [
    "There are only **888** missing values in this column, and it will be usefull to use NLP keyword matching to match specific words together which will increase the predictivity of our model.\n",
    "\n",
    "Next, let's dive into the `Conditions` column."
   ]
  },
  {
   "cell_type": "code",
   "execution_count": 35,
   "id": "b27c13bd-7788-4a29-a253-58ae5f8eed59",
   "metadata": {
    "tags": []
   },
   "outputs": [
    {
     "data": {
      "text/plain": [
       "'There are 921 missing values in the `Conditions` column.'"
      ]
     },
     "execution_count": 35,
     "metadata": {},
     "output_type": "execute_result"
    }
   ],
   "source": [
    "# Finding the number of NaN (missing values)\n",
    "f\"There are {df['Conditions'].isna().sum()} missing values in the `Conditions` column.\""
   ]
  },
  {
   "cell_type": "code",
   "execution_count": 36,
   "id": "7a9cea78-2da5-41a9-a6a6-582d2fe3e829",
   "metadata": {
    "tags": []
   },
   "outputs": [
    {
     "data": {
      "text/plain": [
       "Conditions\n",
       "Healthy                                                                                                                                                                                                                                                                                                                                                                                                                                                                                                                                                                                                                                                                                                                                                                                                                                                                                                                                           7996\n",
       "Breast Cancer                                                                                                                                                                                                                                                                                                                                                                                                                                                                                                                                                                                                                                                                                                                                                                                                                                                                                                                                     4554\n",
       "Prostate Cancer                                                                                                                                                                                                                                                                                                                                                                                                                                                                                                                                                                                                                                                                                                                                                                                                                                                                                                                                   2650\n",
       "Asthma                                                                                                                                                                                                                                                                                                                                                                                                                                                                                                                                                                                                                                                                                                                                                                                                                                                                                                                                            2308\n",
       "Obesity                                                                                                                                                                                                                                                                                                                                                                                                                                                                                                                                                                                                                                                                                                                                                                                                                                                                                                                                           2284\n",
       "                                                                                                                                                                                                                                                                                                                                                                                                                                                                                                                                                                                                                                                                                                                                                                                                                                                                                                                                                  ... \n",
       "Recurrent B-Cell Non-Hodgkin Lymphoma|Recurrent Chronic Lymphocytic Leukemia|Recurrent Diffuse Large B-Cell Lymphoma|Recurrent Follicular Lymphoma|Recurrent Lymphoplasmacytic Lymphoma|Recurrent Mantle Cell Lymphoma|Recurrent Marginal Zone Lymphoma|Refractory B-Cell Non-Hodgkin Lymphoma|Refractory Diffuse Large B-Cell Lymphoma|Refractory Follicular Lymphoma|Refractory Lymphoplasmacytic Lymphoma|Refractory Mantle Cell Lymphoma|Refractory Transformed Non-Hodgkin Lymphoma|Recurrent Transformed B-Cell Non-Hodgkin Lymphoma|Recurrent Transformed Chronic Lymphocytic Leukemia|Refractory Marginal Zone Lymphoma|Refractory Transformed B-Cell Non-Hodgkin Lymphoma|Refractory Transformed Chronic Lymphocytic Leukemia|Recurrent Small Lymphocytic Lymphoma|Refractory Chronic Lymphocytic Leukemia|Refractory Small Lymphocytic Lymphoma|Recurrent Central Nervous System Lymphoma|Refractory Central Nervous System Lymphoma       1\n",
       "Gut Microbiome|Sport Performance                                                                                                                                                                                                                                                                                                                                                                                                                                                                                                                                                                                                                                                                                                                                                                                                                                                                                                                     1\n",
       "Mucopolysaccharidosis Type I                                                                                                                                                                                                                                                                                                                                                                                                                                                                                                                                                                                                                                                                                                                                                                                                                                                                                                                         1\n",
       "Gastrointestinal Neoplasms|Cognitive Impairment                                                                                                                                                                                                                                                                                                                                                                                                                                                                                                                                                                                                                                                                                                                                                                                                                                                                                                      1\n",
       "Healthy|Lower Limb Injury|Post-Traumatic Osteoarthritis                                                                                                                                                                                                                                                                                                                                                                                                                                                                                                                                                                                                                                                                                                                                                                                                                                                                                              1\n",
       "Name: count, Length: 190463, dtype: int64"
      ]
     },
     "execution_count": 36,
     "metadata": {},
     "output_type": "execute_result"
    }
   ],
   "source": [
    "# Looking into the values of `Conditions`\n",
    "df['Conditions'].value_counts()"
   ]
  },
  {
   "cell_type": "markdown",
   "id": "7dc858b5-a579-4a9f-9e04-cef944b9f347",
   "metadata": {},
   "source": [
    "There are **921** missing values in the `Conditions` column. This column will also be very useful in grouping certain conditions or diseases that are being studied primarily.\n",
    "\n",
    "Next, we will look at the `Interventions` column."
   ]
  },
  {
   "cell_type": "code",
   "execution_count": 37,
   "id": "c7ecad02-7129-4114-8188-97b05635a86f",
   "metadata": {
    "tags": []
   },
   "outputs": [
    {
     "data": {
      "text/plain": [
       "'There are 47930 missing values in the `Interventions` column.'"
      ]
     },
     "execution_count": 37,
     "metadata": {},
     "output_type": "execute_result"
    }
   ],
   "source": [
    "# Finding the number of NaN (missing values)\n",
    "f\"There are {df['Interventions'].isna().sum()} missing values in the `Interventions` column.\""
   ]
  },
  {
   "cell_type": "code",
   "execution_count": 39,
   "id": "c15ee5d5-7782-4caa-ba49-539c22a4af24",
   "metadata": {
    "tags": []
   },
   "outputs": [
    {
     "data": {
      "text/plain": [
       "Interventions\n",
       "OTHER: No intervention                                                                          1083\n",
       "OTHER: no intervention                                                                           410\n",
       "OTHER: Questionnaire                                                                             318\n",
       "OTHER: Exercise                                                                                  273\n",
       "OTHER: No Intervention                                                                           249\n",
       "                                                                                                ... \n",
       "DEVICE: Patient specific instrumentation (MRI)|DEVICE: Patient specific instrumentation (CT)       1\n",
       "DRUG: Bone Morphogenetic Protein 2|PROCEDURE: Autologous bone graft                                1\n",
       "OTHER: HaRTS-TRENDS|OTHER: Standard Care (SC)                                                      1\n",
       "DIAGNOSTIC_TEST: Stroke simulation and machine learning                                            1\n",
       "DEVICE: SOLX Gold Shunt GMS-plus|DEVICE: Ahmed FP7 Glaucoma Valve                                  1\n",
       "Name: count, Length: 359575, dtype: int64"
      ]
     },
     "execution_count": 39,
     "metadata": {},
     "output_type": "execute_result"
    }
   ],
   "source": [
    "# Looking into the values of `Conditions`\n",
    "df['Interventions'].value_counts()"
   ]
  },
  {
   "cell_type": "markdown",
   "id": "32ef508c-8cb6-49e9-9f3a-5eaf5e94dc75",
   "metadata": {},
   "source": [
    "There are **47,930** missing values in the `Intervention` column. Don't know what this is yet... will figure out this later.\n",
    "\n",
    "Next is `Primary Outcome Measures` column:"
   ]
  },
  {
   "cell_type": "code",
   "execution_count": 41,
   "id": "4946e56a-105b-49d1-8506-5be97b7c31ec",
   "metadata": {
    "tags": []
   },
   "outputs": [
    {
     "data": {
      "text/plain": [
       "'There are 17474 missing values in the `Primary Outcome Measures` column.'"
      ]
     },
     "execution_count": 41,
     "metadata": {},
     "output_type": "execute_result"
    }
   ],
   "source": [
    "# Finding the number of NaN (missing values)\n",
    "f\"There are {df['Primary Outcome Measures'].isna().sum()} missing values in the `Primary Outcome Measures` column.\""
   ]
  },
  {
   "cell_type": "code",
   "execution_count": 44,
   "id": "93cadb22-1bc5-41d8-82c5-5809ea2c9cae",
   "metadata": {
    "tags": []
   },
   "outputs": [
    {
     "data": {
      "text/plain": [
       "Primary Outcome Measures\n",
       "Bioequivalence, within 30 days                                                                                                                                                                                                                   118\n",
       "Bioequivalence                                                                                                                                                                                                                                    68\n",
       "Overall survival                                                                                                                                                                                                                                  49\n",
       "Minimal Erythema Dose (MED), Up to 15 minutes|Minimal Persistent Pigment Darkening Dose (MPPD), Up to 15 minutes                                                                                                                                  46\n",
       "Progression-free survival                                                                                                                                                                                                                         34\n",
       "                                                                                                                                                                                                                                                ... \n",
       "Change in retinal vessel density, Detect changes in retinal vessel density in the superficial and deep capillary plexuses using OCTA in children with anisometropic amblyopia and effect of treatment on the retinal vessel density, 3 months      1\n",
       "Area under the plasma glucose concentration curve (AUC) between 0 and 1 hour after insulin injection AUC(0-1h), At day 1 of each treatment period                                                                                                  1\n",
       "Clinical Improvement in Thigh Circumference, Clinical improvement measured by change from baseline thigh circumference after treatment, 12 weeks (minus baseline)                                                                                  1\n",
       "AAA strain measurement, Measure of AAA strain values using imaging exams, Within less than one month of their surgery                                                                                                                              1\n",
       "Percentage reduction in IOP at both 12 and 24 months after implant, 1 & 2 years                                                                                                                                                                    1\n",
       "Name: count, Length: 458631, dtype: int64"
      ]
     },
     "execution_count": 44,
     "metadata": {},
     "output_type": "execute_result"
    }
   ],
   "source": [
    "# Looking into the column\n",
    "df['Primary Outcome Measures'].value_counts()"
   ]
  },
  {
   "cell_type": "markdown",
   "id": "c2f77139-fb21-41a7-aad0-6e3a4e2cc591",
   "metadata": {},
   "source": [
    "There are **17,474** missing values in the `Primary Outcome Measures` column. Don't know what this is yet... will figure out this later.\n",
    "\n",
    "Next is `Secondary Outcome Measures` column:"
   ]
  },
  {
   "cell_type": "code",
   "execution_count": 43,
   "id": "14cb273c-c3fc-4b26-9088-8731a2f560b8",
   "metadata": {
    "tags": []
   },
   "outputs": [
    {
     "data": {
      "text/plain": [
       "'There are 132403 missing values in the `Secondary Outcome Measures` column.'"
      ]
     },
     "execution_count": 43,
     "metadata": {},
     "output_type": "execute_result"
    }
   ],
   "source": [
    "# Finding the number of NaN (missing values)\n",
    "f\"There are {df['Secondary Outcome Measures'].isna().sum()} missing values in the `Secondary Outcome Measures` column.\""
   ]
  },
  {
   "cell_type": "code",
   "execution_count": 45,
   "id": "9ed29678-d82c-4645-aa58-720afc65d1c2",
   "metadata": {
    "tags": []
   },
   "outputs": [
    {
     "data": {
      "text/plain": [
       "Primary Outcome Measures\n",
       "Bioequivalence, within 30 days                                                                                                                                                                                                                   118\n",
       "Bioequivalence                                                                                                                                                                                                                                    68\n",
       "Overall survival                                                                                                                                                                                                                                  49\n",
       "Minimal Erythema Dose (MED), Up to 15 minutes|Minimal Persistent Pigment Darkening Dose (MPPD), Up to 15 minutes                                                                                                                                  46\n",
       "Progression-free survival                                                                                                                                                                                                                         34\n",
       "                                                                                                                                                                                                                                                ... \n",
       "Change in retinal vessel density, Detect changes in retinal vessel density in the superficial and deep capillary plexuses using OCTA in children with anisometropic amblyopia and effect of treatment on the retinal vessel density, 3 months      1\n",
       "Area under the plasma glucose concentration curve (AUC) between 0 and 1 hour after insulin injection AUC(0-1h), At day 1 of each treatment period                                                                                                  1\n",
       "Clinical Improvement in Thigh Circumference, Clinical improvement measured by change from baseline thigh circumference after treatment, 12 weeks (minus baseline)                                                                                  1\n",
       "AAA strain measurement, Measure of AAA strain values using imaging exams, Within less than one month of their surgery                                                                                                                              1\n",
       "Percentage reduction in IOP at both 12 and 24 months after implant, 1 & 2 years                                                                                                                                                                    1\n",
       "Name: count, Length: 458631, dtype: int64"
      ]
     },
     "execution_count": 45,
     "metadata": {},
     "output_type": "execute_result"
    }
   ],
   "source": [
    "# Looking into the column\n",
    "df['Primary Outcome Measures'].value_counts()"
   ]
  },
  {
   "cell_type": "markdown",
   "id": "179dee81-771e-4fba-8b61-c02ceb3d7a9e",
   "metadata": {},
   "source": [
    "There are **132,403** missing values in the `Secondary Outcome Measures` column. Don't know what this is yet... will figure out this later.\n",
    "\n",
    "Next is `Other Outcome Measures` column:"
   ]
  },
  {
   "cell_type": "code",
   "execution_count": 48,
   "id": "cc9ca4f8-f4b9-4cfb-8c11-269025847c40",
   "metadata": {
    "tags": []
   },
   "outputs": [
    {
     "data": {
      "text/plain": [
       "'There are 444816 missing values in the `Other Outcome Measures` column.'"
      ]
     },
     "execution_count": 48,
     "metadata": {},
     "output_type": "execute_result"
    }
   ],
   "source": [
    "# Finding the number of NaN (missing values)\n",
    "f\"There are {df['Other Outcome Measures'].isna().sum()} missing values in the `Other Outcome Measures` column.\""
   ]
  },
  {
   "cell_type": "code",
   "execution_count": 49,
   "id": "ed93ebc0-7189-4b95-a620-5c75627d15d2",
   "metadata": {
    "tags": []
   },
   "outputs": [
    {
     "data": {
      "text/plain": [
       "Other Outcome Measures\n",
       "The dose of CSC vaccine, up to 3 months                                                                                                                                                                                                                                                                                                                                                                                                                                                                                                                                                                                                                                                                                                                                                                                                                                                                                                                                                                                                                                                                                                                                                                                                                                                                                                                                                                                                                                                                                                                                                                                                                                                                                                                                                                                                                                                                                                                                                                                                                                                                                                                                                                                                                                                                                                                                                                                                                                                                                                                                                                                                                                                                                                                                                                                                                                                                                                                                                                                                                                                                                                                                                                                                                                                                                                                                                                                                                                                                                                                                                                                                                                                                                                                                                                                                                                                                                                                                                                                                                                                                                                                                                                                                                                                                                                                                                                                                                                                                                                                                                                                                                                                                                                                                                                                                                                                                                                                                                                                                                                                                                                                                                                                                                                                                                                                                                                                                                                                                                                                                                                                                                                                                                                                                                                                                                                                                                                                                                                                                                                                                                                                                                                                                                                                                                                                                                                                                                                                                                                                                                                                                                                                                                                                                                                                                                                                                                                                                                                                                                                                                                                                                                                                                                                                                                                                                                                                                                                                                                                                                                                                                                                                7\n",
       "Genetic polymorphisms, Effects of genetic polymorphisms on the response to MDMA, assessed after study completion                                                                                                                                                                                                                                                                                                                                                                                                                                                                                                                                                                                                                                                                                                                                                                                                                                                                                                                                                                                                                                                                                                                                                                                                                                                                                                                                                                                                                                                                                                                                                                                                                                                                                                                                                                                                                                                                                                                                                                                                                                                                                                                                                                                                                                                                                                                                                                                                                                                                                                                                                                                                                                                                                                                                                                                                                                                                                                                                                                                                                                                                                                                                                                                                                                                                                                                                                                                                                                                                                                                                                                                                                                                                                                                                                                                                                                                                                                                                                                                                                                                                                                                                                                                                                                                                                                                                                                                                                                                                                                                                                                                                                                                                                                                                                                                                                                                                                                                                                                                                                                                                                                                                                                                                                                                                                                                                                                                                                                                                                                                                                                                                                                                                                                                                                                                                                                                                                                                                                                                                                                                                                                                                                                                                                                                                                                                                                                                                                                                                                                                                                                                                                                                                                                                                                                                                                                                                                                                                                                                                                                                                                                                                                                                                                                                                                                                                                                                                                                                                                                                                                                       5\n",
       "The correlation between CD70 positive rate and safety, assessment the correlation between CD70 positive rate and the incidence of CRA and ICANS, 2 years|Correlation between CD70 positive rate and efficacy, assessment the correlation between CD70 positive rate and the disease control rate，Disease control rate: including CR, PR and SD, 2 years|Overall survival(OS)of CD70 CAR-T treatment in patients with CD70-positive advanced malignancies[Effectiveness], OS will be assessed from the first CD70-CAR-T cell infusion to death from any cause (Assessed by investigators based on IRECIST criteria), 2 years|Progress-free survival(PFS) of CD70 CAR-T treatment in patients with CD70-positive advanced malignancies[Effectiveness], PFS will be assessed from the first CD70-CAR-T cell infusion to death from any cause or the first assessment of progression (Assessed by investigators based on IRECIST criteria), 2 years|Duration of Response (DOR) of CD70 CAR-T treatment in patients with CD70-positive advanced malignancies[Effectiveness], DOR will be assessed from the first assessment of CR/PR/SD to the first assessment of recurrence or progression of the disease or death from any cause (Assessed by investigators based on IRECIST criteria), 2 years                                                                                                                                                                                                                                                                                                                                                                                                                                                                                                                                                                                                                                                                                                                                                                                                                                                                                                                                                                                                                                                                                                                                                                                                                                                                                                                                                                                                                                                                                                                                                                                                                                                                                                                                                                                                                                                                                                                                                                                                                                                                                                                                                                                                                                                                                                                                                                                                                                                                                                                                                                                                                                                                                                                                                                                                                                                                                                                                                                                                                                                                                                                                                                                                                                                                                                                                                                                                                                                                                                                                                                                                                                                                                                                                                                                                                                                                                                                                                                                                                                                                                                                                                                                                                                                                                                                                                                                                                                                                                                                                                                                                                                                                                                                                                                                                                                                                                                                                                                                                                                                                                                                                                                                                                                                                                                                                                                                                                                                                                                                                                                                                                                                                                                                                                                                                                                                                                                                                                                                                                                                                                                                                                                                                                                                                                                                                                                                          5\n",
       "Number and severity of adverse events (AE), Week 1 to 52                                                                                                                                                                                                                                                                                                                                                                                                                                                                                                                                                                                                                                                                                                                                                                                                                                                                                                                                                                                                                                                                                                                                                                                                                                                                                                                                                                                                                                                                                                                                                                                                                                                                                                                                                                                                                                                                                                                                                                                                                                                                                                                                                                                                                                                                                                                                                                                                                                                                                                                                                                                                                                                                                                                                                                                                                                                                                                                                                                                                                                                                                                                                                                                                                                                                                                                                                                                                                                                                                                                                                                                                                                                                                                                                                                                                                                                                                                                                                                                                                                                                                                                                                                                                                                                                                                                                                                                                                                                                                                                                                                                                                                                                                                                                                                                                                                                                                                                                                                                                                                                                                                                                                                                                                                                                                                                                                                                                                                                                                                                                                                                                                                                                                                                                                                                                                                                                                                                                                                                                                                                                                                                                                                                                                                                                                                                                                                                                                                                                                                                                                                                                                                                                                                                                                                                                                                                                                                                                                                                                                                                                                                                                                                                                                                                                                                                                                                                                                                                                                                                                                                                                                               4\n",
       "Percentage of Participants With Treatment-emergent Proteinuria by Urinalysis (Dipstick) Through Week 48, Grades 1 (mild), 2 (moderate), and 3 (severe) were the highest treatment-emergent postbaseline grades for urine protein using the dipstick method., Up to 48 weeks                                                                                                                                                                                                                                                                                                                                                                                                                                                                                                                                                                                                                                                                                                                                                                                                                                                                                                                                                                                                                                                                                                                                                                                                                                                                                                                                                                                                                                                                                                                                                                                                                                                                                                                                                                                                                                                                                                                                                                                                                                                                                                                                                                                                                                                                                                                                                                                                                                                                                                                                                                                                                                                                                                                                                                                                                                                                                                                                                                                                                                                                                                                                                                                                                                                                                                                                                                                                                                                                                                                                                                                                                                                                                                                                                                                                                                                                                                                                                                                                                                                                                                                                                                                                                                                                                                                                                                                                                                                                                                                                                                                                                                                                                                                                                                                                                                                                                                                                                                                                                                                                                                                                                                                                                                                                                                                                                                                                                                                                                                                                                                                                                                                                                                                                                                                                                                                                                                                                                                                                                                                                                                                                                                                                                                                                                                                                                                                                                                                                                                                                                                                                                                                                                                                                                                                                                                                                                                                                                                                                                                                                                                                                                                                                                                                                                                                                                                                                            4\n",
       "                                                                                                                                                                                                                                                                                                                                                                                                                                                                                                                                                                                                                                                                                                                                                                                                                                                                                                                                                                                                                                                                                                                                                                                                                                                                                                                                                                                                                                                                                                                                                                                                                                                                                                                                                                                                                                                                                                                                                                                                                                                                                                                                                                                                                                                                                                                                                                                                                                                                                                                                                                                                                                                                                                                                                                                                                                                                                                                                                                                                                                                                                                                                                                                                                                                                                                                                                                                                                                                                                                                                                                                                                                                                                                                                                                                                                                                                                                                                                                                                                                                                                                                                                                                                                                                                                                                                                                                                                                                                                                                                                                                                                                                                                                                                                                                                                                                                                                                                                                                                                                                                                                                                                                                                                                                                                                                                                                                                                                                                                                                                                                                                                                                                                                                                                                                                                                                                                                                                                                                                                                                                                                                                                                                                                                                                                                                                                                                                                                                                                                                                                                                                                                                                                                                                                                                                                                                                                                                                                                                                                                                                                                                                                                                                                                                                                                                                                                                                                                                                                                                                                                                                                                                                                      ..\n",
       "Number of emergency departments participated at the end of recruitment, Number of emergency departments that agree to join this project, at 10 months|Knowledge of the risk of smoking in trained healthcare professionals before the training workshops, The trained healthcare professionals will be asked about their knowledge of the risk of smoking prior to the training workshops, baseline|Knowledge of the risk of smoking in trained healthcare professionals at the end of the training workshops, The trained healthcare professionals will be asked about their knowledge of the risk of smoking at the end of the training workshops, up to 1 week|Knowledge of the risk of smoking in trained healthcare professionals at the 3-month follow-up, The trained healthcare professionals will be asked about their knowledge of the risk of smoking at the 3-month follow-up, at the 3-month follow-up|Knowledge of the risk of smoking in trained healthcare professionals at the 6-month follow-up, The trained healthcare professionals will be asked about their knowledge of the risk of smoking at the 6-month follow-up, at the 6-month follow-up|Attitudes towards smoking, tobacco control and smoking cessation in trained healthcare professionals before the training workshops, The trained healthcare professionals will be asked about their attitudes towards smoking, tobacco control and smoking cessation prior to the training workshops, Baseline|Attitudes towards smoking, tobacco control and smoking cessation in trained healthcare professionals at the end of the training workshops, The trained healthcare professionals will be asked about their attitudes towards smoking, tobacco control and smoking cessation at the end of the training workshops, up to 1 week|Attitudes towards smoking, tobacco control and smoking cessation in trained healthcare professionals at the 3-month follow-up, The trained healthcare professionals will be asked about their attitudes towards smoking, tobacco control and smoking cessation at the 3-month follow-up, at the 3-month follow-up|Attitudes towards smoking, tobacco control and smoking cessation in trained healthcare professionals at the 6-month follow-up, The trained healthcare professionals will be asked about their attitudes towards smoking, tobacco control and smoking cessation at the 6-month follow-up, at the 6-month follow-up|Practices of delivering smoking cessation advice in trained healthcare professionals before the training workshops, The trained healthcare professionals will be asked about their practices of delivering smoking cessation advice prior to the training workshops, baseline|Practices of delivering smoking cessation advice in trained healthcare professionals at the end of the training workshops, The trained healthcare professionals will be asked about their practices of delivering smoking cessation advice at the end of the training workshops, up to 1 week|Practices of delivering smoking cessation advice in trained healthcare professionals at the 3-month follow-up, The trained healthcare professionals will be asked about their practices of delivering smoking cessation advice at the 3-month follow-up, at the 3-month follow-up|Practices of delivering smoking cessation advice in trained healthcare professionals at the 6-month follow-up, The trained healthcare professionals will be asked about their practices of delivering smoking cessation advice at the 6-month follow-up, at the 6-month follow-up|Level of self-efficacy in trained healthcare professionals before the training workshops, The trained healthcare professionals will be asked about their levels of self-efficacy to deliver smoking cessation advice prior to the training workshops, baseline|Level of self-efficacy in trained healthcare professionals at the end of the training workshops, The trained healthcare professionals will be asked about their levels of self-efficacy to deliver smoking cessation advice at the end of the training workshops, up to 1 week|Level of self-efficacy in trained healthcare professionals at the 3-month follow-up, The trained healthcare professionals will be asked about their levels of self-efficacy to deliver smoking cessation advice at the 3-month follow-up, at the 3-month follow-up|Level of self-efficacy in trained healthcare professionals at the 6-month follow-up, The trained healthcare professionals will be asked about their levels of self-efficacy to deliver smoking cessation advice at the 6-month follow-up, at the 6-month follow-up|Intention to deliver smoking cessation advice in trained healthcare professionals before the training workshops, The trained healthcare professionals will be asked about their intentions to deliver smoking cessation advice prior to the training workshops, baseline|Intention to deliver smoking cessation advice in trained healthcare professionals at the end of the training workshops, The trained healthcare professionals will be asked about their intentions to deliver smoking cessation advice at the end of the training workshops, up to 1 week|Intention to deliver smoking cessation advice in trained healthcare professionals aat the 3-month follow-up, The trained healthcare professionals will be asked about their intentions to deliver smoking cessation advice at the 3-month follow-up, at the 3-month follow-up|Intention to deliver smoking cessation advice in trained healthcare professionals aat the 6-month follow-up, The trained healthcare professionals will be asked about their intentions to deliver smoking cessation advice at the 6-month follow-up, at the 6-month follow-up|Planning to deliver smoking cessation advice in trained healthcare professionals before the training workshops, The trained healthcare professionals will be asked about their planning to deliver smoking cessation advice prior to the training workshops, baseline|Planning to deliver smoking cessation advice in trained healthcare professionals at the end of the training workshops, The trained healthcare professionals will be asked about their planning to deliver smoking cessation advice at the end of the training workshops, up to 1 week|Planning to deliver smoking cessation advice in trained healthcare professionals at the 3-month follow-up, The trained healthcare professionals will be asked about their planning to deliver smoking cessation advice at the 3-month follow-up, at the 3-month follow-up|Planning to deliver smoking cessation advice in trained healthcare professionals at the 6-month follow-up, The trained healthcare professionals will be asked about their planning to deliver smoking cessation advice at the 6-month follow-up, at the 6-month follow-up|Number of smokers that have been approached by healthcare professionals at the end of the project, The numbers of smokers that have been approached by the trained healthcare professionals at the end of the project will be recorded., at 22 months|Number of smokers that have been given brief advice on smoking cessation at the end of the project, The numbers of smokers that have been given brief advice on smoking cessation at the end of the project will be recorded., at 22 months|Number of smokers that have been referred to smoking cessation services at the end of the project, The numbers of smokers that have been referred to smoking cessation services at the end of the project will be recorded., at 22 months    1\n",
       "Exploratory Biomarker Analysis, Analysis of potential associations between biomarker measures and anti-tumor activity, immunogenicity, and immune-activation assessments., 4.5 months                                                                                                                                                                                                                                                                                                                                                                                                                                                                                                                                                                                                                                                                                                                                                                                                                                                                                                                                                                                                                                                                                                                                                                                                                                                                                                                                                                                                                                                                                                                                                                                                                                                                                                                                                                                                                                                                                                                                                                                                                                                                                                                                                                                                                                                                                                                                                                                                                                                                                                                                                                                                                                                                                                                                                                                                                                                                                                                                                                                                                                                                                                                                                                                                                                                                                                                                                                                                                                                                                                                                                                                                                                                                                                                                                                                                                                                                                                                                                                                                                                                                                                                                                                                                                                                                                                                                                                                                                                                                                                                                                                                                                                                                                                                                                                                                                                                                                                                                                                                                                                                                                                                                                                                                                                                                                                                                                                                                                                                                                                                                                                                                                                                                                                                                                                                                                                                                                                                                                                                                                                                                                                                                                                                                                                                                                                                                                                                                                                                                                                                                                                                                                                                                                                                                                                                                                                                                                                                                                                                                                                                                                                                                                                                                                                                                                                                                                                                                                                                                                                  1\n",
       "MFS by Decipher genomic score, Will determine the ability of the Decipher test to predict for metastasis in a purely node-positive population. Subgroup analyses of MFS by Decipher genomic score (high risk or low/intermediate risk) will be performed and tests for treatment-by-risk group interaction conducted via Cox regression to explore whether any benefits of apalutamide is limited to the high (or low/intermediate) risk stratum., Up to 7.5 years|OS by Decipher genomic score, Will determine the ability of the Decipher test to predict for metastasis in a purely node-positive population. Subgroup analyses of OS by Decipher genomic score (high risk or low/intermediate risk) will be performed and tests for treatment-by-risk group interaction conducted via Cox regression to explore whether any benefits of apalutamide is limited to the high (or low/intermediate) risk stratum., Up to 7.5 years|PAM50-based classification of prostate cancer, Will validate the PAM50-based classification of prostate cancer into luminal A, luminal B, and basal subtypes as prognostic markers. Classifications of prostate cancer into Luminal A, Luminal B, and basal subtypes using the PAM50 method of classification. Subgroup analyses will be performed and tests for treatment-by-risk group interaction conducted via Cox regression to explore whether any benefits of apalutamide is limited to the high (or low/intermediate) risk stratum., Up to 7.5 years                                                                                                                                                                                                                                                                                                                                                                                                                                                                                                                                                                                                                                                                                                                                                                                                                                                                                                                                                                                                                                                                                                                                                                                                                                                                                                                                                                                                                                                                                                                                                                                                                                                                                                                                                                                                                                                                                                                                                                                                                                                                                                                                                                                                                                                                                                                                                                                                                                                                                                                                                                                                                                                                                                                                                                                                                                                                                                                                                                                                                                                                                                                                                                                                                                                                                                                                                                                                                                                                                                                                                                                                                                                                                                                                                                                                                                                                                                                                                                                                                                                                                                                                                                                                                                                                                                                                                                                                                                                                                                                                                                                                                                                                                                                                                                                                                                                                                                                                                                                                                                                                                                                                                                                                                                                                                                                                                                                                                                                                                                                                                                                                                                                                                                                                                                                                                                                                                                                                                                                                                                                                                                                                                                                       1\n",
       "Overall accuracy of multiparametric mapping of choline metabolism with various MR parameters in staging of patients with high risk prostate cancer as compared to conventional imaging strategies., 2 years|Relationship of choline kinase activity in the primary tumor (as expressed by FCH uptake) to presence of hypoxia and expression of GLUT-1 transporter proteins in pathology specimens., 2 years                                                                                                                                                                                                                                                                                                                                                                                                                                                                                                                                                                                                                                                                                                                                                                                                                                                                                                                                                                                                                                                                                                                                                                                                                                                                                                                                                                                                                                                                                                                                                                                                                                                                                                                                                                                                                                                                                                                                                                                                                                                                                                                                                                                                                                                                                                                                                                                                                                                                                                                                                                                                                                                                                                                                                                                                                                                                                                                                                                                                                                                                                                                                                                                                                                                                                                                                                                                                                                                                                                                                                                                                                                                                                                                                                                                                                                                                                                                                                                                                                                                                                                                                                                                                                                                                                                                                                                                                                                                                                                                                                                                                                                                                                                                                                                                                                                                                                                                                                                                                                                                                                                                                                                                                                                                                                                                                                                                                                                                                                                                                                                                                                                                                                                                                                                                                                                                                                                                                                                                                                                                                                                                                                                                                                                                                                                                                                                                                                                                                                                                                                                                                                                                                                                                                                                                                                                                                                                                                                                                                                                                                                                                                                                                                                                                                            1\n",
       "Center of Pressure Velocity Timing, Timing of peak center of pressure velocity (percent stance) during gait., Baseline|Center of Pressure Velocity Magnitude, Magnitude of peak center of pressure velocity (m/s) during gait., Baseline|Tibialis Anterior Muscle Activity, Electromyography (EMG, % Maximum) of the tibialis anterior during gait., Baseline|Peroneus Longus Muscle Activity, Electromyography (EMG, % Maximum) of the peroneus longus during gait., Baseline|Soleus Muscle Activity, Electromyography (EMG, % Maximum) of the soleus during gait., Baseline|Medial Gastrocnemius Muscle Activity, Electromyography (EMG, % Maximum) of the medial gastrocnemius during gait., Baseline|Semi-Structured Interview, Semi-structured interviews will also be used to fully capture the patients' perspectives, experience, and opinions associated with the device options they experienced as part of the study., Baseline                                                                                                                                                                                                                                                                                                                                                                                                                                                                                                                                                                                                                                                                                                                                                                                                                                                                                                                                                                                                                                                                                                                                                                                                                                                                                                                                                                                                                                                                                                                                                                                                                                                                                                                                                                                                                                                                                                                                                                                                                                                                                                                                                                                                                                                                                                                                                                                                                                                                                                                                                                                                                                                                                                                                                                                                                                                                                                                                                                                                                                                                                                                                                                                                                                                                                                                                                                                                                                                                                                                                                                                                                                                                                                                                                                                                                                                                                                                                                                                                                                                                                                                                                                                                                                                                                                                                                                                                                                                                                                                                                                                                                                                                                                                                                                                                                                                                                                                                                                                                                                                                                                                                                                                                                                                                                                                                                                                                                                                                                                                                                                                                                                                                                                                                                                                                                                                                                                                                                                                                                                                                                                                                                                                                                                                                                                                                                                                                                                                                                                                                                                                                                                                                                                                                             1\n",
       "Name: count, Length: 38197, dtype: int64"
      ]
     },
     "execution_count": 49,
     "metadata": {},
     "output_type": "execute_result"
    }
   ],
   "source": [
    "# Looking into the column\n",
    "df['Other Outcome Measures'].value_counts()"
   ]
  },
  {
   "cell_type": "markdown",
   "id": "b28d4f19-0b02-4ba9-b15a-ff5f4a278597",
   "metadata": {},
   "source": [
    "There are **444,816** missing values in the `Other Outcome Measures` column. Don't know what this is yet... will figure out this later. Most of the data in this column is missing. So this column is a potential DROP.\n",
    "\n",
    "Next is `Collaborators` column:"
   ]
  },
  {
   "cell_type": "code",
   "execution_count": null,
   "id": "e136d787-d20a-4049-9934-9c1abce9de0e",
   "metadata": {},
   "outputs": [],
   "source": []
  },
  {
   "cell_type": "code",
   "execution_count": null,
   "id": "069f942d-7d24-48c9-a1ba-1b3db6862de9",
   "metadata": {},
   "outputs": [],
   "source": []
  },
  {
   "cell_type": "code",
   "execution_count": 40,
   "id": "c7626d03-25a2-4320-a098-546110b1b5b6",
   "metadata": {
    "tags": []
   },
   "outputs": [
    {
     "name": "stdout",
     "output_type": "stream",
     "text": [
      "<class 'pandas.core.frame.DataFrame'>\n",
      "RangeIndex: 483238 entries, 0 to 483237\n",
      "Data columns (total 30 columns):\n",
      " #   Column                      Non-Null Count   Dtype  \n",
      "---  ------                      --------------   -----  \n",
      " 0   NCT Number                  483238 non-null  object \n",
      " 1   Study Title                 483238 non-null  object \n",
      " 2   Study URL                   483238 non-null  object \n",
      " 3   Acronym                     133174 non-null  object \n",
      " 4   Study Status                483238 non-null  object \n",
      " 5   Brief Summary               482350 non-null  object \n",
      " 6   Study Results               483238 non-null  object \n",
      " 7   Conditions                  482317 non-null  object \n",
      " 8   Interventions               435308 non-null  object \n",
      " 9   Primary Outcome Measures    465764 non-null  object \n",
      " 10  Secondary Outcome Measures  350835 non-null  object \n",
      " 11  Other Outcome Measures      38422 non-null   object \n",
      " 12  Sponsor                     483238 non-null  object \n",
      " 13  Collaborators               157862 non-null  object \n",
      " 14  Sex                         481883 non-null  object \n",
      " 15  Age                         482350 non-null  object \n",
      " 16  Phases                      193858 non-null  object \n",
      " 17  Enrollment                  476320 non-null  float64\n",
      " 18  Funder Type                 482350 non-null  object \n",
      " 19  Study Type                  482350 non-null  object \n",
      " 20  Study Design                481422 non-null  object \n",
      " 21  Other IDs                   483181 non-null  object \n",
      " 22  Start Date                  478095 non-null  object \n",
      " 23  Primary Completion Date     461396 non-null  object \n",
      " 24  Completion Date             466378 non-null  object \n",
      " 25  First Posted                483238 non-null  object \n",
      " 26  Results First Posted        62352 non-null   object \n",
      " 27  Last Update Posted          483238 non-null  object \n",
      " 28  Locations                   432192 non-null  object \n",
      " 29  Study Documents             32769 non-null   object \n",
      "dtypes: float64(1), object(29)\n",
      "memory usage: 110.6+ MB\n"
     ]
    }
   ],
   "source": [
    "df.info()"
   ]
  }
 ],
 "metadata": {
  "kernelspec": {
   "display_name": "Python 3 (ipykernel)",
   "language": "python",
   "name": "python3"
  },
  "language_info": {
   "codemirror_mode": {
    "name": "ipython",
    "version": 3
   },
   "file_extension": ".py",
   "mimetype": "text/x-python",
   "name": "python",
   "nbconvert_exporter": "python",
   "pygments_lexer": "ipython3",
   "version": "3.11.5"
  }
 },
 "nbformat": 4,
 "nbformat_minor": 5
}
