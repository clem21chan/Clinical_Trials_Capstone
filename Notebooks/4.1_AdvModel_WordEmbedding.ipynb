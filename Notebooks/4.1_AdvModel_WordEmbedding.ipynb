{
 "cells": [
  {
   "cell_type": "markdown",
   "id": "bd63b150-f52e-4687-95a6-926984421a12",
   "metadata": {},
   "source": [
    "# Predicting Clinical Trial Terminations\n",
    "### Notebook 4.1: Advanced Modelling - Word Embedding\n",
    "\n",
    "**Author: Clement Chan**\n",
    "\n",
    "---\n",
    "Notes on the notebook:\n",
    "\n",
    "https://huggingface.co/emilyalsentzer/Bio_ClinicalBERT\n",
    "\n",
    "- ADD NOTES HERE!!"
   ]
  },
  {
   "cell_type": "code",
   "execution_count": 26,
   "id": "1863211b-466e-40aa-b3ea-2e96cc522ebf",
   "metadata": {
    "tags": []
   },
   "outputs": [],
   "source": [
    "import numpy as np\n",
    "import pandas as pd\n",
    "\n",
    "import matplotlib.pyplot as plt\n",
    "import seaborn as sns\n",
    "\n",
    "# sklearn metrics\n",
    "from sklearn.metrics import accuracy_score,recall_score,precision_score,f1_score\n",
    "\n",
    "# import PyTorch\n",
    "import torch\n",
    "\n",
    "# huggingface/transformers\n",
    "from transformers import AutoTokenizer, AutoModel, AutoModelForSequenceClassification, DataCollatorWithPadding\n",
    "from transformers import TrainingArguments, Trainer, TextClassificationPipeline\n",
    "\n",
    "# load_dataset\n",
    "from datasets import load_dataset\n",
    "\n",
    "# ignores the filter warnings\n",
    "import warnings\n",
    "warnings.filterwarnings('ignore')"
   ]
  },
  {
   "cell_type": "code",
   "execution_count": 2,
   "id": "38735ee4-cc7b-466c-9cf3-679a05483445",
   "metadata": {
    "tags": []
   },
   "outputs": [],
   "source": [
    "# Bio_ClinicalBert Setup\n",
    "tokenizer = AutoTokenizer.from_pretrained(\"emilyalsentzer/Bio_ClinicalBERT\")\n",
    "model = AutoModel.from_pretrained(\"emilyalsentzer/Bio_ClinicalBERT\")"
   ]
  },
  {
   "cell_type": "code",
   "execution_count": 3,
   "id": "f27d3878-78b6-4ed3-9d8b-48ad89ca0989",
   "metadata": {
    "tags": []
   },
   "outputs": [
    {
     "data": {
      "text/html": [
       "<div>\n",
       "<style scoped>\n",
       "    .dataframe tbody tr th:only-of-type {\n",
       "        vertical-align: middle;\n",
       "    }\n",
       "\n",
       "    .dataframe tbody tr th {\n",
       "        vertical-align: top;\n",
       "    }\n",
       "\n",
       "    .dataframe thead th {\n",
       "        text-align: right;\n",
       "    }\n",
       "</style>\n",
       "<table border=\"1\" class=\"dataframe\">\n",
       "  <thead>\n",
       "    <tr style=\"text-align: right;\">\n",
       "      <th></th>\n",
       "      <th>Study Title</th>\n",
       "      <th>Study Status</th>\n",
       "      <th>Brief Summary</th>\n",
       "      <th>Study Results</th>\n",
       "      <th>Conditions</th>\n",
       "      <th>Interventions</th>\n",
       "      <th>Primary Outcome Measures</th>\n",
       "      <th>Secondary Outcome Measures</th>\n",
       "      <th>Sponsor</th>\n",
       "      <th>Collaborators</th>\n",
       "      <th>Sex</th>\n",
       "      <th>Age</th>\n",
       "      <th>Phases</th>\n",
       "      <th>Enrollment</th>\n",
       "      <th>Funder Type</th>\n",
       "      <th>Study Type</th>\n",
       "      <th>Study Design</th>\n",
       "      <th>Locations</th>\n",
       "      <th>study_duration</th>\n",
       "    </tr>\n",
       "  </thead>\n",
       "  <tbody>\n",
       "    <tr>\n",
       "      <th>0</th>\n",
       "      <td>Effectiveness of a Problem-solving Interventio...</td>\n",
       "      <td>0</td>\n",
       "      <td>We will conduct a two-arm individually randomi...</td>\n",
       "      <td>0</td>\n",
       "      <td>Mental Health Issue (E.G., Depression, Psychos...</td>\n",
       "      <td>behavioral: pride 'step 1' problem-solving int...</td>\n",
       "      <td>Mental health symptoms, The Strengths and Diff...</td>\n",
       "      <td>Mental health symptoms, The adolescent-reporte...</td>\n",
       "      <td>Sangath</td>\n",
       "      <td>Harvard Medical School (HMS and HSDM)|London S...</td>\n",
       "      <td>ALL</td>\n",
       "      <td>CHILD, ADULT</td>\n",
       "      <td>NO PHASE</td>\n",
       "      <td>210-490</td>\n",
       "      <td>OTHER</td>\n",
       "      <td>1</td>\n",
       "      <td>Allocation: RANDOMIZED|Intervention Model: PAR...</td>\n",
       "      <td>Sangath, New Delhi, Delhi, 110016, India</td>\n",
       "      <td>123-244</td>\n",
       "    </tr>\n",
       "    <tr>\n",
       "      <th>1</th>\n",
       "      <td>Investigating the Effect of a Prenatal Family ...</td>\n",
       "      <td>0</td>\n",
       "      <td>The purpose of this study is to measure the di...</td>\n",
       "      <td>0</td>\n",
       "      <td>Focus: Contraceptive Counseling|Focus: Postpar...</td>\n",
       "      <td>other: family planning counseling let by commu...</td>\n",
       "      <td>Self-reported contraceptive use, 6 months post...</td>\n",
       "      <td>Intent to use contraception in the future, 6 m...</td>\n",
       "      <td>Planned Parenthood League of Massachusetts</td>\n",
       "      <td>Society for Family Planning Research Fund</td>\n",
       "      <td>FEMALE</td>\n",
       "      <td>CHILD, ADULT, OLDER_ADULT</td>\n",
       "      <td>NO PHASE</td>\n",
       "      <td>120-209</td>\n",
       "      <td>OTHER</td>\n",
       "      <td>1</td>\n",
       "      <td>Allocation: NON_RANDOMIZED|Intervention Model:...</td>\n",
       "      <td>Palestinian Ministry of Health Maternal Child ...</td>\n",
       "      <td>366-515</td>\n",
       "    </tr>\n",
       "    <tr>\n",
       "      <th>2</th>\n",
       "      <td>Pre-exposure Prophylaxis (PrEP) for People Who...</td>\n",
       "      <td>1</td>\n",
       "      <td>People who inject drugs (PWID) experience high...</td>\n",
       "      <td>0</td>\n",
       "      <td>Intravenous Drug Abuse</td>\n",
       "      <td>behavioral: prep uptake/adherence intervention...</td>\n",
       "      <td>PrEP uptake by self-report, measured using 1 i...</td>\n",
       "      <td>Participant satisfaction with intervention con...</td>\n",
       "      <td>Boston University</td>\n",
       "      <td>National Institute on Drug Abuse (NIDA)</td>\n",
       "      <td>ALL</td>\n",
       "      <td>ADULT, OLDER_ADULT</td>\n",
       "      <td>NO PHASE</td>\n",
       "      <td>0-8</td>\n",
       "      <td>OTHER</td>\n",
       "      <td>1</td>\n",
       "      <td>Allocation: RANDOMIZED|Intervention Model: PAR...</td>\n",
       "      <td>unknown</td>\n",
       "      <td>245-365</td>\n",
       "    </tr>\n",
       "    <tr>\n",
       "      <th>3</th>\n",
       "      <td>Tailored Inhibitory Control Training to Revers...</td>\n",
       "      <td>0</td>\n",
       "      <td>Insufficient inhibitory control is one pathway...</td>\n",
       "      <td>0</td>\n",
       "      <td>Smoking|Alcohol Drinking|Prescription Drug Abu...</td>\n",
       "      <td>behavioral: person-centered inhibitory control...</td>\n",
       "      <td>Inhibitory control performance, Task 1, Perfor...</td>\n",
       "      <td>Far transfer to a task related to inhibitory c...</td>\n",
       "      <td>University of Oregon</td>\n",
       "      <td>none</td>\n",
       "      <td>ALL</td>\n",
       "      <td>ADULT</td>\n",
       "      <td>NO PHASE</td>\n",
       "      <td>80-119</td>\n",
       "      <td>OTHER</td>\n",
       "      <td>1</td>\n",
       "      <td>Allocation: RANDOMIZED|Intervention Model: PAR...</td>\n",
       "      <td>University of Oregon, Social and Affective Neu...</td>\n",
       "      <td>516-671</td>\n",
       "    </tr>\n",
       "    <tr>\n",
       "      <th>4</th>\n",
       "      <td>Neuromodulation of Trauma Memories in PTSD &amp; A...</td>\n",
       "      <td>0</td>\n",
       "      <td>The purpose of this study is to examine the ef...</td>\n",
       "      <td>1</td>\n",
       "      <td>Alcohol Dependence|PTSD</td>\n",
       "      <td>drug: propranolol|drug: placebo</td>\n",
       "      <td>Retrieval Session Distress Scores (Session 1),...</td>\n",
       "      <td>Proportion of Drinking Days, Proportion of dri...</td>\n",
       "      <td>Medical University of South Carolina</td>\n",
       "      <td>National Institute on Alcohol Abuse and Alcoho...</td>\n",
       "      <td>ALL</td>\n",
       "      <td>ADULT, OLDER_ADULT</td>\n",
       "      <td>PHASE2</td>\n",
       "      <td>42-59</td>\n",
       "      <td>OTHER</td>\n",
       "      <td>1</td>\n",
       "      <td>Allocation: RANDOMIZED|Intervention Model: PAR...</td>\n",
       "      <td>MUSC, Charleston, South Carolina, 294258908, U...</td>\n",
       "      <td>862-1097</td>\n",
       "    </tr>\n",
       "  </tbody>\n",
       "</table>\n",
       "</div>"
      ],
      "text/plain": [
       "                                         Study Title  Study Status  \\\n",
       "0  Effectiveness of a Problem-solving Interventio...             0   \n",
       "1  Investigating the Effect of a Prenatal Family ...             0   \n",
       "2  Pre-exposure Prophylaxis (PrEP) for People Who...             1   \n",
       "3  Tailored Inhibitory Control Training to Revers...             0   \n",
       "4  Neuromodulation of Trauma Memories in PTSD & A...             0   \n",
       "\n",
       "                                       Brief Summary  Study Results  \\\n",
       "0  We will conduct a two-arm individually randomi...              0   \n",
       "1  The purpose of this study is to measure the di...              0   \n",
       "2  People who inject drugs (PWID) experience high...              0   \n",
       "3  Insufficient inhibitory control is one pathway...              0   \n",
       "4  The purpose of this study is to examine the ef...              1   \n",
       "\n",
       "                                          Conditions  \\\n",
       "0  Mental Health Issue (E.G., Depression, Psychos...   \n",
       "1  Focus: Contraceptive Counseling|Focus: Postpar...   \n",
       "2                             Intravenous Drug Abuse   \n",
       "3  Smoking|Alcohol Drinking|Prescription Drug Abu...   \n",
       "4                            Alcohol Dependence|PTSD   \n",
       "\n",
       "                                       Interventions  \\\n",
       "0  behavioral: pride 'step 1' problem-solving int...   \n",
       "1  other: family planning counseling let by commu...   \n",
       "2  behavioral: prep uptake/adherence intervention...   \n",
       "3  behavioral: person-centered inhibitory control...   \n",
       "4                    drug: propranolol|drug: placebo   \n",
       "\n",
       "                            Primary Outcome Measures  \\\n",
       "0  Mental health symptoms, The Strengths and Diff...   \n",
       "1  Self-reported contraceptive use, 6 months post...   \n",
       "2  PrEP uptake by self-report, measured using 1 i...   \n",
       "3  Inhibitory control performance, Task 1, Perfor...   \n",
       "4  Retrieval Session Distress Scores (Session 1),...   \n",
       "\n",
       "                          Secondary Outcome Measures  \\\n",
       "0  Mental health symptoms, The adolescent-reporte...   \n",
       "1  Intent to use contraception in the future, 6 m...   \n",
       "2  Participant satisfaction with intervention con...   \n",
       "3  Far transfer to a task related to inhibitory c...   \n",
       "4  Proportion of Drinking Days, Proportion of dri...   \n",
       "\n",
       "                                      Sponsor  \\\n",
       "0                                     Sangath   \n",
       "1  Planned Parenthood League of Massachusetts   \n",
       "2                           Boston University   \n",
       "3                        University of Oregon   \n",
       "4        Medical University of South Carolina   \n",
       "\n",
       "                                       Collaborators     Sex  \\\n",
       "0  Harvard Medical School (HMS and HSDM)|London S...     ALL   \n",
       "1          Society for Family Planning Research Fund  FEMALE   \n",
       "2            National Institute on Drug Abuse (NIDA)     ALL   \n",
       "3                                               none     ALL   \n",
       "4  National Institute on Alcohol Abuse and Alcoho...     ALL   \n",
       "\n",
       "                         Age    Phases Enrollment Funder Type  Study Type  \\\n",
       "0               CHILD, ADULT  NO PHASE    210-490       OTHER           1   \n",
       "1  CHILD, ADULT, OLDER_ADULT  NO PHASE    120-209       OTHER           1   \n",
       "2         ADULT, OLDER_ADULT  NO PHASE        0-8       OTHER           1   \n",
       "3                      ADULT  NO PHASE     80-119       OTHER           1   \n",
       "4         ADULT, OLDER_ADULT    PHASE2      42-59       OTHER           1   \n",
       "\n",
       "                                        Study Design  \\\n",
       "0  Allocation: RANDOMIZED|Intervention Model: PAR...   \n",
       "1  Allocation: NON_RANDOMIZED|Intervention Model:...   \n",
       "2  Allocation: RANDOMIZED|Intervention Model: PAR...   \n",
       "3  Allocation: RANDOMIZED|Intervention Model: PAR...   \n",
       "4  Allocation: RANDOMIZED|Intervention Model: PAR...   \n",
       "\n",
       "                                           Locations study_duration  \n",
       "0           Sangath, New Delhi, Delhi, 110016, India        123-244  \n",
       "1  Palestinian Ministry of Health Maternal Child ...        366-515  \n",
       "2                                            unknown        245-365  \n",
       "3  University of Oregon, Social and Affective Neu...        516-671  \n",
       "4  MUSC, Charleston, South Carolina, 294258908, U...       862-1097  "
      ]
     },
     "execution_count": 3,
     "metadata": {},
     "output_type": "execute_result"
    }
   ],
   "source": [
    "text_df = pd.read_csv('clean_ctg.csv', index_col=0)\n",
    "text_df.head()"
   ]
  },
  {
   "cell_type": "code",
   "execution_count": 4,
   "id": "b3fa16ae-fb4b-46ed-95ba-e9e262713cc1",
   "metadata": {
    "tags": []
   },
   "outputs": [
    {
     "data": {
      "text/plain": [
       "['Effectiveness of a Problem-solving Intervention for Common Adolescent Mental Health Problems in India',\n",
       " 'Investigating the Effect of a Prenatal Family Planning Counseling Intervention Led by Community Health Workers on Postpartum Contraceptive Use Among Women in the West Bank']"
      ]
     },
     "execution_count": 4,
     "metadata": {},
     "output_type": "execute_result"
    }
   ],
   "source": [
    "sample = text_df['Study Title'][:2].tolist()\n",
    "sample"
   ]
  },
  {
   "cell_type": "code",
   "execution_count": 5,
   "id": "d746e962-6224-4492-b186-f5427bc700ed",
   "metadata": {
    "tags": []
   },
   "outputs": [
    {
     "data": {
      "text/plain": [
       "{'input_ids': tensor([[  101, 12949,  1104,   170,  2463,   118, 15097,  9108,  1111,  1887,\n",
       "         25506,  4910,  2332,  2645,  1107,  1107,  7168,   102,     0,     0,\n",
       "             0,     0,     0,     0,     0,     0,     0,     0,     0,     0,\n",
       "             0,     0,     0],\n",
       "        [  101, 11950,  1103,  2629,  1104,   170,  3073, 24226,  1348,  1266,\n",
       "          3693, 22138,  9108,  1521,  1118,  1661,  2332,  3239,  1113,  2112,\n",
       "         17482,  8928, 14255,  4487, 17046,  1329,  1621,  1535,  1107,  1103,\n",
       "          1745,  3085,   102]]), 'token_type_ids': tensor([[0, 0, 0, 0, 0, 0, 0, 0, 0, 0, 0, 0, 0, 0, 0, 0, 0, 0, 0, 0, 0, 0, 0, 0,\n",
       "         0, 0, 0, 0, 0, 0, 0, 0, 0],\n",
       "        [0, 0, 0, 0, 0, 0, 0, 0, 0, 0, 0, 0, 0, 0, 0, 0, 0, 0, 0, 0, 0, 0, 0, 0,\n",
       "         0, 0, 0, 0, 0, 0, 0, 0, 0]]), 'attention_mask': tensor([[1, 1, 1, 1, 1, 1, 1, 1, 1, 1, 1, 1, 1, 1, 1, 1, 1, 1, 0, 0, 0, 0, 0, 0,\n",
       "         0, 0, 0, 0, 0, 0, 0, 0, 0],\n",
       "        [1, 1, 1, 1, 1, 1, 1, 1, 1, 1, 1, 1, 1, 1, 1, 1, 1, 1, 1, 1, 1, 1, 1, 1,\n",
       "         1, 1, 1, 1, 1, 1, 1, 1, 1]])}"
      ]
     },
     "execution_count": 5,
     "metadata": {},
     "output_type": "execute_result"
    }
   ],
   "source": [
    "inputs = tokenizer(sample, return_tensors=\"pt\", padding=True)\n",
    "inputs"
   ]
  },
  {
   "cell_type": "code",
   "execution_count": 6,
   "id": "d8fb1ce5-3aaf-466d-bdea-70141a80a586",
   "metadata": {
    "tags": []
   },
   "outputs": [
    {
     "data": {
      "text/plain": [
       "torch.Size([2, 33])"
      ]
     },
     "execution_count": 6,
     "metadata": {},
     "output_type": "execute_result"
    }
   ],
   "source": [
    "inputs[\"input_ids\"].shape"
   ]
  },
  {
   "cell_type": "code",
   "execution_count": 7,
   "id": "71795616-c5a3-492b-92ed-8b7091160004",
   "metadata": {
    "tags": []
   },
   "outputs": [
    {
     "data": {
      "text/plain": [
       "['[CLS]',\n",
       " 'effectiveness',\n",
       " 'of',\n",
       " 'a',\n",
       " 'problem',\n",
       " '-',\n",
       " 'solving',\n",
       " 'intervention',\n",
       " 'for',\n",
       " 'common',\n",
       " 'adolescent',\n",
       " 'mental',\n",
       " 'health',\n",
       " 'problems',\n",
       " 'in',\n",
       " 'in',\n",
       " '##dia',\n",
       " '[SEP]',\n",
       " '[PAD]',\n",
       " '[PAD]',\n",
       " '[PAD]',\n",
       " '[PAD]',\n",
       " '[PAD]',\n",
       " '[PAD]',\n",
       " '[PAD]',\n",
       " '[PAD]',\n",
       " '[PAD]',\n",
       " '[PAD]',\n",
       " '[PAD]',\n",
       " '[PAD]',\n",
       " '[PAD]',\n",
       " '[PAD]',\n",
       " '[PAD]']"
      ]
     },
     "execution_count": 7,
     "metadata": {},
     "output_type": "execute_result"
    }
   ],
   "source": [
    "tokenizer.convert_ids_to_tokens(inputs[\"input_ids\"][0])"
   ]
  },
  {
   "cell_type": "code",
   "execution_count": 8,
   "id": "43a83cca-6377-4738-83f9-e2f86c884b9f",
   "metadata": {
    "scrolled": true,
    "tags": []
   },
   "outputs": [],
   "source": [
    "outputs = model(**inputs)"
   ]
  },
  {
   "cell_type": "code",
   "execution_count": 9,
   "id": "3a238045-5ca5-4c53-9dd3-cbfa43620c99",
   "metadata": {
    "tags": []
   },
   "outputs": [
    {
     "data": {
      "text/plain": [
       "torch.Size([2, 33, 768])"
      ]
     },
     "execution_count": 9,
     "metadata": {},
     "output_type": "execute_result"
    }
   ],
   "source": [
    "outputs.last_hidden_state.shape"
   ]
  },
  {
   "cell_type": "code",
   "execution_count": 10,
   "id": "39d2d491-70db-4e0e-b32f-7e169aa19cc9",
   "metadata": {},
   "outputs": [
    {
     "data": {
      "text/plain": [
       "BertConfig {\n",
       "  \"_name_or_path\": \"emilyalsentzer/Bio_ClinicalBERT\",\n",
       "  \"attention_probs_dropout_prob\": 0.1,\n",
       "  \"classifier_dropout\": null,\n",
       "  \"hidden_act\": \"gelu\",\n",
       "  \"hidden_dropout_prob\": 0.1,\n",
       "  \"hidden_size\": 768,\n",
       "  \"initializer_range\": 0.02,\n",
       "  \"intermediate_size\": 3072,\n",
       "  \"layer_norm_eps\": 1e-12,\n",
       "  \"max_position_embeddings\": 512,\n",
       "  \"model_type\": \"bert\",\n",
       "  \"num_attention_heads\": 12,\n",
       "  \"num_hidden_layers\": 12,\n",
       "  \"pad_token_id\": 0,\n",
       "  \"position_embedding_type\": \"absolute\",\n",
       "  \"transformers_version\": \"4.32.1\",\n",
       "  \"type_vocab_size\": 2,\n",
       "  \"use_cache\": true,\n",
       "  \"vocab_size\": 28996\n",
       "}"
      ]
     },
     "execution_count": 10,
     "metadata": {},
     "output_type": "execute_result"
    }
   ],
   "source": [
    "model.config"
   ]
  },
  {
   "cell_type": "markdown",
   "id": "94ab5c7f-f2dd-456a-8a19-94a21510546d",
   "metadata": {
    "id": "NwES0P5I0AOG"
   },
   "source": [
    "\n",
    "Here, we actually pull a pre-trained model and get it setup with our desired output classification labels.  "
   ]
  },
  {
   "cell_type": "code",
   "execution_count": 51,
   "id": "988f026b-4554-4239-886f-df22163f1e5b",
   "metadata": {
    "colab": {
     "base_uri": "https://localhost:8080/"
    },
    "id": "rnI_pnmZ0AOG",
    "outputId": "8176935c-17b0-4d5c-e4e6-9a6d0cd1f5c9",
    "tags": []
   },
   "outputs": [
    {
     "name": "stderr",
     "output_type": "stream",
     "text": [
      "Some weights of BertForSequenceClassification were not initialized from the model checkpoint at emilyalsentzer/Bio_ClinicalBERT and are newly initialized: ['classifier.bias', 'classifier.weight']\n",
      "You should probably TRAIN this model on a down-stream task to be able to use it for predictions and inference.\n"
     ]
    }
   ],
   "source": [
    "# model setup for text classification\n",
    "model = AutoModelForSequenceClassification.from_pretrained(\n",
    "    \"emilyalsentzer/Bio_ClinicalBERT\",\n",
    "    num_labels=2,)"
   ]
  },
  {
   "cell_type": "code",
   "execution_count": 52,
   "id": "2cbf8145-c068-4e5f-8c2c-ca674f8b0ce5",
   "metadata": {
    "id": "YWx1Vs800AOF",
    "tags": []
   },
   "outputs": [],
   "source": [
    "# Out target categories need to be encoded as integers, but we'll want to reverse this\n",
    "# encoding back to the original categorical strings later, so we need forward and reverse lookups.\n",
    "id2label = {i:cat for i,cat in enumerate(set(text_df[\"Study Status\"]))}\n",
    "label2id = {v:k for k,v in id2label.items()}"
   ]
  },
  {
   "cell_type": "code",
   "execution_count": 53,
   "id": "046604fc-46b6-4ae1-860c-79c2b2de412f",
   "metadata": {
    "id": "vj6u3ULb0AOF",
    "tags": []
   },
   "outputs": [],
   "source": [
    "# pull out columns of interest and do a manual test_train split based on random integer assignment\n",
    "simplified = text_df[[\"Study Status\",\"Study Title\"]].copy()\n",
    "simplified.columns = [\"label\",\"text\"]\n",
    "simplified.loc[:,\"label\"] = list(label2id[lab] for lab in simplified[\"label\"])\n",
    "test_flag = np.random.randint(0,high=10,size=text_df.shape[0])\n",
    "simplified.loc[:,'test'] = test_flag > 4\n"
   ]
  },
  {
   "cell_type": "code",
   "execution_count": 54,
   "id": "f61acf7a-318b-4c11-9d4d-5ff6502018dc",
   "metadata": {
    "id": "a0RctjiA0AOF",
    "tags": []
   },
   "outputs": [],
   "source": [
    "# select 30 of each category for training in \"few shot\" mode\n",
    "train = simplified[~simplified.test].groupby('label',group_keys=False).apply(lambda x: x.sample(5000))"
   ]
  },
  {
   "cell_type": "code",
   "execution_count": 55,
   "id": "8078527d-5cc9-473c-8795-61b5899d2882",
   "metadata": {
    "tags": []
   },
   "outputs": [
    {
     "data": {
      "text/plain": [
       "(10000, 3)"
      ]
     },
     "execution_count": 55,
     "metadata": {},
     "output_type": "execute_result"
    }
   ],
   "source": [
    "train.shape"
   ]
  },
  {
   "cell_type": "code",
   "execution_count": 56,
   "id": "8eaced4d-cbd3-4faf-adf6-72fe4345db3e",
   "metadata": {
    "tags": []
   },
   "outputs": [
    {
     "data": {
      "text/plain": [
       "label    5000\n",
       "text     5000\n",
       "test     5000\n",
       "dtype: int64"
      ]
     },
     "execution_count": 56,
     "metadata": {},
     "output_type": "execute_result"
    }
   ],
   "source": [
    "train[train['label'] == 1].count()"
   ]
  },
  {
   "cell_type": "code",
   "execution_count": null,
   "id": "f6683b81-97f2-4316-8c9e-7fe16670c87a",
   "metadata": {},
   "outputs": [],
   "source": []
  },
  {
   "cell_type": "code",
   "execution_count": null,
   "id": "7ca25c25-2ac6-4790-9862-2b4b0040043b",
   "metadata": {},
   "outputs": [],
   "source": []
  },
  {
   "cell_type": "code",
   "execution_count": 57,
   "id": "7fafc2cc-2535-46bf-9786-788c9a513c3a",
   "metadata": {
    "id": "0EU-hwi10AOF",
    "tags": []
   },
   "outputs": [],
   "source": [
    "# select 90 of each cagegory for test evaluation during tuning\n",
    "test = simplified[simplified.test].groupby('label',group_keys=False).apply(lambda x: x.sample(10000))"
   ]
  },
  {
   "cell_type": "code",
   "execution_count": 58,
   "id": "901b0132-683a-4294-a193-dd204ff982e6",
   "metadata": {
    "tags": []
   },
   "outputs": [
    {
     "data": {
      "text/plain": [
       "(20000, 3)"
      ]
     },
     "execution_count": 58,
     "metadata": {},
     "output_type": "execute_result"
    }
   ],
   "source": [
    "test.shape"
   ]
  },
  {
   "cell_type": "code",
   "execution_count": 59,
   "id": "3e9e918a-6973-4e84-88cb-f4e2eef09a22",
   "metadata": {
    "tags": []
   },
   "outputs": [
    {
     "data": {
      "text/plain": [
       "label\n",
       "0    10000\n",
       "1    10000\n",
       "Name: count, dtype: int64"
      ]
     },
     "execution_count": 59,
     "metadata": {},
     "output_type": "execute_result"
    }
   ],
   "source": [
    "test['label'].value_counts()"
   ]
  },
  {
   "cell_type": "code",
   "execution_count": null,
   "id": "c8032f0f-d031-4625-9caf-e634dc7e9644",
   "metadata": {},
   "outputs": [],
   "source": []
  },
  {
   "cell_type": "code",
   "execution_count": null,
   "id": "72b53aa6-daf3-48ad-abe9-3482a957ceb0",
   "metadata": {},
   "outputs": [],
   "source": []
  },
  {
   "cell_type": "code",
   "execution_count": 60,
   "id": "3a443157-a7e9-435f-ac0c-0f37d0ea3211",
   "metadata": {
    "id": "b4X3iM3W0AOF",
    "tags": []
   },
   "outputs": [],
   "source": [
    "# save as CSV files to be processed by the hugging face data pipelines\n",
    "train.reset_index(drop=True).to_csv(\"data/bert_train.csv\")\n",
    "test.reset_index(drop=True).to_csv(\"data/bert_test.csv\")"
   ]
  },
  {
   "cell_type": "code",
   "execution_count": 61,
   "id": "efeace1e-5934-48c3-a0ff-1f0a7d50d551",
   "metadata": {
    "colab": {
     "base_uri": "https://localhost:8080/",
     "height": 145,
     "referenced_widgets": [
      "1ba16397c10c4ed3a8de654fda343e6b",
      "5ec394c1434742fea8f090cdf9961f81",
      "f68a96bc9fcc4bbbbef7ac372518652e",
      "e350bfcdd0b94317b5217b9482313769",
      "98141418b32f423db8558b9c31823f29",
      "92eb39c295a6474fb64cc191a02f7c5f",
      "470613c3869e453b8a24022ff035be69",
      "ec3b223e185a4b98ba753d98a06b0c6e",
      "96695547cbc24421b545c3e4f2f1c258",
      "9c052a34f70d45618ce0ecc9c4b3c3a1",
      "6af587058ade47b5b9c4212dacea7999",
      "5b2141a2b74f404192c0d01390301bee",
      "3348dbe0a3e84b958816154e9d7d6f30",
      "b7e02e2ce6404060a9da268bdd0d01da",
      "853ef9c3db2840c5a432df35035160e5",
      "7b58ab3c665945da957f0b09b61cb5f0",
      "e981466cd17c4deba5029cb5e4d97e15",
      "f2f612811f614fe0b54f8283721a7f5f",
      "3c3dd95c7370454087dc153a39ba6bc0",
      "37b2c9df1a5e4c88b2de72b5576affa6",
      "4ccf484ce9294231b95648ee5cd1dede",
      "3669cc7e258e4fa4951dadb6db8c8be3",
      "f253498053574cbe89fee5316a19cd70",
      "b950d2ad96a44a69ab4da133d2a0a735",
      "48d2ddf0547e4649a556029d1c0400f8",
      "086f236ff1f34369b2332a71cae3b337",
      "9d9656ae8f6948c7aa150cb6b1de5f97",
      "578e829bceab412abede56f2c0f1f8b6",
      "9cd81c6c918945b39ff79c0799ebf18b",
      "3f30fbde685a4c2fa3e6d74065b8b6e0",
      "0d6e01efa37f4459ba52766613c369e4",
      "f2d272fb3eaa43eca0ace48147cbf66b",
      "abc6a88127904b71ba38aa065c5fccb4",
      "d91e476234e347da90dcede5f59be589",
      "72a0a0bc4c7b4d6b82980fe639260ca4",
      "71f9d84578ab41bf87f3e7c6609313d9",
      "caa717f942f14b529768e9909d0f1b87",
      "f50b514915094450a5665b2494f4c450",
      "c036a6c056f64bb0ae8b08a3bf770536",
      "4ea13320846c4f1a89ce5461d8d9795d",
      "c2877e5890d444aeb0dbc441662ae76e",
      "f792004b38054bb5b8c6c5b3ba1a7579",
      "81c9b60563504494a1844c6dba303fd3",
      "d862eaa392be44c794ab0b8d105f8305"
     ]
    },
    "id": "k4nRFU9M0AOF",
    "outputId": "efc902f1-9ae3-4fed-ceaa-a0b80f96e0b4",
    "tags": []
   },
   "outputs": [
    {
     "name": "stdout",
     "output_type": "stream",
     "text": [
      "Downloading and preparing dataset csv/default to C:/Users/tingh/.cache/huggingface/datasets/csv/default-ee2b8e5d3f365f51/0.0.0/6954658bab30a358235fa864b05cf819af0e179325c740e4bc853bcc7ec513e1...\n"
     ]
    },
    {
     "data": {
      "application/vnd.jupyter.widget-view+json": {
       "model_id": "f9218266d1114ee8be5735469f160667",
       "version_major": 2,
       "version_minor": 0
      },
      "text/plain": [
       "Downloading data files:   0%|          | 0/2 [00:00<?, ?it/s]"
      ]
     },
     "metadata": {},
     "output_type": "display_data"
    },
    {
     "data": {
      "application/vnd.jupyter.widget-view+json": {
       "model_id": "1424deeb8e2843e0aa87322aae99b579",
       "version_major": 2,
       "version_minor": 0
      },
      "text/plain": [
       "Extracting data files:   0%|          | 0/2 [00:00<?, ?it/s]"
      ]
     },
     "metadata": {},
     "output_type": "display_data"
    },
    {
     "data": {
      "application/vnd.jupyter.widget-view+json": {
       "model_id": "",
       "version_major": 2,
       "version_minor": 0
      },
      "text/plain": [
       "Generating train split: 0 examples [00:00, ? examples/s]"
      ]
     },
     "metadata": {},
     "output_type": "display_data"
    },
    {
     "data": {
      "application/vnd.jupyter.widget-view+json": {
       "model_id": "",
       "version_major": 2,
       "version_minor": 0
      },
      "text/plain": [
       "Generating test split: 0 examples [00:00, ? examples/s]"
      ]
     },
     "metadata": {},
     "output_type": "display_data"
    },
    {
     "name": "stdout",
     "output_type": "stream",
     "text": [
      "Dataset csv downloaded and prepared to C:/Users/tingh/.cache/huggingface/datasets/csv/default-ee2b8e5d3f365f51/0.0.0/6954658bab30a358235fa864b05cf819af0e179325c740e4bc853bcc7ec513e1. Subsequent calls will reuse this data.\n"
     ]
    },
    {
     "data": {
      "application/vnd.jupyter.widget-view+json": {
       "model_id": "227f8b2783944a7d8ba16a8fef49022c",
       "version_major": 2,
       "version_minor": 0
      },
      "text/plain": [
       "  0%|          | 0/2 [00:00<?, ?it/s]"
      ]
     },
     "metadata": {},
     "output_type": "display_data"
    }
   ],
   "source": [
    "# load as hugging face dataset\n",
    "dataset = load_dataset('csv', data_files={'train': 'data/bert_train.csv', 'test': 'data/bert_test.csv'})"
   ]
  },
  {
   "cell_type": "code",
   "execution_count": 62,
   "id": "9a5379fb-3d04-4956-ad92-27de75716c4a",
   "metadata": {
    "tags": []
   },
   "outputs": [
    {
     "data": {
      "application/vnd.jupyter.widget-view+json": {
       "model_id": "",
       "version_major": 2,
       "version_minor": 0
      },
      "text/plain": [
       "Map:   0%|          | 0/10000 [00:00<?, ? examples/s]"
      ]
     },
     "metadata": {},
     "output_type": "display_data"
    },
    {
     "data": {
      "application/vnd.jupyter.widget-view+json": {
       "model_id": "",
       "version_major": 2,
       "version_minor": 0
      },
      "text/plain": [
       "Map:   0%|          | 0/20000 [00:00<?, ? examples/s]"
      ]
     },
     "metadata": {},
     "output_type": "display_data"
    }
   ],
   "source": [
    "def preprocess_function(examples):\n",
    "    return tokenizer(examples[\"text\"], truncation=True, padding=True)\n",
    "\n",
    "# pro forma hugging face text processing setup\n",
    "tokenized_data = dataset.map(preprocess_function, batched=True)\n",
    "\n",
    "data_collator = DataCollatorWithPadding(tokenizer=tokenizer)"
   ]
  },
  {
   "cell_type": "code",
   "execution_count": 63,
   "id": "e4594a60-faa7-4dff-af72-402043ce55b8",
   "metadata": {
    "id": "EvWYMko40AOG",
    "tags": []
   },
   "outputs": [],
   "source": [
    "# leverage sklearn metrics for runtime training evaluation\n",
    "def compute_metrics(p):\n",
    "    pred, labels = p\n",
    "    pred = np.argmax(pred, axis=1)\n",
    "\n",
    "    accuracy = accuracy_score(y_true=labels, y_pred=pred)\n",
    "    recall = recall_score(y_true=labels, y_pred=pred,average='micro')\n",
    "    precision = precision_score(y_true=labels, y_pred=pred,average='micro')\n",
    "    f1 = f1_score(y_true=labels, y_pred=pred,average='micro')\n",
    "\n",
    "    return {\"accuracy\": accuracy, \"precision\": precision, \"recall\": recall, \"f1\": f1}"
   ]
  },
  {
   "cell_type": "markdown",
   "id": "6b82d588-0b33-4c75-9895-c97331198d2d",
   "metadata": {
    "id": "-4agrqa00AOG"
   },
   "source": [
    "We setup our complete transfer learning pipeline by instantiating a TrainingArguments instance with specific parameters and creating a new Trainer that collects all components together: model, training_args, preprocessing pipeline, and evaluation funcs."
   ]
  },
  {
   "cell_type": "code",
   "execution_count": 64,
   "id": "4128ee1f-db42-4f26-b688-517b9f840dbb",
   "metadata": {
    "id": "6LDXVsFJ0AOG",
    "tags": []
   },
   "outputs": [],
   "source": [
    "# training parameter setup goes in a specific class instance\n",
    "training_args = TrainingArguments(\n",
    "    output_dir=\"clinical-study-classifier\",\n",
    "    learning_rate=2e-5,\n",
    "    optim=\"adamw_torch\",\n",
    "    per_device_train_batch_size=8,\n",
    "    per_device_eval_batch_size=8,\n",
    "    num_train_epochs=10,\n",
    "    weight_decay=0.01,\n",
    "    evaluation_strategy=\"epoch\",\n",
    "    save_strategy=\"epoch\",\n",
    "    load_best_model_at_end=True,\n",
    "    push_to_hub=False)\n",
    "\n",
    "# the trainier\n",
    "trainer = Trainer(\n",
    "    model=model,\n",
    "    args=training_args,\n",
    "    train_dataset=tokenized_data[\"train\"],\n",
    "    eval_dataset=tokenized_data[\"test\"],\n",
    "    tokenizer=tokenizer,\n",
    "    data_collator=data_collator,\n",
    "    compute_metrics=compute_metrics)"
   ]
  },
  {
   "cell_type": "code",
   "execution_count": 65,
   "id": "e7662707-0076-4f26-8392-b76b8d172ffb",
   "metadata": {
    "tags": []
   },
   "outputs": [
    {
     "data": {
      "text/html": [
       "\n",
       "    <div>\n",
       "      \n",
       "      <progress value='6652' max='12500' style='width:300px; height:20px; vertical-align: middle;'></progress>\n",
       "      [ 6652/12500 44:19 < 38:59, 2.50 it/s, Epoch 5.32/10]\n",
       "    </div>\n",
       "    <table border=\"1\" class=\"dataframe\">\n",
       "  <thead>\n",
       " <tr style=\"text-align: left;\">\n",
       "      <th>Epoch</th>\n",
       "      <th>Training Loss</th>\n",
       "      <th>Validation Loss</th>\n",
       "      <th>Accuracy</th>\n",
       "      <th>Precision</th>\n",
       "      <th>Recall</th>\n",
       "      <th>F1</th>\n",
       "    </tr>\n",
       "  </thead>\n",
       "  <tbody>\n",
       "    <tr>\n",
       "      <td>1</td>\n",
       "      <td>0.672000</td>\n",
       "      <td>0.663162</td>\n",
       "      <td>0.603750</td>\n",
       "      <td>0.603750</td>\n",
       "      <td>0.603750</td>\n",
       "      <td>0.603750</td>\n",
       "    </tr>\n",
       "    <tr>\n",
       "      <td>2</td>\n",
       "      <td>0.626700</td>\n",
       "      <td>0.671792</td>\n",
       "      <td>0.619500</td>\n",
       "      <td>0.619500</td>\n",
       "      <td>0.619500</td>\n",
       "      <td>0.619500</td>\n",
       "    </tr>\n",
       "    <tr>\n",
       "      <td>3</td>\n",
       "      <td>0.503100</td>\n",
       "      <td>0.727091</td>\n",
       "      <td>0.608200</td>\n",
       "      <td>0.608200</td>\n",
       "      <td>0.608200</td>\n",
       "      <td>0.608200</td>\n",
       "    </tr>\n",
       "    <tr>\n",
       "      <td>4</td>\n",
       "      <td>0.358900</td>\n",
       "      <td>1.230018</td>\n",
       "      <td>0.599000</td>\n",
       "      <td>0.599000</td>\n",
       "      <td>0.599000</td>\n",
       "      <td>0.599000</td>\n",
       "    </tr>\n",
       "    <tr>\n",
       "      <td>5</td>\n",
       "      <td>0.269400</td>\n",
       "      <td>1.999553</td>\n",
       "      <td>0.598450</td>\n",
       "      <td>0.598450</td>\n",
       "      <td>0.598450</td>\n",
       "      <td>0.598450</td>\n",
       "    </tr>\n",
       "  </tbody>\n",
       "</table><p>"
      ],
      "text/plain": [
       "<IPython.core.display.HTML object>"
      ]
     },
     "metadata": {},
     "output_type": "display_data"
    },
    {
     "ename": "KeyboardInterrupt",
     "evalue": "",
     "output_type": "error",
     "traceback": [
      "\u001b[1;31m---------------------------------------------------------------------------\u001b[0m",
      "\u001b[1;31mKeyboardInterrupt\u001b[0m                         Traceback (most recent call last)",
      "Cell \u001b[1;32mIn[65], line 1\u001b[0m\n\u001b[1;32m----> 1\u001b[0m trainer\u001b[38;5;241m.\u001b[39mtrain()\n",
      "File \u001b[1;32m~\\anaconda3\\Lib\\site-packages\\transformers\\trainer.py:1555\u001b[0m, in \u001b[0;36mTrainer.train\u001b[1;34m(self, resume_from_checkpoint, trial, ignore_keys_for_eval, **kwargs)\u001b[0m\n\u001b[0;32m   1553\u001b[0m         hf_hub_utils\u001b[38;5;241m.\u001b[39menable_progress_bars()\n\u001b[0;32m   1554\u001b[0m \u001b[38;5;28;01melse\u001b[39;00m:\n\u001b[1;32m-> 1555\u001b[0m     \u001b[38;5;28;01mreturn\u001b[39;00m inner_training_loop(\n\u001b[0;32m   1556\u001b[0m         args\u001b[38;5;241m=\u001b[39margs,\n\u001b[0;32m   1557\u001b[0m         resume_from_checkpoint\u001b[38;5;241m=\u001b[39mresume_from_checkpoint,\n\u001b[0;32m   1558\u001b[0m         trial\u001b[38;5;241m=\u001b[39mtrial,\n\u001b[0;32m   1559\u001b[0m         ignore_keys_for_eval\u001b[38;5;241m=\u001b[39mignore_keys_for_eval,\n\u001b[0;32m   1560\u001b[0m     )\n",
      "File \u001b[1;32m~\\anaconda3\\Lib\\site-packages\\transformers\\trainer.py:1815\u001b[0m, in \u001b[0;36mTrainer._inner_training_loop\u001b[1;34m(self, batch_size, args, resume_from_checkpoint, trial, ignore_keys_for_eval)\u001b[0m\n\u001b[0;32m   1812\u001b[0m     rng_to_sync \u001b[38;5;241m=\u001b[39m \u001b[38;5;28;01mTrue\u001b[39;00m\n\u001b[0;32m   1814\u001b[0m step \u001b[38;5;241m=\u001b[39m \u001b[38;5;241m-\u001b[39m\u001b[38;5;241m1\u001b[39m\n\u001b[1;32m-> 1815\u001b[0m \u001b[38;5;28;01mfor\u001b[39;00m step, inputs \u001b[38;5;129;01min\u001b[39;00m \u001b[38;5;28menumerate\u001b[39m(epoch_iterator):\n\u001b[0;32m   1816\u001b[0m     total_batched_samples \u001b[38;5;241m+\u001b[39m\u001b[38;5;241m=\u001b[39m \u001b[38;5;241m1\u001b[39m\n\u001b[0;32m   1817\u001b[0m     \u001b[38;5;28;01mif\u001b[39;00m rng_to_sync:\n",
      "File \u001b[1;32m~\\anaconda3\\Lib\\site-packages\\accelerate\\data_loader.py:462\u001b[0m, in \u001b[0;36mDataLoaderShard.__iter__\u001b[1;34m(self)\u001b[0m\n\u001b[0;32m    460\u001b[0m \u001b[38;5;28;01mif\u001b[39;00m \u001b[38;5;28mself\u001b[39m\u001b[38;5;241m.\u001b[39mdevice \u001b[38;5;129;01mis\u001b[39;00m \u001b[38;5;129;01mnot\u001b[39;00m \u001b[38;5;28;01mNone\u001b[39;00m:\n\u001b[0;32m    461\u001b[0m     current_batch \u001b[38;5;241m=\u001b[39m send_to_device(current_batch, \u001b[38;5;28mself\u001b[39m\u001b[38;5;241m.\u001b[39mdevice)\n\u001b[1;32m--> 462\u001b[0m next_batch \u001b[38;5;241m=\u001b[39m \u001b[38;5;28mnext\u001b[39m(dataloader_iter)\n\u001b[0;32m    463\u001b[0m \u001b[38;5;28;01mif\u001b[39;00m batch_index \u001b[38;5;241m>\u001b[39m\u001b[38;5;241m=\u001b[39m \u001b[38;5;28mself\u001b[39m\u001b[38;5;241m.\u001b[39mskip_batches:\n\u001b[0;32m    464\u001b[0m     \u001b[38;5;28;01myield\u001b[39;00m current_batch\n",
      "File \u001b[1;32m~\\anaconda3\\Lib\\site-packages\\torch\\utils\\data\\dataloader.py:631\u001b[0m, in \u001b[0;36m_BaseDataLoaderIter.__next__\u001b[1;34m(self)\u001b[0m\n\u001b[0;32m    628\u001b[0m \u001b[38;5;28;01mif\u001b[39;00m \u001b[38;5;28mself\u001b[39m\u001b[38;5;241m.\u001b[39m_sampler_iter \u001b[38;5;129;01mis\u001b[39;00m \u001b[38;5;28;01mNone\u001b[39;00m:\n\u001b[0;32m    629\u001b[0m     \u001b[38;5;66;03m# TODO(https://github.com/pytorch/pytorch/issues/76750)\u001b[39;00m\n\u001b[0;32m    630\u001b[0m     \u001b[38;5;28mself\u001b[39m\u001b[38;5;241m.\u001b[39m_reset()  \u001b[38;5;66;03m# type: ignore[call-arg]\u001b[39;00m\n\u001b[1;32m--> 631\u001b[0m data \u001b[38;5;241m=\u001b[39m \u001b[38;5;28mself\u001b[39m\u001b[38;5;241m.\u001b[39m_next_data()\n\u001b[0;32m    632\u001b[0m \u001b[38;5;28mself\u001b[39m\u001b[38;5;241m.\u001b[39m_num_yielded \u001b[38;5;241m+\u001b[39m\u001b[38;5;241m=\u001b[39m \u001b[38;5;241m1\u001b[39m\n\u001b[0;32m    633\u001b[0m \u001b[38;5;28;01mif\u001b[39;00m \u001b[38;5;28mself\u001b[39m\u001b[38;5;241m.\u001b[39m_dataset_kind \u001b[38;5;241m==\u001b[39m _DatasetKind\u001b[38;5;241m.\u001b[39mIterable \u001b[38;5;129;01mand\u001b[39;00m \\\n\u001b[0;32m    634\u001b[0m         \u001b[38;5;28mself\u001b[39m\u001b[38;5;241m.\u001b[39m_IterableDataset_len_called \u001b[38;5;129;01mis\u001b[39;00m \u001b[38;5;129;01mnot\u001b[39;00m \u001b[38;5;28;01mNone\u001b[39;00m \u001b[38;5;129;01mand\u001b[39;00m \\\n\u001b[0;32m    635\u001b[0m         \u001b[38;5;28mself\u001b[39m\u001b[38;5;241m.\u001b[39m_num_yielded \u001b[38;5;241m>\u001b[39m \u001b[38;5;28mself\u001b[39m\u001b[38;5;241m.\u001b[39m_IterableDataset_len_called:\n",
      "File \u001b[1;32m~\\anaconda3\\Lib\\site-packages\\torch\\utils\\data\\dataloader.py:677\u001b[0m, in \u001b[0;36m_SingleProcessDataLoaderIter._next_data\u001b[1;34m(self)\u001b[0m\n\u001b[0;32m    675\u001b[0m data \u001b[38;5;241m=\u001b[39m \u001b[38;5;28mself\u001b[39m\u001b[38;5;241m.\u001b[39m_dataset_fetcher\u001b[38;5;241m.\u001b[39mfetch(index)  \u001b[38;5;66;03m# may raise StopIteration\u001b[39;00m\n\u001b[0;32m    676\u001b[0m \u001b[38;5;28;01mif\u001b[39;00m \u001b[38;5;28mself\u001b[39m\u001b[38;5;241m.\u001b[39m_pin_memory:\n\u001b[1;32m--> 677\u001b[0m     data \u001b[38;5;241m=\u001b[39m _utils\u001b[38;5;241m.\u001b[39mpin_memory\u001b[38;5;241m.\u001b[39mpin_memory(data, \u001b[38;5;28mself\u001b[39m\u001b[38;5;241m.\u001b[39m_pin_memory_device)\n\u001b[0;32m    678\u001b[0m \u001b[38;5;28;01mreturn\u001b[39;00m data\n",
      "File \u001b[1;32m~\\anaconda3\\Lib\\site-packages\\torch\\utils\\data\\_utils\\pin_memory.py:62\u001b[0m, in \u001b[0;36mpin_memory\u001b[1;34m(data, device)\u001b[0m\n\u001b[0;32m     60\u001b[0m \u001b[38;5;28;01melif\u001b[39;00m \u001b[38;5;28misinstance\u001b[39m(data, collections\u001b[38;5;241m.\u001b[39mabc\u001b[38;5;241m.\u001b[39mMapping):\n\u001b[0;32m     61\u001b[0m     \u001b[38;5;28;01mtry\u001b[39;00m:\n\u001b[1;32m---> 62\u001b[0m         \u001b[38;5;28;01mreturn\u001b[39;00m \u001b[38;5;28mtype\u001b[39m(data)({k: pin_memory(sample, device) \u001b[38;5;28;01mfor\u001b[39;00m k, sample \u001b[38;5;129;01min\u001b[39;00m data\u001b[38;5;241m.\u001b[39mitems()})  \u001b[38;5;66;03m# type: ignore[call-arg]\u001b[39;00m\n\u001b[0;32m     63\u001b[0m     \u001b[38;5;28;01mexcept\u001b[39;00m \u001b[38;5;167;01mTypeError\u001b[39;00m:\n\u001b[0;32m     64\u001b[0m         \u001b[38;5;66;03m# The mapping type may not support `__init__(iterable)`.\u001b[39;00m\n\u001b[0;32m     65\u001b[0m         \u001b[38;5;28;01mreturn\u001b[39;00m {k: pin_memory(sample, device) \u001b[38;5;28;01mfor\u001b[39;00m k, sample \u001b[38;5;129;01min\u001b[39;00m data\u001b[38;5;241m.\u001b[39mitems()}\n",
      "File \u001b[1;32m~\\anaconda3\\Lib\\site-packages\\torch\\utils\\data\\_utils\\pin_memory.py:62\u001b[0m, in \u001b[0;36m<dictcomp>\u001b[1;34m(.0)\u001b[0m\n\u001b[0;32m     60\u001b[0m \u001b[38;5;28;01melif\u001b[39;00m \u001b[38;5;28misinstance\u001b[39m(data, collections\u001b[38;5;241m.\u001b[39mabc\u001b[38;5;241m.\u001b[39mMapping):\n\u001b[0;32m     61\u001b[0m     \u001b[38;5;28;01mtry\u001b[39;00m:\n\u001b[1;32m---> 62\u001b[0m         \u001b[38;5;28;01mreturn\u001b[39;00m \u001b[38;5;28mtype\u001b[39m(data)({k: pin_memory(sample, device) \u001b[38;5;28;01mfor\u001b[39;00m k, sample \u001b[38;5;129;01min\u001b[39;00m data\u001b[38;5;241m.\u001b[39mitems()})  \u001b[38;5;66;03m# type: ignore[call-arg]\u001b[39;00m\n\u001b[0;32m     63\u001b[0m     \u001b[38;5;28;01mexcept\u001b[39;00m \u001b[38;5;167;01mTypeError\u001b[39;00m:\n\u001b[0;32m     64\u001b[0m         \u001b[38;5;66;03m# The mapping type may not support `__init__(iterable)`.\u001b[39;00m\n\u001b[0;32m     65\u001b[0m         \u001b[38;5;28;01mreturn\u001b[39;00m {k: pin_memory(sample, device) \u001b[38;5;28;01mfor\u001b[39;00m k, sample \u001b[38;5;129;01min\u001b[39;00m data\u001b[38;5;241m.\u001b[39mitems()}\n",
      "File \u001b[1;32m~\\anaconda3\\Lib\\site-packages\\torch\\utils\\data\\_utils\\pin_memory.py:57\u001b[0m, in \u001b[0;36mpin_memory\u001b[1;34m(data, device)\u001b[0m\n\u001b[0;32m     55\u001b[0m \u001b[38;5;28;01mdef\u001b[39;00m \u001b[38;5;21mpin_memory\u001b[39m(data, device\u001b[38;5;241m=\u001b[39m\u001b[38;5;28;01mNone\u001b[39;00m):\n\u001b[0;32m     56\u001b[0m     \u001b[38;5;28;01mif\u001b[39;00m \u001b[38;5;28misinstance\u001b[39m(data, torch\u001b[38;5;241m.\u001b[39mTensor):\n\u001b[1;32m---> 57\u001b[0m         \u001b[38;5;28;01mreturn\u001b[39;00m data\u001b[38;5;241m.\u001b[39mpin_memory(device)\n\u001b[0;32m     58\u001b[0m     \u001b[38;5;28;01melif\u001b[39;00m \u001b[38;5;28misinstance\u001b[39m(data, (\u001b[38;5;28mstr\u001b[39m, \u001b[38;5;28mbytes\u001b[39m)):\n\u001b[0;32m     59\u001b[0m         \u001b[38;5;28;01mreturn\u001b[39;00m data\n",
      "\u001b[1;31mKeyboardInterrupt\u001b[0m: "
     ]
    }
   ],
   "source": [
    "trainer.train()"
   ]
  },
  {
   "cell_type": "code",
   "execution_count": null,
   "id": "0733a24d-289f-4d41-9daf-c573139671db",
   "metadata": {},
   "outputs": [],
   "source": []
  },
  {
   "cell_type": "code",
   "execution_count": null,
   "id": "f2843097-99c4-4620-85e2-4d34dfd696fb",
   "metadata": {},
   "outputs": [],
   "source": []
  },
  {
   "cell_type": "code",
   "execution_count": 77,
   "id": "81a51448-b569-461e-a262-c0ab03270ca6",
   "metadata": {
    "tags": []
   },
   "outputs": [
    {
     "data": {
      "text/plain": [
       "[{'label': 'LABEL_1', 'score': 0.9991926550865173}]"
      ]
     },
     "execution_count": 77,
     "metadata": {},
     "output_type": "execute_result"
    }
   ],
   "source": [
    "# predictions for the entire dataset\n",
    "pipe = TextClassificationPipeline(model=model, tokenizer=tokenizer, return_all_scores=False, device='cuda')\n",
    "pipe([\"Developing a Diabetic Foot Ulcer Protocol\"])"
   ]
  },
  {
   "cell_type": "code",
   "execution_count": null,
   "id": "dd352ecb-4a63-4de1-9a70-bacf07d8ea75",
   "metadata": {},
   "outputs": [],
   "source": []
  },
  {
   "cell_type": "code",
   "execution_count": null,
   "id": "109cf762-c32c-46e8-89df-1fd42103ec3b",
   "metadata": {},
   "outputs": [],
   "source": []
  },
  {
   "cell_type": "code",
   "execution_count": null,
   "id": "4aa191f3-4777-4107-bf88-ef8bbe8ce0a7",
   "metadata": {},
   "outputs": [],
   "source": []
  },
  {
   "cell_type": "code",
   "execution_count": null,
   "id": "75cfd77e-b45c-43b3-85a6-4e6f5666706c",
   "metadata": {},
   "outputs": [],
   "source": []
  },
  {
   "cell_type": "code",
   "execution_count": null,
   "id": "a2c9f2f9-b738-407d-9bb5-18576620eba5",
   "metadata": {},
   "outputs": [],
   "source": []
  },
  {
   "cell_type": "markdown",
   "id": "7e02266b-a9a2-4e03-a763-e767f5af2977",
   "metadata": {},
   "source": [
    "**Logs**"
   ]
  },
  {
   "cell_type": "code",
   "execution_count": 25,
   "id": "4a7f6e01-7f04-4706-8c6c-a04f8d65e308",
   "metadata": {
    "tags": []
   },
   "outputs": [
    {
     "data": {
      "text/html": [
       "\n",
       "    <div>\n",
       "      \n",
       "      <progress value='2500' max='2500' style='width:300px; height:20px; vertical-align: middle;'></progress>\n",
       "      [2500/2500 18:38, Epoch 10/10]\n",
       "    </div>\n",
       "    <table border=\"1\" class=\"dataframe\">\n",
       "  <thead>\n",
       " <tr style=\"text-align: left;\">\n",
       "      <th>Epoch</th>\n",
       "      <th>Training Loss</th>\n",
       "      <th>Validation Loss</th>\n",
       "      <th>Accuracy</th>\n",
       "      <th>Precision</th>\n",
       "      <th>Recall</th>\n",
       "      <th>F1</th>\n",
       "    </tr>\n",
       "  </thead>\n",
       "  <tbody>\n",
       "    <tr>\n",
       "      <td>1</td>\n",
       "      <td>No log</td>\n",
       "      <td>0.828775</td>\n",
       "      <td>0.587333</td>\n",
       "      <td>0.587333</td>\n",
       "      <td>0.587333</td>\n",
       "      <td>0.587333</td>\n",
       "    </tr>\n",
       "    <tr>\n",
       "      <td>2</td>\n",
       "      <td>0.497600</td>\n",
       "      <td>0.888766</td>\n",
       "      <td>0.576500</td>\n",
       "      <td>0.576500</td>\n",
       "      <td>0.576500</td>\n",
       "      <td>0.576500</td>\n",
       "    </tr>\n",
       "    <tr>\n",
       "      <td>3</td>\n",
       "      <td>0.497600</td>\n",
       "      <td>1.258348</td>\n",
       "      <td>0.585000</td>\n",
       "      <td>0.585000</td>\n",
       "      <td>0.585000</td>\n",
       "      <td>0.585000</td>\n",
       "    </tr>\n",
       "    <tr>\n",
       "      <td>4</td>\n",
       "      <td>0.230100</td>\n",
       "      <td>2.080483</td>\n",
       "      <td>0.573667</td>\n",
       "      <td>0.573667</td>\n",
       "      <td>0.573667</td>\n",
       "      <td>0.573667</td>\n",
       "    </tr>\n",
       "    <tr>\n",
       "      <td>5</td>\n",
       "      <td>0.230100</td>\n",
       "      <td>2.603837</td>\n",
       "      <td>0.564833</td>\n",
       "      <td>0.564833</td>\n",
       "      <td>0.564833</td>\n",
       "      <td>0.564833</td>\n",
       "    </tr>\n",
       "    <tr>\n",
       "      <td>6</td>\n",
       "      <td>0.073100</td>\n",
       "      <td>2.892967</td>\n",
       "      <td>0.571333</td>\n",
       "      <td>0.571333</td>\n",
       "      <td>0.571333</td>\n",
       "      <td>0.571333</td>\n",
       "    </tr>\n",
       "    <tr>\n",
       "      <td>7</td>\n",
       "      <td>0.073100</td>\n",
       "      <td>3.041043</td>\n",
       "      <td>0.566667</td>\n",
       "      <td>0.566667</td>\n",
       "      <td>0.566667</td>\n",
       "      <td>0.566667</td>\n",
       "    </tr>\n",
       "    <tr>\n",
       "      <td>8</td>\n",
       "      <td>0.037400</td>\n",
       "      <td>3.135675</td>\n",
       "      <td>0.574167</td>\n",
       "      <td>0.574167</td>\n",
       "      <td>0.574167</td>\n",
       "      <td>0.574167</td>\n",
       "    </tr>\n",
       "    <tr>\n",
       "      <td>9</td>\n",
       "      <td>0.037400</td>\n",
       "      <td>3.208559</td>\n",
       "      <td>0.571500</td>\n",
       "      <td>0.571500</td>\n",
       "      <td>0.571500</td>\n",
       "      <td>0.571500</td>\n",
       "    </tr>\n",
       "    <tr>\n",
       "      <td>10</td>\n",
       "      <td>0.007200</td>\n",
       "      <td>3.244623</td>\n",
       "      <td>0.573000</td>\n",
       "      <td>0.573000</td>\n",
       "      <td>0.573000</td>\n",
       "      <td>0.573000</td>\n",
       "    </tr>\n",
       "  </tbody>\n",
       "</table><p>"
      ],
      "text/plain": [
       "<IPython.core.display.HTML object>"
      ]
     },
     "metadata": {},
     "output_type": "display_data"
    },
    {
     "data": {
      "text/plain": [
       "TrainOutput(global_step=2500, training_loss=0.16911778354644774, metrics={'train_runtime': 1118.3021, 'train_samples_per_second': 17.884, 'train_steps_per_second': 2.236, 'total_flos': 904423697248800.0, 'train_loss': 0.16911778354644774, 'epoch': 10.0})"
      ]
     },
     "execution_count": 25,
     "metadata": {},
     "output_type": "execute_result"
    }
   ],
   "source": [
    "trainer.train()"
   ]
  },
  {
   "cell_type": "code",
   "execution_count": 40,
   "id": "d9c0a3e0-ccf2-4c69-9f0a-50b8243cf41e",
   "metadata": {
    "tags": []
   },
   "outputs": [
    {
     "data": {
      "text/plain": [
       "[{'label': 'LABEL_0', 'score': 0.7159504294395447}]"
      ]
     },
     "execution_count": 40,
     "metadata": {},
     "output_type": "execute_result"
    }
   ],
   "source": [
    "# predictions for the entire dataset\n",
    "pipe = TextClassificationPipeline(model=model, tokenizer=tokenizer, return_all_scores=False, device='cuda')\n",
    "pipe([\"Developing a Diabetic Foot Ulcer Protocol\"])"
   ]
  },
  {
   "cell_type": "code",
   "execution_count": null,
   "id": "400e3df3-cbdb-4645-b002-aa217fad7e6a",
   "metadata": {},
   "outputs": [],
   "source": []
  },
  {
   "cell_type": "code",
   "execution_count": 38,
   "id": "116603c1-22b7-4cd7-b6a4-7629457999e3",
   "metadata": {
    "tags": []
   },
   "outputs": [
    {
     "data": {
      "text/plain": [
       "2         Pre-exposure Prophylaxis (PrEP) for People Who...\n",
       "15                Developing a Diabetic Foot Ulcer Protocol\n",
       "17        Docetaxel and St. John's Wort in Treating Pati...\n",
       "48        Sunitinib and Capecitabine for First Line Colo...\n",
       "49        Diabetic Retinopathy and Subclinical Signs of ...\n",
       "                                ...                        \n",
       "305075    Evaluation and Long-Term Follow-Up of Patients...\n",
       "305078    Effectiveness of Supplementary Feeding During ...\n",
       "305081    Pharmacokinetic Study of Forodesine in Childre...\n",
       "305085    Study Comparing DTP-HB-Hib by Disposable-Syrin...\n",
       "305092    REPRISE IV: LOTUS Edge Valve System in Interme...\n",
       "Name: Study Title, Length: 41730, dtype: object"
      ]
     },
     "execution_count": 38,
     "metadata": {},
     "output_type": "execute_result"
    }
   ],
   "source": [
    "text_df[text_df['Study Status'] == 1]['Study Title']"
   ]
  },
  {
   "cell_type": "code",
   "execution_count": 39,
   "id": "11abf7b5-4858-4a87-b818-80e9c0c1b34b",
   "metadata": {
    "tags": []
   },
   "outputs": [
    {
     "data": {
      "text/plain": [
       "'Developing a Diabetic Foot Ulcer Protocol'"
      ]
     },
     "execution_count": 39,
     "metadata": {},
     "output_type": "execute_result"
    }
   ],
   "source": [
    "text_df[text_df['Study Status'] == 1]['Study Title'][15]"
   ]
  },
  {
   "cell_type": "code",
   "execution_count": null,
   "id": "aab087d0-7fc4-4051-a134-b94ff026f8e8",
   "metadata": {},
   "outputs": [],
   "source": []
  },
  {
   "cell_type": "code",
   "execution_count": null,
   "id": "f2429543-34ec-4252-8194-e059b32bbd06",
   "metadata": {},
   "outputs": [],
   "source": []
  },
  {
   "cell_type": "code",
   "execution_count": null,
   "id": "0986241a-e397-4d96-856d-47e523100f63",
   "metadata": {},
   "outputs": [],
   "source": []
  },
  {
   "cell_type": "code",
   "execution_count": 67,
   "id": "472b7cf2-fc5b-4945-a2dc-87fec7934450",
   "metadata": {
    "tags": []
   },
   "outputs": [
    {
     "data": {
      "text/plain": [
       "0         Effectiveness of a Problem-solving Interventio...\n",
       "1         Investigating the Effect of a Prenatal Family ...\n",
       "3         Tailored Inhibitory Control Training to Revers...\n",
       "4         Neuromodulation of Trauma Memories in PTSD & A...\n",
       "5         High Intensity Interval Training Versus Circui...\n",
       "                                ...                        \n",
       "305105    Evaluating the Pharmacokinetics, Safety, and T...\n",
       "305106    A Follow-up Study to Assess Safety and Tolerab...\n",
       "305107    Lipid Formulation to Increase the Bioavailabil...\n",
       "305108    Reliability of Topography Measurements in Kera...\n",
       "305109    The Accuracy of Human Endoscopic Detection of ...\n",
       "Name: Study Title, Length: 263380, dtype: object"
      ]
     },
     "execution_count": 67,
     "metadata": {},
     "output_type": "execute_result"
    }
   ],
   "source": [
    "text_df[text_df['Study Status'] == 0]['Study Title']"
   ]
  },
  {
   "cell_type": "code",
   "execution_count": 71,
   "id": "5b7520bd-148e-4fdd-88bf-36a1f9769b70",
   "metadata": {
    "tags": []
   },
   "outputs": [
    {
     "data": {
      "text/plain": [
       "'Tailored Inhibitory Control Training to Reverse EA-linked Deficits in Mid-life'"
      ]
     },
     "execution_count": 71,
     "metadata": {},
     "output_type": "execute_result"
    }
   ],
   "source": [
    "text_df[text_df['Study Status'] == 0]['Study Title'][3]"
   ]
  }
 ],
 "metadata": {
  "kernelspec": {
   "display_name": "Python 3 (ipykernel)",
   "language": "python",
   "name": "python3"
  },
  "language_info": {
   "codemirror_mode": {
    "name": "ipython",
    "version": 3
   },
   "file_extension": ".py",
   "mimetype": "text/x-python",
   "name": "python",
   "nbconvert_exporter": "python",
   "pygments_lexer": "ipython3",
   "version": "3.11.7"
  }
 },
 "nbformat": 4,
 "nbformat_minor": 5
}
