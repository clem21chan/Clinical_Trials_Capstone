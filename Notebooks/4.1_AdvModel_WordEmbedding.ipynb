{
 "cells": [
  {
   "cell_type": "markdown",
   "id": "bd63b150-f52e-4687-95a6-926984421a12",
   "metadata": {},
   "source": [
    "# Predicting Clinical Trial Terminations\n",
    "### Notebook 4.1: Advanced Modelling - Word Embedding\n",
    "\n",
    "**Author: Clement Chan**\n",
    "\n",
    "---\n",
    "Notes on the notebook:\n",
    "\n",
    "https://huggingface.co/emilyalsentzer/Bio_ClinicalBERT\n",
    "\n",
    "- ADD NOTES HERE!!"
   ]
  },
  {
   "cell_type": "code",
   "execution_count": 3,
   "id": "1863211b-466e-40aa-b3ea-2e96cc522ebf",
   "metadata": {},
   "outputs": [],
   "source": [
    "import numpy as np\n",
    "import pandas as pd\n",
    "\n",
    "import matplotlib.pyplot as plt\n",
    "import seaborn as sns\n",
    "\n",
    "# ignores the filter warnings\n",
    "import warnings\n",
    "warnings.filterwarnings('ignore')"
   ]
  },
  {
   "cell_type": "code",
   "execution_count": 2,
   "id": "38735ee4-cc7b-466c-9cf3-679a05483445",
   "metadata": {},
   "outputs": [
    {
     "data": {
      "application/vnd.jupyter.widget-view+json": {
       "model_id": "d942f6e2c1f04084b8070d7036e240f3",
       "version_major": 2,
       "version_minor": 0
      },
      "text/plain": [
       "pytorch_model.bin:   0%|          | 0.00/436M [00:00<?, ?B/s]"
      ]
     },
     "metadata": {},
     "output_type": "display_data"
    }
   ],
   "source": [
    "from transformers import AutoTokenizer, AutoModel\n",
    "tokenizer = AutoTokenizer.from_pretrained(\"emilyalsentzer/Bio_ClinicalBERT\")\n",
    "model = AutoModel.from_pretrained(\"emilyalsentzer/Bio_ClinicalBERT\")"
   ]
  },
  {
   "cell_type": "code",
   "execution_count": 5,
   "id": "f27d3878-78b6-4ed3-9d8b-48ad89ca0989",
   "metadata": {},
   "outputs": [
    {
     "data": {
      "text/html": [
       "<div>\n",
       "<style scoped>\n",
       "    .dataframe tbody tr th:only-of-type {\n",
       "        vertical-align: middle;\n",
       "    }\n",
       "\n",
       "    .dataframe tbody tr th {\n",
       "        vertical-align: top;\n",
       "    }\n",
       "\n",
       "    .dataframe thead th {\n",
       "        text-align: right;\n",
       "    }\n",
       "</style>\n",
       "<table border=\"1\" class=\"dataframe\">\n",
       "  <thead>\n",
       "    <tr style=\"text-align: right;\">\n",
       "      <th></th>\n",
       "      <th>Study Title</th>\n",
       "      <th>Study Status</th>\n",
       "      <th>Brief Summary</th>\n",
       "      <th>Study Results</th>\n",
       "      <th>Conditions</th>\n",
       "      <th>Interventions</th>\n",
       "      <th>Primary Outcome Measures</th>\n",
       "      <th>Secondary Outcome Measures</th>\n",
       "      <th>Sponsor</th>\n",
       "      <th>Collaborators</th>\n",
       "      <th>Sex</th>\n",
       "      <th>Age</th>\n",
       "      <th>Phases</th>\n",
       "      <th>Enrollment</th>\n",
       "      <th>Funder Type</th>\n",
       "      <th>Study Type</th>\n",
       "      <th>Study Design</th>\n",
       "      <th>Locations</th>\n",
       "      <th>study_duration</th>\n",
       "    </tr>\n",
       "  </thead>\n",
       "  <tbody>\n",
       "    <tr>\n",
       "      <th>0</th>\n",
       "      <td>Effectiveness of a Problem-solving Interventio...</td>\n",
       "      <td>0</td>\n",
       "      <td>We will conduct a two-arm individually randomi...</td>\n",
       "      <td>0</td>\n",
       "      <td>Mental Health Issue (E.G., Depression, Psychos...</td>\n",
       "      <td>behavioral: pride 'step 1' problem-solving int...</td>\n",
       "      <td>Mental health symptoms, The Strengths and Diff...</td>\n",
       "      <td>Mental health symptoms, The adolescent-reporte...</td>\n",
       "      <td>Sangath</td>\n",
       "      <td>Harvard Medical School (HMS and HSDM)|London S...</td>\n",
       "      <td>ALL</td>\n",
       "      <td>CHILD, ADULT</td>\n",
       "      <td>NO PHASE</td>\n",
       "      <td>210-490</td>\n",
       "      <td>OTHER</td>\n",
       "      <td>1</td>\n",
       "      <td>Allocation: RANDOMIZED|Intervention Model: PAR...</td>\n",
       "      <td>Sangath, New Delhi, Delhi, 110016, India</td>\n",
       "      <td>123-244</td>\n",
       "    </tr>\n",
       "    <tr>\n",
       "      <th>1</th>\n",
       "      <td>Investigating the Effect of a Prenatal Family ...</td>\n",
       "      <td>0</td>\n",
       "      <td>The purpose of this study is to measure the di...</td>\n",
       "      <td>0</td>\n",
       "      <td>Focus: Contraceptive Counseling|Focus: Postpar...</td>\n",
       "      <td>other: family planning counseling let by commu...</td>\n",
       "      <td>Self-reported contraceptive use, 6 months post...</td>\n",
       "      <td>Intent to use contraception in the future, 6 m...</td>\n",
       "      <td>Planned Parenthood League of Massachusetts</td>\n",
       "      <td>Society for Family Planning Research Fund</td>\n",
       "      <td>FEMALE</td>\n",
       "      <td>CHILD, ADULT, OLDER_ADULT</td>\n",
       "      <td>NO PHASE</td>\n",
       "      <td>120-209</td>\n",
       "      <td>OTHER</td>\n",
       "      <td>1</td>\n",
       "      <td>Allocation: NON_RANDOMIZED|Intervention Model:...</td>\n",
       "      <td>Palestinian Ministry of Health Maternal Child ...</td>\n",
       "      <td>366-515</td>\n",
       "    </tr>\n",
       "    <tr>\n",
       "      <th>2</th>\n",
       "      <td>Pre-exposure Prophylaxis (PrEP) for People Who...</td>\n",
       "      <td>1</td>\n",
       "      <td>People who inject drugs (PWID) experience high...</td>\n",
       "      <td>0</td>\n",
       "      <td>Intravenous Drug Abuse</td>\n",
       "      <td>behavioral: prep uptake/adherence intervention...</td>\n",
       "      <td>PrEP uptake by self-report, measured using 1 i...</td>\n",
       "      <td>Participant satisfaction with intervention con...</td>\n",
       "      <td>Boston University</td>\n",
       "      <td>National Institute on Drug Abuse (NIDA)</td>\n",
       "      <td>ALL</td>\n",
       "      <td>ADULT, OLDER_ADULT</td>\n",
       "      <td>NO PHASE</td>\n",
       "      <td>0-8</td>\n",
       "      <td>OTHER</td>\n",
       "      <td>1</td>\n",
       "      <td>Allocation: RANDOMIZED|Intervention Model: PAR...</td>\n",
       "      <td>unknown</td>\n",
       "      <td>245-365</td>\n",
       "    </tr>\n",
       "    <tr>\n",
       "      <th>3</th>\n",
       "      <td>Tailored Inhibitory Control Training to Revers...</td>\n",
       "      <td>0</td>\n",
       "      <td>Insufficient inhibitory control is one pathway...</td>\n",
       "      <td>0</td>\n",
       "      <td>Smoking|Alcohol Drinking|Prescription Drug Abu...</td>\n",
       "      <td>behavioral: person-centered inhibitory control...</td>\n",
       "      <td>Inhibitory control performance, Task 1, Perfor...</td>\n",
       "      <td>Far transfer to a task related to inhibitory c...</td>\n",
       "      <td>University of Oregon</td>\n",
       "      <td>none</td>\n",
       "      <td>ALL</td>\n",
       "      <td>ADULT</td>\n",
       "      <td>NO PHASE</td>\n",
       "      <td>80-119</td>\n",
       "      <td>OTHER</td>\n",
       "      <td>1</td>\n",
       "      <td>Allocation: RANDOMIZED|Intervention Model: PAR...</td>\n",
       "      <td>University of Oregon, Social and Affective Neu...</td>\n",
       "      <td>516-671</td>\n",
       "    </tr>\n",
       "    <tr>\n",
       "      <th>4</th>\n",
       "      <td>Neuromodulation of Trauma Memories in PTSD &amp; A...</td>\n",
       "      <td>0</td>\n",
       "      <td>The purpose of this study is to examine the ef...</td>\n",
       "      <td>1</td>\n",
       "      <td>Alcohol Dependence|PTSD</td>\n",
       "      <td>drug: propranolol|drug: placebo</td>\n",
       "      <td>Retrieval Session Distress Scores (Session 1),...</td>\n",
       "      <td>Proportion of Drinking Days, Proportion of dri...</td>\n",
       "      <td>Medical University of South Carolina</td>\n",
       "      <td>National Institute on Alcohol Abuse and Alcoho...</td>\n",
       "      <td>ALL</td>\n",
       "      <td>ADULT, OLDER_ADULT</td>\n",
       "      <td>PHASE2</td>\n",
       "      <td>42-59</td>\n",
       "      <td>OTHER</td>\n",
       "      <td>1</td>\n",
       "      <td>Allocation: RANDOMIZED|Intervention Model: PAR...</td>\n",
       "      <td>MUSC, Charleston, South Carolina, 294258908, U...</td>\n",
       "      <td>862-1097</td>\n",
       "    </tr>\n",
       "  </tbody>\n",
       "</table>\n",
       "</div>"
      ],
      "text/plain": [
       "                                         Study Title  Study Status  \\\n",
       "0  Effectiveness of a Problem-solving Interventio...             0   \n",
       "1  Investigating the Effect of a Prenatal Family ...             0   \n",
       "2  Pre-exposure Prophylaxis (PrEP) for People Who...             1   \n",
       "3  Tailored Inhibitory Control Training to Revers...             0   \n",
       "4  Neuromodulation of Trauma Memories in PTSD & A...             0   \n",
       "\n",
       "                                       Brief Summary  Study Results  \\\n",
       "0  We will conduct a two-arm individually randomi...              0   \n",
       "1  The purpose of this study is to measure the di...              0   \n",
       "2  People who inject drugs (PWID) experience high...              0   \n",
       "3  Insufficient inhibitory control is one pathway...              0   \n",
       "4  The purpose of this study is to examine the ef...              1   \n",
       "\n",
       "                                          Conditions  \\\n",
       "0  Mental Health Issue (E.G., Depression, Psychos...   \n",
       "1  Focus: Contraceptive Counseling|Focus: Postpar...   \n",
       "2                             Intravenous Drug Abuse   \n",
       "3  Smoking|Alcohol Drinking|Prescription Drug Abu...   \n",
       "4                            Alcohol Dependence|PTSD   \n",
       "\n",
       "                                       Interventions  \\\n",
       "0  behavioral: pride 'step 1' problem-solving int...   \n",
       "1  other: family planning counseling let by commu...   \n",
       "2  behavioral: prep uptake/adherence intervention...   \n",
       "3  behavioral: person-centered inhibitory control...   \n",
       "4                    drug: propranolol|drug: placebo   \n",
       "\n",
       "                            Primary Outcome Measures  \\\n",
       "0  Mental health symptoms, The Strengths and Diff...   \n",
       "1  Self-reported contraceptive use, 6 months post...   \n",
       "2  PrEP uptake by self-report, measured using 1 i...   \n",
       "3  Inhibitory control performance, Task 1, Perfor...   \n",
       "4  Retrieval Session Distress Scores (Session 1),...   \n",
       "\n",
       "                          Secondary Outcome Measures  \\\n",
       "0  Mental health symptoms, The adolescent-reporte...   \n",
       "1  Intent to use contraception in the future, 6 m...   \n",
       "2  Participant satisfaction with intervention con...   \n",
       "3  Far transfer to a task related to inhibitory c...   \n",
       "4  Proportion of Drinking Days, Proportion of dri...   \n",
       "\n",
       "                                      Sponsor  \\\n",
       "0                                     Sangath   \n",
       "1  Planned Parenthood League of Massachusetts   \n",
       "2                           Boston University   \n",
       "3                        University of Oregon   \n",
       "4        Medical University of South Carolina   \n",
       "\n",
       "                                       Collaborators     Sex  \\\n",
       "0  Harvard Medical School (HMS and HSDM)|London S...     ALL   \n",
       "1          Society for Family Planning Research Fund  FEMALE   \n",
       "2            National Institute on Drug Abuse (NIDA)     ALL   \n",
       "3                                               none     ALL   \n",
       "4  National Institute on Alcohol Abuse and Alcoho...     ALL   \n",
       "\n",
       "                         Age    Phases Enrollment Funder Type  Study Type  \\\n",
       "0               CHILD, ADULT  NO PHASE    210-490       OTHER           1   \n",
       "1  CHILD, ADULT, OLDER_ADULT  NO PHASE    120-209       OTHER           1   \n",
       "2         ADULT, OLDER_ADULT  NO PHASE        0-8       OTHER           1   \n",
       "3                      ADULT  NO PHASE     80-119       OTHER           1   \n",
       "4         ADULT, OLDER_ADULT    PHASE2      42-59       OTHER           1   \n",
       "\n",
       "                                        Study Design  \\\n",
       "0  Allocation: RANDOMIZED|Intervention Model: PAR...   \n",
       "1  Allocation: NON_RANDOMIZED|Intervention Model:...   \n",
       "2  Allocation: RANDOMIZED|Intervention Model: PAR...   \n",
       "3  Allocation: RANDOMIZED|Intervention Model: PAR...   \n",
       "4  Allocation: RANDOMIZED|Intervention Model: PAR...   \n",
       "\n",
       "                                           Locations study_duration  \n",
       "0           Sangath, New Delhi, Delhi, 110016, India        123-244  \n",
       "1  Palestinian Ministry of Health Maternal Child ...        366-515  \n",
       "2                                            unknown        245-365  \n",
       "3  University of Oregon, Social and Affective Neu...        516-671  \n",
       "4  MUSC, Charleston, South Carolina, 294258908, U...       862-1097  "
      ]
     },
     "execution_count": 5,
     "metadata": {},
     "output_type": "execute_result"
    }
   ],
   "source": [
    "text_df = pd.read_csv('clean_ctg.csv', index_col=0)\n",
    "text_df.head()"
   ]
  },
  {
   "cell_type": "code",
   "execution_count": 63,
   "id": "b3fa16ae-fb4b-46ed-95ba-e9e262713cc1",
   "metadata": {},
   "outputs": [
    {
     "data": {
      "text/plain": [
       "['Effectiveness of a Problem-solving Intervention for Common Adolescent Mental Health Problems in India',\n",
       " 'Investigating the Effect of a Prenatal Family Planning Counseling Intervention Led by Community Health Workers on Postpartum Contraceptive Use Among Women in the West Bank']"
      ]
     },
     "execution_count": 63,
     "metadata": {},
     "output_type": "execute_result"
    }
   ],
   "source": [
    "sample = text_df['Study Title'][:2].tolist()\n",
    "sample"
   ]
  },
  {
   "cell_type": "code",
   "execution_count": 65,
   "id": "d746e962-6224-4492-b186-f5427bc700ed",
   "metadata": {},
   "outputs": [
    {
     "data": {
      "text/plain": [
       "{'input_ids': tensor([[  101, 12353,  1997,  1037,  3291,  1011, 13729,  8830,  2005,  2691,\n",
       "         20274,  5177,  2740,  3471,  1999,  2634,   102,     0,     0,     0,\n",
       "             0,     0,     0,     0,     0,     0,     0,     0,     0,     0,\n",
       "             0,     0],\n",
       "        [  101, 11538,  1996,  3466,  1997,  1037,  3653, 19833,  2389,  2155,\n",
       "          4041, 17041,  8830,  2419,  2011,  2451,  2740,  3667,  2006,  2695,\n",
       "         19362, 11667, 24528, 28687,  2224,  2426,  2308,  1999,  1996,  2225,\n",
       "          2924,   102]]), 'token_type_ids': tensor([[0, 0, 0, 0, 0, 0, 0, 0, 0, 0, 0, 0, 0, 0, 0, 0, 0, 0, 0, 0, 0, 0, 0, 0,\n",
       "         0, 0, 0, 0, 0, 0, 0, 0],\n",
       "        [0, 0, 0, 0, 0, 0, 0, 0, 0, 0, 0, 0, 0, 0, 0, 0, 0, 0, 0, 0, 0, 0, 0, 0,\n",
       "         0, 0, 0, 0, 0, 0, 0, 0]]), 'attention_mask': tensor([[1, 1, 1, 1, 1, 1, 1, 1, 1, 1, 1, 1, 1, 1, 1, 1, 1, 0, 0, 0, 0, 0, 0, 0,\n",
       "         0, 0, 0, 0, 0, 0, 0, 0],\n",
       "        [1, 1, 1, 1, 1, 1, 1, 1, 1, 1, 1, 1, 1, 1, 1, 1, 1, 1, 1, 1, 1, 1, 1, 1,\n",
       "         1, 1, 1, 1, 1, 1, 1, 1]])}"
      ]
     },
     "execution_count": 65,
     "metadata": {},
     "output_type": "execute_result"
    }
   ],
   "source": [
    "inputs = tokenizer(sample, return_tensors=\"pt\", padding=True)\n",
    "inputs"
   ]
  },
  {
   "cell_type": "code",
   "execution_count": 66,
   "id": "d8fb1ce5-3aaf-466d-bdea-70141a80a586",
   "metadata": {},
   "outputs": [
    {
     "data": {
      "text/plain": [
       "torch.Size([2, 32])"
      ]
     },
     "execution_count": 66,
     "metadata": {},
     "output_type": "execute_result"
    }
   ],
   "source": [
    "inputs[\"input_ids\"].shape"
   ]
  },
  {
   "cell_type": "code",
   "execution_count": 67,
   "id": "71795616-c5a3-492b-92ed-8b7091160004",
   "metadata": {},
   "outputs": [
    {
     "data": {
      "text/plain": [
       "['[CLS]',\n",
       " 'effectiveness',\n",
       " 'of',\n",
       " 'a',\n",
       " 'problem',\n",
       " '-',\n",
       " 'solving',\n",
       " 'intervention',\n",
       " 'for',\n",
       " 'common',\n",
       " 'adolescent',\n",
       " 'mental',\n",
       " 'health',\n",
       " 'problems',\n",
       " 'in',\n",
       " 'india',\n",
       " '[SEP]',\n",
       " '[PAD]',\n",
       " '[PAD]',\n",
       " '[PAD]',\n",
       " '[PAD]',\n",
       " '[PAD]',\n",
       " '[PAD]',\n",
       " '[PAD]',\n",
       " '[PAD]',\n",
       " '[PAD]',\n",
       " '[PAD]',\n",
       " '[PAD]',\n",
       " '[PAD]',\n",
       " '[PAD]',\n",
       " '[PAD]',\n",
       " '[PAD]']"
      ]
     },
     "execution_count": 67,
     "metadata": {},
     "output_type": "execute_result"
    }
   ],
   "source": [
    "tokenizer.convert_ids_to_tokens(inputs[\"input_ids\"][0])"
   ]
  },
  {
   "cell_type": "code",
   "execution_count": 68,
   "id": "6d427bf4-6d9a-4ada-b49b-5b2939baeae3",
   "metadata": {},
   "outputs": [],
   "source": [
    "import torch\n"
   ]
  },
  {
   "cell_type": "code",
   "execution_count": 69,
   "id": "43a83cca-6377-4738-83f9-e2f86c884b9f",
   "metadata": {
    "scrolled": true
   },
   "outputs": [],
   "source": [
    "outputs = model(**inputs)"
   ]
  },
  {
   "cell_type": "code",
   "execution_count": 70,
   "id": "3a238045-5ca5-4c53-9dd3-cbfa43620c99",
   "metadata": {},
   "outputs": [
    {
     "data": {
      "text/plain": [
       "torch.Size([2, 32, 768])"
      ]
     },
     "execution_count": 70,
     "metadata": {},
     "output_type": "execute_result"
    }
   ],
   "source": [
    "outputs.last_hidden_state.shape"
   ]
  },
  {
   "cell_type": "code",
   "execution_count": 24,
   "id": "39d2d491-70db-4e0e-b32f-7e169aa19cc9",
   "metadata": {},
   "outputs": [
    {
     "data": {
      "text/plain": [
       "BertConfig {\n",
       "  \"_name_or_path\": \"emilyalsentzer/Bio_ClinicalBERT\",\n",
       "  \"attention_probs_dropout_prob\": 0.1,\n",
       "  \"classifier_dropout\": null,\n",
       "  \"hidden_act\": \"gelu\",\n",
       "  \"hidden_dropout_prob\": 0.1,\n",
       "  \"hidden_size\": 768,\n",
       "  \"initializer_range\": 0.02,\n",
       "  \"intermediate_size\": 3072,\n",
       "  \"layer_norm_eps\": 1e-12,\n",
       "  \"max_position_embeddings\": 512,\n",
       "  \"model_type\": \"bert\",\n",
       "  \"num_attention_heads\": 12,\n",
       "  \"num_hidden_layers\": 12,\n",
       "  \"pad_token_id\": 0,\n",
       "  \"position_embedding_type\": \"absolute\",\n",
       "  \"transformers_version\": \"4.39.3\",\n",
       "  \"type_vocab_size\": 2,\n",
       "  \"use_cache\": true,\n",
       "  \"vocab_size\": 28996\n",
       "}"
      ]
     },
     "execution_count": 24,
     "metadata": {},
     "output_type": "execute_result"
    }
   ],
   "source": [
    "model.config"
   ]
  },
  {
   "cell_type": "code",
   "execution_count": 32,
   "id": "eb671f69-ce36-461c-8c21-6546fc4c315e",
   "metadata": {
    "colab": {
     "base_uri": "https://localhost:8080/",
     "height": 81,
     "referenced_widgets": [
      "70c7073b7dd940809dc46a7ce9c728df",
      "74a609277638413b8dd2d5f5a5f4c243",
      "98be9db451324b01a94fb0694075ef10",
      "c5f0f26b374f49f28ecfecf0f58184dc",
      "7d5d0a6444a54cf481baceda44468355",
      "7adbdf82314545448e1ac4070d1c783a",
      "b0402f666ec544babcd28214005ee5aa",
      "0f2dbee1eebc4224a1bd4b2dd3d9b643",
      "03c176f1fd574fb4afa90e09be7317ca",
      "8965ab8484974c45b860923977159546",
      "06e817ecedef4d0dbbc8201cde5a4c7f",
      "3455f993753047e0bd8b327b7e0d4808",
      "5221285349ec4cbdba3e74108134e33b",
      "34681bd05470407a974f068d9da9c9de",
      "a0492993ec444067aa34e522fee2df77",
      "5eb850be53504d13845d2ba3a4907648",
      "fc9af9af82b845caa2c1f3ec42274681",
      "53ce12e58ea342588214ec8d82d7742b",
      "fe733ab5af0143b295276685c73ea107",
      "5d4c4580cd3746969fa23c54a59ad387",
      "a2b0b34bb42646ae8cb644cb76862dac",
      "ca9188db87964e18aea16b6320d37fc9"
     ]
    },
    "id": "2sDADUxE0AOF",
    "outputId": "17669acd-5083-493e-8712-486fda43223c"
   },
   "outputs": [
    {
     "data": {
      "application/vnd.jupyter.widget-view+json": {
       "model_id": "70c7073b7dd940809dc46a7ce9c728df",
       "version_major": 2,
       "version_minor": 0
      },
      "text/plain": [
       "Map:   0%|          | 0/540 [00:00<?, ? examples/s]"
      ]
     },
     "metadata": {},
     "output_type": "display_data"
    },
    {
     "data": {
      "application/vnd.jupyter.widget-view+json": {
       "model_id": "3455f993753047e0bd8b327b7e0d4808",
       "version_major": 2,
       "version_minor": 0
      },
      "text/plain": [
       "Map:   0%|          | 0/1620 [00:00<?, ? examples/s]"
      ]
     },
     "metadata": {},
     "output_type": "display_data"
    }
   ],
   "source": [
    "def preprocess_function(examples):\n",
    "    return tokenizer(examples[\"text\"], truncation=True, padding=True)\n",
    "\n",
    "# pro forma hugging face text processing setup\n",
    "tokenized_data = dataset.map(preprocess_function, batched=True)\n",
    "\n",
    "data_collator = DataCollatorWithPadding(tokenizer=tokenizer)"
   ]
  },
  {
   "cell_type": "markdown",
   "id": "94ab5c7f-f2dd-456a-8a19-94a21510546d",
   "metadata": {
    "id": "NwES0P5I0AOG"
   },
   "source": [
    "\n",
    "Here, we actually pull a pre-trained model and get it setup with our desired output classification labels.  "
   ]
  },
  {
   "cell_type": "code",
   "execution_count": 73,
   "id": "988f026b-4554-4239-886f-df22163f1e5b",
   "metadata": {
    "colab": {
     "base_uri": "https://localhost:8080/"
    },
    "id": "rnI_pnmZ0AOG",
    "outputId": "8176935c-17b0-4d5c-e4e6-9a6d0cd1f5c9"
   },
   "outputs": [
    {
     "name": "stderr",
     "output_type": "stream",
     "text": [
      "Some weights of BertForSequenceClassification were not initialized from the model checkpoint at emilyalsentzer/Bio_ClinicalBERT and are newly initialized: ['classifier.bias', 'classifier.weight']\n",
      "You should probably TRAIN this model on a down-stream task to be able to use it for predictions and inference.\n"
     ]
    }
   ],
   "source": [
    "# huggingface/transformers imports\n",
    "from transformers import AutoTokenizer\n",
    "from transformers import DataCollatorWithPadding\n",
    "from transformers import AutoModelForSequenceClassification, TrainingArguments, Trainer\n",
    "from transformers import TextClassificationPipeline\n",
    "import torch\n",
    "\n",
    "# model setup for text classification\n",
    "model = AutoModelForSequenceClassification.from_pretrained(\n",
    "    \"emilyalsentzer/Bio_ClinicalBERT\",\n",
    "    num_labels=2,)"
   ]
  },
  {
   "cell_type": "code",
   "execution_count": 74,
   "id": "c729444c-96e5-494d-8b7f-0647a6d1318d",
   "metadata": {},
   "outputs": [
    {
     "data": {
      "text/plain": [
       "SequenceClassifierOutput(loss=None, logits=tensor([[-0.8779, -0.4511],\n",
       "        [-0.8367, -0.5135]], grad_fn=<AddmmBackward0>), hidden_states=None, attentions=None)"
      ]
     },
     "execution_count": 74,
     "metadata": {},
     "output_type": "execute_result"
    }
   ],
   "source": [
    "model(**inputs)"
   ]
  },
  {
   "cell_type": "code",
   "execution_count": null,
   "id": "60e780b0-b96d-4803-90cf-aea805c0fd07",
   "metadata": {},
   "outputs": [],
   "source": []
  },
  {
   "cell_type": "code",
   "execution_count": 75,
   "id": "2cbf8145-c068-4e5f-8c2c-ca674f8b0ce5",
   "metadata": {
    "id": "YWx1Vs800AOF"
   },
   "outputs": [],
   "source": [
    "# Out target categories need to be encoded as integers, but we'll want to reverse this\n",
    "# encoding back to the original categorical strings later, so we need forward and reverse lookups.\n",
    "id2label = {i:cat for i,cat in enumerate(set(text_df[\"Study Status\"]))}\n",
    "label2id = {v:k for k,v in id2label.items()}"
   ]
  },
  {
   "cell_type": "code",
   "execution_count": 77,
   "id": "046604fc-46b6-4ae1-860c-79c2b2de412f",
   "metadata": {
    "id": "vj6u3ULb0AOF"
   },
   "outputs": [],
   "source": [
    "# pull out columns of interest and do a manual test_train split based on random integer assignment\n",
    "simplified = text_df[[\"Study Status\",\"Study Title\"]].copy()\n",
    "simplified.columns = [\"label\",\"text\"]\n",
    "simplified.loc[:,\"label\"] = list(label2id[lab] for lab in simplified[\"label\"])\n",
    "test_flag = np.random.randint(0,high=10,size=text_df.shape[0])\n",
    "simplified.loc[:,'test'] = test_flag > 4\n"
   ]
  },
  {
   "cell_type": "code",
   "execution_count": 78,
   "id": "f61acf7a-318b-4c11-9d4d-5ff6502018dc",
   "metadata": {
    "id": "a0RctjiA0AOF"
   },
   "outputs": [],
   "source": [
    "# select 30 of each category for training in \"few shot\" mode\n",
    "train = simplified[~simplified.test].groupby('label',group_keys=False).apply(lambda x: x.sample(30))"
   ]
  },
  {
   "cell_type": "code",
   "execution_count": 84,
   "id": "e796700e-bd9e-4039-9ac8-ab525c1e501d",
   "metadata": {},
   "outputs": [
    {
     "data": {
      "text/html": [
       "<div>\n",
       "<style scoped>\n",
       "    .dataframe tbody tr th:only-of-type {\n",
       "        vertical-align: middle;\n",
       "    }\n",
       "\n",
       "    .dataframe tbody tr th {\n",
       "        vertical-align: top;\n",
       "    }\n",
       "\n",
       "    .dataframe thead th {\n",
       "        text-align: right;\n",
       "    }\n",
       "</style>\n",
       "<table border=\"1\" class=\"dataframe\">\n",
       "  <thead>\n",
       "    <tr style=\"text-align: right;\">\n",
       "      <th></th>\n",
       "      <th>label</th>\n",
       "      <th>text</th>\n",
       "      <th>test</th>\n",
       "    </tr>\n",
       "  </thead>\n",
       "  <tbody>\n",
       "    <tr>\n",
       "      <th>134206</th>\n",
       "      <td>0</td>\n",
       "      <td>48 Hours After Surgery Shower Patient's Wound ...</td>\n",
       "      <td>False</td>\n",
       "    </tr>\n",
       "    <tr>\n",
       "      <th>304040</th>\n",
       "      <td>0</td>\n",
       "      <td>Immunopathology of Autoimmune Hemolytic Anemia</td>\n",
       "      <td>False</td>\n",
       "    </tr>\n",
       "    <tr>\n",
       "      <th>65857</th>\n",
       "      <td>0</td>\n",
       "      <td>Effects of Cognitive Remediation on Cognition ...</td>\n",
       "      <td>False</td>\n",
       "    </tr>\n",
       "    <tr>\n",
       "      <th>10761</th>\n",
       "      <td>0</td>\n",
       "      <td>Study of cardiovAscular Contrasted Phenotypes ...</td>\n",
       "      <td>False</td>\n",
       "    </tr>\n",
       "    <tr>\n",
       "      <th>76768</th>\n",
       "      <td>0</td>\n",
       "      <td>A Safety and Efficacy Study of Prograf in the ...</td>\n",
       "      <td>False</td>\n",
       "    </tr>\n",
       "    <tr>\n",
       "      <th>280345</th>\n",
       "      <td>0</td>\n",
       "      <td>Primary Prevention of Sudden Cardiac Death (PR...</td>\n",
       "      <td>False</td>\n",
       "    </tr>\n",
       "    <tr>\n",
       "      <th>72497</th>\n",
       "      <td>0</td>\n",
       "      <td>Comparison of Two Electroencephalograms (EEG) ...</td>\n",
       "      <td>False</td>\n",
       "    </tr>\n",
       "    <tr>\n",
       "      <th>185508</th>\n",
       "      <td>0</td>\n",
       "      <td>Trial of Neurostimulation and Blood Flow Restr...</td>\n",
       "      <td>False</td>\n",
       "    </tr>\n",
       "    <tr>\n",
       "      <th>134564</th>\n",
       "      <td>0</td>\n",
       "      <td>Prostate Cancer Intervention Versus Observatio...</td>\n",
       "      <td>False</td>\n",
       "    </tr>\n",
       "    <tr>\n",
       "      <th>177999</th>\n",
       "      <td>0</td>\n",
       "      <td>A Study Evaluating the Efficacy and Safety of ...</td>\n",
       "      <td>False</td>\n",
       "    </tr>\n",
       "    <tr>\n",
       "      <th>52579</th>\n",
       "      <td>0</td>\n",
       "      <td>Safety and Efficacy of Intravitreal Injection ...</td>\n",
       "      <td>False</td>\n",
       "    </tr>\n",
       "    <tr>\n",
       "      <th>105049</th>\n",
       "      <td>0</td>\n",
       "      <td>Use of Pancreatic Enzymes in Short Bowel Syndrome</td>\n",
       "      <td>False</td>\n",
       "    </tr>\n",
       "    <tr>\n",
       "      <th>36540</th>\n",
       "      <td>0</td>\n",
       "      <td>Neural Mechanisms for Appetitive Responses to ...</td>\n",
       "      <td>False</td>\n",
       "    </tr>\n",
       "    <tr>\n",
       "      <th>152679</th>\n",
       "      <td>0</td>\n",
       "      <td>Sentinel Lymph Node Technique in Multifocal Br...</td>\n",
       "      <td>False</td>\n",
       "    </tr>\n",
       "    <tr>\n",
       "      <th>100543</th>\n",
       "      <td>0</td>\n",
       "      <td>Electrochemotherapy for the Inoperable Vulva C...</td>\n",
       "      <td>False</td>\n",
       "    </tr>\n",
       "    <tr>\n",
       "      <th>7044</th>\n",
       "      <td>0</td>\n",
       "      <td>Erector Spinae Plane Block and Subcostal Trans...</td>\n",
       "      <td>False</td>\n",
       "    </tr>\n",
       "    <tr>\n",
       "      <th>148317</th>\n",
       "      <td>0</td>\n",
       "      <td>Improving Quality of Care for Elderly Patients...</td>\n",
       "      <td>False</td>\n",
       "    </tr>\n",
       "    <tr>\n",
       "      <th>256499</th>\n",
       "      <td>0</td>\n",
       "      <td>Preoperative Music Listening in Odontostomatol...</td>\n",
       "      <td>False</td>\n",
       "    </tr>\n",
       "    <tr>\n",
       "      <th>40347</th>\n",
       "      <td>0</td>\n",
       "      <td>Glycaemic Response, Insulinaemic Response, GLP...</td>\n",
       "      <td>False</td>\n",
       "    </tr>\n",
       "    <tr>\n",
       "      <th>191356</th>\n",
       "      <td>0</td>\n",
       "      <td>The Effect of Esophageal Temperature Probe Ins...</td>\n",
       "      <td>False</td>\n",
       "    </tr>\n",
       "    <tr>\n",
       "      <th>291917</th>\n",
       "      <td>0</td>\n",
       "      <td>Inhaled Milrinone in Cardiac Surgery</td>\n",
       "      <td>False</td>\n",
       "    </tr>\n",
       "    <tr>\n",
       "      <th>275692</th>\n",
       "      <td>0</td>\n",
       "      <td>Study of AMG531 (Romiplostim) in Patients With...</td>\n",
       "      <td>False</td>\n",
       "    </tr>\n",
       "    <tr>\n",
       "      <th>293626</th>\n",
       "      <td>0</td>\n",
       "      <td>Gene Therapy for the Treatment of Fanconi's An...</td>\n",
       "      <td>False</td>\n",
       "    </tr>\n",
       "    <tr>\n",
       "      <th>199846</th>\n",
       "      <td>0</td>\n",
       "      <td>Efficacy and Safety Study of Ursodeoxycholic A...</td>\n",
       "      <td>False</td>\n",
       "    </tr>\n",
       "    <tr>\n",
       "      <th>273898</th>\n",
       "      <td>0</td>\n",
       "      <td>Epidural Labor Analgesia and Infant Neurobehavior</td>\n",
       "      <td>False</td>\n",
       "    </tr>\n",
       "    <tr>\n",
       "      <th>163682</th>\n",
       "      <td>0</td>\n",
       "      <td>Macroalgae Consumption - a Pilot Study</td>\n",
       "      <td>False</td>\n",
       "    </tr>\n",
       "    <tr>\n",
       "      <th>203441</th>\n",
       "      <td>0</td>\n",
       "      <td>48-Week Study Of GW433908 And Ritonavir Or GW4...</td>\n",
       "      <td>False</td>\n",
       "    </tr>\n",
       "    <tr>\n",
       "      <th>69943</th>\n",
       "      <td>0</td>\n",
       "      <td>Effectiveness Evaluation of a Dengue Self-moni...</td>\n",
       "      <td>False</td>\n",
       "    </tr>\n",
       "    <tr>\n",
       "      <th>201612</th>\n",
       "      <td>0</td>\n",
       "      <td>SCOPE and Special Olympics</td>\n",
       "      <td>False</td>\n",
       "    </tr>\n",
       "    <tr>\n",
       "      <th>139621</th>\n",
       "      <td>0</td>\n",
       "      <td>Recombinant Interleukin-15 in Treating Patient...</td>\n",
       "      <td>False</td>\n",
       "    </tr>\n",
       "    <tr>\n",
       "      <th>133213</th>\n",
       "      <td>1</td>\n",
       "      <td>Liraglutide for HIV-associated Neurocognitive ...</td>\n",
       "      <td>False</td>\n",
       "    </tr>\n",
       "    <tr>\n",
       "      <th>177967</th>\n",
       "      <td>1</td>\n",
       "      <td>Portable Scalp Cooling System for the Improvem...</td>\n",
       "      <td>False</td>\n",
       "    </tr>\n",
       "    <tr>\n",
       "      <th>215877</th>\n",
       "      <td>1</td>\n",
       "      <td>BI 705564 in Patients With Systemic Lupus Eryt...</td>\n",
       "      <td>False</td>\n",
       "    </tr>\n",
       "    <tr>\n",
       "      <th>86283</th>\n",
       "      <td>1</td>\n",
       "      <td>Intrathecal Baclofen Therapy and Paroxysmal Dy...</td>\n",
       "      <td>False</td>\n",
       "    </tr>\n",
       "    <tr>\n",
       "      <th>106823</th>\n",
       "      <td>1</td>\n",
       "      <td>INFUSE ® Bone Graft/CORNERSTONE-SR® Allograft ...</td>\n",
       "      <td>False</td>\n",
       "    </tr>\n",
       "    <tr>\n",
       "      <th>254456</th>\n",
       "      <td>1</td>\n",
       "      <td>Efficacy of Hydroxychloroquine, Telmisartan an...</td>\n",
       "      <td>False</td>\n",
       "    </tr>\n",
       "    <tr>\n",
       "      <th>81559</th>\n",
       "      <td>1</td>\n",
       "      <td>Red Blood Cell Precursor Formulation to Determ...</td>\n",
       "      <td>False</td>\n",
       "    </tr>\n",
       "    <tr>\n",
       "      <th>270398</th>\n",
       "      <td>1</td>\n",
       "      <td>Insulin Sensitivity and Substrate Metabolism i...</td>\n",
       "      <td>False</td>\n",
       "    </tr>\n",
       "    <tr>\n",
       "      <th>62552</th>\n",
       "      <td>1</td>\n",
       "      <td>AMG 208 Tumor Microenvironment in Metastatic C...</td>\n",
       "      <td>False</td>\n",
       "    </tr>\n",
       "    <tr>\n",
       "      <th>169818</th>\n",
       "      <td>1</td>\n",
       "      <td>Acamprosate for Treatment of Compulsive Behavi...</td>\n",
       "      <td>False</td>\n",
       "    </tr>\n",
       "    <tr>\n",
       "      <th>3602</th>\n",
       "      <td>1</td>\n",
       "      <td>Safety &amp; Efficacy of the Laser Scleral Micropo...</td>\n",
       "      <td>False</td>\n",
       "    </tr>\n",
       "    <tr>\n",
       "      <th>212263</th>\n",
       "      <td>1</td>\n",
       "      <td>Efficacy and Safety Study of Selinexor in Rela...</td>\n",
       "      <td>False</td>\n",
       "    </tr>\n",
       "    <tr>\n",
       "      <th>239585</th>\n",
       "      <td>1</td>\n",
       "      <td>Fascia Iliaca Compartment Block and PENG Block...</td>\n",
       "      <td>False</td>\n",
       "    </tr>\n",
       "    <tr>\n",
       "      <th>195269</th>\n",
       "      <td>1</td>\n",
       "      <td>Study to Assess Adverse Events When Subcutaneo...</td>\n",
       "      <td>False</td>\n",
       "    </tr>\n",
       "    <tr>\n",
       "      <th>126313</th>\n",
       "      <td>1</td>\n",
       "      <td>A Pilot Study Comparing the Effectiveness of C...</td>\n",
       "      <td>False</td>\n",
       "    </tr>\n",
       "    <tr>\n",
       "      <th>81767</th>\n",
       "      <td>1</td>\n",
       "      <td>Nonmyeloablative Stem Cell Transplantation for...</td>\n",
       "      <td>False</td>\n",
       "    </tr>\n",
       "    <tr>\n",
       "      <th>210038</th>\n",
       "      <td>1</td>\n",
       "      <td>Suprathel Versus Xeroform for the Management o...</td>\n",
       "      <td>False</td>\n",
       "    </tr>\n",
       "    <tr>\n",
       "      <th>98358</th>\n",
       "      <td>1</td>\n",
       "      <td>A Pivotal Study of rhBMP-2/ACS/INTER FIX™ Devi...</td>\n",
       "      <td>False</td>\n",
       "    </tr>\n",
       "    <tr>\n",
       "      <th>63756</th>\n",
       "      <td>1</td>\n",
       "      <td>Gefitinib and Combination Chemotherapy in Trea...</td>\n",
       "      <td>False</td>\n",
       "    </tr>\n",
       "    <tr>\n",
       "      <th>255348</th>\n",
       "      <td>1</td>\n",
       "      <td>Ultrasound Guided Insertion of Sheath Before A...</td>\n",
       "      <td>False</td>\n",
       "    </tr>\n",
       "    <tr>\n",
       "      <th>207142</th>\n",
       "      <td>1</td>\n",
       "      <td>A Clinical Trial Comparing Gemcitabine and Car...</td>\n",
       "      <td>False</td>\n",
       "    </tr>\n",
       "    <tr>\n",
       "      <th>45312</th>\n",
       "      <td>1</td>\n",
       "      <td>EdoxabaN or Warfarin Therapy In Device Procedu...</td>\n",
       "      <td>False</td>\n",
       "    </tr>\n",
       "    <tr>\n",
       "      <th>152404</th>\n",
       "      <td>1</td>\n",
       "      <td>Endothelial Function and Autonomic Regulation ...</td>\n",
       "      <td>False</td>\n",
       "    </tr>\n",
       "    <tr>\n",
       "      <th>116207</th>\n",
       "      <td>1</td>\n",
       "      <td>Efficacy and Safety of the Farnesyl-transferas...</td>\n",
       "      <td>False</td>\n",
       "    </tr>\n",
       "    <tr>\n",
       "      <th>130326</th>\n",
       "      <td>1</td>\n",
       "      <td>Patients Response to Early Switch To Oral:Oste...</td>\n",
       "      <td>False</td>\n",
       "    </tr>\n",
       "    <tr>\n",
       "      <th>160485</th>\n",
       "      <td>1</td>\n",
       "      <td>A Media Communication Intervention to Increase...</td>\n",
       "      <td>False</td>\n",
       "    </tr>\n",
       "    <tr>\n",
       "      <th>234995</th>\n",
       "      <td>1</td>\n",
       "      <td>Exercise Induced Hypoalgesia Diabetes</td>\n",
       "      <td>False</td>\n",
       "    </tr>\n",
       "    <tr>\n",
       "      <th>222278</th>\n",
       "      <td>1</td>\n",
       "      <td>Observational Study, Use of Canakinumab Admini...</td>\n",
       "      <td>False</td>\n",
       "    </tr>\n",
       "    <tr>\n",
       "      <th>232575</th>\n",
       "      <td>1</td>\n",
       "      <td>Delivering EMT Via Telehealth to Children and ...</td>\n",
       "      <td>False</td>\n",
       "    </tr>\n",
       "    <tr>\n",
       "      <th>289436</th>\n",
       "      <td>1</td>\n",
       "      <td>Hepatitis B Virus Antibody Booster Program for...</td>\n",
       "      <td>False</td>\n",
       "    </tr>\n",
       "  </tbody>\n",
       "</table>\n",
       "</div>"
      ],
      "text/plain": [
       "        label                                               text   test\n",
       "134206      0  48 Hours After Surgery Shower Patient's Wound ...  False\n",
       "304040      0     Immunopathology of Autoimmune Hemolytic Anemia  False\n",
       "65857       0  Effects of Cognitive Remediation on Cognition ...  False\n",
       "10761       0  Study of cardiovAscular Contrasted Phenotypes ...  False\n",
       "76768       0  A Safety and Efficacy Study of Prograf in the ...  False\n",
       "280345      0  Primary Prevention of Sudden Cardiac Death (PR...  False\n",
       "72497       0  Comparison of Two Electroencephalograms (EEG) ...  False\n",
       "185508      0  Trial of Neurostimulation and Blood Flow Restr...  False\n",
       "134564      0  Prostate Cancer Intervention Versus Observatio...  False\n",
       "177999      0  A Study Evaluating the Efficacy and Safety of ...  False\n",
       "52579       0  Safety and Efficacy of Intravitreal Injection ...  False\n",
       "105049      0  Use of Pancreatic Enzymes in Short Bowel Syndrome  False\n",
       "36540       0  Neural Mechanisms for Appetitive Responses to ...  False\n",
       "152679      0  Sentinel Lymph Node Technique in Multifocal Br...  False\n",
       "100543      0  Electrochemotherapy for the Inoperable Vulva C...  False\n",
       "7044        0  Erector Spinae Plane Block and Subcostal Trans...  False\n",
       "148317      0  Improving Quality of Care for Elderly Patients...  False\n",
       "256499      0  Preoperative Music Listening in Odontostomatol...  False\n",
       "40347       0  Glycaemic Response, Insulinaemic Response, GLP...  False\n",
       "191356      0  The Effect of Esophageal Temperature Probe Ins...  False\n",
       "291917      0               Inhaled Milrinone in Cardiac Surgery  False\n",
       "275692      0  Study of AMG531 (Romiplostim) in Patients With...  False\n",
       "293626      0  Gene Therapy for the Treatment of Fanconi's An...  False\n",
       "199846      0  Efficacy and Safety Study of Ursodeoxycholic A...  False\n",
       "273898      0  Epidural Labor Analgesia and Infant Neurobehavior  False\n",
       "163682      0             Macroalgae Consumption - a Pilot Study  False\n",
       "203441      0  48-Week Study Of GW433908 And Ritonavir Or GW4...  False\n",
       "69943       0  Effectiveness Evaluation of a Dengue Self-moni...  False\n",
       "201612      0                         SCOPE and Special Olympics  False\n",
       "139621      0  Recombinant Interleukin-15 in Treating Patient...  False\n",
       "133213      1  Liraglutide for HIV-associated Neurocognitive ...  False\n",
       "177967      1  Portable Scalp Cooling System for the Improvem...  False\n",
       "215877      1  BI 705564 in Patients With Systemic Lupus Eryt...  False\n",
       "86283       1  Intrathecal Baclofen Therapy and Paroxysmal Dy...  False\n",
       "106823      1  INFUSE ® Bone Graft/CORNERSTONE-SR® Allograft ...  False\n",
       "254456      1  Efficacy of Hydroxychloroquine, Telmisartan an...  False\n",
       "81559       1  Red Blood Cell Precursor Formulation to Determ...  False\n",
       "270398      1  Insulin Sensitivity and Substrate Metabolism i...  False\n",
       "62552       1  AMG 208 Tumor Microenvironment in Metastatic C...  False\n",
       "169818      1  Acamprosate for Treatment of Compulsive Behavi...  False\n",
       "3602        1  Safety & Efficacy of the Laser Scleral Micropo...  False\n",
       "212263      1  Efficacy and Safety Study of Selinexor in Rela...  False\n",
       "239585      1  Fascia Iliaca Compartment Block and PENG Block...  False\n",
       "195269      1  Study to Assess Adverse Events When Subcutaneo...  False\n",
       "126313      1  A Pilot Study Comparing the Effectiveness of C...  False\n",
       "81767       1  Nonmyeloablative Stem Cell Transplantation for...  False\n",
       "210038      1  Suprathel Versus Xeroform for the Management o...  False\n",
       "98358       1  A Pivotal Study of rhBMP-2/ACS/INTER FIX™ Devi...  False\n",
       "63756       1  Gefitinib and Combination Chemotherapy in Trea...  False\n",
       "255348      1  Ultrasound Guided Insertion of Sheath Before A...  False\n",
       "207142      1  A Clinical Trial Comparing Gemcitabine and Car...  False\n",
       "45312       1  EdoxabaN or Warfarin Therapy In Device Procedu...  False\n",
       "152404      1  Endothelial Function and Autonomic Regulation ...  False\n",
       "116207      1  Efficacy and Safety of the Farnesyl-transferas...  False\n",
       "130326      1  Patients Response to Early Switch To Oral:Oste...  False\n",
       "160485      1  A Media Communication Intervention to Increase...  False\n",
       "234995      1              Exercise Induced Hypoalgesia Diabetes  False\n",
       "222278      1  Observational Study, Use of Canakinumab Admini...  False\n",
       "232575      1  Delivering EMT Via Telehealth to Children and ...  False\n",
       "289436      1  Hepatitis B Virus Antibody Booster Program for...  False"
      ]
     },
     "execution_count": 84,
     "metadata": {},
     "output_type": "execute_result"
    }
   ],
   "source": [
    "train"
   ]
  },
  {
   "cell_type": "code",
   "execution_count": 79,
   "id": "7fafc2cc-2535-46bf-9786-788c9a513c3a",
   "metadata": {
    "id": "0EU-hwi10AOF"
   },
   "outputs": [],
   "source": [
    "# select 90 of each cagegory for test evaluation during tuning\n",
    "test = simplified[simplified.test].groupby('label',group_keys=False).apply(lambda x: x.sample(90))"
   ]
  },
  {
   "cell_type": "code",
   "execution_count": 86,
   "id": "339f0b2a-b45e-42f1-9875-7db3e7724204",
   "metadata": {},
   "outputs": [
    {
     "data": {
      "text/html": [
       "<div>\n",
       "<style scoped>\n",
       "    .dataframe tbody tr th:only-of-type {\n",
       "        vertical-align: middle;\n",
       "    }\n",
       "\n",
       "    .dataframe tbody tr th {\n",
       "        vertical-align: top;\n",
       "    }\n",
       "\n",
       "    .dataframe thead th {\n",
       "        text-align: right;\n",
       "    }\n",
       "</style>\n",
       "<table border=\"1\" class=\"dataframe\">\n",
       "  <thead>\n",
       "    <tr style=\"text-align: right;\">\n",
       "      <th></th>\n",
       "      <th>label</th>\n",
       "      <th>text</th>\n",
       "      <th>test</th>\n",
       "    </tr>\n",
       "  </thead>\n",
       "  <tbody>\n",
       "    <tr>\n",
       "      <th>211837</th>\n",
       "      <td>0</td>\n",
       "      <td>A Mixed Methods Investigation of Equine-assist...</td>\n",
       "      <td>True</td>\n",
       "    </tr>\n",
       "    <tr>\n",
       "      <th>64822</th>\n",
       "      <td>0</td>\n",
       "      <td>Evaluation of Gastric Content of Volunteers Fa...</td>\n",
       "      <td>True</td>\n",
       "    </tr>\n",
       "    <tr>\n",
       "      <th>40701</th>\n",
       "      <td>0</td>\n",
       "      <td>Treatment of Demodex Blepharitis With Ivermect...</td>\n",
       "      <td>True</td>\n",
       "    </tr>\n",
       "    <tr>\n",
       "      <th>1231</th>\n",
       "      <td>0</td>\n",
       "      <td>Fractionated Stereotactic Radiotherapy in Pati...</td>\n",
       "      <td>True</td>\n",
       "    </tr>\n",
       "    <tr>\n",
       "      <th>73201</th>\n",
       "      <td>0</td>\n",
       "      <td>Diffusion Weighted-MRI Based Evaluation of the...</td>\n",
       "      <td>True</td>\n",
       "    </tr>\n",
       "    <tr>\n",
       "      <th>...</th>\n",
       "      <td>...</td>\n",
       "      <td>...</td>\n",
       "      <td>...</td>\n",
       "    </tr>\n",
       "    <tr>\n",
       "      <th>140974</th>\n",
       "      <td>1</td>\n",
       "      <td>WEMR With Clinical Decision Support for All Wo...</td>\n",
       "      <td>True</td>\n",
       "    </tr>\n",
       "    <tr>\n",
       "      <th>211390</th>\n",
       "      <td>1</td>\n",
       "      <td>Single-agent Erlotinib in Patients Previously ...</td>\n",
       "      <td>True</td>\n",
       "    </tr>\n",
       "    <tr>\n",
       "      <th>168323</th>\n",
       "      <td>1</td>\n",
       "      <td>Non Surgical Management for Uterine Residua Af...</td>\n",
       "      <td>True</td>\n",
       "    </tr>\n",
       "    <tr>\n",
       "      <th>252578</th>\n",
       "      <td>1</td>\n",
       "      <td>Clinical Evaluation of Adjusted Doses of Darun...</td>\n",
       "      <td>True</td>\n",
       "    </tr>\n",
       "    <tr>\n",
       "      <th>144949</th>\n",
       "      <td>1</td>\n",
       "      <td>Long-Term Safety Study of GS-6624 in Adults Wi...</td>\n",
       "      <td>True</td>\n",
       "    </tr>\n",
       "  </tbody>\n",
       "</table>\n",
       "<p>180 rows × 3 columns</p>\n",
       "</div>"
      ],
      "text/plain": [
       "        label                                               text  test\n",
       "211837      0  A Mixed Methods Investigation of Equine-assist...  True\n",
       "64822       0  Evaluation of Gastric Content of Volunteers Fa...  True\n",
       "40701       0  Treatment of Demodex Blepharitis With Ivermect...  True\n",
       "1231        0  Fractionated Stereotactic Radiotherapy in Pati...  True\n",
       "73201       0  Diffusion Weighted-MRI Based Evaluation of the...  True\n",
       "...       ...                                                ...   ...\n",
       "140974      1  WEMR With Clinical Decision Support for All Wo...  True\n",
       "211390      1  Single-agent Erlotinib in Patients Previously ...  True\n",
       "168323      1  Non Surgical Management for Uterine Residua Af...  True\n",
       "252578      1  Clinical Evaluation of Adjusted Doses of Darun...  True\n",
       "144949      1  Long-Term Safety Study of GS-6624 in Adults Wi...  True\n",
       "\n",
       "[180 rows x 3 columns]"
      ]
     },
     "execution_count": 86,
     "metadata": {},
     "output_type": "execute_result"
    }
   ],
   "source": [
    "test"
   ]
  },
  {
   "cell_type": "code",
   "execution_count": 80,
   "id": "3a443157-a7e9-435f-ac0c-0f37d0ea3211",
   "metadata": {
    "id": "b4X3iM3W0AOF"
   },
   "outputs": [],
   "source": [
    "# save as CSV files to be processed by the hugging face data pipelines\n",
    "train.reset_index(drop=True).to_csv(\"bert_train.csv\")\n",
    "test.reset_index(drop=True).to_csv(\"bert_test.csv\")"
   ]
  },
  {
   "cell_type": "code",
   "execution_count": 82,
   "id": "efeace1e-5934-48c3-a0ff-1f0a7d50d551",
   "metadata": {
    "colab": {
     "base_uri": "https://localhost:8080/",
     "height": 145,
     "referenced_widgets": [
      "1ba16397c10c4ed3a8de654fda343e6b",
      "5ec394c1434742fea8f090cdf9961f81",
      "f68a96bc9fcc4bbbbef7ac372518652e",
      "e350bfcdd0b94317b5217b9482313769",
      "98141418b32f423db8558b9c31823f29",
      "92eb39c295a6474fb64cc191a02f7c5f",
      "470613c3869e453b8a24022ff035be69",
      "ec3b223e185a4b98ba753d98a06b0c6e",
      "96695547cbc24421b545c3e4f2f1c258",
      "9c052a34f70d45618ce0ecc9c4b3c3a1",
      "6af587058ade47b5b9c4212dacea7999",
      "5b2141a2b74f404192c0d01390301bee",
      "3348dbe0a3e84b958816154e9d7d6f30",
      "b7e02e2ce6404060a9da268bdd0d01da",
      "853ef9c3db2840c5a432df35035160e5",
      "7b58ab3c665945da957f0b09b61cb5f0",
      "e981466cd17c4deba5029cb5e4d97e15",
      "f2f612811f614fe0b54f8283721a7f5f",
      "3c3dd95c7370454087dc153a39ba6bc0",
      "37b2c9df1a5e4c88b2de72b5576affa6",
      "4ccf484ce9294231b95648ee5cd1dede",
      "3669cc7e258e4fa4951dadb6db8c8be3",
      "f253498053574cbe89fee5316a19cd70",
      "b950d2ad96a44a69ab4da133d2a0a735",
      "48d2ddf0547e4649a556029d1c0400f8",
      "086f236ff1f34369b2332a71cae3b337",
      "9d9656ae8f6948c7aa150cb6b1de5f97",
      "578e829bceab412abede56f2c0f1f8b6",
      "9cd81c6c918945b39ff79c0799ebf18b",
      "3f30fbde685a4c2fa3e6d74065b8b6e0",
      "0d6e01efa37f4459ba52766613c369e4",
      "f2d272fb3eaa43eca0ace48147cbf66b",
      "abc6a88127904b71ba38aa065c5fccb4",
      "d91e476234e347da90dcede5f59be589",
      "72a0a0bc4c7b4d6b82980fe639260ca4",
      "71f9d84578ab41bf87f3e7c6609313d9",
      "caa717f942f14b529768e9909d0f1b87",
      "f50b514915094450a5665b2494f4c450",
      "c036a6c056f64bb0ae8b08a3bf770536",
      "4ea13320846c4f1a89ce5461d8d9795d",
      "c2877e5890d444aeb0dbc441662ae76e",
      "f792004b38054bb5b8c6c5b3ba1a7579",
      "81c9b60563504494a1844c6dba303fd3",
      "d862eaa392be44c794ab0b8d105f8305"
     ]
    },
    "id": "k4nRFU9M0AOF",
    "outputId": "efc902f1-9ae3-4fed-ceaa-a0b80f96e0b4"
   },
   "outputs": [
    {
     "data": {
      "application/vnd.jupyter.widget-view+json": {
       "model_id": "42c83575679145a392be4943b7a131d9",
       "version_major": 2,
       "version_minor": 0
      },
      "text/plain": [
       "Generating train split: 0 examples [00:00, ? examples/s]"
      ]
     },
     "metadata": {},
     "output_type": "display_data"
    },
    {
     "data": {
      "application/vnd.jupyter.widget-view+json": {
       "model_id": "d42ce770bf944b97b210de9075f37dbd",
       "version_major": 2,
       "version_minor": 0
      },
      "text/plain": [
       "Generating test split: 0 examples [00:00, ? examples/s]"
      ]
     },
     "metadata": {},
     "output_type": "display_data"
    }
   ],
   "source": [
    "from datasets import load_dataset\n",
    "\n",
    "# load as hugging face dataset\n",
    "dataset = load_dataset('csv', data_files={'train': 'bert_train.csv', 'test': 'bert_test.csv'})"
   ]
  },
  {
   "cell_type": "code",
   "execution_count": 83,
   "id": "9a5379fb-3d04-4956-ad92-27de75716c4a",
   "metadata": {},
   "outputs": [
    {
     "data": {
      "application/vnd.jupyter.widget-view+json": {
       "model_id": "77d4166386da42de91b02ac16c4fe23d",
       "version_major": 2,
       "version_minor": 0
      },
      "text/plain": [
       "Map:   0%|          | 0/60 [00:00<?, ? examples/s]"
      ]
     },
     "metadata": {},
     "output_type": "display_data"
    },
    {
     "data": {
      "application/vnd.jupyter.widget-view+json": {
       "model_id": "5c62a098dc2a4221ba72f97a68d4a3e1",
       "version_major": 2,
       "version_minor": 0
      },
      "text/plain": [
       "Map:   0%|          | 0/180 [00:00<?, ? examples/s]"
      ]
     },
     "metadata": {},
     "output_type": "display_data"
    }
   ],
   "source": [
    "def preprocess_function(examples):\n",
    "    return tokenizer(examples[\"text\"], truncation=True, padding=True)\n",
    "\n",
    "# pro forma hugging face text processing setup\n",
    "tokenized_data = dataset.map(preprocess_function, batched=True)\n",
    "\n",
    "data_collator = DataCollatorWithPadding(tokenizer=tokenizer)"
   ]
  },
  {
   "cell_type": "code",
   "execution_count": 34,
   "id": "e4594a60-faa7-4dff-af72-402043ce55b8",
   "metadata": {
    "id": "EvWYMko40AOG"
   },
   "outputs": [],
   "source": [
    "# leverage sklearn metrics for runtime training evaluation\n",
    "def compute_metrics(p):\n",
    "    pred, labels = p\n",
    "    pred = np.argmax(pred, axis=1)\n",
    "\n",
    "    accuracy = accuracy_score(y_true=labels, y_pred=pred)\n",
    "    recall = recall_score(y_true=labels, y_pred=pred,average='micro')\n",
    "    precision = precision_score(y_true=labels, y_pred=pred,average='micro')\n",
    "    f1 = f1_score(y_true=labels, y_pred=pred,average='micro')\n",
    "\n",
    "    return {\"accuracy\": accuracy, \"precision\": precision, \"recall\": recall, \"f1\": f1}"
   ]
  },
  {
   "cell_type": "markdown",
   "id": "6b82d588-0b33-4c75-9895-c97331198d2d",
   "metadata": {
    "id": "-4agrqa00AOG"
   },
   "source": [
    "We setup our complete transfer learning pipeline by instantiating a TrainingArguments instance with specific parameters and creating a new Trainer that collects all components together: model, training_args, preprocessing pipeline, and evaluation funcs."
   ]
  },
  {
   "cell_type": "code",
   "execution_count": 89,
   "id": "4128ee1f-db42-4f26-b688-517b9f840dbb",
   "metadata": {
    "id": "6LDXVsFJ0AOG"
   },
   "outputs": [
    {
     "ename": "ImportError",
     "evalue": "Using the `Trainer` with `PyTorch` requires `accelerate>=0.21.0`: Please run `pip install transformers[torch]` or `pip install accelerate -U`",
     "output_type": "error",
     "traceback": [
      "\u001b[1;31m---------------------------------------------------------------------------\u001b[0m",
      "\u001b[1;31mImportError\u001b[0m                               Traceback (most recent call last)",
      "Cell \u001b[1;32mIn[89], line 2\u001b[0m\n\u001b[0;32m      1\u001b[0m \u001b[38;5;66;03m# training parameter setup goes in a specific class instance\u001b[39;00m\n\u001b[1;32m----> 2\u001b[0m training_args \u001b[38;5;241m=\u001b[39m TrainingArguments(\n\u001b[0;32m      3\u001b[0m     output_dir\u001b[38;5;241m=\u001b[39m\u001b[38;5;124m\"\u001b[39m\u001b[38;5;124mclinical-study-classifier\u001b[39m\u001b[38;5;124m\"\u001b[39m,\n\u001b[0;32m      4\u001b[0m     learning_rate\u001b[38;5;241m=\u001b[39m\u001b[38;5;241m2e-5\u001b[39m,\n\u001b[0;32m      5\u001b[0m     optim\u001b[38;5;241m=\u001b[39m\u001b[38;5;124m\"\u001b[39m\u001b[38;5;124madamw_torch\u001b[39m\u001b[38;5;124m\"\u001b[39m,\n\u001b[0;32m      6\u001b[0m     per_device_train_batch_size\u001b[38;5;241m=\u001b[39m\u001b[38;5;241m8\u001b[39m,\n\u001b[0;32m      7\u001b[0m     per_device_eval_batch_size\u001b[38;5;241m=\u001b[39m\u001b[38;5;241m8\u001b[39m,\n\u001b[0;32m      8\u001b[0m     num_train_epochs\u001b[38;5;241m=\u001b[39m\u001b[38;5;241m10\u001b[39m,\n\u001b[0;32m      9\u001b[0m     weight_decay\u001b[38;5;241m=\u001b[39m\u001b[38;5;241m0.01\u001b[39m,\n\u001b[0;32m     10\u001b[0m     evaluation_strategy\u001b[38;5;241m=\u001b[39m\u001b[38;5;124m\"\u001b[39m\u001b[38;5;124mepoch\u001b[39m\u001b[38;5;124m\"\u001b[39m,\n\u001b[0;32m     11\u001b[0m     save_strategy\u001b[38;5;241m=\u001b[39m\u001b[38;5;124m\"\u001b[39m\u001b[38;5;124mepoch\u001b[39m\u001b[38;5;124m\"\u001b[39m,\n\u001b[0;32m     12\u001b[0m     load_best_model_at_end\u001b[38;5;241m=\u001b[39m\u001b[38;5;28;01mTrue\u001b[39;00m,\n\u001b[0;32m     13\u001b[0m     push_to_hub\u001b[38;5;241m=\u001b[39m\u001b[38;5;28;01mFalse\u001b[39;00m)\n\u001b[0;32m     15\u001b[0m \u001b[38;5;66;03m# the trainier\u001b[39;00m\n\u001b[0;32m     16\u001b[0m trainer \u001b[38;5;241m=\u001b[39m Trainer(\n\u001b[0;32m     17\u001b[0m     model\u001b[38;5;241m=\u001b[39mmodel,\n\u001b[0;32m     18\u001b[0m     args\u001b[38;5;241m=\u001b[39mtraining_args,\n\u001b[1;32m   (...)\u001b[0m\n\u001b[0;32m     22\u001b[0m     data_collator\u001b[38;5;241m=\u001b[39mdata_collator,\n\u001b[0;32m     23\u001b[0m     compute_metrics\u001b[38;5;241m=\u001b[39mcompute_metrics)\n",
      "File \u001b[1;32m<string>:124\u001b[0m, in \u001b[0;36m__init__\u001b[1;34m(self, output_dir, overwrite_output_dir, do_train, do_eval, do_predict, evaluation_strategy, prediction_loss_only, per_device_train_batch_size, per_device_eval_batch_size, per_gpu_train_batch_size, per_gpu_eval_batch_size, gradient_accumulation_steps, eval_accumulation_steps, eval_delay, learning_rate, weight_decay, adam_beta1, adam_beta2, adam_epsilon, max_grad_norm, num_train_epochs, max_steps, lr_scheduler_type, lr_scheduler_kwargs, warmup_ratio, warmup_steps, log_level, log_level_replica, log_on_each_node, logging_dir, logging_strategy, logging_first_step, logging_steps, logging_nan_inf_filter, save_strategy, save_steps, save_total_limit, save_safetensors, save_on_each_node, save_only_model, no_cuda, use_cpu, use_mps_device, seed, data_seed, jit_mode_eval, use_ipex, bf16, fp16, fp16_opt_level, half_precision_backend, bf16_full_eval, fp16_full_eval, tf32, local_rank, ddp_backend, tpu_num_cores, tpu_metrics_debug, debug, dataloader_drop_last, eval_steps, dataloader_num_workers, dataloader_prefetch_factor, past_index, run_name, disable_tqdm, remove_unused_columns, label_names, load_best_model_at_end, metric_for_best_model, greater_is_better, ignore_data_skip, fsdp, fsdp_min_num_params, fsdp_config, fsdp_transformer_layer_cls_to_wrap, accelerator_config, deepspeed, label_smoothing_factor, optim, optim_args, adafactor, group_by_length, length_column_name, report_to, ddp_find_unused_parameters, ddp_bucket_cap_mb, ddp_broadcast_buffers, dataloader_pin_memory, dataloader_persistent_workers, skip_memory_metrics, use_legacy_prediction_loop, push_to_hub, resume_from_checkpoint, hub_model_id, hub_strategy, hub_token, hub_private_repo, hub_always_push, gradient_checkpointing, gradient_checkpointing_kwargs, include_inputs_for_metrics, fp16_backend, push_to_hub_model_id, push_to_hub_organization, push_to_hub_token, mp_parameters, auto_find_batch_size, full_determinism, torchdynamo, ray_scope, ddp_timeout, torch_compile, torch_compile_backend, torch_compile_mode, dispatch_batches, split_batches, include_tokens_per_second, include_num_input_tokens_seen, neftune_noise_alpha, optim_target_modules)\u001b[0m\n",
      "File \u001b[1;32m~\\anaconda3\\Lib\\site-packages\\transformers\\training_args.py:1551\u001b[0m, in \u001b[0;36mTrainingArguments.__post_init__\u001b[1;34m(self)\u001b[0m\n\u001b[0;32m   1545\u001b[0m     \u001b[38;5;28;01mif\u001b[39;00m version\u001b[38;5;241m.\u001b[39mparse(version\u001b[38;5;241m.\u001b[39mparse(torch\u001b[38;5;241m.\u001b[39m__version__)\u001b[38;5;241m.\u001b[39mbase_version) \u001b[38;5;241m==\u001b[39m version\u001b[38;5;241m.\u001b[39mparse(\u001b[38;5;124m\"\u001b[39m\u001b[38;5;124m2.0.0\u001b[39m\u001b[38;5;124m\"\u001b[39m) \u001b[38;5;129;01mand\u001b[39;00m \u001b[38;5;28mself\u001b[39m\u001b[38;5;241m.\u001b[39mfp16:\n\u001b[0;32m   1546\u001b[0m         \u001b[38;5;28;01mraise\u001b[39;00m \u001b[38;5;167;01mValueError\u001b[39;00m(\u001b[38;5;124m\"\u001b[39m\u001b[38;5;124m--optim adamw_torch_fused with --fp16 requires PyTorch>2.0\u001b[39m\u001b[38;5;124m\"\u001b[39m)\n\u001b[0;32m   1548\u001b[0m \u001b[38;5;28;01mif\u001b[39;00m (\n\u001b[0;32m   1549\u001b[0m     \u001b[38;5;28mself\u001b[39m\u001b[38;5;241m.\u001b[39mframework \u001b[38;5;241m==\u001b[39m \u001b[38;5;124m\"\u001b[39m\u001b[38;5;124mpt\u001b[39m\u001b[38;5;124m\"\u001b[39m\n\u001b[0;32m   1550\u001b[0m     \u001b[38;5;129;01mand\u001b[39;00m is_torch_available()\n\u001b[1;32m-> 1551\u001b[0m     \u001b[38;5;129;01mand\u001b[39;00m (\u001b[38;5;28mself\u001b[39m\u001b[38;5;241m.\u001b[39mdevice\u001b[38;5;241m.\u001b[39mtype \u001b[38;5;241m!=\u001b[39m \u001b[38;5;124m\"\u001b[39m\u001b[38;5;124mcuda\u001b[39m\u001b[38;5;124m\"\u001b[39m)\n\u001b[0;32m   1552\u001b[0m     \u001b[38;5;129;01mand\u001b[39;00m (\u001b[38;5;28mself\u001b[39m\u001b[38;5;241m.\u001b[39mdevice\u001b[38;5;241m.\u001b[39mtype \u001b[38;5;241m!=\u001b[39m \u001b[38;5;124m\"\u001b[39m\u001b[38;5;124mnpu\u001b[39m\u001b[38;5;124m\"\u001b[39m)\n\u001b[0;32m   1553\u001b[0m     \u001b[38;5;129;01mand\u001b[39;00m (\u001b[38;5;28mself\u001b[39m\u001b[38;5;241m.\u001b[39mdevice\u001b[38;5;241m.\u001b[39mtype \u001b[38;5;241m!=\u001b[39m \u001b[38;5;124m\"\u001b[39m\u001b[38;5;124mxpu\u001b[39m\u001b[38;5;124m\"\u001b[39m)\n\u001b[0;32m   1554\u001b[0m     \u001b[38;5;129;01mand\u001b[39;00m (get_xla_device_type(\u001b[38;5;28mself\u001b[39m\u001b[38;5;241m.\u001b[39mdevice) \u001b[38;5;129;01mnot\u001b[39;00m \u001b[38;5;129;01min\u001b[39;00m [\u001b[38;5;124m\"\u001b[39m\u001b[38;5;124mGPU\u001b[39m\u001b[38;5;124m\"\u001b[39m, \u001b[38;5;124m\"\u001b[39m\u001b[38;5;124mCUDA\u001b[39m\u001b[38;5;124m\"\u001b[39m])\n\u001b[0;32m   1555\u001b[0m     \u001b[38;5;129;01mand\u001b[39;00m (\u001b[38;5;28mself\u001b[39m\u001b[38;5;241m.\u001b[39mfp16 \u001b[38;5;129;01mor\u001b[39;00m \u001b[38;5;28mself\u001b[39m\u001b[38;5;241m.\u001b[39mfp16_full_eval)\n\u001b[0;32m   1556\u001b[0m ):\n\u001b[0;32m   1557\u001b[0m     \u001b[38;5;28;01mraise\u001b[39;00m \u001b[38;5;167;01mValueError\u001b[39;00m(\n\u001b[0;32m   1558\u001b[0m         \u001b[38;5;124m\"\u001b[39m\u001b[38;5;124mFP16 Mixed precision training with AMP or APEX (`--fp16`) and FP16 half precision evaluation\u001b[39m\u001b[38;5;124m\"\u001b[39m\n\u001b[0;32m   1559\u001b[0m         \u001b[38;5;124m\"\u001b[39m\u001b[38;5;124m (`--fp16_full_eval`) can only be used on CUDA or NPU devices or certain XPU devices (with IPEX).\u001b[39m\u001b[38;5;124m\"\u001b[39m\n\u001b[0;32m   1560\u001b[0m     )\n\u001b[0;32m   1562\u001b[0m \u001b[38;5;28;01mif\u001b[39;00m (\n\u001b[0;32m   1563\u001b[0m     \u001b[38;5;28mself\u001b[39m\u001b[38;5;241m.\u001b[39mframework \u001b[38;5;241m==\u001b[39m \u001b[38;5;124m\"\u001b[39m\u001b[38;5;124mpt\u001b[39m\u001b[38;5;124m\"\u001b[39m\n\u001b[0;32m   1564\u001b[0m     \u001b[38;5;129;01mand\u001b[39;00m is_torch_available()\n\u001b[1;32m   (...)\u001b[0m\n\u001b[0;32m   1571\u001b[0m     \u001b[38;5;129;01mand\u001b[39;00m (\u001b[38;5;28mself\u001b[39m\u001b[38;5;241m.\u001b[39mbf16 \u001b[38;5;129;01mor\u001b[39;00m \u001b[38;5;28mself\u001b[39m\u001b[38;5;241m.\u001b[39mbf16_full_eval)\n\u001b[0;32m   1572\u001b[0m ):\n",
      "File \u001b[1;32m~\\anaconda3\\Lib\\site-packages\\transformers\\training_args.py:2027\u001b[0m, in \u001b[0;36mTrainingArguments.device\u001b[1;34m(self)\u001b[0m\n\u001b[0;32m   2023\u001b[0m \u001b[38;5;250m\u001b[39m\u001b[38;5;124;03m\"\"\"\u001b[39;00m\n\u001b[0;32m   2024\u001b[0m \u001b[38;5;124;03mThe device used by this process.\u001b[39;00m\n\u001b[0;32m   2025\u001b[0m \u001b[38;5;124;03m\"\"\"\u001b[39;00m\n\u001b[0;32m   2026\u001b[0m requires_backends(\u001b[38;5;28mself\u001b[39m, [\u001b[38;5;124m\"\u001b[39m\u001b[38;5;124mtorch\u001b[39m\u001b[38;5;124m\"\u001b[39m])\n\u001b[1;32m-> 2027\u001b[0m \u001b[38;5;28;01mreturn\u001b[39;00m \u001b[38;5;28mself\u001b[39m\u001b[38;5;241m.\u001b[39m_setup_devices\n",
      "File \u001b[1;32m~\\anaconda3\\Lib\\site-packages\\transformers\\utils\\generic.py:63\u001b[0m, in \u001b[0;36mcached_property.__get__\u001b[1;34m(self, obj, objtype)\u001b[0m\n\u001b[0;32m     61\u001b[0m cached \u001b[38;5;241m=\u001b[39m \u001b[38;5;28mgetattr\u001b[39m(obj, attr, \u001b[38;5;28;01mNone\u001b[39;00m)\n\u001b[0;32m     62\u001b[0m \u001b[38;5;28;01mif\u001b[39;00m cached \u001b[38;5;129;01mis\u001b[39;00m \u001b[38;5;28;01mNone\u001b[39;00m:\n\u001b[1;32m---> 63\u001b[0m     cached \u001b[38;5;241m=\u001b[39m \u001b[38;5;28mself\u001b[39m\u001b[38;5;241m.\u001b[39mfget(obj)\n\u001b[0;32m     64\u001b[0m     \u001b[38;5;28msetattr\u001b[39m(obj, attr, cached)\n\u001b[0;32m     65\u001b[0m \u001b[38;5;28;01mreturn\u001b[39;00m cached\n",
      "File \u001b[1;32m~\\anaconda3\\Lib\\site-packages\\transformers\\training_args.py:1937\u001b[0m, in \u001b[0;36mTrainingArguments._setup_devices\u001b[1;34m(self)\u001b[0m\n\u001b[0;32m   1935\u001b[0m \u001b[38;5;28;01mif\u001b[39;00m \u001b[38;5;129;01mnot\u001b[39;00m is_sagemaker_mp_enabled():\n\u001b[0;32m   1936\u001b[0m     \u001b[38;5;28;01mif\u001b[39;00m \u001b[38;5;129;01mnot\u001b[39;00m is_accelerate_available():\n\u001b[1;32m-> 1937\u001b[0m         \u001b[38;5;28;01mraise\u001b[39;00m \u001b[38;5;167;01mImportError\u001b[39;00m(\n\u001b[0;32m   1938\u001b[0m             \u001b[38;5;124mf\u001b[39m\u001b[38;5;124m\"\u001b[39m\u001b[38;5;124mUsing the `Trainer` with `PyTorch` requires `accelerate>=\u001b[39m\u001b[38;5;132;01m{\u001b[39;00mACCELERATE_MIN_VERSION\u001b[38;5;132;01m}\u001b[39;00m\u001b[38;5;124m`: \u001b[39m\u001b[38;5;124m\"\u001b[39m\n\u001b[0;32m   1939\u001b[0m             \u001b[38;5;124m\"\u001b[39m\u001b[38;5;124mPlease run `pip install transformers[torch]` or `pip install accelerate -U`\u001b[39m\u001b[38;5;124m\"\u001b[39m\n\u001b[0;32m   1940\u001b[0m         )\n\u001b[0;32m   1941\u001b[0m     AcceleratorState\u001b[38;5;241m.\u001b[39m_reset_state(reset_partial_state\u001b[38;5;241m=\u001b[39m\u001b[38;5;28;01mTrue\u001b[39;00m)\n\u001b[0;32m   1942\u001b[0m \u001b[38;5;28mself\u001b[39m\u001b[38;5;241m.\u001b[39mdistributed_state \u001b[38;5;241m=\u001b[39m \u001b[38;5;28;01mNone\u001b[39;00m\n",
      "\u001b[1;31mImportError\u001b[0m: Using the `Trainer` with `PyTorch` requires `accelerate>=0.21.0`: Please run `pip install transformers[torch]` or `pip install accelerate -U`"
     ]
    }
   ],
   "source": [
    "# training parameter setup goes in a specific class instance\n",
    "training_args = TrainingArguments(\n",
    "    output_dir=\"clinical-study-classifier\",\n",
    "    learning_rate=2e-5,\n",
    "    optim=\"adamw_torch\",\n",
    "    per_device_train_batch_size=8,\n",
    "    per_device_eval_batch_size=8,\n",
    "    num_train_epochs=10,\n",
    "    weight_decay=0.01,\n",
    "    evaluation_strategy=\"epoch\",\n",
    "    save_strategy=\"epoch\",\n",
    "    load_best_model_at_end=True,\n",
    "    push_to_hub=False)\n",
    "\n",
    "# the trainier\n",
    "trainer = Trainer(\n",
    "    model=model,\n",
    "    args=training_args,\n",
    "    train_dataset=tokenized_data[\"train\"],\n",
    "    eval_dataset=tokenized_data[\"test\"],\n",
    "    tokenizer=tokenizer,\n",
    "    data_collator=data_collator,\n",
    "    compute_metrics=compute_metrics)"
   ]
  }
 ],
 "metadata": {
  "kernelspec": {
   "display_name": "clinical_trials_env",
   "language": "python",
   "name": "clinical_trials_env"
  },
  "language_info": {
   "codemirror_mode": {
    "name": "ipython",
    "version": 3
   },
   "file_extension": ".py",
   "mimetype": "text/x-python",
   "name": "python",
   "nbconvert_exporter": "python",
   "pygments_lexer": "ipython3",
   "version": "3.11.7"
  }
 },
 "nbformat": 4,
 "nbformat_minor": 5
}
